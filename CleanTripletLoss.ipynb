{
 "cells": [
  {
   "cell_type": "markdown",
   "id": "seven-fiber",
   "metadata": {},
   "source": [
    "# Clean triplet loss\n",
    "## Plan\n",
    "1. Data & preprocessing:\n",
    "    - Load entire python dataset\n",
    "    - Tokenize\n",
    "    - Select 500 developers\n",
    "    - Align tokens to `1x600` dimensionality\n",
    "2. Model:\n",
    "    - Layers:\n",
    "        - Embedding\n",
    "        - Connect embeddings\n",
    "        - Conv2D\n",
    "        - Conv2D\n",
    "        - Max-column 2D Pooling\n",
    "        - Conv1D\n",
    "        - Dense (?)\n",
    "    - Training:\n",
    "        - triplet loss (3 types)\n",
    "            - random\n",
    "            - hard\n",
    "            - semi-hard\n",
    "3. Analysis:\n",
    "    - precision and accuracy curves during training\n",
    "    - PCA and T-SNE for visualization"
   ]
  },
  {
   "cell_type": "code",
   "execution_count": 3,
   "id": "large-dress",
   "metadata": {},
   "outputs": [],
   "source": [
    "import tqdm\n",
    "import itertools\n",
    "\n",
    "import numpy as np\n",
    "import pandas as pd\n",
    "import tensorflow as tf\n",
    "import sentencepiece as spm\n",
    "import tensorflow_addons as tfa\n",
    "import matplotlib.pyplot as plt\n",
    "\n",
    "from tensorflow import keras\n",
    "from sklearn.decomposition import PCA\n",
    "from sklearn.neighbors import KNeighborsClassifier\n",
    "from sklearn.model_selection import train_test_split\n",
    "from sklearn.preprocessing import LabelEncoder, OneHotEncoder\n",
    "from sklearn.metrics import accuracy_score, recall_score, confusion_matrix\n",
    "from tensorflow.keras import layers, regularizers, callbacks, optimizers, models"
   ]
  },
  {
   "cell_type": "markdown",
   "id": "atlantic-traveler",
   "metadata": {},
   "source": [
    "## 1. Data"
   ]
  },
  {
   "cell_type": "code",
   "execution_count": 2,
   "id": "internal-efficiency",
   "metadata": {},
   "outputs": [],
   "source": [
    "df = pd.read_csv(\"py_df.csv\")\n",
    "df = df.drop(columns=[\"round\", \"task\", \"solution\", \"file\", \"full_path\", \"Unnamed: 0.1\", \"Unnamed: 0\", \"lang\"])"
   ]
  },
  {
   "cell_type": "code",
   "execution_count": 3,
   "id": "tropical-intro",
   "metadata": {},
   "outputs": [
    {
     "data": {
      "text/plain": [
       "count    155359.000000\n",
       "mean         50.815852\n",
       "std          70.495160\n",
       "min           0.000000\n",
       "25%          27.000000\n",
       "50%          41.000000\n",
       "75%          62.000000\n",
       "max       10052.000000\n",
       "Name: n_lines, dtype: float64"
      ]
     },
     "execution_count": 3,
     "metadata": {},
     "output_type": "execute_result"
    }
   ],
   "source": [
    "df[\"n_lines\"] = df.flines.apply(lambda x: str(x).count(\"\\n\"))\n",
    "df[\"n_lines\"].describe()"
   ]
  },
  {
   "cell_type": "code",
   "execution_count": 4,
   "id": "stretch-signature",
   "metadata": {},
   "outputs": [
    {
     "data": {
      "text/plain": [
       "count    155330.000000\n",
       "mean         50.825340\n",
       "std          70.498321\n",
       "min           1.000000\n",
       "25%          27.000000\n",
       "50%          41.000000\n",
       "75%          62.000000\n",
       "max       10052.000000\n",
       "Name: n_lines, dtype: float64"
      ]
     },
     "execution_count": 4,
     "metadata": {},
     "output_type": "execute_result"
    }
   ],
   "source": [
    "df = df[(df.n_lines>0)]#&(df.n_lines<=120)]\n",
    "df.n_lines.describe()"
   ]
  },
  {
   "cell_type": "markdown",
   "id": "knowing-dryer",
   "metadata": {},
   "source": [
    "## 2. Preprocessing"
   ]
  },
  {
   "cell_type": "code",
   "execution_count": 10,
   "id": "abroad-mills",
   "metadata": {},
   "outputs": [
    {
     "ename": "NameError",
     "evalue": "name 'df' is not defined",
     "output_type": "error",
     "traceback": [
      "\u001b[0;31m---------------------------------------------------------------------------\u001b[0m",
      "\u001b[0;31mNameError\u001b[0m                                 Traceback (most recent call last)",
      "\u001b[0;32m<ipython-input-10-c8be282c8495>\u001b[0m in \u001b[0;36m<module>\u001b[0;34m\u001b[0m\n\u001b[1;32m      1\u001b[0m \u001b[0msp\u001b[0m \u001b[0;34m=\u001b[0m \u001b[0mspm\u001b[0m\u001b[0;34m.\u001b[0m\u001b[0mSentencePieceProcessor\u001b[0m\u001b[0;34m(\u001b[0m\u001b[0mmodel_file\u001b[0m\u001b[0;34m=\u001b[0m\u001b[0;34m'embd/sentencepiece_bpe.model'\u001b[0m\u001b[0;34m)\u001b[0m\u001b[0;34m\u001b[0m\u001b[0;34m\u001b[0m\u001b[0m\n\u001b[0;32m----> 2\u001b[0;31m \u001b[0mdf\u001b[0m\u001b[0;34m.\u001b[0m\u001b[0mindex\u001b[0m \u001b[0;34m=\u001b[0m \u001b[0mnp\u001b[0m\u001b[0;34m.\u001b[0m\u001b[0marange\u001b[0m\u001b[0;34m(\u001b[0m\u001b[0mlen\u001b[0m\u001b[0;34m(\u001b[0m\u001b[0mdf\u001b[0m\u001b[0;34m)\u001b[0m\u001b[0;34m)\u001b[0m\u001b[0;34m\u001b[0m\u001b[0;34m\u001b[0m\u001b[0m\n\u001b[0m\u001b[1;32m      3\u001b[0m \u001b[0mdf\u001b[0m\u001b[0;34m[\u001b[0m\u001b[0;34m\"n_tokens\"\u001b[0m\u001b[0;34m]\u001b[0m \u001b[0;34m=\u001b[0m \u001b[0mdf\u001b[0m\u001b[0;34m.\u001b[0m\u001b[0mflines\u001b[0m\u001b[0;34m.\u001b[0m\u001b[0mapply\u001b[0m\u001b[0;34m(\u001b[0m\u001b[0;32mlambda\u001b[0m \u001b[0mx\u001b[0m\u001b[0;34m:\u001b[0m \u001b[0mlen\u001b[0m\u001b[0;34m(\u001b[0m\u001b[0msp\u001b[0m\u001b[0;34m.\u001b[0m\u001b[0mencode\u001b[0m\u001b[0;34m(\u001b[0m\u001b[0mx\u001b[0m\u001b[0;34m)\u001b[0m\u001b[0;34m)\u001b[0m\u001b[0;34m)\u001b[0m\u001b[0;34m\u001b[0m\u001b[0;34m\u001b[0m\u001b[0m\n\u001b[1;32m      4\u001b[0m \u001b[0mdf\u001b[0m\u001b[0;34m.\u001b[0m\u001b[0mdescribe\u001b[0m\u001b[0;34m(\u001b[0m\u001b[0;34m)\u001b[0m\u001b[0;34m\u001b[0m\u001b[0;34m\u001b[0m\u001b[0m\n",
      "\u001b[0;31mNameError\u001b[0m: name 'df' is not defined"
     ]
    }
   ],
   "source": [
    "sp = spm.SentencePieceProcessor(model_file='embd/sentencepiece_bpe.model')\n",
    "df.index = np.arange(len(df))\n",
    "df[\"n_tokens\"] = df.flines.apply(lambda x: len(sp.encode(x)))\n",
    "df.describe()"
   ]
  },
  {
   "cell_type": "code",
   "execution_count": null,
   "id": "ahead-princeton",
   "metadata": {},
   "outputs": [],
   "source": [
    "df = df[df.n_tokens<=500]\n",
    "df.describe()"
   ]
  },
  {
   "cell_type": "code",
   "execution_count": 7,
   "id": "israeli-individual",
   "metadata": {},
   "outputs": [
    {
     "data": {
      "text/plain": [
       "[<matplotlib.lines.Line2D at 0x14b783390>]"
      ]
     },
     "execution_count": 7,
     "metadata": {},
     "output_type": "execute_result"
    },
    {
     "data": {
      "image/png": "[encoded data removed]",
      "text/plain": [
       "<Figure size 432x288 with 1 Axes>"
      ]
     },
     "metadata": {
      "needs_background": "light"
     },
     "output_type": "display_data"
    }
   ],
   "source": [
    "plt.plot(np.array(df.username.value_counts()))"
   ]
  },
  {
   "cell_type": "code",
   "execution_count": 8,
   "id": "parental-simple",
   "metadata": {},
   "outputs": [
    {
     "data": {
      "text/plain": [
       "[<matplotlib.lines.Line2D at 0x14ae71bd0>]"
      ]
     },
     "execution_count": 8,
     "metadata": {},
     "output_type": "execute_result"
    },
    {
     "data": {
      "image/png": "[encoded data removed]",
      "text/plain": [
       "<Figure size 432x288 with 1 Axes>"
      ]
     },
     "metadata": {
      "needs_background": "light"
     },
     "output_type": "display_data"
    }
   ],
   "source": [
    "plt.plot(np.array(df.username.value_counts())[50:550])"
   ]
  },
  {
   "cell_type": "code",
   "execution_count": 9,
   "id": "disturbed-pittsburgh",
   "metadata": {},
   "outputs": [
    {
     "data": {
      "text/html": [
       "<div>\n",
       "<style scoped>\n",
       "    .dataframe tbody tr th:only-of-type {\n",
       "        vertical-align: middle;\n",
       "    }\n",
       "\n",
       "    .dataframe tbody tr th {\n",
       "        vertical-align: top;\n",
       "    }\n",
       "\n",
       "    .dataframe thead th {\n",
       "        text-align: right;\n",
       "    }\n",
       "</style>\n",
       "<table border=\"1\" class=\"dataframe\">\n",
       "  <thead>\n",
       "    <tr style=\"text-align: right;\">\n",
       "      <th></th>\n",
       "      <th>year</th>\n",
       "      <th>username</th>\n",
       "      <th>flines</th>\n",
       "      <th>n_lines</th>\n",
       "      <th>n_tokens</th>\n",
       "    </tr>\n",
       "  </thead>\n",
       "  <tbody>\n",
       "    <tr>\n",
       "      <th>11</th>\n",
       "      <td>2008</td>\n",
       "      <td>Keegan</td>\n",
       "      <td>#!/usr/bin/env python\\n \\n import sys\\n \\n rea...</td>\n",
       "      <td>35</td>\n",
       "      <td>191</td>\n",
       "    </tr>\n",
       "    <tr>\n",
       "      <th>26</th>\n",
       "      <td>2008</td>\n",
       "      <td>eMBe</td>\n",
       "      <td>#!/usr/bin/python\\n \\n import sys\\n from colle...</td>\n",
       "      <td>24</td>\n",
       "      <td>192</td>\n",
       "    </tr>\n",
       "    <tr>\n",
       "      <th>27</th>\n",
       "      <td>2008</td>\n",
       "      <td>Edu</td>\n",
       "      <td>#!/usr/bin/env python\\n \\n import sys\\n \\n def...</td>\n",
       "      <td>31</td>\n",
       "      <td>239</td>\n",
       "    </tr>\n",
       "    <tr>\n",
       "      <th>49</th>\n",
       "      <td>2008</td>\n",
       "      <td>Klinck</td>\n",
       "      <td>import sys\\n import math\\n \\n cnt = [0]*1024\\n...</td>\n",
       "      <td>57</td>\n",
       "      <td>321</td>\n",
       "    </tr>\n",
       "    <tr>\n",
       "      <th>50</th>\n",
       "      <td>2008</td>\n",
       "      <td>ipknHama</td>\n",
       "      <td>n = input()\\n for loop in range(1, n+1):\\n \\t\\...</td>\n",
       "      <td>43</td>\n",
       "      <td>321</td>\n",
       "    </tr>\n",
       "  </tbody>\n",
       "</table>\n",
       "</div>"
      ],
      "text/plain": [
       "    year  username                                             flines  \\\n",
       "11  2008    Keegan  #!/usr/bin/env python\\n \\n import sys\\n \\n rea...   \n",
       "26  2008      eMBe  #!/usr/bin/python\\n \\n import sys\\n from colle...   \n",
       "27  2008       Edu  #!/usr/bin/env python\\n \\n import sys\\n \\n def...   \n",
       "49  2008    Klinck  import sys\\n import math\\n \\n cnt = [0]*1024\\n...   \n",
       "50  2008  ipknHama  n = input()\\n for loop in range(1, n+1):\\n \\t\\...   \n",
       "\n",
       "    n_lines  n_tokens  \n",
       "11       35       191  \n",
       "26       24       192  \n",
       "27       31       239  \n",
       "49       57       321  \n",
       "50       43       321  "
      ]
     },
     "execution_count": 9,
     "metadata": {},
     "output_type": "execute_result"
    }
   ],
   "source": [
    "users = df.username.value_counts()[50:550].index\n",
    "df = df[df.username.isin(users)]\n",
    "df.head()"
   ]
  },
  {
   "cell_type": "code",
   "execution_count": 10,
   "id": "eastern-intelligence",
   "metadata": {},
   "outputs": [
    {
     "data": {
      "text/plain": [
       "count    500.000000\n",
       "mean      40.260000\n",
       "std        8.871404\n",
       "min       30.000000\n",
       "25%       33.000000\n",
       "50%       38.000000\n",
       "75%       46.000000\n",
       "max       66.000000\n",
       "Name: username, dtype: float64"
      ]
     },
     "execution_count": 10,
     "metadata": {},
     "output_type": "execute_result"
    }
   ],
   "source": [
    "df.username.value_counts().describe()"
   ]
  },
  {
   "cell_type": "code",
   "execution_count": 11,
   "id": "genuine-blame",
   "metadata": {},
   "outputs": [],
   "source": [
    "df[\"tokens\"] = df.flines.apply(lambda x: sp.encode(x))"
   ]
  },
  {
   "cell_type": "code",
   "execution_count": 12,
   "id": "progressive-orientation",
   "metadata": {},
   "outputs": [],
   "source": [
    "dataset = df[[\"username\", \"tokens\"]]"
   ]
  },
  {
   "cell_type": "code",
   "execution_count": 13,
   "id": "talented-detector",
   "metadata": {},
   "outputs": [
    {
     "name": "stderr",
     "output_type": "stream",
     "text": [
      "/Users/alinabogdanova/Documents/workspace/research/myenv/lib/python3.7/site-packages/pandas/core/generic.py:5491: SettingWithCopyWarning: \n",
      "A value is trying to be set on a copy of a slice from a DataFrame.\n",
      "Try using .loc[row_indexer,col_indexer] = value instead\n",
      "\n",
      "See the caveats in the documentation: https://pandas.pydata.org/pandas-docs/stable/user_guide/indexing.html#returning-a-view-versus-a-copy\n",
      "  self[name] = value\n"
     ]
    }
   ],
   "source": [
    "le = LabelEncoder()\n",
    "dataset.username = le.fit_transform(dataset.username)"
   ]
  },
  {
   "cell_type": "code",
   "execution_count": 14,
   "id": "compressed-pillow",
   "metadata": {},
   "outputs": [
    {
     "data": {
      "text/html": [
       "<div>\n",
       "<style scoped>\n",
       "    .dataframe tbody tr th:only-of-type {\n",
       "        vertical-align: middle;\n",
       "    }\n",
       "\n",
       "    .dataframe tbody tr th {\n",
       "        vertical-align: top;\n",
       "    }\n",
       "\n",
       "    .dataframe thead th {\n",
       "        text-align: right;\n",
       "    }\n",
       "</style>\n",
       "<table border=\"1\" class=\"dataframe\">\n",
       "  <thead>\n",
       "    <tr style=\"text-align: right;\">\n",
       "      <th></th>\n",
       "      <th>username</th>\n",
       "      <th>tokens</th>\n",
       "    </tr>\n",
       "  </thead>\n",
       "  <tbody>\n",
       "    <tr>\n",
       "      <th>83184</th>\n",
       "      <td>227</td>\n",
       "      <td>[3238, 2785, 96124, 1119, 96124, 1796, 138, 11...</td>\n",
       "    </tr>\n",
       "    <tr>\n",
       "      <th>96107</th>\n",
       "      <td>78</td>\n",
       "      <td>[63, 921, 96077, 225, 96077, 1316, 96091, 983,...</td>\n",
       "    </tr>\n",
       "    <tr>\n",
       "      <th>27399</th>\n",
       "      <td>17</td>\n",
       "      <td>[138, 1149, 63, 18620, 96091, 96083, 45, 274, ...</td>\n",
       "    </tr>\n",
       "    <tr>\n",
       "      <th>90504</th>\n",
       "      <td>191</td>\n",
       "      <td>[3238, 2785, 96124, 1119, 96124, 1796, 46, 138...</td>\n",
       "    </tr>\n",
       "    <tr>\n",
       "      <th>1782</th>\n",
       "      <td>251</td>\n",
       "      <td>[63, 1431, 54978, 96091, 30769, 96085, 11211, ...</td>\n",
       "    </tr>\n",
       "    <tr>\n",
       "      <th>...</th>\n",
       "      <td>...</td>\n",
       "      <td>...</td>\n",
       "    </tr>\n",
       "    <tr>\n",
       "      <th>37726</th>\n",
       "      <td>375</td>\n",
       "      <td>[3238, 2785, 96124, 1119, 96124, 1796, 96116, ...</td>\n",
       "    </tr>\n",
       "    <tr>\n",
       "      <th>48814</th>\n",
       "      <td>303</td>\n",
       "      <td>[3074, 1796, 46, 1386, 1867, 96093, 2043, 1109...</td>\n",
       "    </tr>\n",
       "    <tr>\n",
       "      <th>3926</th>\n",
       "      <td>315</td>\n",
       "      <td>[3238, 2785, 96124, 1119, 96124, 1376, 1804, 1...</td>\n",
       "    </tr>\n",
       "    <tr>\n",
       "      <th>35098</th>\n",
       "      <td>198</td>\n",
       "      <td>[29, 96092, 1453, 153, 96139, 96096, 8026, 960...</td>\n",
       "    </tr>\n",
       "    <tr>\n",
       "      <th>27123</th>\n",
       "      <td>155</td>\n",
       "      <td>[3238, 2785, 96124, 1119, 96124, 1796, 96, 154...</td>\n",
       "    </tr>\n",
       "  </tbody>\n",
       "</table>\n",
       "<p>20130 rows × 2 columns</p>\n",
       "</div>"
      ],
      "text/plain": [
       "       username                                             tokens\n",
       "83184       227  [3238, 2785, 96124, 1119, 96124, 1796, 138, 11...\n",
       "96107        78  [63, 921, 96077, 225, 96077, 1316, 96091, 983,...\n",
       "27399        17  [138, 1149, 63, 18620, 96091, 96083, 45, 274, ...\n",
       "90504       191  [3238, 2785, 96124, 1119, 96124, 1796, 46, 138...\n",
       "1782        251  [63, 1431, 54978, 96091, 30769, 96085, 11211, ...\n",
       "...         ...                                                ...\n",
       "37726       375  [3238, 2785, 96124, 1119, 96124, 1796, 96116, ...\n",
       "48814       303  [3074, 1796, 46, 1386, 1867, 96093, 2043, 1109...\n",
       "3926        315  [3238, 2785, 96124, 1119, 96124, 1376, 1804, 1...\n",
       "35098       198  [29, 96092, 1453, 153, 96139, 96096, 8026, 960...\n",
       "27123       155  [3238, 2785, 96124, 1119, 96124, 1796, 96, 154...\n",
       "\n",
       "[20130 rows x 2 columns]"
      ]
     },
     "execution_count": 14,
     "metadata": {},
     "output_type": "execute_result"
    }
   ],
   "source": [
    "# shuffle dataset\n",
    "dataset = dataset.sample(frac = 1) \n",
    "dataset"
   ]
  },
  {
   "cell_type": "code",
   "execution_count": 15,
   "id": "ultimate-rendering",
   "metadata": {},
   "outputs": [],
   "source": [
    "def rsh(x):\n",
    "    arr = np.array(x)\n",
    "    arr.resize(500)\n",
    "    return list(arr)\n",
    "\n",
    "dataset.tokens = dataset.tokens.apply(rsh)"
   ]
  },
  {
   "cell_type": "code",
   "execution_count": 16,
   "id": "polish-batch",
   "metadata": {},
   "outputs": [],
   "source": [
    "dataset.to_json(\"train.json\")"
   ]
  },
  {
   "cell_type": "markdown",
   "id": "caring-sterling",
   "metadata": {},
   "source": [
    "## 2. Model"
   ]
  },
  {
   "cell_type": "code",
   "execution_count": 4,
   "id": "attended-motor",
   "metadata": {},
   "outputs": [
    {
     "data": {
      "text/plain": [
       "(15097, 500)"
      ]
     },
     "execution_count": 4,
     "metadata": {},
     "output_type": "execute_result"
    }
   ],
   "source": [
    "dataset = pd.read_json(\"train.json\")\n",
    "\n",
    "X = dataset.tokens.values\n",
    "X = np.array(list(X)).reshape((-1, 500))\n",
    "\n",
    "y = np.array(dataset.username)\n",
    "\n",
    "def crop_to(X, y, crop=100, threshold=80):\n",
    "    new_X = []\n",
    "    new_y = []\n",
    "    for old_x, old_y in zip(X, y):\n",
    "        for el in old_x.reshape(-1, crop):\n",
    "            if(np.count_nonzero(el) > 80):\n",
    "                new_X.append(list(el))\n",
    "                new_y.append(old_y)\n",
    "    \n",
    "    new_X = np.array(new_X).reshape(-1, crop, 1)\n",
    "    new_y = np.array(new_y)\n",
    "    return new_X, new_y\n",
    "\n",
    "# X, y = crop_to(X, y)\n",
    "\n",
    "X_train, X_test, y_train, y_test = train_test_split(X, y)\n",
    "X_train.shape"
   ]
  },
  {
   "cell_type": "code",
   "execution_count": 5,
   "id": "hired-hayes",
   "metadata": {},
   "outputs": [
    {
     "data": {
      "text/plain": [
       "(99756.0, 0.0)"
      ]
     },
     "execution_count": 5,
     "metadata": {},
     "output_type": "execute_result"
    }
   ],
   "source": [
    "X.max(), X.min()"
   ]
  },
  {
   "cell_type": "code",
   "execution_count": 6,
   "id": "actual-admission",
   "metadata": {},
   "outputs": [],
   "source": [
    "# X = X[np.where(np.argmax(y, axis=1) < 40)]\n",
    "# y = y[np.where(np.argmax(y, axis=1) < 40)]\n"
   ]
  },
  {
   "cell_type": "code",
   "execution_count": 7,
   "id": "logical-clothing",
   "metadata": {},
   "outputs": [],
   "source": [
    "max_val = int(X.max()) + 1\n",
    "output_size = 50\n",
    "input_size = 500"
   ]
  },
  {
   "cell_type": "code",
   "execution_count": 8,
   "id": "gorgeous-paintball",
   "metadata": {},
   "outputs": [],
   "source": [
    "def batch_generator(X, y):\n",
    "    \n",
    "    data_length = X.shape[0]\n",
    "    index = np.random.randint(data_length)\n",
    "    anchor, anchor_y = X[index], y[index]\n",
    "    \n",
    "    positive = X[np.random.choice(np.where(y==anchor_y)[0])]\n",
    "    negative = X[np.random.choice(np.where(y!=anchor_y)[0])]\n",
    "    \n",
    "    return [list(anchor), list(positive), list(negative)]\n",
    "\n",
    "def batches_generator(X, y, batch_size=32):\n",
    "    '''\n",
    "    Array of batch_generator results\n",
    "    \n",
    "    batch_size - size of the generated array\n",
    "    '''\n",
    "    all_data = np.array([batch_generator(X, y) for i in range(batch_size)])\n",
    "    anchors = all_data[:, 0, :]\n",
    "    positives = all_data[:, 1, :]\n",
    "    negatives = all_data[:, 2, :]\n",
    "    return anchors, positives, negatives\n",
    "\n",
    "def data_generator(X, y, batch_size=32, input_size=600):\n",
    "    while True:\n",
    "        batch = batches_generator(X, y, batch_size)\n",
    "        labels = np.zeros((batch_size, input_size*3)) \n",
    "        yield batch, labels\n",
    "        "
   ]
  },
  {
   "cell_type": "code",
   "execution_count": 9,
   "id": "informed-isaac",
   "metadata": {},
   "outputs": [],
   "source": [
    "def triplet_loss(y_true, y_pred):\n",
    "    alpha = 0.2\n",
    "    y_pred = tf.convert_to_tensor(y_pred)\n",
    "    global output_size\n",
    "\n",
    "    anchor = y_pred[:, :output_size]\n",
    "    positive = y_pred[:, output_size:2*output_size]\n",
    "    negative = y_pred[:, 2*output_size:]\n",
    "    \n",
    "    positive_dist = tf.reduce_mean(tf.square(anchor - positive), axis=1)\n",
    "    negative_dist = tf.reduce_mean(tf.square(anchor - negative), axis=1)\n",
    "    return tf.maximum(positive_dist - negative_dist + alpha, 0.)"
   ]
  },
  {
   "cell_type": "code",
   "execution_count": 10,
   "id": "funny-motion",
   "metadata": {},
   "outputs": [],
   "source": [
    "def create_triplet_model(input_size, model_core):\n",
    "    \n",
    "    input_anchor = layers.Input(shape=(input_size))\n",
    "    input_positive = layers.Input(shape=(input_size))\n",
    "    input_negative = layers.Input(shape=(input_size))\n",
    "\n",
    "    model_anchor = model_core(input_anchor)\n",
    "    model_positive = model_core(input_positive)\n",
    "    model_negative = model_core(input_negative)\n",
    "\n",
    "    result = layers.concatenate([model_anchor, model_positive, model_negative], axis=1)\n",
    "    model = models.Model([input_anchor, input_positive, input_negative], result)\n",
    "    return model\n",
    "\n"
   ]
  },
  {
   "cell_type": "code",
   "execution_count": 11,
   "id": "short-evening",
   "metadata": {},
   "outputs": [],
   "source": [
    "class TestCallback(callbacks.Callback):\n",
    "    def __init__(self, X, y, emb_model, threshold=0.2, input_size=500):\n",
    "        self.threshold = threshold\n",
    "        self.input_size = input_size\n",
    "        self.emb_model = emb_model\n",
    "        index = np.where(y<5)[0]\n",
    "        self.X = X[index]\n",
    "        self.y = y[index]\n",
    "        self.scores = []\n",
    "        self.recalls = []\n",
    "        \n",
    "    def on_epoch_end(self, epoch, logs=None):\n",
    "        #(model, new_X, new_y, threshold=0.2, printing=0):\n",
    "        transformed_X = self.emb_model.predict(self.X.reshape(-1, self.input_size, 1))\n",
    "    #     X_train, X_test, y_train, y_test = train_test_split(transformed_X, new_y)\n",
    "        \n",
    "        y_pred = []\n",
    "        y_true = []\n",
    "        for i in range(self.X.shape[0]):\n",
    "            for j in range(i, self.X.shape[0]):\n",
    "                if np.mean((transformed_X[i] - transformed_X[j])**2) <= self.threshold:\n",
    "                    y_pred.append(1)\n",
    "                else:\n",
    "                    y_pred.append(0)\n",
    "\n",
    "                if self.y[i] == self.y[j]:\n",
    "                    y_true.append(1)\n",
    "                else:\n",
    "                    y_true.append(0)\n",
    "        y_pred = np.array(y_pred)\n",
    "        y_true = np.array(y_true)\n",
    "\n",
    "        score = accuracy_score(y_true, y_pred)\n",
    "        cm = confusion_matrix(y_true, y_pred)\n",
    "#         if printing:\n",
    "#             print(cm)\n",
    "#             print(\"totoal predicted as 1:\", sum(y_pred), \n",
    "#                   \"\\ntotoal real 1:\", sum(y_true), \n",
    "#                   \"\\ntotal examples\", y_true.shape)\n",
    "            \n",
    "        recall = cm[1][1]/sum(y_true)\n",
    "        \n",
    "        self.scores.append(score)\n",
    "        self.recalls.append(recall)\n",
    "        print(\"accuracy:\", round(score, 4), \"recall:\", round(recall, 4))\n",
    "        return score, recall\n",
    "    \n",
    "    def return_results(self):\n",
    "        return {\"scores\": self.scores, \"recalls\": self.recalls}\n",
    "\n"
   ]
  },
  {
   "cell_type": "code",
   "execution_count": 12,
   "id": "fatty-seminar",
   "metadata": {},
   "outputs": [],
   "source": [
    "def create_model(activation=\"linear\", L2_lambda=0.02, \n",
    "                 pool_1_size=32, pool_2_size=8, \n",
    "                 conv_1_size=64, conv_2_size=16, conv_3_size=4, \n",
    "                 output_size=50, input_size=500):\n",
    "    \n",
    "    emb_heigh = 100\n",
    "    \n",
    "    model_core = keras.Sequential()\n",
    "    model_core.add(layers.Embedding(max_val, emb_heigh, mask_zero=True, input_length=input_size))\n",
    "    model_core.add(layers.Reshape((input_size, emb_heigh, 1)))\n",
    "    model_core.add(layers.Dropout(0.5))\n",
    "\n",
    "\n",
    "    model_core.add(layers.Conv2D(16, (conv_1_size, emb_heigh), padding=\"same\",\n",
    "                                 activation=activation, \n",
    "                                 kernel_regularizer=regularizers.L2(L2_lambda), \n",
    "                                 input_shape=(1, input_size, emb_heigh), data_format=\"channels_last\"))\n",
    "    \n",
    "    model_core.add(layers.Conv2D(16, (conv_2_size, emb_heigh), \n",
    "                                 activation=activation, padding=\"same\",\n",
    "                                 kernel_regularizer=regularizers.L2(L2_lambda), \n",
    "                                 input_shape=(1, input_size, emb_heigh), data_format=\"channels_last\"))\n",
    "    \n",
    "    model_core.add(layers.MaxPooling2D(pool_size=(input_size, 1), data_format=\"channels_last\"))\n",
    "    model_core.add(layers.Reshape((-1, emb_heigh*16)))\n",
    "\n",
    "       \n",
    "#     model_core.add(layers.Dropout(0.5))\n",
    "#     model_core.add(layers.Conv1D(16, conv_3_size,\n",
    "#                                  padding=\"same\",\n",
    "#                                  activation=activation, \n",
    "#                                  kernel_regularizer=regularizers.L2(L2_lambda)))\n",
    "#     model_core.add(layers.MaxPooling1D(pool_size=(pool_2_size), data_format=\"channels_last\"))\n",
    "\n",
    "                   \n",
    "    model_core.add(layers.Flatten())\n",
    "#     model_core.add(layers.Dropout(0.5))\n",
    "                   \n",
    "#     model_core.add(layers.Dense(dense_1, activation=activation, \n",
    "#                                 kernel_regularizer=regularizers.L2(L2_lambda)))\n",
    "#     model_core.add(layers.LayerNormalization(axis=1))\n",
    "    \n",
    "    model_core.add(layers.Dropout(0.5))\n",
    "    model_core.add(layers.Dense(output_size))\n",
    "    return model_core\n"
   ]
  },
  {
   "cell_type": "code",
   "execution_count": 13,
   "id": "wired-personal",
   "metadata": {},
   "outputs": [],
   "source": [
    "model1 = create_model()"
   ]
  },
  {
   "cell_type": "code",
   "execution_count": 14,
   "id": "australian-diabetes",
   "metadata": {},
   "outputs": [],
   "source": [
    "triplet = create_triplet_model(input_size, model1)"
   ]
  },
  {
   "cell_type": "code",
   "execution_count": 15,
   "id": "marked-brown",
   "metadata": {},
   "outputs": [
    {
     "name": "stdout",
     "output_type": "stream",
     "text": [
      "Model: \"sequential\"\n",
      "_________________________________________________________________\n",
      "Layer (type)                 Output Shape              Param #   \n",
      "=================================================================\n",
      "embedding (Embedding)        (None, 500, 100)          9975700   \n",
      "_________________________________________________________________\n",
      "reshape (Reshape)            (None, 500, 100, 1)       0         \n",
      "_________________________________________________________________\n",
      "dropout (Dropout)            (None, 500, 100, 1)       0         \n",
      "_________________________________________________________________\n",
      "conv2d (Conv2D)              (None, 500, 100, 16)      102416    \n",
      "_________________________________________________________________\n",
      "conv2d_1 (Conv2D)            (None, 500, 100, 16)      409616    \n",
      "_________________________________________________________________\n",
      "max_pooling2d (MaxPooling2D) (None, 1, 100, 16)        0         \n",
      "_________________________________________________________________\n",
      "reshape_1 (Reshape)          (None, 1, 1600)           0         \n",
      "_________________________________________________________________\n",
      "flatten (Flatten)            (None, 1600)              0         \n",
      "_________________________________________________________________\n",
      "dropout_1 (Dropout)          (None, 1600)              0         \n",
      "_________________________________________________________________\n",
      "dense (Dense)                (None, 50)                80050     \n",
      "=================================================================\n",
      "Total params: 10,567,782\n",
      "Trainable params: 10,567,782\n",
      "Non-trainable params: 0\n",
      "_________________________________________________________________\n"
     ]
    }
   ],
   "source": [
    "model1.summary()"
   ]
  },
  {
   "cell_type": "code",
   "execution_count": null,
   "id": "corporate-hawaiian",
   "metadata": {},
   "outputs": [
    {
     "name": "stdout",
     "output_type": "stream",
     "text": [
      "Epoch 1/100\n"
     ]
    }
   ],
   "source": [
    "batch_size = 128\n",
    "epochs = 100\n",
    "steps_per_epoch = int(X_train.shape[0]/batch_size)\n",
    "\n",
    "optimizer = optimizers.Adam(0.1)\n",
    "lr_schedule = callbacks.ReduceLROnPlateau(monitor='loss', actor=0.5, \n",
    "                                          patience=3, min_delta=0.000001, \n",
    "                                          verbouse=1)\n",
    "\n",
    "early_stopping = callbacks.EarlyStopping(monitor=\"loss\", min_delta = 0.0001, \n",
    "                                         patience=12, restore_best_weights=True)\n",
    "tb = callbacks.TensorBoard(log_dir = \"./tensor_board\", histogram_freq=1)\n",
    "\n",
    "# test_cb = TestCallback(X_train.reshape((-1, 600)), y_train, model1)\n",
    "\n",
    "triplet.compile(loss=triplet_loss, optimizer=optimizer)\n",
    "    \n",
    "history = triplet.fit(data_generator(X_train, y_train, batch_size, input_size),\n",
    "                     steps_per_epoch=steps_per_epoch,\n",
    "                     epochs=epochs, \n",
    "                     verbose=1,\n",
    "                     callbacks=[lr_schedule, early_stopping])"
   ]
  },
  {
   "cell_type": "markdown",
   "id": "fitted-grave",
   "metadata": {},
   "source": [
    "## 3. Show the results"
   ]
  },
  {
   "cell_type": "code",
   "execution_count": 56,
   "id": "signed-cisco",
   "metadata": {},
   "outputs": [
    {
     "ename": "NameError",
     "evalue": "name 'history' is not defined",
     "output_type": "error",
     "traceback": [
      "\u001b[0;31m---------------------------------------------------------------------------\u001b[0m",
      "\u001b[0;31mNameError\u001b[0m                                 Traceback (most recent call last)",
      "\u001b[0;32m<ipython-input-56-22eb2c263c45>\u001b[0m in \u001b[0;36m<module>\u001b[0;34m\u001b[0m\n\u001b[1;32m      1\u001b[0m \u001b[0mplt\u001b[0m\u001b[0;34m.\u001b[0m\u001b[0mtitle\u001b[0m\u001b[0;34m(\u001b[0m\u001b[0;34m\"Training process\"\u001b[0m\u001b[0;34m)\u001b[0m\u001b[0;34m\u001b[0m\u001b[0;34m\u001b[0m\u001b[0m\n\u001b[0;32m----> 2\u001b[0;31m \u001b[0mplt\u001b[0m\u001b[0;34m.\u001b[0m\u001b[0mplot\u001b[0m\u001b[0;34m(\u001b[0m\u001b[0mnp\u001b[0m\u001b[0;34m.\u001b[0m\u001b[0mlog\u001b[0m\u001b[0;34m(\u001b[0m\u001b[0mhistory\u001b[0m\u001b[0;34m.\u001b[0m\u001b[0mhistory\u001b[0m\u001b[0;34m[\u001b[0m\u001b[0;34m\"loss\"\u001b[0m\u001b[0;34m]\u001b[0m\u001b[0;34m)\u001b[0m\u001b[0;34m)\u001b[0m\u001b[0;34m\u001b[0m\u001b[0;34m\u001b[0m\u001b[0m\n\u001b[0m",
      "\u001b[0;31mNameError\u001b[0m: name 'history' is not defined"
     ]
    },
    {
     "data": {
      "image/png": "[encoded data removed]",
      "text/plain": [
       "<Figure size 432x288 with 1 Axes>"
      ]
     },
     "metadata": {
      "needs_background": "light"
     },
     "output_type": "display_data"
    }
   ],
   "source": [
    "plt.title(\"Training process\")\n",
    "plt.plot(np.log(history.history[\"loss\"]))"
   ]
  },
  {
   "cell_type": "code",
   "execution_count": 57,
   "id": "saved-delta",
   "metadata": {},
   "outputs": [],
   "source": [
    "vectorized_x = model1.predict(X_train)"
   ]
  },
  {
   "cell_type": "code",
   "execution_count": 58,
   "id": "extreme-junction",
   "metadata": {},
   "outputs": [],
   "source": [
    "pca = PCA(n_components = 3)"
   ]
  },
  {
   "cell_type": "code",
   "execution_count": 59,
   "id": "raised-dallas",
   "metadata": {},
   "outputs": [],
   "source": [
    "x_pca = pca.fit_transform(vectorized_x)"
   ]
  },
  {
   "cell_type": "code",
   "execution_count": 62,
   "id": "technological-double",
   "metadata": {},
   "outputs": [
    {
     "data": {
      "image/png": "[encoded data removed]",
      "text/plain": [
       "<Figure size 432x288 with 1 Axes>"
      ]
     },
     "metadata": {
      "needs_background": "light"
     },
     "output_type": "display_data"
    }
   ],
   "source": [
    "for developer in range(10):\n",
    "    indexes = np.where(y_train==developer)\n",
    "    plt.plot(x_pca[indexes][0], x_pca[indexes][1], \"o-\", ms=3)"
   ]
  },
  {
   "cell_type": "code",
   "execution_count": 63,
   "id": "comparative-liechtenstein",
   "metadata": {},
   "outputs": [
    {
     "name": "stdout",
     "output_type": "stream",
     "text": [
      "Model: \"sequential_2\"\n",
      "_________________________________________________________________\n",
      "Layer (type)                 Output Shape              Param #   \n",
      "=================================================================\n",
      "embedding_2 (Embedding)      (None, 500, 5)            498785    \n",
      "_________________________________________________________________\n",
      "reshape_4 (Reshape)          (None, 500, 5, 1)         0         \n",
      "_________________________________________________________________\n",
      "dropout_6 (Dropout)          (None, 500, 5, 1)         0         \n",
      "_________________________________________________________________\n",
      "conv2d_4 (Conv2D)            (None, 500, 5, 16)        65552     \n",
      "_________________________________________________________________\n",
      "conv2d_5 (Conv2D)            (None, 500, 5, 16)        65552     \n",
      "_________________________________________________________________\n",
      "max_pooling2d_2 (MaxPooling2 (None, 15, 1, 16)         0         \n",
      "_________________________________________________________________\n",
      "reshape_5 (Reshape)          (None, 240, 1)            0         \n",
      "_________________________________________________________________\n",
      "dropout_7 (Dropout)          (None, 240, 1)            0         \n",
      "_________________________________________________________________\n",
      "conv1d_2 (Conv1D)            (None, 240, 16)           80        \n",
      "_________________________________________________________________\n",
      "max_pooling1d_2 (MaxPooling1 (None, 30, 16)            0         \n",
      "_________________________________________________________________\n",
      "flatten_2 (Flatten)          (None, 480)               0         \n",
      "_________________________________________________________________\n",
      "dropout_8 (Dropout)          (None, 480)               0         \n",
      "_________________________________________________________________\n",
      "dense_2 (Dense)              (None, 50)                24050     \n",
      "=================================================================\n",
      "Total params: 654,019\n",
      "Trainable params: 654,019\n",
      "Non-trainable params: 0\n",
      "_________________________________________________________________\n"
     ]
    }
   ],
   "source": [
    "model1.summary()"
   ]
  },
  {
   "cell_type": "code",
   "execution_count": null,
   "id": "upset-studio",
   "metadata": {},
   "outputs": [],
   "source": []
  }
 ],
 "metadata": {
  "kernelspec": {
   "display_name": "myenv",
   "language": "python",
   "name": "myenv"
  },
  "language_info": {
   "codemirror_mode": {
    "name": "ipython",
    "version": 3
   },
   "file_extension": ".py",
   "mimetype": "text/x-python",
   "name": "python",
   "nbconvert_exporter": "python",
   "pygments_lexer": "ipython3",
   "version": "3.7.10"
  }
 },
 "nbformat": 4,
 "nbformat_minor": 5
}
