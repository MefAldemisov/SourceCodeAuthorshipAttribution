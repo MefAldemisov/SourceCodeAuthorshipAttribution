{
 "cells": [
  {
   "cell_type": "code",
   "execution_count": 1,
   "metadata": {
    "collapsed": true,
    "pycharm": {
     "name": "#%%\n"
    }
   },
   "outputs": [],
   "source": [
    "import pandas as pd\n",
    "import numpy as np\n",
    "import matplotlib.pyplot as plt\n",
    "\n",
    "# load tokens\n",
    "import sentencepiece as spm\n",
    "sp = spm.SentencePieceProcessor(model_file='../../inputs/embd/sentencepiece_bpe.model')\n",
    "\n",
    "# load dataset\n",
    "df_filename = \"../../inputs/preprocessed_jsons/embedding_train.json\"\n",
    "dataset = pd.read_json(df_filename)\n",
    "\n",
    "X = dataset.tokens.values\n",
    "X = np.array(list(X)).reshape((-1, 600))\n",
    "\n",
    "y = np.array(dataset.username)"
   ]
  },
  {
   "cell_type": "code",
   "execution_count": 2,
   "outputs": [],
   "source": [
    "def get_example_of_index(author_index: int, n_files: int):\n",
    "    index = np.where(y==author_index)[0]\n",
    "    print(\"Author {}\".format(author_index))\n",
    "    for i in range(min(n_files, index.shape[0])):\n",
    "        for n in X[index[i]]:\n",
    "            print(sp.decode(int(n)), sep=\"\", end=\"\")\n",
    "        print()\n",
    "\n",
    "# take the median value of the value_counts"
   ],
   "metadata": {
    "collapsed": false,
    "pycharm": {
     "name": "#%%\n"
    }
   }
  },
  {
   "cell_type": "code",
   "execution_count": 3,
   "outputs": [
    {
     "name": "stdout",
     "output_type": "stream",
     "text": [
      "Author 60\n",
      "importsys#fromhttp://codereview.stackexchange.com/questions/47984/fractions-data-type-when-to-reducedefgcd(x,y):whiley:x,y=y,x%yreturnxdefreduce(x,y):cancel_factor=gcd(x,y)return(x/cancel_factor,y/cancel_factor)powers=[]foriinxrange(1,41):powers.append(pow(2,i))#printlen(powers)x=[]foriinxrange(0,40):x.append(1.0/powers[i])#printxnumCases=input()forcaseinrange(1,numCases+1):n,d=[int(y)foryinraw_input().split('/')]f=float(n)/float(d)n2,d2=reduce(n,d)#print\"reduced\"#printn2,d2gen=0ifd2inpowers:while(f<x[gen]andgen<40):gen+=1output=gen+1else:output=\"impossible\"#printgenprint'Case#'+str(case)+':'+str(output)\n",
      "importsysdefis_sym(number):num_str=str(number)num_len=len(num_str)half_len=int(num_len/2)end=num_str[-half_len:]rev_end=end[::-1]start=num_str[:half_len]equal=rev_end==startreturnequalf=open('palindromes.out')numbers=[int(x)forxinf.read().split()]numCases=input()forcaseinrange(1,numCases+1):min,max=[int(x)forxinraw_input().split()]count=0fornumberinnumbers:ifmin<=numberandmax>=number:count+=1print'Case#'+str(case)+':'+str(count)\n",
      "importsysimportmathdefis_palindrome(number):num_str=str(number)num_len=len(num_str)half_len=int(num_len+1/2)end=num_str[-half_len:]rev_end=end[::-1]start=num_str[:half_len]equal=rev_end==startreturnequalforxinxrange(1,int(math.sqrt(10e14))):if(is_palindrome(x)andis_palindrome(x*x)):printx*x\n",
      "importsystranslation={'a':'y','b':'h','c':'e','d':'s','e':'o','f':'c','g':'v','h':'x','i':'d','j':'u','k':'i','l':'g','m':'l','n':'b','o':'k','p':'r','q':'z','r':'t','s':'n','t':'w','u':'j','v':'p','w':'f','x':'m','y':'a','z':'q','':''}#words='ejpmysljylckdkxveddknmcrejsicpdrysirbcpcypcrtcsradkhwyfrepkymveddknkmkrkcddekrkdeoyakwaejtysrreujdrlkgcjv'numCases=input()forcaseinrange(1,numCases+1):words=raw_input()output=''forletterinwords:output=output+translation[letter]print'Case#'+str(case)+':'+output\n",
      "importsysdefget_winner(row):ifrow.count('X')+row.count('T')==size:return'Xwon'ifrow.count('O')+row.count('T')==size:return'Owon'return'Draw'numCases=input()forcaseinrange(1,numCases+1):size=4board={}full=Truewinner='Draw'forrowinrange(0,size):row_raw=raw_input()board[row]=row_rawif'.'inrow_raw:full=Falseifwinner=='Draw':winner=get_winner(row_raw)raw_input()ifwinner=='Draw':forcolinrange(0,size):row_new=''forrowinrange(0,size):row_new+=board[row][col]winner=get_winner(row_new)ifwinner!='Draw':breakifwinner=='Draw':row_new=''forzinrange(0,size):row_new+=board[z][z]winner=get_winner(row_new)ifwinner=='Draw':row_new=''forzinrange(0,size):row_new+=board[z][size-z-1]winner=get_winner(row_new)ifwinner=='Draw'andnotfull:winner='Gamehasnotcompleted'print'Case#'+str(case)+':'+winner\n",
      "importtimedefget_num_recycled(number_s,num_digits,limit):num_s=number_s+number_snum=int(number_s)r_nums=[]foriinrange(1,num_digits):r_num_s=num_s[i:num_digits+i]r_num=int(r_num_s)if(r_num>numandr_num<=limit):r_nums.append(r_num)returnlen(set(r_nums))defget_num_recycled2(num,num_digits,power,limit):r_nums=[]r_num=numforiinrange(1,num_digits):r_num=(r_num%10)*power+(r_num/10)if(r_num>numandr_num<=limit):r_nums.append(r_num)returnlen(set(r_nums))num_cases=input()#start_t=time.clock()foriinrange(1,num_cases+1):start_s,limit_s=raw_input().split()#start_s='1000000'#limit_s='2000000'num_recycled=0num_digits=len(start_s)power=pow(10,num_digits-1)limit=int(limit_s)start=int(start_s)fornuminrange(start,limit+1):#num_recycled+=get_num_recycled(str(num),num_digits,limit)num_recycled+=get_num_recycled2(num,num_digits,power,limit)print'Case#'+str(i)+':'+str(num_recycled)#end_t=time.clock()#printstart_t,end_t,end_t-start_t\n",
      "importsysfrombisectimportbisect_rightdeffind_le(a,x):'Findrightmostvaluelessthanorequaltox'#printx#printai=bisect_right(a,x)ifi:#print\"Found\"dela[i-1]returnTruereturnFalsenumCases=input()forcaseinrange(1,numCases+1):N,S=[int(x)forxinraw_input().split()]Nums=[int(x)forxinraw_input().split()]numDisks=0SortedNums=sorted(Nums)while(len(SortedNums)>0):largest=SortedNums.pop()#printlargestnumDisks+=1if(len(SortedNums)>0):#printSortedNumsother=find_le(SortedNums,S-largest)#printSortedNumsoutput=str(numDisks)print'Case#'+str(case)+':'+str(output)\n",
      "importsysimportitertoolsnumCases=input()forcaseinrange(1,numCases+1):nOrig=raw_input()n=itertools.groupby(nOrig)groups=[]fork,ginn:groups.append(list(g))#Storegroupiteratorasalistoutput=len(groups)ifnOrig[-1]=='+':output-=1print'Case#'+str(case)+':'+str(output)\n",
      "importsysnumCases=input()forcaseinrange(1,numCases+1):(sMax,sList)=raw_input().split()numStanding=0numFriends=0forxinxrange(0,len(sList)):s=int(sList[x])ifs>0andnumStanding<x:numNeeded=(x-numStanding)numStanding+=numNeedednumFriends+=numNeedednumStanding+=soutput=numFriendsprint'Case#'+str(case)+':'+str(output)\n",
      "importsysnumCases=input()forcaseinrange(1,numCases+1):nOrig=input()seen=set()n=0ifnOrig>0:whilelen(seen)<10:n=n+nOrignStr=str(n)forainnStr:seen.add(int(a))output=nifoutput==0:output=\"INSOMNIA\"print'Case#'+str(case)+':'+str(output)\n",
      "Author 34\n",
      "#!/usr/bin/envpythondefmain():f=open('input.txt','r')total_T=int(f.readline())forTinxrange(1,total_T+1):N=int(f.readline().rstrip('\\n'))s={}foriinxrange(N):s[i]=list(f.readline().rstrip('\\n'))#printN,s#printrun(s,N)#printN,L#printoutlets#printdevices#printfind(outlets,devices)print'Case#{}:{}'.format(T,run(s,N))defrun(s,N):ifall(s[x]==[]forxins):return0ifany(s[x]==[]forxins):return'FeglaWon'ss={}foriinxrange(N):ss[i],s[i]=split_by_1(s[i])ifany(ss[x][0]!=ss[0][0]forxinss):return'FeglaWon'else:c=count(ss)#printcr_c=run(s,N)ifr_c!='FeglaWon':returnc+r_celse:returnr_cdefcount(ss):sum_=sum(len(ss[x])forxinss)max_=max(len(ss[x])forxinss)returnmin(sum(abs(i-len(ss[x]))forxinss)foriinxrange(max_+1))defsplit_by_1(sss):new_sss=[]foriinxrange(len(sss)):ifsss[i]!=sss[0]:new_sss,sss=sss[:i],sss[i:]returnnew_sss,sssreturnsss,[]deffind(outlets,devices):sets=[set(o^dforoinoutlets)fordindevices]r=sets.pop()whilesets!=[]:r&=sets.pop()ifr==set():return'NOTPOSSIBLE'returnmin(bin(x).count('1')forxinr)if__name__=='__main__':main()\n",
      "#!/usr/bin/envpythondefmain():f=open('input.txt','r')total_T=int(f.readline())alphabeta='ABCDEFGHIJKLMNOPQRSTUVWXYZ'd={alphabeta[i]:iforiinxrange(26)}forTinxrange(1,total_T+1):S=f.readline().rstrip('\\n')new_S=[S[0]]forsinS[1:]:#prints,d[s],new_S[0],d[new_S[0]]ifd[s]>=d[new_S[0]]:new_S.insert(0,s)else:new_S.append(s)print'Case#{}:{}'.format(T,''.join(new_S))if__name__=='__main__':main()\n",
      "#!/usr/bin/envpythonfromcollectionsimportdequedefmain():f=open('input.txt','r')total_T=int(f.readline())forTinxrange(1,total_T+1):A,B,K=map(long,f.readline().rstrip('\\n').split())#printA,B,K#printbasic_solve(xrange(A),xrange(B),K)r=basic_solve(xrange(A),xrange(B),K)print'Case#{}:{}'.format(T,r)defbasic_solve(A_iter,B_iter,K):c=0forainA_iter:forbinB_iter:ifa&b<K:c+=1returncif__name__=='__main__':main()\n",
      "#!/usr/bin/envpythondefmain():f=open('input.txt','r')total_T=int(f.readline())forTinxrange(1,total_T+1):N=int,f.readline().rstrip('\\n')M=map(int,f.readline().rstrip('\\n').split())#printfind_speed(M)print'Case#{}:{}{}'.format(T,resolve1(M),resolve2(M))defresolve1(M):c=0forxinxrange(0,len(M)-1):ifM[x]>M[x+1]:c+=M[x]-M[x+1]returncdefresolve2(M):v=find_speed(M)c=0forxinxrange(0,len(M)-1):ifM[x]>=v:c+=velse:c+=M[x]returncdeffind_speed(M):v=0forxinxrange(0,len(M)-1):ifM[x]>M[x+1]:v=max(v,M[x]-M[x+1])returnvif__name__=='__main__':main()\n",
      "#!/usr/bin/envpythonbases=[2,3,4,5,6,7,8,9,10]defmain():T=1print'Case#1:'N=32J=500#N=6#J=10NN=(1<<(N-1))-1count=0whilecount<J:NN+=2#printbin(NN)[2:]divisors={}forbinbases:#printNN,b,covert_10_to_base(NN,b)divisor=is_prime_or_divisor(covert_2_to_base(NN,b))ifdivisorisTrue:breakelse:divisors[b]=divisoriflen(divisors)!=len(bases):continueelse:printbin(NN)[2:],''.join(map(str,divisors.itervalues()))count+=1defcovert_2_to_base(n,b):ifb==2:returnnret=0bb=1fornninreversed(bin(n)[2:]):ret+=int(nn)*bbbb*=breturnretdefxxrange(a,b):whilea!=b:yieldaa+=1defis_prime_or_divisor(a):foriinxxrange(2,1091):ifa%i==0:returnireturnTrueif__name__=='__main__':main()\n",
      "#!/usr/bin/envpythondefmain():f=open('input.txt','r')total_T=int(f.readline())forTinxrange(1,total_T+1):N=int(f.readline().rstrip('\\n'))#printfind_speed(M)print'Case#{}:{}'.format(T,resolve(N))defresolve(N):n_str=[xforxinstr(N)]#printn_striflen(n_str)==1:returnNifn_str[-1]=='0':return1+resolve(N-1)ifall(x=='0'forxinn_str[1:-1])andn_str[0]=='1'andn_str[-1]=='1':#print2return2+resolve(N-2)forxinxrange(len(n_str)/2,len(n_str)):n_str[x]='0'n_str[-1]='1'c=N-int(''.join(n_str))ifany(n_str[x]!=n_str[len(n_str)-x-1]forxinxrange(len(n_str)/2)):c+=1returnc+resolve(int(''.join(reversed(n_str))))deffind_speed(M):v=0forxinxrange(0,len(M)-1):ifM[x]>M[x+1]:v=max(v,M[x]-M[x+1])returnvif__name__=='__main__':main()\n",
      "#!/usr/bin/envpythonfromcollectionsimportCounterdefmain():f=open('input.txt','r')total_T=int(f.readline())forTinxrange(1,total_T+1):N=int(f.readline().rstrip('\\n'))ifN==0:print'Case#{}:INSOMNIA'.format(T)continuecnt=[Falseforxinxrange(10)]n=NwhileTrue:forkinCounter(str(n)):cnt[int(k)]=True#printcntifall(cnt):breakelse:n+=N#printnprint'Case#{}:{}'.format(T,n)if__name__=='__main__':main()\n",
      "#!/usr/bin/envpythondefmain():fin=open('input.txt','r')total_T=int(fin.readline())forTinxrange(1,total_T+1):S=list(fin.readline().rstrip('\\n'))print'Case#{}:{}'.format(T,helper(S,'+'))defhelper(S,want='+'):iflen(S)==1andS[0]==want:return0eliflen(S)==1andS[0]!=want:return1elifS[-1]==want:returnhelper(S[:-1],want)else:#unwantedintheendreturn1+helper(S,'-'ifwant=='+'else'+')if__name__=='__main__':main()\n",
      "#!/usr/bin/envpythondefmain():f=open('input.txt','r')total_T=int(f.readline())forTinxrange(1,total_T+1):R,C,W=map(int,f.readline().rstrip('\\n').split())#printR,C,W#printfind_speed(M)print'Case#{}:{}'.format(T,here(C,W))defhere(C,W):ifC==W:returnWifW==1:returnCifC>=2*W:return1+here(C-W,W)ifC<2*W:returnW+1deffind_speed(M):v=0forxinxrange(0,len(M)-1):ifM[x]>M[x+1]:v=max(v,M[x]-M[x+1])returnvif__name__=='__main__':main()\n",
      "#!/usr/bin/envpythondefmain():f=open('input.txt','r')total_T=int(f.readline())forTinxrange(1,total_T+1):N=int(f.readline().rstrip('\\n'))s={}foriinxrange(N):s[i]=list(f.readline().rstrip('\\n'))#printN,s#printrun(s,N)#printN,L#printoutlets#printdevices#printfind(outlets,devices)print'Case#{}:{}'.format(T,run(s,N))defrun(s,N):ifall(s[x]==[]forxins):return0ifany(s[x]==[]forxins):return'FeglaWon'ss={}foriinxrange(N):ss[i],s[i]=split_by_1(s[i])ifany(ss[x][0]!=ss[0][0]forxinss):return'FeglaWon'else:c=count(ss)#printcr_c=run(s,N)ifr_c!='FeglaWon':returnc+r_celse:returnr_cdefcount(ss):sum_=sum(len(ss[x])forxinss)max_=max(len(ss[x])forxinss)returnmin(sum(abs(i-len(ss[x]))forxinss)foriinxrange(max_+1))defsplit_by_1(sss):new_sss=[]foriinxrange(len(sss)):ifsss[i]!=sss[0]:new_sss,sss=sss[:i],sss[i:]returnnew_sss,sssreturnsss,[]deffind(outlets,devices):sets=[set(o^dforoinoutlets)fordindevices]r=sets.pop()whilesets!=[]:r&=sets.pop()ifr==set():return'NOTPOSSIBLE'returnmin(bin(x).count('1')forxinr)if__name__=='__main__':main()\n",
      "Author 23\n",
      "defmain():forTESTinxrange(1,int(raw_input())+1):C,F,X=map(float,raw_input().split())cookie_rate=2#cookiespersecondcumulative_time=0time=X/cookie_ratewhile1:old_time=timecumulative_time+=C/cookie_ratecookie_rate+=Ftime=cumulative_time+X/cookie_rateifold_time<time:break;print\"Case#%d:%.7f\"%(TEST,old_time)main()\n",
      "defmain():forTESTinxrange(1,int(raw_input())+1):S=raw_input()[::-1]flipped=FalsenFlips=0forcinS:ifflipped:ifc=='-':c='+'elifc=='+':c='-'ifc=='-':nFlips+=1flipped=notflippedprint\"Case#%d:%s\"%(TEST,str(nFlips))main()\n",
      "defgetPrimeDiv(n,primes):forpinprimes:ifn%p==0:returnpreturnNonedefisNotPrimeInAnyBase(b,primes):foriinxrange(2,11):nInBase=int(b,i)ifgetPrimeDiv(nInBase,primes)==None:returnFalsereturnTruedefprintNumberAndDivisors(b,primes):print\"%s\"%(b),#print\"%s\"%(int(b,2)),foriinxrange(2,11):nInBase=int(b,i)div=getPrimeDiv(nInBase,primes)#print\"%d/%d=%d,\"%(nInBase,div,nInBase/div),print\"%d\"%(div),printdefmain():primes=[2,3,5,7,11,13,17,19,23,29,31,37,41,43,47,53,59,61]forTESTinxrange(1,int(raw_input())+1):N,J=map(int,raw_input().split())print\"Case#%d:\"%(TEST)found=0n=(1<<(N-1))+1limit=(1<<N)-1whilen<=limit:b=bin(n)[2:]ifisNotPrimeInAnyBase(b,primes):printNumberAndDivisors(b,primes)found+=1iffound>=J:breakn+=2main()\n",
      "defmain():forTESTinxrange(1,int(raw_input())+1):_,people_str=raw_input().split()people=map(int,people_str)count=0extras=0fori,pinenumerate(people):ifi>count:extras+=i-countcount+=i-countcount+=pprint\"Case#%d:%s\"%(TEST,str(extras))main()\n",
      "fromitertoolsimportgroupbydefmain():forTESTinxrange(1,int(raw_input())+1):_=raw_input()plates=map(int,raw_input().split())minutes=100000n_cuts=0while1:plates.sort(reverse=True)#printplatescounts=[(n,len(list(ns)))forn,nsingroupby(plates)]ifcounts[0][0]+n_cuts<minutes:minutes=counts[0][0]+n_cuts#print\"counts[0][0]:\"+str(counts[0][0])#print\"counts[0][1]:\"+str(counts[0][1])#print\"minutes:\"+str(minutes)ifcounts[0][0]<=3:breakforiinxrange(counts[0][1]):quot,rem=divmod(plates[i],2)plates[i]=quot+remplates.append(quot)n_cuts+=counts[0][1]print\"Case#%d:%s\"%(TEST,str(minutes))main()\n",
      "defmain():forTESTinxrange(1,int(raw_input())+1):S=raw_input()[::-1]flipped=FalsenFlips=0forcinS:ifflipped:ifc=='-':c='+'elifc=='+':c='-'ifc=='-':nFlips+=1flipped=notflippedprint\"Case#%d:%s\"%(TEST,str(nFlips))main()\n",
      "defmain():forTESTinxrange(1,int(raw_input())+1):N=int(raw_input())ifN==0:print\"Case#%d:INSOMNIA\"%(TEST)continueunseenDigits=set(chr(ord('0')+i)foriinxrange(0,10))num=0whilelen(unseenDigits)>0:num+=Nfordinstr(num):ifdinunseenDigits:unseenDigits.remove(d)print\"Case#%d:%s\"%(TEST,str(num))main()\n",
      "defgcd(n1,n2):n,rem=n1,n2%n1whilerem!=0:n,rem=rem,n%remreturnndefmain():forTESTinxrange(1,int(raw_input())+1):P,Q=map(int,raw_input().split('/'))div=gcd(P,Q)P/=divQ/=div#print\"%d/%d\"%(P,Q)ifbin(Q).count('1')==1:shift=0while(Q>>shift)>P:shift+=1print\"Case#%d:%d\"%(TEST,shift)else:print\"Case#%d:%s\"%(TEST,\"impossible\")main()\n",
      "defmain():forTESTinxrange(1,int(raw_input())+1):A,B,K=map(int,raw_input().split())A,B=min(A,B),max(A,B)max_gen=A-1count=0forainxrange(A):forbinxrange(B):ifa&b<K:count+=1print\"Case#%d:%d\"%(TEST,count)main()\n",
      "fromitertoolsimportgroupbyfrommathimportceildefmain():forTESTinxrange(1,int(raw_input())+1):N=int(raw_input())strings=[raw_input()for_inxrange(N)]groups=[[(k,len(list(g)))fork,gingroupby(s)]forsinstrings]group_lengths=list(map(len,groups))impossible=Falseiflen(set(group_lengths))>1:impossible=Trueelse:moves=0forcinzip(*groups):iflen(set(kfork,_inc))!=1:impossible=Truebreakmax_consecutive=max(countfor_,countinc)all_n_moves=[sum(abs(count-target_len)for_,countinc)fortarget_leninxrange(1,max_consecutive+1)]best_n_moves=min(all_n_moves)moves+=best_n_movesifimpossible:print\"Case#%d:%s\"%(TEST,\"FeglaWon\")else:print\"Case#%d:%d\"%(TEST,moves)main()\n",
      "Author 39\n",
      "'''Createdon12/04/2014@author:david'''#f=open(\"exampleA.txt\")#f=open(\"A-small-attempt0.in\")f=open(\"A-large.in\")T=int(f.readline())P=[]foriinrange(T):p=[int(n)forninf.readline().split()[1]]P.append(p)defsolve(p):f=0a=0forsl,npinenumerate(p):ifsl>a:f+=(sl-a)a+=(sl-a)a+=npreturnffRes=open(\"res.txt\",\"w\")case=0forpinP:print(p)case+=1sol=solve(p)print(\"Case#{}:{}\".format(case,sol))fRes.write(\"Case#{}:{}\\n\".format(case,sol))fRes.close()\n",
      "'''Createdon27/04/2013@author:David'''frommathimportpidefread_data(filename):f=open(filename,'r')T=int(f.readline().strip())data=[]for_inrange(T):R,T=(int(v)forvinf.readline().strip().split())data.append((R,T))returndatadefarea1(r):returnpi*((r+1)*(r+1)-r*r)deftinta(r,n):return(n)*2*r+(n)*(2*(n-1)+1)defkk(n1,n2,t):ifn2==n1+1:returnn1ifn2==n1:returnn1m=(n1+n2)//2tt=tinta(r,m)iftt<t:returnkk(m,n2,t)eliftt>t:returnkk(n1,m,t)else:returnmdefrings(r,t):n=1whileTrue:iftinta(r,n)>t:breakn*=2#print((r+1)*(r+1)-r*r,2*r+1)#t-=2*r+1#(r+1)*(r+1)-r*r#ift>=0:num+=1#else:break#r+=2nMax=nnMin=n//2returnkk(nMin,nMax,t)#data=read_data(\"A-test.in\");data=read_data(\"A-small-attempt0.in\");f2=open(\"resA.txt\",\"w\")tx=1forr,tindata:#print(r,t)n=rings(r,t)cad=\"Case#{0}:{1}\".format(tx,n)print(cad)f2.write(cad+\"\\n\")tx+=1f2.close()\n",
      "'''CreatedonApr9,2016@author:david'''#f=open(\"exampleA.txt\")#f=open(\"A-small-attempt2.in\")f=open(\"A-large.in\")pp=\"ABCDEFGHIJKLMNOPQRSTUVWXYZ\"T=int(f.readline())P=[]foriinrange(T):n=int(f.readline().strip())line=f.readline().strip()words=line.split()ints=[int(w)forwinwords]P.append(ints)defsolve(ns):res=[]esq=sum(ns)p=sorted([[n,pp[i]]for(i,n)inenumerate(ns)],reverse=True)whilep[0][0]>1:ifp[0][0]>p[1][0]:res.append(p[0][1])p[0][0]-=1else:res.append(p[0][1]+p[1][1])p[0][0]-=1p[1][0]-=1p=sorted(p,reverse=True)whilelen(p)>2:res.append(p[0][1])delp[0]res.append(p[0][1]+p[1][1])#print(esq,p)return''.join(res)fRes=open(\"res.txt\",\"w\")case=0forpinP:print(p)case+=1sol=solve(p)print(\"Case#{}:{}\".format(case,sol))fRes.write(\"Case#{}:{}\\n\".format(case,sol))fRes.close()\n",
      "'''CreatedonApr9,2016@author:david'''#f=open(\"exampleC.txt\")f=open(\"C-small-attempt0.in\")#f=open(\"C-large.in\")defsieve(n):\"Returnallprimes<=n.\"np1=n+1s=list(range(np1))#leaveoff`list()`inPython2s[1]=0sqrtn=int(round(n**0.5))foriinrange(2,sqrtn+1):#use`xrange()`inPython2ifs[i]:#nextline:use`xrange()`inPython2s[i*i:np1:i]=[0]*len(range(i*i,np1,i))returnlist(filter(None,s))#sqrt(1000000000)=31622__primes=sieve(31622)__primes_set=set(__primes)deffind_div(n):ifnin__primes_set:return1forpin__primes:ifn%p==0:returnpreturn1raise\"kk\"T=int(f.readline())P=[]foriinrange(T):p=[int(x)forxinf.readline().split()]P.append(p)defgen(n):i=0n-=2whileTrue:i+=1r=bin(i)[2:]iflen(r)>n:breakr=('0'*n+r)[-n:]yield'1'+r+'1'defsolve(p):n,j=pres=[]fornumingen(n):is_all_no_prime=Truedd=[]forbaseinrange(2,11):v=int(num,base)df=find_div(v)#print(num,base,v,df)ifdf==1:is_all_no_prime=Falsebreakelse:dd.append(str(df))#dd.append(\"[\"+str(v)+\":\"+str(df)+\"_\"+str(v%df)+\"]\")ifis_all_no_prime:res.append((num,dd))j-=1ifj==0:breakreturnresfRes=open(\"res.txt\",\"w\")case=0forpinP:#print(p)case+=1sol=solve(p)fRes.write(\"Case#{}:\\n\".format(case))for(k,r)insol:fRes.write(\"{0}{1}\\n\".format(k,''.join(r)))#fRes.write(\"Case#{}:{}\\n\".format(case,sol))fRes.close()\"\"\"print(len(list(gen(25))))fori,vinenumerate(gen(16)):print(v)ifi>10:break\"\"\"\n",
      "'''Createdon27/04/2013@author:David'''defread_data(filename):f=open(filename,'r')T=int(f.readline().strip())data=[]for_inrange(T):R,N,M,K=(int(v)forvinf.readline().strip().split())sets=[]for_inrange(R):sets.append([int(v)forvinf.readline().strip().split()])data.append((R,N,M,K,sets))returndatadefsolve(R,N,M,K,sets):f2=open(\"resC.txt\",\"w\")f2.write(\"Case#1:\\n\")print(\"Case#1:\")forsinsets:res=[]h3=len([iforiinsifi%3==0])>0if(h3):res.append(3)h5=len([iforiinsifi%5==0])>0if(h5):res.append(5)h2=len([iforiinsifi%2==0])>0h4=len([iforiinsifi%4==0])>0if(h2andnoth4):res.append(2)if(h4):res.append(4)if(h2andh4andlen(res)<3):res.append(2)iflen(res)==0:res=[2,3,4]whilelen(res)<3:res.append(res[0])#print(res)cad=\"\".join([str(e)foreinres])f2.write(cad+\"\\n\")print(cad)f2.close()defgen(sd,ed,nd):passdata=read_data(\"C-small-1-attempt0.in\");t=1forR,N,M,K,setsindata:#print(R,N,M,K,sets)solve(R,N,M,K,sets)\n",
      "'''CreatedonApr9,2016@author:david'''#f=open(\"exampleB.txt\")#f=open(\"B-small-attempt0.in\")f=open(\"B-large.in\")T=int(f.readline())P=[]foriinrange(T):p=f.readline().strip()[::-1]#[x=='+'forxinf.readline().strip()[::-1]]P.append(p)defsolve(s):pre='+'c=0fordins:ifpre!=d:c+=1pre=dreturncdefsolve2(s):returnrec(s,True)defrec(s,c):#print(s,c)iflen(s)==0:return0ifs[0]==c:returnrec(s[1:],c)fori,vinenumerate(s):ifv==c:return1+rec((s[i:]),notc)return1fRes=open(\"res.txt\",\"w\")case=0forpinP:print(\"[{0}]\".format(p))case+=1sol=solve(p)print(\"Case#{}:{}\".format(case,sol))fRes.write(\"Case#{}:{}\\n\".format(case,sol))fRes.close()\n",
      "'''Createdon30/04/2014@author:DavidLlorens(daybit@gmail.com)'''defclean(s):res=[]pre=s[0]c=1forlins[1:]:ifpre!=l:res.append((pre,c))pre=lc=1else:c+=1res.append((pre,c))return''.join([x[0]forxinres]),[x[1]forxinres]defsolve2(vv):acu=0forvinvv:#print(v)m=int(0.5+sum(v)/len(v))acu+=sum([abs(x-m)forxinv])#print(v,m,[abs(x-m)forxinv],sum([abs(x-m)forxinv]))returnacudefsolve(vv):acu=0forvinvv:m=min(v)M=max(v)k=10e100forninrange(m,M+1):kk=sum([abs(e-n)foreinv])#ifkk>k:breakk=min(k,kk)acu+=kreturnacu#fIn=open(\"A-small-practice.in\")fIn=open(\"A-large.in\")#fIn=open(\"A-small-attempt0.in\")T=int(fIn.readline())P=[]foriinrange(T):n=int(fIn.readline())ss=[]for_inrange(n):ss.append(fIn.readline().strip())P.append((n,ss))case=0fRes=open(\"res.txt\",\"w\")forn,ssinP:case+=1aux=[clean(w)forwinss]iflen(set([x[0]forxinaux]))!=1:print(\"Case#{}:{}\".format(case,\"FeglaWon\"))fRes.write(\"Case#{}:{}\\n\".format(case,\"FeglaWon\"))continueaux2=[x[1]forxinaux]aux3=[]foriinrange(len(aux2[0])):yy=[]forpalinaux2:yy.append(pal[i])aux3.append(yy)#print(aux3)res=solve(aux3)print(\"Case#{}:{}\".format(case,res))fRes.write(\"Case#{}:{}\\n\".format(case,res))#print(n,ss,[clean(w)forwinss])fRes.close()\n",
      "'''CreatedonApr9,2016@author:david'''#f=open(\"exampleC.txt\")f=open(\"C-small-attempt0.in\")#f=open(\"C-large.in\")T=int(f.readline())P=[]foriinrange(T):n=int(f.readline())words=[]forkinrange(n):words.append(f.readline().split())#[x=='+'forxinf.readline().strip()[::-1]]P.append(words)defsolve(s):d1=set()d2=set()d=set()e=0for(w1,w2)ins:w=w1+\"\"+w2ifw1ind1andw2ind2andwnotind:e+=1d1.add(w1)d2.add(w2)d.add(w)returnefRes=open(\"res.txt\",\"w\")case=0forpinP:print(\"[{0}]\".format(p))case+=1sol=solve(p)print(\"Case#{}:{}\".format(case,sol))fRes.write(\"Case#{}:{}\\n\".format(case,sol))fRes.close()\n",
      "'''CreatedonApr9,2016@author:david'''#f=open(\"exampleB.txt\")f=open(\"B-small-attempt0.in\")#f=open(\"B-large.in\")T=int(f.readline())P=[]foriinrange(T):p=f.readline().strip()[::-1]#[x=='+'forxinf.readline().strip()[::-1]]P.append(p)defsolve(s):pre='+'c=0fordins:ifpre!=d:c+=1pre=dreturncdefsolve2(s):returnrec(s,True)defrec(s,c):#print(s,c)iflen(s)==0:return0ifs[0]==c:returnrec(s[1:],c)fori,vinenumerate(s):ifv==c:return1+rec((s[i:]),notc)return1fRes=open(\"res.txt\",\"w\")case=0forpinP:print(\"[{0}]\".format(p))case+=1sol=solve(p)print(\"Case#{}:{}\".format(case,sol))fRes.write(\"Case#{}:{}\\n\".format(case,sol))fRes.close()\n",
      "'''CreatedonApr9,2016@author:david'''#f=open(\"exampleA.txt\")f=open(\"A-small-attempt0.in\")#f=open(\"A-large.in\")T=int(f.readline())P=[]foriinrange(T):p=int(f.readline())P.append(p)defsolve(n):d=[True]*255nf=10i=1pre=-1last=-2whilenf>0andpre!=last:pre=lastlast=i*ni+=1fordig_instr(last):dig=ord(dig_)ifd[dig]:d[dig]=Falsenf-=1ifnf>0:return\"INSOMNIA\"return(i-1)*nfRes=open(\"res.txt\",\"w\")case=0forpinP:print(p)case+=1sol=solve(p)print(\"Case#{}:{}\".format(case,sol))fRes.write(\"Case#{}:{}\\n\".format(case,sol))fRes.close()\n",
      "Author 53\n",
      "#!/usr/bin/envpython#encoding:utf-8\"\"\"AlienLanguage.pyCreatedbyGrahamDennison2009-09-03.Copyright(c)2009__MyCompanyName__.Allrightsreserved.\"\"\"importsysimportgetopthelp_message='''Thehelpmessagegoeshere.'''classUsage(Exception):def__init__(self,msg):self.msg=msgdefmatches(lst,target):ifnottarget:return1result=0forstring,successorListinlst:ifnotstringintarget[0]:continueresult+=matches(successorList,target[1:])returnresultdefinsertString(lst,stringToInsert):forstring,successorListinlst:ifstringToInsert[0]==string:returninsertString(successorList,stringToInsert[1:])newList=Noneiflen(stringToInsert)>1:newList=[]insertString(newList,stringToInsert[1:])lst.append((stringToInsert[0],newList))root=[]defmain(argv=None):ifargvisNone:argv=sys.argvtry:try:opts,args=getopt.getopt(argv[1:],\"ho:v\",[\"help\",\"output=\"])exceptgetopt.error,msg:raiseUsage(msg)#optionprocessingforoption,valueinopts:ifoption==\"-v\":verbose=Trueifoptionin(\"-h\",\"--help\"):raiseUsage(help_message)ifoptionin(\"-o\",\"--output\"):output=valueexceptUsage,err:print>>sys.stderr,sys.argv[0].split(\"/\")[-1]+\":\"+str(err.msg)print>>sys.stderr,\"\\tforhelpuse--help\"return2f=file(args[0])L,D,N=map(int,f.readline().split())foriinxrange(D):insertString(root,f.readline().strip())#printrootforiinxrange(N):line=f.readline().strip()lineList=[]state=0string=''forcharinline:ifchar=='(':state=1ifstring:lineList.extend(string)string=''elifchar==')':state=0lineList.append(list(string))string=''else:string+=charifstring:lineList.extend(string)#printline,lineList,matches(root,lineList)print\"Case#%i:%i\"%(i+1,matches(root,lineList))if__name__==\"__main__\":sys.exit(main())\n",
      "#!/usr/bin/envpython#encoding:utf-8\"\"\"untitled.pyCreatedbyGrahamDennison2010-05-08.Copyright(c)2010__MyCompanyName__.Allrightsreserved.\"\"\"importsysdefgreatestCommonFactor(a,b):ifa<b:a,b=b,awhilea-b:c=a-ba=max(b,c)b=min(b,c)returnadefmain(argv=None):ifargvisNone:argv=sys.argvf=file(sys.argv[1])C=int(f.readline())forcinxrange(C):stuff=map(int,f.readline().split())N,events=stuff[0],list(set(stuff[1:]))events.sort()differences=[a-bfora,binzip(events[1:],events[:-1])]gcf=differences[0]forbindifferences[1:]:gcf=greatestCommonFactor(gcf,b)print'Case#%i:%s'%(c+1,-events[0]%gcf)#print'Case#%i:%s'%(c+1,result)if__name__==\"__main__\":sys.exit(main())\n",
      "#!/usr/bin/envpython#encoding:utf-8\"\"\"FreeCell.pyCreatedbyGrahamDennison2011-05-21.Copyright(c)2011__MyCompanyName__.Allrightsreserved.\"\"\"importsysdefgreatestCommonFactor(a,b):ifa<b:a,b=b,awhilea-b:c=a-ba=max(b,c)b=min(b,c)returnadefleastCommonMultiple(a,b):return(a*b)/greatestCommonFactor(a,b)defsolve(p):ifp==0:return1,0,1lcm=leastCommonMultiple(100,p)played=lcm/pwon=lcm/100lost=played-wonreturnplayed,won,lostdefmain():f=open(sys.argv[1])T=int(f.readline())fortinxrange(T):N,PD,PG=map(int,f.readline().split())D,WD,LD=solve(PD)G,WG,LG=solve(PG)ifD<=Nand(WG>0orWG==WD)and(LG>0orLG==LD):state=\"Possible\"else:state=\"Broken\"#printlcmD,lcmG,D,Gprint\"Case#%i:%s\"%(t+1,state)if__name__==\"__main__\":sys.exit(main())\n",
      "#!/usr/bin/envpython#encoding:utf-8\"\"\"Magicka.pyCreatedbyGrahamDennison2011-05-07.Copyright(c)2011__MyCompanyName__.Allrightsreserved.\"\"\"importsysdefmain():f=open(sys.argv[1])T=int(f.readline())fortinxrange(T):items=f.readline().split()C=int(items.pop(0))combiningElements=items[:C]delitems[:C]D=int(items.pop(0))opposedElements=items[:D]delitems[:D]N=int(items.pop(0))invoked=items[0]assertlen(items)==1combiningDict=dict([(frozenset(c[:2]),c[2])forcincombiningElements])opposedDict=dict()fora,binopposedElements:opposedDict.setdefault(a,set()).add(b)opposedDict.setdefault(b,set()).add(a)elementList=[]forelementininvoked:ifelementListandfrozenset((element,elementList[-1]))incombiningDict:elementList[-1]=combiningDict[frozenset((element,elementList[-1]))]elifopposedDict.get(element,set()).intersection(elementList):delelementList[:]else:elementList.append(element)print\"Case#%i:[%s]\"%(t+1,','.join(elementList))if__name__==\"__main__\":sys.exit(main())\n",
      "#!/usr/bin/envpython#encoding:utf-8\"\"\"WelcomeToCodeJam.pyCreatedbyGrahamDennison2009-09-03.Copyright(c)2009__MyCompanyName__.Allrightsreserved.\"\"\"importsysimportgetopthelp_message='''Thehelpmessagegoeshere.'''classUsage(Exception):def__init__(self,msg):self.msg=msgdefmain(argv=None):ifargvisNone:argv=sys.argvtry:try:opts,args=getopt.getopt(argv[1:],\"ho:v\",[\"help\",\"output=\"])exceptgetopt.error,msg:raiseUsage(msg)#optionprocessingforoption,valueinopts:ifoption==\"-v\":verbose=Trueifoptionin(\"-h\",\"--help\"):raiseUsage(help_message)ifoptionin(\"-o\",\"--output\"):output=valueexceptUsage,err:print>>sys.stderr,sys.argv[0].split(\"/\")[-1]+\":\"+str(err.msg)print>>sys.stderr,\"\\tforhelpuse--help\"return2f=file(args[0])N=int(f.readline())searchString='welcometocodejam'foriinxrange(N):line=f.readline().strip()lineArray=[1]*len(line)forcharinsearchString:lastCount=0foridxinrange(len(line)):ifline[idx]==char:lastCount+=lineArray[idx]lineArray[idx]=lastCountprint\"Case#%i:%04i\"%(i+1,lineArray[-1]%10000)if__name__==\"__main__\":sys.exit(main())\n",
      "#!/usr/bin/envpython#encoding:utf-8\"\"\"untitled.pyCreatedbyGrahamDennison2010-05-08.Copyright(c)2010__MyCompanyName__.Allrightsreserved.\"\"\"importsysdefmain(argv=None):ifargvisNone:argv=sys.argvf=file(sys.argv[1])T=int(f.readline())fortinxrange(T):R,k,N=map(int,f.readline().split())groups=map(int,f.readline().split())next=[None]*Nearnt=[None]*NdeflengthEarningsFromTo(start,end):group=startearnings=0length=0whileTrue:earnings+=earnt[group]group=next[group]length+=1ifgroup==end:returnlength,earningsgroup=0whileTrue:ifearnt[group]:breaklastGroup=groupplacesUsed=0whileplacesUsed+groups[group]<=k:placesUsed+=groups[group]group=(group+1)%Nifgroup==lastGroup:breaknext[lastGroup]=groupearnt[lastGroup]=placesUsedstartupLength,startupEarnings=lengthEarningsFromTo(0,lastGroup)iflastGroup!=0else(0,0)cycleLength,cycleEarnings=lengthEarningsFromTo(lastGroup,lastGroup)earnings=0ifR-startupLength>0:R-=startupLengthearnings+=startupEarningsearnings+=(R//cycleLength)*cycleEarningsR=R%cycleLengthgroup=lastGroupelse:group=0whileR:earnings+=earnt[group]group=next[group]R-=1print'Case#%i:%s'%(t+1,earnings)if__name__==\"__main__\":sys.exit(main())\n",
      "#!/usr/bin/envpython#encoding:utf-8\"\"\"A.pyCreatedbyGrahamDennison2012-04-14.Copyright(c)2012__MyCompanyName__.Allrightsreserved.\"\"\"importsyssource=\"\"\"yqeeazooejpmysljylckdkxveddknmcrejsicpdrysiourlanguageisimpossibletounderstandrbcpcypcrtcsradkhwyfrepkymveddknkmkrkcdtherearetwentysixfactorialpossibilitiesdekrkdeoyakwaejtysrreujdrlkgcjvsoitisokayifyouwanttojustgiveup\"\"\"defdeduce_mapping(mapping):lines=source.splitlines()forgoogle,englishinzip(lines[::2],lines[1::2]):forg,einzip(google,english):ifnotginmapping:mapping[g]=eelse:assertmapping[g]==e#printlen(mapping),mappingassertlen(mapping)>=26alphabet=set([chr(ord('a')+offset)foroffsetinxrange(26)])iflen(mapping)==26:forcharacterinalphabet:ifnotcharacterinmapping:missing_value=list(alphabet.difference(mapping.values()))assertlen(missing_value)==1mapping[character]=list(missing_value)[0]defmain():f=open(sys.argv[1])T=int(f.readline())mapping={}deduce_mapping(mapping)fortinxrange(T):line=f.readline().strip()new_line=''.join(mapping[c]forcinline)print\"Case#%i:%s\"%(t+1,new_line)if__name__==\"__main__\":sys.exit(main())\n",
      "#!/usr/bin/envpython#encoding:utf-8\"\"\"BotTrust.pyCreatedbyGrahamDennison2011-05-07.Copyright(c)2011__MyCompanyName__.Allrightsreserved.\"\"\"importsysdefmain():f=open(sys.argv[1])T=int(f.readline())fortinxrange(T):instructions=f.readline().split()[1:]state={'O':(1,0),'B':(1,0)}time=0forrobot,buttoninzip(instructions[::2],instructions[1::2]):button=int(button)loc,lastTime=state[robot]time=lastTime=max(time,lastTime+abs(loc-button))+1state[robot]=button,lastTimeprint\"Case#%i:%i\"%(t+1,time)if__name__==\"__main__\":sys.exit(main())\n",
      "#!/usr/bin/envpython#encoding:utf-8\"\"\"CandySplitting.pyCreatedbyGrahamDennison2011-05-07.Copyright(c)2011__MyCompanyName__.Allrightsreserved.\"\"\"importsys,operatordefmain():f=open(sys.argv[1])T=int(f.readline())fortinxrange(T):N=int(f.readline())candies=map(int,f.readline().split())result=Noneifreduce(operator.xor,candies)!=0:result=\"NO\"else:candies.sort()result=str(sum(candies[1:]))print\"Case#%i:%s\"%(t+1,result)if__name__==\"__main__\":sys.exit(main())\n",
      "#!/usr/bin/envpython#encoding:utf-8\"\"\"FreeCell.pyCreatedbyGrahamDennison2011-05-21.Copyright(c)2011__MyCompanyName__.Allrightsreserved.\"\"\"importsysdefgreatestCommonFactor(a,b):ifa<b:a,b=b,awhilea-b:c=a-ba=max(b,c)b=min(b,c)returnadefleastCommonMultiple(a,b):return(a*b)/greatestCommonFactor(a,b)defsolve(p):ifp==0:return1,0,1lcm=leastCommonMultiple(100,p)played=lcm/pwon=lcm/100lost=played-wonreturnplayed,won,lostdefmain():f=open(sys.argv[1])T=int(f.readline())fortinxrange(T):N,PD,PG=map(int,f.readline().split())D,WD,LD=solve(PD)G,WG,LG=solve(PG)ifD<=Nand(WG>0orWG==WD)and(LG>0orLG==LD):state=\"Possible\"else:state=\"Broken\"#printlcmD,lcmG,D,Gprint\"Case#%i:%s\"%(t+1,state)if__name__==\"__main__\":sys.exit(main())\n",
      "Author 40\n",
      "#!/usr/bin/envpythonimportfileinputimportsysimportmathdefread_cases():fh=fileinput.input()T=int(fh.readline().strip())cases=[]fortinrange(T):case={}case[\"N\"]=int(fh.readline().strip())case[\"Ns\"]=map(float,fh.readline().strip().split(\"\"))case[\"Ks\"]=map(float,fh.readline().strip().split(\"\"))cases+=[case]iffh.readline().strip()!=\"\":raiseExceptionreturncasesdefwar(ns,ks):s=0'''ifnotns:return0ifns[-1]>ks[-1]:#print\"Y\"return1+war(ns[:-1],ks[1:])else:return0+war(ns[:-1],ks[:-1])'''whilens:ifns[-1]>ks[-1]:#print\"Y\"s+=1ns=ns[:-1]ks=ks[1:]else:ns=ns[:-1]ks=ks[:-1]returnsdefdwar(ns,ks):'''ifnotns:return0ifks[-1]>ns[-1]:return0+dwar(ns[1:],ks[:-1])else:return1+dwar(ns[:-1],ks[:-1])'''s=0whilens:ifks[-1]>ns[-1]:ns=ns[1:]ks=ks[:-1]else:s+=1ns=ns[:-1]ks=ks[:-1]returnsdefprocess_case(case):#printcasens=sorted(case[\"Ns\"])ks=sorted(case[\"Ks\"])#printns,ksscore_war=war(ns[:],ks[:])score_dwar=dwar(ns[:],ks[:])returnstr(score_dwar)+\"\"+str(score_war)if__name__==\"__main__\":cases=read_cases()#printcasesfori,caseinenumerate(cases[:]):#printi,caseresult=process_case(case)print\"Case#%s:\"%(i+1,),result#sys.stderr.write(\"Progress:%d/%d(%d%%)\\r\"%(i+1,len(cases),int(100.*(i+1)/len(cases))))#sys.stderr.flush()\n",
      "#!/usr/bin/pythonimportosimportsysfn=sys.argv[1]fh=open(fn,\"r\")T=int(fh.readline().strip())cases=[]foriinrange(T):N=map(int,fh.readline().strip().split(\"\"))[0]abs=[]forjinrange(N):ab=map(int,fh.readline().strip().split(\"\"))abs+=[ab]cases+=[(N,abs)]fh.close()#printcasesfh_o=open(\"out.txt\",\"w\")foriinrange(T):case=cases[i](N,abs)=casel_ps=[0]*len(abs)l_all=absl_2=[]l_left=l_allstars=0failed=0attempts=0whilelen(filter(lambday:l_ps[y]<2,range(N)))>0:#trytocompletelevelsjs=filter(lambdax:l_all[x][1]<=stars,filter(lambday:l_ps[y]<2,range(N)))iflen(js)>0:forjinjs:stars+=2-l_ps[j]l_ps[j]=2attempts+=1#printl_ps,jelse:#trytoget1starjs=filter(lambdax:l_all[x][0]<=stars,filter(lambday:l_ps[y]==0,range(N)))iflen(js)>0:max_j=max(map(lambdax:l_all[x][1],js))js=filter(lambdax:l_all[x][1]==max_j,js)j=js[0]stars+=1l_ps[j]=1attempts+=1#printl_ps,jelse:failed=1break#printfailed,abs,attemptsiffailed==1:print>>fh_o,\"Case#\"+str(i+1)+\":TooBad\"else:print>>fh_o,\"Case#\"+str(i+1)+\":\"+str(attempts)fh_o.close()\n",
      "#!/usr/bin/pythonimportosimportsysimportmathdefread_input_NN(fn=\"\"):fh=open(fn,\"r\")lines=map(lambdax:x.strip(),fh.readlines())fh.close()[goog_L,goog_D,goog_N]=map(int,lines[0].split())l_dict=lines[1:1+goog_D]l_words=lines[1+goog_D:]return(l_dict,l_words)defsplit_word(word1=\"(ab)c(ab)\"):l1=list(word1)in_paren=0for(pos,letter)inenumerate(l1):ifletter==\"(\":in_paren=1elifletter==\")\":in_paren=0elifin_paren==0:l1[pos]=\",\"+letterreturn(\"\".join(l1))defqa(fn=\"sample\"):l1=read_input_NN(fn)solutions=[]foriinl1[1]:word1=split_word(i)final_words=l1[0]word1=word1.replace(\"(\",\"\").replace(\")\",\"\").replace(\"\",\"\").replace(\",\",\"\").replace(\"\",\"\").strip()for(pos,letters)inenumerate(word1.split()):final_words=filter(lambdax:x[pos]inletters,final_words)solutions+=[final_words]return(solutions)l1=qa(fn=\"A-small-attempt0.in\")fh=open(\"out.txt\",\"w\")for(ctr,sol)inenumerate(l1):print>>fh,\"Case#\"+str(ctr+1)+\":\"+str(len(sol))fh.close()\n",
      "#!/usr/bin/pythonimportosimportsysimportmathfn=sys.argv[1]fh=open(fn,\"r\")T=int(fh.readline().strip())cases=[]foriinrange(T):case={}[E,R,N]=map(int,fh.readline().strip().split())case[\"E\"]=Ecase[\"R\"]=Rcase[\"N\"]=Nvs=map(int,fh.readline().strip().split())case[\"vs\"]=vscases.append(case)fh.close()#printcasesdefdetermine_case(case):E=case[\"E\"]R=case[\"R\"]N=case[\"N\"]vs=case[\"vs\"]max_use=[Eforiinrange(N)]min_repo=[0foriinrange(N)]results=[-1foriinrange(N)]act_es=sorted(list(set(vs)))[::-1]foract_einact_es:indices=map(lambdax:x[0],filter(lambda(i,v):v==act_e,enumerate(vs)))forlocinindices[::-1]:printact_e,loc,E,R,N,vsresults[loc]=max_use[loc]-min_repo[loc]ifloc<N-1:max_use[loc+1]=R+max_use[loc]-results[loc]foriinrange(loc+2,N):max_use[i]=min([max_use[i],max_use[i-1]+R])ifloc-1>=0:min_repo[loc-1]=max([results[loc]-R+min_repo[loc],min_repo[loc-1],0])foriinrange(loc-1)[::-1]:min_repo[i]=max([min_repo[i+1]-R,min_repo[i],0])printresultsprintmax_useprintmin_repoif-1inresults:printresutlsreturnstr(sum(map(lambdai:results[i]*vs[i],range(N))))fh_o=open(\"out.txt\",\"w\")#cases=[cases[8]]fori,caseinenumerate(cases):print>>fh_o,\"Case#\"+str(i+1)+\":\"+determine_case(case)fh_o.close()\n",
      "#!/usr/bin/pythonimportosimportsysfn=sys.argv[1]fh=open(fn,\"r\")C=int(fh.readline().strip())cases=[]foriinrange(C):cases+=[map(long,fh.readline().strip().split(\"\"))]try:cases+=[map(long,fh.readline().strip().split(\"\"))]except:print\"goodread\"fh.close()#http://mail.python.org/pipermail/edu-sig/2000-September/000610.htmldefgcd(a,b):\"\"\"ReturngreatestcommondivisorusingEuclid'sAlgorithm.\"\"\"whileb:a,b=b,a%breturnafh=open(\"outb.txt\",\"w\")for(i,case)inenumerate(cases):times=case[1:]iflen(times)!=case[0]:printimin_time=min(times)times0=map(lambdax:x-min_time,times)gcd1=gcd(times0[0],times0[1])iflen(times)>2:fortimeintimes0[2:]:gcd1=gcd(gcd1,time)#printgcd1time_past=min_time%gcd1iftime_past!=0:print>>fh,\"Case#\"+str(i+1)+\":\"+str(gcd1-time_past)else:print>>fh,\"Case#\"+str(i+1)+\":0\"fh.close()\n",
      "#!/usr/bin/pythonimportosimportsysimportmathfn=sys.argv[1]fh=open(fn,\"r\")T=int(fh.readline().strip())cases=[]foriinrange(T):case={}[r,t]=map(int,fh.readline().strip().split())case[\"r\"]=rcase[\"t\"]=tcases.append(case)fh.close()#printcasesdefpossible_with_j(t,r,j):returnt>=(2*r-1+2*j)*jdefdetermine_case(case):r=case[\"r\"]t=case[\"t\"]j_init=int(math.sqrt(t))+1lower=0upper=j_initwhileupper-lower>1:j=lower+(upper-lower)/2ifpossible_with_j(t,r,j):lower=jelse:upper=jreturnstr(lower)fh_o=open(\"out.txt\",\"w\")fori,caseinenumerate(cases):print>>fh_o,\"Case#\"+str(i+1)+\":\"+determine_case(case)fh_o.close()\n",
      "#!/usr/bin/pythonimportosimportsysimportmathimportfractionsfn=sys.argv[1]fh=open(fn,\"r\")T=int(fh.readline().strip())cases=[]foriinrange(T):fields=fh.readline().strip().split()cases+=[map(int,fields)]#printcasestry:line=fh.readline().strip()ifline==\"\":print\"goodread\"except:print\"goodread\"fh.close()fh=open(\"out.txt\",\"w\")for(i,case)inenumerate(cases):[n,d,g]=casegcd_d=fractions.gcd(100,d)min_won=d/gcd_dmin_played=100/gcd_d#printcase,min_won,min_playedifn<min_played:print>>fh,\"Case#\"+str(i+1)+\":Broken\"else:ifg<100andg>0:print>>fh,\"Case#\"+str(i+1)+\":Possible\"else:ifg==100andd==100:print>>fh,\"Case#\"+str(i+1)+\":Possible\"elifg==100andd!=100:print>>fh,\"Case#\"+str(i+1)+\":Broken\"elifg==0andd!=0:print>>fh,\"Case#\"+str(i+1)+\":Broken\"elifg==0andd==0:print>>fh,\"Case#\"+str(i+1)+\":Possible\"else:print\"problem\",casefh.close()\n",
      "#!/usr/bin/pythonimportosimportsysfn=sys.argv[1]fh=open(fn,\"r\")T=int(fh.readline().strip())cases=[]foriinrange(T):case={}[N,M]=map(int,fh.readline().strip().split())case[\"N\"]=Ncase[\"M\"]=Mcase[\"L\"]=[]forjinrange(N):case[\"L\"].append(map(int,fh.readline().strip().split()))cases.append(case)fh.close()defdetermine_case(case):N=case[\"N\"]M=case[\"M\"]L=case[\"L\"]max_ns=map(lambdan:max(L[n]),range(N))max_ms=map(lambdam:max(map(lambdan:L[n][m],range(N))),range(M))#return\"%s%s\"%(max_ns,max_ms)L_new=N*[M*[100]]#L_new=N*row_newcounter=0entries=sum(L,[])forninrange(N):forminrange(M):ifentries[counter]!=min([max_ns[n],max_ms[m]]):return\"NO\"counter+=1return\"YES\"fh_o=open(\"out.txt\",\"w\")fori,caseinenumerate(cases):print>>fh_o,\"Case#\"+str(i+1)+\":\"+determine_case(case)fh_o.close()\n",
      "#!/usr/bin/pythonimportosimportsysfn=sys.argv[1]fh=open(fn,\"r\")T=int(fh.readline().strip())cases=[]foriinrange(T):case={}[N,M]=map(int,fh.readline().strip().split())case[\"N\"]=Ncase[\"M\"]=Mcase[\"L\"]=[]forjinrange(N):case[\"L\"].append(map(int,fh.readline().strip().split()))cases.append(case)fh.close()defdetermine_case(case):N=case[\"N\"]M=case[\"M\"]L=case[\"L\"]max_ns=map(lambdan:max(L[n]),range(N))max_ms=map(lambdam:max(map(lambdan:L[n][m],range(N))),range(M))#return\"%s%s\"%(max_ns,max_ms)L_new=N*[M*[100]]#L_new=N*row_newcounter=0entries=sum(L,[])forninrange(N):forminrange(M):ifentries[counter]!=min([max_ns[n],max_ms[m]]):return\"NO\"counter+=1return\"YES\"fh_o=open(\"out.txt\",\"w\")fori,caseinenumerate(cases):print>>fh_o,\"Case#\"+str(i+1)+\":\"+determine_case(case)fh_o.close()\n",
      "#!/usr/bin/pythonimportosimportsysimportmathfn=sys.argv[1]fh=open(fn,\"r\")T=int(fh.readline().strip())cases=[]foriinrange(T):case={}[r,t]=map(int,fh.readline().strip().split())case[\"r\"]=rcase[\"t\"]=tcases.append(case)fh.close()#printcasesdefpossible_with_j(t,r,j):returnt>=(2*r-1+2*j)*jdefdetermine_case(case):r=case[\"r\"]t=case[\"t\"]j_init=int(math.sqrt(t))+1lower=0upper=j_initwhileupper-lower>1:j=lower+(upper-lower)/2ifpossible_with_j(t,r,j):lower=jelse:upper=jreturnstr(lower)fh_o=open(\"out.txt\",\"w\")fori,caseinenumerate(cases):print>>fh_o,\"Case#\"+str(i+1)+\":\"+determine_case(case)fh_o.close()\n"
     ]
    }
   ],
   "source": [
    "# take: 34, 23, 39, 53, 40, 60 (60 is usual)\n",
    "# - 3 - unusual file start (\"\"\"class\"\"\"....)\n",
    "# +-10 - start with #usage\n",
    "# +18, - start with #!usr/bin/python + if __name=='__main__'\n",
    "# +34 - start with #!usr/bin/python + main method\n",
    "# -36 (stubborn),\n",
    "# +40 - usr/bin/python only\n",
    "# +23 - main() function, which wraps everything\n",
    "# -31, -50 - if __name=='__main__'\n",
    "# - 32 - created on with author specification, long comments, main, really specific person\n",
    "# +!39, -45 - created on + no main\n",
    "# +!51 - #-*-coding:UTF-8\n",
    "# - :( 48 - with and __main__\n",
    "# - 49 - long comments, on all the line\n",
    "# !53 - sys.exit(main)\n",
    "get_example_of_index(60, 10)\n",
    "get_example_of_index(34, 10)\n",
    "get_example_of_index(23, 10)\n",
    "get_example_of_index(39, 10)\n",
    "get_example_of_index(53, 10)\n",
    "get_example_of_index(40, 10)"
   ],
   "metadata": {
    "collapsed": false,
    "pycharm": {
     "name": "#%%\n"
    }
   }
  },
  {
   "cell_type": "markdown",
   "source": [
    "The size of the dataset"
   ],
   "metadata": {
    "collapsed": false,
    "pycharm": {
     "name": "#%% md\n"
    }
   }
  },
  {
   "cell_type": "code",
   "execution_count": 4,
   "outputs": [
    {
     "name": "stdout",
     "output_type": "stream",
     "text": [
      "(263,)\n"
     ]
    }
   ],
   "source": [
    "selected_authors = [60, 34, 23, 39, 53, 40]\n",
    "indexes = np.where(np.isin(y, selected_authors))[0]\n",
    "print(indexes.shape)"
   ],
   "metadata": {
    "collapsed": false,
    "pycharm": {
     "name": "#%%\n"
    }
   }
  },
  {
   "cell_type": "code",
   "execution_count": 5,
   "outputs": [],
   "source": [
    "y_selected = y[indexes]\n",
    "x_selected = X[indexes]"
   ],
   "metadata": {
    "collapsed": false,
    "pycharm": {
     "name": "#%%\n"
    }
   }
  },
  {
   "cell_type": "markdown",
   "source": [
    "Result: 4 batches for 64"
   ],
   "metadata": {
    "collapsed": false,
    "pycharm": {
     "name": "#%% md\n"
    }
   }
  },
  {
   "cell_type": "code",
   "execution_count": 6,
   "outputs": [],
   "source": [
    "# saving\n",
    "pf = pd.DataFrame()\n",
    "pf[\"username\"] = y_selected.T\n",
    "pf[\"tokens\"] = [ x for x in x_selected]"
   ],
   "metadata": {
    "collapsed": false,
    "pycharm": {
     "name": "#%%\n"
    }
   }
  },
  {
   "cell_type": "code",
   "execution_count": 7,
   "outputs": [
    {
     "data": {
      "text/plain": "     username                                             tokens\n0          23  [63.0, 2536.0, 586.0, 115.0, 5617.0, 57.0, 934...\n1          60  [138.0, 1149.0, 46.0, 156.0, 1256.0, 676.0, 36...\n2          39  [1157.0, 12716.0, 440.0, 2268.0, 96124.0, 946....\n3          53  [3238.0, 2785.0, 96124.0, 1119.0, 96124.0, 137...\n4          39  [1157.0, 12716.0, 440.0, 7210.0, 96124.0, 946....\n..        ...                                                ...\n258        53  [3238.0, 2785.0, 96124.0, 1119.0, 96124.0, 137...\n259        40  [3238.0, 2785.0, 96124.0, 1119.0, 96124.0, 137...\n260        39  [1157.0, 12716.0, 440.0, 2268.0, 96124.0, 946....\n261        60  [63.0, 2142.0, 96077.0, 1150.0, 586.0, 1664.0,...\n262        34  [3238.0, 2785.0, 96124.0, 1119.0, 96124.0, 137...\n\n[263 rows x 2 columns]",
      "text/html": "<div>\n<style scoped>\n    .dataframe tbody tr th:only-of-type {\n        vertical-align: middle;\n    }\n\n    .dataframe tbody tr th {\n        vertical-align: top;\n    }\n\n    .dataframe thead th {\n        text-align: right;\n    }\n</style>\n<table border=\"1\" class=\"dataframe\">\n  <thead>\n    <tr style=\"text-align: right;\">\n      <th></th>\n      <th>username</th>\n      <th>tokens</th>\n    </tr>\n  </thead>\n  <tbody>\n    <tr>\n      <th>0</th>\n      <td>23</td>\n      <td>[63.0, 2536.0, 586.0, 115.0, 5617.0, 57.0, 934...</td>\n    </tr>\n    <tr>\n      <th>1</th>\n      <td>60</td>\n      <td>[138.0, 1149.0, 46.0, 156.0, 1256.0, 676.0, 36...</td>\n    </tr>\n    <tr>\n      <th>2</th>\n      <td>39</td>\n      <td>[1157.0, 12716.0, 440.0, 2268.0, 96124.0, 946....</td>\n    </tr>\n    <tr>\n      <th>3</th>\n      <td>53</td>\n      <td>[3238.0, 2785.0, 96124.0, 1119.0, 96124.0, 137...</td>\n    </tr>\n    <tr>\n      <th>4</th>\n      <td>39</td>\n      <td>[1157.0, 12716.0, 440.0, 7210.0, 96124.0, 946....</td>\n    </tr>\n    <tr>\n      <th>...</th>\n      <td>...</td>\n      <td>...</td>\n    </tr>\n    <tr>\n      <th>258</th>\n      <td>53</td>\n      <td>[3238.0, 2785.0, 96124.0, 1119.0, 96124.0, 137...</td>\n    </tr>\n    <tr>\n      <th>259</th>\n      <td>40</td>\n      <td>[3238.0, 2785.0, 96124.0, 1119.0, 96124.0, 137...</td>\n    </tr>\n    <tr>\n      <th>260</th>\n      <td>39</td>\n      <td>[1157.0, 12716.0, 440.0, 2268.0, 96124.0, 946....</td>\n    </tr>\n    <tr>\n      <th>261</th>\n      <td>60</td>\n      <td>[63.0, 2142.0, 96077.0, 1150.0, 586.0, 1664.0,...</td>\n    </tr>\n    <tr>\n      <th>262</th>\n      <td>34</td>\n      <td>[3238.0, 2785.0, 96124.0, 1119.0, 96124.0, 137...</td>\n    </tr>\n  </tbody>\n</table>\n<p>263 rows × 2 columns</p>\n</div>"
     },
     "execution_count": 7,
     "metadata": {},
     "output_type": "execute_result"
    }
   ],
   "source": [
    "\n",
    "pf"
   ],
   "metadata": {
    "collapsed": false,
    "pycharm": {
     "name": "#%%\n"
    }
   }
  },
  {
   "cell_type": "code",
   "execution_count": 8,
   "outputs": [],
   "source": [
    "pf.to_json(\"../../inputs/preprocessed_jsons/overfit.json\")"
   ],
   "metadata": {
    "collapsed": false,
    "pycharm": {
     "name": "#%%\n"
    }
   }
  },
  {
   "cell_type": "code",
   "execution_count": 9,
   "outputs": [
    {
     "data": {
      "text/plain": "array([23, 34, 39, 40, 53, 60])"
     },
     "execution_count": 9,
     "metadata": {},
     "output_type": "execute_result"
    }
   ],
   "source": [
    "\n",
    "np.unique(y_selected)"
   ],
   "metadata": {
    "collapsed": false,
    "pycharm": {
     "name": "#%%\n"
    }
   }
  },
  {
   "cell_type": "code",
   "execution_count": 10,
   "outputs": [],
   "source": [
    "dataset = pd.read_json(\"../../inputs/preprocessed_jsons/overfit.json\")\n",
    "\n",
    "X = dataset.tokens.values\n",
    "X = np.array(list(X)).reshape((-1, 600))\n",
    "y = np.array(dataset.username)"
   ],
   "metadata": {
    "collapsed": false,
    "pycharm": {
     "name": "#%%\n"
    }
   }
  },
  {
   "cell_type": "code",
   "execution_count": 11,
   "outputs": [
    {
     "data": {
      "text/plain": "array([23, 34, 39, 40, 53, 60])"
     },
     "execution_count": 11,
     "metadata": {},
     "output_type": "execute_result"
    }
   ],
   "source": [
    "np.unique(y)"
   ],
   "metadata": {
    "collapsed": false,
    "pycharm": {
     "name": "#%%\n"
    }
   }
  },
  {
   "cell_type": "code",
   "execution_count": 12,
   "outputs": [
    {
     "data": {
      "text/plain": "array([23, 60, 39, 53, 39, 34, 53, 23, 23, 23, 40, 34, 39, 23, 60, 40, 34,\n       60, 40, 60, 39, 23, 40, 40, 39, 60, 34, 23, 39, 23, 23, 60, 40, 39,\n       34, 60, 39, 40, 34, 53, 53, 53, 53, 40, 53, 40, 39, 40, 39, 53, 23,\n       23, 53, 53, 34, 34, 60, 40, 53, 39, 34, 34, 40, 60, 60, 60, 40, 39,\n       53, 60, 53, 39, 60, 53, 39, 40, 60, 39, 53, 23, 53, 53, 40, 23, 60,\n       60, 23, 23, 23, 40, 40, 34, 39, 53, 40, 40, 39, 40, 53, 39, 60, 40,\n       34, 34, 34, 23, 34, 34, 34, 60, 60, 60, 34, 53, 40, 53, 40, 53, 53,\n       53, 40, 34, 39, 34, 39, 60, 60, 34, 40, 34, 39, 40, 34, 23, 40, 60,\n       34, 40, 40, 23, 53, 34, 40, 40, 53, 34, 53, 40, 34, 53, 53, 39, 40,\n       23, 39, 53, 39, 40, 40, 53, 40, 39, 60, 23, 40, 53, 60, 39, 39, 23,\n       53, 34, 53, 23, 34, 23, 34, 53, 40, 53, 60, 53, 23, 34, 23, 40, 40,\n       23, 23, 40, 23, 60, 34, 60, 60, 39, 60, 53, 34, 34, 60, 53, 39, 40,\n       60, 60, 23, 53, 34, 53, 34, 60, 39, 53, 60, 34, 40, 40, 39, 34, 40,\n       23, 53, 34, 40, 60, 60, 53, 39, 23, 40, 60, 40, 34, 40, 34, 60, 53,\n       23, 39, 60, 60, 39, 34, 53, 53, 60, 39, 40, 53, 40, 34, 34, 34, 39,\n       40, 23, 53, 53, 40, 39, 60, 34])"
     },
     "execution_count": 12,
     "metadata": {},
     "output_type": "execute_result"
    }
   ],
   "source": [
    "pf.username.values"
   ],
   "metadata": {
    "collapsed": false,
    "pycharm": {
     "name": "#%%\n"
    }
   }
  },
  {
   "cell_type": "code",
   "execution_count": 13,
   "outputs": [
    {
     "data": {
      "text/plain": "0      23\n1      60\n2      39\n3      53\n4      39\n       ..\n258    53\n259    40\n260    39\n261    60\n262    34\nName: username, Length: 263, dtype: int64"
     },
     "execution_count": 13,
     "metadata": {},
     "output_type": "execute_result"
    }
   ],
   "source": [
    "dataset.username\n"
   ],
   "metadata": {
    "collapsed": false,
    "pycharm": {
     "name": "#%%\n"
    }
   }
  },
  {
   "cell_type": "code",
   "execution_count": 14,
   "outputs": [
    {
     "data": {
      "text/plain": "0      [63.0, 2536.0, 586.0, 115.0, 5617.0, 57.0, 934...\n1      [138.0, 1149.0, 46.0, 156.0, 1256.0, 676.0, 36...\n2      [1157.0, 12716.0, 440.0, 2268.0, 96124.0, 946....\n3      [3238.0, 2785.0, 96124.0, 1119.0, 96124.0, 137...\n4      [1157.0, 12716.0, 440.0, 7210.0, 96124.0, 946....\n                             ...                        \n258    [3238.0, 2785.0, 96124.0, 1119.0, 96124.0, 137...\n259    [3238.0, 2785.0, 96124.0, 1119.0, 96124.0, 137...\n260    [1157.0, 12716.0, 440.0, 2268.0, 96124.0, 946....\n261    [63.0, 2142.0, 96077.0, 1150.0, 586.0, 1664.0,...\n262    [3238.0, 2785.0, 96124.0, 1119.0, 96124.0, 137...\nName: tokens, Length: 263, dtype: object"
     },
     "execution_count": 14,
     "metadata": {},
     "output_type": "execute_result"
    }
   ],
   "source": [
    "\n",
    "dataset.tokens"
   ],
   "metadata": {
    "collapsed": false,
    "pycharm": {
     "name": "#%%\n"
    }
   }
  },
  {
   "cell_type": "code",
   "execution_count": 15,
   "outputs": [
    {
     "data": {
      "text/plain": "0      [63.0, 2536.0, 586.0, 115.0, 5617.0, 57.0, 934...\n1      [138.0, 1149.0, 46.0, 156.0, 1256.0, 676.0, 36...\n2      [1157.0, 12716.0, 440.0, 2268.0, 96124.0, 946....\n3      [3238.0, 2785.0, 96124.0, 1119.0, 96124.0, 137...\n4      [1157.0, 12716.0, 440.0, 7210.0, 96124.0, 946....\n                             ...                        \n258    [3238.0, 2785.0, 96124.0, 1119.0, 96124.0, 137...\n259    [3238.0, 2785.0, 96124.0, 1119.0, 96124.0, 137...\n260    [1157.0, 12716.0, 440.0, 2268.0, 96124.0, 946....\n261    [63.0, 2142.0, 96077.0, 1150.0, 586.0, 1664.0,...\n262    [3238.0, 2785.0, 96124.0, 1119.0, 96124.0, 137...\nName: tokens, Length: 263, dtype: object"
     },
     "execution_count": 15,
     "metadata": {},
     "output_type": "execute_result"
    }
   ],
   "source": [
    "pf.tokens"
   ],
   "metadata": {
    "collapsed": false,
    "pycharm": {
     "name": "#%%\n"
    }
   }
  },
  {
   "cell_type": "code",
   "execution_count": 16,
   "outputs": [
    {
     "data": {
      "text/plain": "526"
     },
     "execution_count": 16,
     "metadata": {},
     "output_type": "execute_result"
    }
   ],
   "source": [
    "pf.size"
   ],
   "metadata": {
    "collapsed": false,
    "pycharm": {
     "name": "#%%\n"
    }
   }
  },
  {
   "cell_type": "code",
   "execution_count": 17,
   "outputs": [
    {
     "data": {
      "text/plain": "526"
     },
     "execution_count": 17,
     "metadata": {},
     "output_type": "execute_result"
    }
   ],
   "source": [
    "dataset.size"
   ],
   "metadata": {
    "collapsed": false,
    "pycharm": {
     "name": "#%%\n"
    }
   }
  },
  {
   "cell_type": "code",
   "execution_count": null,
   "outputs": [],
   "source": [],
   "metadata": {
    "collapsed": false,
    "pycharm": {
     "name": "#%%\n"
    }
   }
  }
 ],
 "metadata": {
  "kernelspec": {
   "display_name": "Python 3",
   "language": "python",
   "name": "python3"
  },
  "language_info": {
   "codemirror_mode": {
    "name": "ipython",
    "version": 2
   },
   "file_extension": ".py",
   "mimetype": "text/x-python",
   "name": "python",
   "nbconvert_exporter": "python",
   "pygments_lexer": "ipython2",
   "version": "2.7.6"
  }
 },
 "nbformat": 4,
 "nbformat_minor": 0
}