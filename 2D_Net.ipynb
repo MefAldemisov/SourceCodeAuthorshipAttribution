{
 "cells": [
  {
   "cell_type": "code",
   "execution_count": 1,
   "id": "technical-lunch",
   "metadata": {},
   "outputs": [],
   "source": [
    "import numpy as np\n",
    "import pandas as pd\n",
    "import matplotlib.pyplot as plt\n",
    "from sklearn.model_selection import train_test_split\n",
    "from sklearn.preprocessing import LabelEncoder, OneHotEncoder\n",
    "import tensorflow as tf\n",
    "from tensorflow import keras\n",
    "from tensorflow.keras import layers\n",
    "from tensorflow.keras import callbacks \n",
    "from tensorflow.keras import optimizers, models\n",
    "\n",
    "import sentencepiece as spm"
   ]
  },
  {
   "cell_type": "code",
   "execution_count": 2,
   "id": "aerial-decline",
   "metadata": {},
   "outputs": [],
   "source": [
    "df = pd.read_csv(\"python_solved.csv\")\n",
    "df = df.drop(columns=[\"round\", \"task\", \"solution\", \"file\", \"full_path\", \"Unnamed: 0.1\", \"Unnamed: 0\", \"lang\"])"
   ]
  },
  {
   "cell_type": "code",
   "execution_count": 3,
   "id": "olympic-morning",
   "metadata": {},
   "outputs": [
    {
     "data": {
      "text/plain": [
       "count    51429.000000\n",
       "mean        59.333528\n",
       "std         28.515640\n",
       "min         30.000000\n",
       "25%         39.000000\n",
       "50%         51.000000\n",
       "75%         71.000000\n",
       "max        200.000000\n",
       "Name: n_lines, dtype: float64"
      ]
     },
     "execution_count": 3,
     "metadata": {},
     "output_type": "execute_result"
    }
   ],
   "source": [
    "df[\"n_lines\"] = df.flines.apply(lambda x: str(x).count(\"\\n\"))\n",
    "df[\"n_lines\"].describe()\n",
    "df = df[(df.n_lines >= 30) & (df.n_lines <= 200)] # there should be enough loc for 2D convolution\n",
    "df.n_lines.describe()"
   ]
  },
  {
   "cell_type": "code",
   "execution_count": 4,
   "id": "sharing-christopher",
   "metadata": {},
   "outputs": [
    {
     "data": {
      "text/html": [
       "<div>\n",
       "<style scoped>\n",
       "    .dataframe tbody tr th:only-of-type {\n",
       "        vertical-align: middle;\n",
       "    }\n",
       "\n",
       "    .dataframe tbody tr th {\n",
       "        vertical-align: top;\n",
       "    }\n",
       "\n",
       "    .dataframe thead th {\n",
       "        text-align: right;\n",
       "    }\n",
       "</style>\n",
       "<table border=\"1\" class=\"dataframe\">\n",
       "  <thead>\n",
       "    <tr style=\"text-align: right;\">\n",
       "      <th></th>\n",
       "      <th>year</th>\n",
       "      <th>username</th>\n",
       "      <th>flines</th>\n",
       "      <th>n_lines</th>\n",
       "    </tr>\n",
       "  </thead>\n",
       "  <tbody>\n",
       "    <tr>\n",
       "      <th>0</th>\n",
       "      <td>2008</td>\n",
       "      <td>RalfKistner</td>\n",
       "      <td>#!/usr/bin/python\\n \\n fin = open(\"b.in\", \"r\")...</td>\n",
       "      <td>124</td>\n",
       "    </tr>\n",
       "    <tr>\n",
       "      <th>1</th>\n",
       "      <td>2008</td>\n",
       "      <td>rspeer</td>\n",
       "      <td>#!/usr/bin/env python2.5\\n import math, sys, o...</td>\n",
       "      <td>120</td>\n",
       "    </tr>\n",
       "    <tr>\n",
       "      <th>2</th>\n",
       "      <td>2008</td>\n",
       "      <td>rspeer</td>\n",
       "      <td>#!/usr/bin/env python2.5\\n import math, sys, o...</td>\n",
       "      <td>103</td>\n",
       "    </tr>\n",
       "    <tr>\n",
       "      <th>3</th>\n",
       "      <td>2008</td>\n",
       "      <td>MTWTFFF</td>\n",
       "      <td>import sys\\n import pprint\\n import random\\n \\...</td>\n",
       "      <td>99</td>\n",
       "    </tr>\n",
       "    <tr>\n",
       "      <th>4</th>\n",
       "      <td>2008</td>\n",
       "      <td>jonathantan86</td>\n",
       "      <td>FI = 'A-large.in'\\n \\n def case(fi, fo, n):\\n ...</td>\n",
       "      <td>78</td>\n",
       "    </tr>\n",
       "    <tr>\n",
       "      <th>...</th>\n",
       "      <td>...</td>\n",
       "      <td>...</td>\n",
       "      <td>...</td>\n",
       "      <td>...</td>\n",
       "    </tr>\n",
       "    <tr>\n",
       "      <th>76791</th>\n",
       "      <td>2017</td>\n",
       "      <td>sonudoo</td>\n",
       "      <td>import sys,operator\\n sys.stdin = open('stdin....</td>\n",
       "      <td>40</td>\n",
       "    </tr>\n",
       "    <tr>\n",
       "      <th>76792</th>\n",
       "      <td>2017</td>\n",
       "      <td>KennyCz</td>\n",
       "      <td>import sys\\n import operator\\n \\n \\n def greed...</td>\n",
       "      <td>80</td>\n",
       "    </tr>\n",
       "    <tr>\n",
       "      <th>76793</th>\n",
       "      <td>2017</td>\n",
       "      <td>KennyCz</td>\n",
       "      <td>import sys\\n import math\\n \\n \\n def answer(N,...</td>\n",
       "      <td>31</td>\n",
       "    </tr>\n",
       "    <tr>\n",
       "      <th>76794</th>\n",
       "      <td>2017</td>\n",
       "      <td>Fantoccini</td>\n",
       "      <td>\\n import math\\n \\n def solve(fin):\\n     part...</td>\n",
       "      <td>39</td>\n",
       "    </tr>\n",
       "    <tr>\n",
       "      <th>76795</th>\n",
       "      <td>2017</td>\n",
       "      <td>LSC</td>\n",
       "      <td>T = int(raw_input())\\n for t in xrange(T):\\n  ...</td>\n",
       "      <td>56</td>\n",
       "    </tr>\n",
       "  </tbody>\n",
       "</table>\n",
       "<p>51429 rows × 4 columns</p>\n",
       "</div>"
      ],
      "text/plain": [
       "       year       username                                             flines  \\\n",
       "0      2008    RalfKistner  #!/usr/bin/python\\n \\n fin = open(\"b.in\", \"r\")...   \n",
       "1      2008         rspeer  #!/usr/bin/env python2.5\\n import math, sys, o...   \n",
       "2      2008         rspeer  #!/usr/bin/env python2.5\\n import math, sys, o...   \n",
       "3      2008        MTWTFFF  import sys\\n import pprint\\n import random\\n \\...   \n",
       "4      2008  jonathantan86  FI = 'A-large.in'\\n \\n def case(fi, fo, n):\\n ...   \n",
       "...     ...            ...                                                ...   \n",
       "76791  2017        sonudoo  import sys,operator\\n sys.stdin = open('stdin....   \n",
       "76792  2017        KennyCz  import sys\\n import operator\\n \\n \\n def greed...   \n",
       "76793  2017        KennyCz  import sys\\n import math\\n \\n \\n def answer(N,...   \n",
       "76794  2017     Fantoccini  \\n import math\\n \\n def solve(fin):\\n     part...   \n",
       "76795  2017            LSC  T = int(raw_input())\\n for t in xrange(T):\\n  ...   \n",
       "\n",
       "       n_lines  \n",
       "0          124  \n",
       "1          120  \n",
       "2          103  \n",
       "3           99  \n",
       "4           78  \n",
       "...        ...  \n",
       "76791       40  \n",
       "76792       80  \n",
       "76793       31  \n",
       "76794       39  \n",
       "76795       56  \n",
       "\n",
       "[51429 rows x 4 columns]"
      ]
     },
     "execution_count": 4,
     "metadata": {},
     "output_type": "execute_result"
    }
   ],
   "source": [
    "df"
   ]
  },
  {
   "cell_type": "code",
   "execution_count": 5,
   "id": "southeast-machinery",
   "metadata": {},
   "outputs": [],
   "source": [
    "# average lines of code for non-empty lines\n",
    "\n",
    "def avg_loc(file):\n",
    "    lines = file.split('\\n')\n",
    "    s = 0\n",
    "    c = 0\n",
    "    for line in lines:\n",
    "        if line: # if line is not empty\n",
    "            s += len(line)\n",
    "            c += 1\n",
    "    return s/c\n",
    "\n",
    "\n",
    "df[\"avg_loc\"] = df.flines.apply(avg_loc)"
   ]
  },
  {
   "cell_type": "code",
   "execution_count": null,
   "id": "hidden-relief",
   "metadata": {},
   "outputs": [],
   "source": []
  },
  {
   "cell_type": "code",
   "execution_count": 6,
   "id": "historical-hours",
   "metadata": {},
   "outputs": [
    {
     "data": {
      "text/plain": [
       "count    51429.000000\n",
       "mean        24.433282\n",
       "std         27.861530\n",
       "min          6.774194\n",
       "25%         20.232558\n",
       "50%         23.295918\n",
       "75%         26.685714\n",
       "max       2304.270270\n",
       "Name: avg_loc, dtype: float64"
      ]
     },
     "execution_count": 6,
     "metadata": {},
     "output_type": "execute_result"
    }
   ],
   "source": [
    "df.avg_loc.describe()"
   ]
  },
  {
   "cell_type": "code",
   "execution_count": 7,
   "id": "quick-sport",
   "metadata": {},
   "outputs": [],
   "source": [
    "def max_loc(file):\n",
    "    lines = file.split('\\n')\n",
    "    max_ch = 0\n",
    "    for line in lines:\n",
    "        if len(line) > max_ch:\n",
    "            max_ch = len(line)\n",
    "    return max_ch\n",
    "\n",
    "df[\"max_loc\"] = df.flines.apply(max_loc)"
   ]
  },
  {
   "cell_type": "code",
   "execution_count": 8,
   "id": "hearing-headline",
   "metadata": {},
   "outputs": [
    {
     "data": {
      "text/plain": [
       "count    51429.000000\n",
       "mean       103.815765\n",
       "std       1288.302951\n",
       "min         20.000000\n",
       "25%         58.000000\n",
       "50%         69.000000\n",
       "75%         82.000000\n",
       "max      99978.000000\n",
       "Name: max_loc, dtype: float64"
      ]
     },
     "execution_count": 8,
     "metadata": {},
     "output_type": "execute_result"
    }
   ],
   "source": [
    "df.max_loc.describe()"
   ]
  },
  {
   "cell_type": "code",
   "execution_count": 9,
   "id": "architectural-marks",
   "metadata": {},
   "outputs": [],
   "source": [
    "df = df[df.max_loc <= 120]"
   ]
  },
  {
   "cell_type": "code",
   "execution_count": 10,
   "id": "uniform-asian",
   "metadata": {},
   "outputs": [
    {
     "data": {
      "text/plain": [
       "count    49260.000000\n",
       "mean        69.767276\n",
       "std         17.317103\n",
       "min         20.000000\n",
       "25%         57.000000\n",
       "50%         68.000000\n",
       "75%         80.000000\n",
       "max        120.000000\n",
       "Name: max_loc, dtype: float64"
      ]
     },
     "execution_count": 10,
     "metadata": {},
     "output_type": "execute_result"
    }
   ],
   "source": [
    "df.max_loc.describe()"
   ]
  },
  {
   "cell_type": "code",
   "execution_count": 11,
   "id": "grateful-softball",
   "metadata": {},
   "outputs": [
    {
     "data": {
      "text/plain": [
       "[<matplotlib.lines.Line2D at 0x14cf7f7d0>]"
      ]
     },
     "execution_count": 11,
     "metadata": {},
     "output_type": "execute_result"
    },
    {
     "data": {
      "image/png": "[encoded data removed]",
      "text/plain": [
       "<Figure size 432x288 with 1 Axes>"
      ]
     },
     "metadata": {
      "needs_background": "light"
     },
     "output_type": "display_data"
    }
   ],
   "source": [
    "plt.plot(df.username.value_counts().values[0: 650])"
   ]
  },
  {
   "cell_type": "code",
   "execution_count": 12,
   "id": "fatal-cause",
   "metadata": {},
   "outputs": [
    {
     "data": {
      "text/html": [
       "<div>\n",
       "<style scoped>\n",
       "    .dataframe tbody tr th:only-of-type {\n",
       "        vertical-align: middle;\n",
       "    }\n",
       "\n",
       "    .dataframe tbody tr th {\n",
       "        vertical-align: top;\n",
       "    }\n",
       "\n",
       "    .dataframe thead th {\n",
       "        text-align: right;\n",
       "    }\n",
       "</style>\n",
       "<table border=\"1\" class=\"dataframe\">\n",
       "  <thead>\n",
       "    <tr style=\"text-align: right;\">\n",
       "      <th></th>\n",
       "      <th>year</th>\n",
       "      <th>username</th>\n",
       "      <th>flines</th>\n",
       "      <th>n_lines</th>\n",
       "      <th>avg_loc</th>\n",
       "      <th>max_loc</th>\n",
       "    </tr>\n",
       "  </thead>\n",
       "  <tbody>\n",
       "    <tr>\n",
       "      <th>0</th>\n",
       "      <td>2008</td>\n",
       "      <td>RalfKistner</td>\n",
       "      <td>#!/usr/bin/python\\n \\n fin = open(\"b.in\", \"r\")...</td>\n",
       "      <td>124</td>\n",
       "      <td>17.483871</td>\n",
       "      <td>77</td>\n",
       "    </tr>\n",
       "    <tr>\n",
       "      <th>5</th>\n",
       "      <td>2008</td>\n",
       "      <td>Klinck</td>\n",
       "      <td>import sys\\n import math\\n \\n MOD = 10007\\n \\n...</td>\n",
       "      <td>105</td>\n",
       "      <td>19.428571</td>\n",
       "      <td>68</td>\n",
       "    </tr>\n",
       "    <tr>\n",
       "      <th>6</th>\n",
       "      <td>2008</td>\n",
       "      <td>zibada</td>\n",
       "      <td>import sys\\n def dbg(a): sys.stderr.write(str(...</td>\n",
       "      <td>40</td>\n",
       "      <td>27.975000</td>\n",
       "      <td>94</td>\n",
       "    </tr>\n",
       "    <tr>\n",
       "      <th>7</th>\n",
       "      <td>2008</td>\n",
       "      <td>zibada</td>\n",
       "      <td>import sys\\n def dbg(a): sys.stderr.write(str(...</td>\n",
       "      <td>47</td>\n",
       "      <td>17.787234</td>\n",
       "      <td>57</td>\n",
       "    </tr>\n",
       "    <tr>\n",
       "      <th>8</th>\n",
       "      <td>2008</td>\n",
       "      <td>zibada</td>\n",
       "      <td>import sys\\n def dbg(a): sys.stderr.write(str(...</td>\n",
       "      <td>51</td>\n",
       "      <td>20.568627</td>\n",
       "      <td>57</td>\n",
       "    </tr>\n",
       "  </tbody>\n",
       "</table>\n",
       "</div>"
      ],
      "text/plain": [
       "   year     username                                             flines  \\\n",
       "0  2008  RalfKistner  #!/usr/bin/python\\n \\n fin = open(\"b.in\", \"r\")...   \n",
       "5  2008       Klinck  import sys\\n import math\\n \\n MOD = 10007\\n \\n...   \n",
       "6  2008       zibada  import sys\\n def dbg(a): sys.stderr.write(str(...   \n",
       "7  2008       zibada  import sys\\n def dbg(a): sys.stderr.write(str(...   \n",
       "8  2008       zibada  import sys\\n def dbg(a): sys.stderr.write(str(...   \n",
       "\n",
       "   n_lines    avg_loc  max_loc  \n",
       "0      124  17.483871       77  \n",
       "5      105  19.428571       68  \n",
       "6       40  27.975000       94  \n",
       "7       47  17.787234       57  \n",
       "8       51  20.568627       57  "
      ]
     },
     "execution_count": 12,
     "metadata": {},
     "output_type": "execute_result"
    }
   ],
   "source": [
    "users = df.username.value_counts()[0:650].index\n",
    "df = df[df.username.isin(users)]\n",
    "df.head()"
   ]
  },
  {
   "cell_type": "markdown",
   "id": "olive-kuwait",
   "metadata": {},
   "source": [
    "Input size - 200x120"
   ]
  },
  {
   "cell_type": "code",
   "execution_count": 13,
   "id": "former-placement",
   "metadata": {},
   "outputs": [],
   "source": [
    "def vectorize(file):\n",
    "    lines = file.split('\\n')\n",
    "    res = np.zeros((200, 120), dtype=int)\n",
    "    for i in range(len(lines)):\n",
    "        if i >= 200:\n",
    "            print(\"error\", i, lines[i])\n",
    "            break\n",
    "        line = lines[i]\n",
    "        for j in range(len(line)):\n",
    "            res[i][j] = ord(line[j])\n",
    "    return res.tolist()\n"
   ]
  },
  {
   "cell_type": "code",
   "execution_count": 14,
   "id": "killing-archive",
   "metadata": {},
   "outputs": [
    {
     "name": "stdout",
     "output_type": "stream",
     "text": [
      "error 200 \n",
      "error 200 \n",
      "error 200 \n",
      "error 200                  print \"\\n\\n\"\n"
     ]
    }
   ],
   "source": [
    "X = df.flines.apply(vectorize).values\n",
    "X = np.array([np.array(x) for x in X])\n",
    "X = X.reshape(-1, 200, 120)"
   ]
  },
  {
   "cell_type": "code",
   "execution_count": 15,
   "id": "anonymous-beverage",
   "metadata": {},
   "outputs": [],
   "source": [
    "y = np.array(df.username)\n",
    "ohe = OneHotEncoder()\n",
    "y = ohe.fit_transform(y.reshape(-1, 1))\n",
    "y = y.toarray()"
   ]
  },
  {
   "cell_type": "code",
   "execution_count": 16,
   "id": "leading-accountability",
   "metadata": {},
   "outputs": [],
   "source": [
    "y_1d = np.argmax(y, axis = 1)"
   ]
  },
  {
   "cell_type": "code",
   "execution_count": 17,
   "id": "upper-playback",
   "metadata": {},
   "outputs": [],
   "source": [
    "import tensorflow_addons as tfa"
   ]
  },
  {
   "cell_type": "code",
   "execution_count": 31,
   "id": "noticed-mathematics",
   "metadata": {},
   "outputs": [],
   "source": [
    "from tensorflow.keras import callbacks\n",
    "from sklearn.metrics import confusion_matrix, accuracy_score\n",
    "\n",
    "\n",
    "class TestCallback(callbacks.Callback):\n",
    "    def __init__(self, X, y, threshold=0.2):\n",
    "        self.threshold = threshold\n",
    "        index = np.where(y < 25)[0]\n",
    "        self.X = X[index]\n",
    "        self.y = y[index]\n",
    "        self.scores = []\n",
    "        self.recalls = []\n",
    "        \n",
    "    def on_epoch_end(self, epoch, logs=None):\n",
    "        #(model, new_X, new_y, threshold=0.2, printing=0):\n",
    "        transformed_X = self.model.predict(self.X)\n",
    "    #     X_train, X_test, y_train, y_test = train_test_split(transformed_X, new_y)\n",
    "        \n",
    "        y_pred = []\n",
    "        y_true = []\n",
    "        for i in range(self.X.shape[0]):\n",
    "            for j in range(i, self.X.shape[0]):\n",
    "                if np.mean((transformed_X[i] - transformed_X[j])**2) <= self.threshold:\n",
    "                    y_pred.append(1)\n",
    "                else:\n",
    "                    y_pred.append(0)\n",
    "\n",
    "                if self.y[i] == self.y[j]:\n",
    "                    y_true.append(1)\n",
    "                else:\n",
    "                    y_true.append(0)\n",
    "        y_pred = np.array(y_pred)\n",
    "        y_true = np.array(y_true)\n",
    "\n",
    "        score = accuracy_score(y_true, y_pred)\n",
    "        cm = confusion_matrix(y_true, y_pred)\n",
    "#         if printing:\n",
    "#             print(cm)\n",
    "#             print(\"totoal predicted as 1:\", sum(y_pred), \n",
    "#                   \"\\ntotoal real 1:\", sum(y_true), \n",
    "#                   \"\\ntotal examples\", y_true.shape)\n",
    "            \n",
    "        recall = cm[1][1]/sum(y_true)\n",
    "        \n",
    "        self.scores.append(score)\n",
    "        self.recalls.append(recall)\n",
    "        print(\"accuracy:\", round(score, 4), \"recall:\", round(recall, 4))\n",
    "        return score, recall\n",
    "    \n",
    "    def return_results(self):\n",
    "        return {\"scores\": self.scores, \"recalls\": self.recalls}\n",
    "\n"
   ]
  },
  {
   "cell_type": "code",
   "execution_count": 19,
   "id": "comprehensive-horse",
   "metadata": {},
   "outputs": [],
   "source": [
    "from sklearn.preprocessing import StandardScaler\n",
    "ss = StandardScaler()\n",
    "X = ss.fit_transform(X.reshape((-1, 200*120))).reshape((-1, 200, 120))"
   ]
  },
  {
   "cell_type": "code",
   "execution_count": 32,
   "id": "indoor-serbia",
   "metadata": {},
   "outputs": [],
   "source": [
    "tfa_model = keras.Sequential()\n",
    "tfa_model.add(layers.Conv2D(16, 4, activation=\"relu\", padding=\"same\"))\n",
    "tfa_model.add(layers.MaxPooling2D(pool_size=4))\n",
    "tfa_model.add(layers.Dropout(0.5))\n",
    "tfa_model.add(layers.Conv2D(16, 4, activation=\"relu\", padding=\"same\")) \n",
    "tfa_model.add(layers.MaxPooling2D(pool_size=4))\n",
    "# tfa_model.add(layers.Dropout(0.5))\n",
    "# tfa_model.add(layers.Conv2D(16, 4, activation=\"relu\", padding=\"same\")) \n",
    "# tfa_model.add(layers.MaxPooling1D(pool_size=4))\n",
    "tfa_model.add(layers.Dropout(0.5))\n",
    "tfa_model.add(layers.Flatten())\n",
    "tfa_model.add(layers.Dense(128, activation=\"relu\"))\n",
    "tfa_model.add(layers.LayerNormalization(axis=1))\n",
    "tfa_model.add(layers.Dropout(0.5))\n",
    "tfa_model.add(layers.Dense(50, activation=\"relu\"))\n"
   ]
  },
  {
   "cell_type": "code",
   "execution_count": 33,
   "id": "distinguished-sharp",
   "metadata": {},
   "outputs": [],
   "source": [
    "\n",
    "tfa_model.compile(\n",
    "    optimizer=tf.keras.optimizers.Adam(0.1),\n",
    "    loss=tfa.losses.TripletSemiHardLoss(margin=0.2)\n",
    ")"
   ]
  },
  {
   "cell_type": "code",
   "execution_count": null,
   "id": "velvet-difficulty",
   "metadata": {},
   "outputs": [
    {
     "name": "stdout",
     "output_type": "stream",
     "text": [
      "Epoch 1/200\n",
      "86/86 [==============================] - 74s 852ms/step - loss: 0.1050 - val_loss: 0.3105\n",
      "accuracy: 0.9574 recall: 0.1083\n",
      "Epoch 2/200\n",
      "86/86 [==============================] - 71s 824ms/step - loss: 0.1709 - val_loss: 1.0545\n",
      "accuracy: 0.9574 recall: 0.1081\n",
      "Epoch 3/200\n",
      "86/86 [==============================] - 72s 844ms/step - loss: 0.3385 - val_loss: 0.9962\n",
      "accuracy: 0.9574 recall: 0.1081\n",
      "Epoch 4/200\n",
      "86/86 [==============================] - 73s 851ms/step - loss: 0.2666 - val_loss: 1.0253\n",
      "accuracy: 0.9574 recall: 0.1081\n",
      "Epoch 5/200\n",
      "86/86 [==============================] - 73s 852ms/step - loss: 0.3188 - val_loss: 1.0392\n",
      "accuracy: 0.9574 recall: 0.1081\n",
      "Epoch 6/200\n",
      "86/86 [==============================] - 74s 860ms/step - loss: 0.3038 - val_loss: 1.0408\n",
      "accuracy: 0.9574 recall: 0.1081\n",
      "Epoch 7/200\n",
      "86/86 [==============================] - ETA: 0s - loss: 0.3566"
     ]
    }
   ],
   "source": [
    "batch_size = 128\n",
    "epochs = 200\n",
    "steps_per_epoch = int(X.shape[0]/batch_size)\n",
    "X = X.reshape((-1, 200, 120, 1))\n",
    "\n",
    "lr_schedule = callbacks.ReduceLROnPlateau(monitor=\"loss\", actor=0.5, patience=2, min_delta=0.000001, verbouse=1)\n",
    "early_stopping = callbacks.EarlyStopping(monitor=\"loss\", min_delta = 0.0001, patience=7, restore_best_weights=True)\n",
    "test_cb = TestCallback(X, y_1d)\n",
    "\n",
    "history = tfa_model.fit(x=X, y=y_1d, epochs = epochs, \n",
    "                         validation_data = (X, y_1d),\n",
    "                         steps_per_epoch=steps_per_epoch,\n",
    "                         verbose=1, \n",
    "                         callbacks=[lr_schedule, early_stopping, test_cb])"
   ]
  },
  {
   "cell_type": "code",
   "execution_count": null,
   "id": "alternate-gathering",
   "metadata": {},
   "outputs": [],
   "source": []
  },
  {
   "cell_type": "code",
   "execution_count": null,
   "id": "irish-tourism",
   "metadata": {},
   "outputs": [],
   "source": []
  }
 ],
 "metadata": {
  "kernelspec": {
   "display_name": "myenv",
   "language": "python",
   "name": "myenv"
  },
  "language_info": {
   "codemirror_mode": {
    "name": "ipython",
    "version": 3
   },
   "file_extension": ".py",
   "mimetype": "text/x-python",
   "name": "python",
   "nbconvert_exporter": "python",
   "pygments_lexer": "ipython3",
   "version": "3.7.10"
  }
 },
 "nbformat": 4,
 "nbformat_minor": 5
}
