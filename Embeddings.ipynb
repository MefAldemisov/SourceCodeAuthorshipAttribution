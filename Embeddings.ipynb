{
 "cells": [
  {
   "cell_type": "code",
   "execution_count": 1,
   "id": "damaged-parks",
   "metadata": {},
   "outputs": [
    {
     "name": "stdout",
     "output_type": "stream",
     "text": [
      "Python 3.7.10\n"
     ]
    }
   ],
   "source": [
    "!python --version"
   ]
  },
  {
   "cell_type": "markdown",
   "id": "hydraulic-helicopter",
   "metadata": {},
   "source": [
    "# Embeddings\n",
    "- [gensim](https://radimrehurek.com/gensim/auto_examples/tutorials/run_annoy.html?highlight=load%20word2vec%20txt#work-with-google-s-word2vec-files) - **why do I need it????**\n",
    "- [tokenizer](https://github.com/google/sentencepiece/blob/master/python/README.md)\n"
   ]
  },
  {
   "cell_type": "markdown",
   "id": "boring-leather",
   "metadata": {},
   "source": [
    "## Load data (separate dataset)\n",
    "- the 2008-2016 dataset \n",
    "- python language"
   ]
  },
  {
   "cell_type": "code",
   "execution_count": 2,
   "id": "measured-huntington",
   "metadata": {},
   "outputs": [
    {
     "name": "stdout",
     "output_type": "stream",
     "text": [
      "Traceback (most recent call last):\n",
      "  File \"<string>\", line 1, in <module>\n",
      "ModuleNotFoundError: No module named 'tensorflow'\n"
     ]
    }
   ],
   "source": [
    "!python -c \"import tensorflow as tf;print(tf.reduce_sum(tf.random.normal([1000, 1000])))\""
   ]
  },
  {
   "cell_type": "code",
   "execution_count": 1,
   "id": "adjacent-ontario",
   "metadata": {},
   "outputs": [],
   "source": [
    "import numpy as np\n",
    "import pandas as pd\n",
    "import matplotlib.pyplot as plt\n",
    "from sklearn.model_selection import train_test_split\n",
    "from sklearn.preprocessing import LabelEncoder, OneHotEncoder\n",
    "import tensorflow as tf\n",
    "from tensorflow import keras\n",
    "from tensorflow.keras import layers\n",
    "from tensorflow.keras import callbacks \n",
    "from tensorflow.keras import optimizers, models\n",
    "\n",
    "import sentencepiece as spm"
   ]
  },
  {
   "cell_type": "code",
   "execution_count": 3,
   "id": "uniform-deployment",
   "metadata": {},
   "outputs": [
    {
     "name": "stdout",
     "output_type": "stream",
     "text": [
      "pip 20.1.1 from /Users/alinabogdanova/.pyenv/versions/3.7.10/lib/python3.7/site-packages/pip (python 3.7)\n"
     ]
    }
   ],
   "source": [
    "!pip --version"
   ]
  },
  {
   "cell_type": "code",
   "execution_count": 386,
   "id": "optimum-actress",
   "metadata": {},
   "outputs": [],
   "source": [
    "df = pd.read_csv(\"python_solved.csv\")\n",
    "df = df.drop(columns=[\"round\", \"task\", \"solution\", \"file\", \"full_path\", \"Unnamed: 0.1\", \"Unnamed: 0\", \"lang\"])"
   ]
  },
  {
   "cell_type": "markdown",
   "id": "settled-cruise",
   "metadata": {},
   "source": [
    "- Let's remove the sort files, then select users with the highest amount of files"
   ]
  },
  {
   "cell_type": "markdown",
   "id": "encouraging-robertson",
   "metadata": {},
   "source": [
    "- count lines"
   ]
  },
  {
   "cell_type": "code",
   "execution_count": 387,
   "id": "rolled-transmission",
   "metadata": {},
   "outputs": [
    {
     "data": {
      "text/plain": [
       "count    76797.000000\n",
       "mean        49.785148\n",
       "std         81.446066\n",
       "min          0.000000\n",
       "25%         26.000000\n",
       "50%         39.000000\n",
       "75%         60.000000\n",
       "max       7792.000000\n",
       "Name: n_lines, dtype: float64"
      ]
     },
     "execution_count": 387,
     "metadata": {},
     "output_type": "execute_result"
    }
   ],
   "source": [
    "df[\"n_lines\"] = df.flines.apply(lambda x: str(x).count(\"\\n\"))\n",
    "df[\"n_lines\"].describe()"
   ]
  },
  {
   "cell_type": "markdown",
   "id": "perfect-express",
   "metadata": {},
   "source": [
    "- let's save files with amount of lines in range `[30; 120]`"
   ]
  },
  {
   "cell_type": "code",
   "execution_count": 388,
   "id": "intense-dominant",
   "metadata": {},
   "outputs": [
    {
     "data": {
      "text/plain": [
       "count    76786.000000\n",
       "mean        49.792280\n",
       "std         81.449719\n",
       "min          1.000000\n",
       "25%         26.000000\n",
       "50%         39.000000\n",
       "75%         60.000000\n",
       "max       7792.000000\n",
       "Name: n_lines, dtype: float64"
      ]
     },
     "execution_count": 388,
     "metadata": {},
     "output_type": "execute_result"
    }
   ],
   "source": [
    "df = df[(df.n_lines>0)]#&(df.n_lines<=120)]\n",
    "df.n_lines.describe()"
   ]
  },
  {
   "cell_type": "markdown",
   "id": "global-angel",
   "metadata": {},
   "source": [
    "- let's find avg file length (in chars)"
   ]
  },
  {
   "cell_type": "code",
   "execution_count": 240,
   "id": "smaller-consensus",
   "metadata": {},
   "outputs": [
    {
     "data": {
      "text/plain": [
       "count    49033.000000\n",
       "mean        25.356443\n",
       "std         27.817953\n",
       "min          9.200000\n",
       "25%         21.250000\n",
       "50%         24.287500\n",
       "75%         27.655172\n",
       "max       2305.270270\n",
       "dtype: float64"
      ]
     },
     "execution_count": 240,
     "metadata": {},
     "output_type": "execute_result"
    }
   ],
   "source": [
    "# df[\"n_chars\"] = df.flines.apply(lambda x: len(str(x)))\n",
    "# (df.n_chars/df.n_lines).describe()"
   ]
  },
  {
   "cell_type": "markdown",
   "id": "cloudy-pregnancy",
   "metadata": {},
   "source": [
    "- suspicious max value let's drop evetyrhing, highter then `100` and look, what's left"
   ]
  },
  {
   "cell_type": "code",
   "execution_count": 241,
   "id": "wicked-junior",
   "metadata": {},
   "outputs": [
    {
     "data": {
      "text/html": [
       "<div>\n",
       "<style scoped>\n",
       "    .dataframe tbody tr th:only-of-type {\n",
       "        vertical-align: middle;\n",
       "    }\n",
       "\n",
       "    .dataframe tbody tr th {\n",
       "        vertical-align: top;\n",
       "    }\n",
       "\n",
       "    .dataframe thead th {\n",
       "        text-align: right;\n",
       "    }\n",
       "</style>\n",
       "<table border=\"1\" class=\"dataframe\">\n",
       "  <thead>\n",
       "    <tr style=\"text-align: right;\">\n",
       "      <th></th>\n",
       "      <th>year</th>\n",
       "      <th>n_lines</th>\n",
       "      <th>n_chars</th>\n",
       "      <th>chars_per_line</th>\n",
       "    </tr>\n",
       "  </thead>\n",
       "  <tbody>\n",
       "    <tr>\n",
       "      <th>count</th>\n",
       "      <td>48989.000000</td>\n",
       "      <td>48989.000000</td>\n",
       "      <td>48989.000000</td>\n",
       "      <td>48989.000000</td>\n",
       "    </tr>\n",
       "    <tr>\n",
       "      <th>mean</th>\n",
       "      <td>2014.167650</td>\n",
       "      <td>55.098287</td>\n",
       "      <td>1374.821429</td>\n",
       "      <td>24.780244</td>\n",
       "    </tr>\n",
       "    <tr>\n",
       "      <th>std</th>\n",
       "      <td>2.537077</td>\n",
       "      <td>21.171210</td>\n",
       "      <td>642.735220</td>\n",
       "      <td>5.274674</td>\n",
       "    </tr>\n",
       "    <tr>\n",
       "      <th>min</th>\n",
       "      <td>2008.000000</td>\n",
       "      <td>30.000000</td>\n",
       "      <td>358.000000</td>\n",
       "      <td>9.200000</td>\n",
       "    </tr>\n",
       "    <tr>\n",
       "      <th>25%</th>\n",
       "      <td>2013.000000</td>\n",
       "      <td>38.000000</td>\n",
       "      <td>902.000000</td>\n",
       "      <td>21.243902</td>\n",
       "    </tr>\n",
       "    <tr>\n",
       "      <th>50%</th>\n",
       "      <td>2015.000000</td>\n",
       "      <td>49.000000</td>\n",
       "      <td>1207.000000</td>\n",
       "      <td>24.283019</td>\n",
       "    </tr>\n",
       "    <tr>\n",
       "      <th>75%</th>\n",
       "      <td>2016.000000</td>\n",
       "      <td>67.000000</td>\n",
       "      <td>1686.000000</td>\n",
       "      <td>27.643478</td>\n",
       "    </tr>\n",
       "    <tr>\n",
       "      <th>max</th>\n",
       "      <td>2017.000000</td>\n",
       "      <td>120.000000</td>\n",
       "      <td>9182.000000</td>\n",
       "      <td>98.937500</td>\n",
       "    </tr>\n",
       "  </tbody>\n",
       "</table>\n",
       "</div>"
      ],
      "text/plain": [
       "               year       n_lines       n_chars  chars_per_line\n",
       "count  48989.000000  48989.000000  48989.000000    48989.000000\n",
       "mean    2014.167650     55.098287   1374.821429       24.780244\n",
       "std        2.537077     21.171210    642.735220        5.274674\n",
       "min     2008.000000     30.000000    358.000000        9.200000\n",
       "25%     2013.000000     38.000000    902.000000       21.243902\n",
       "50%     2015.000000     49.000000   1207.000000       24.283019\n",
       "75%     2016.000000     67.000000   1686.000000       27.643478\n",
       "max     2017.000000    120.000000   9182.000000       98.937500"
      ]
     },
     "execution_count": 241,
     "metadata": {},
     "output_type": "execute_result"
    }
   ],
   "source": [
    "# df[\"chars_per_line\"] = df.n_chars/df.n_lines\n",
    "# df = df[df.chars_per_line<100]\n",
    "# df.describe()"
   ]
  },
  {
   "cell_type": "markdown",
   "id": "excellent-criticism",
   "metadata": {},
   "source": [
    "- less, then 100 files were removed"
   ]
  },
  {
   "cell_type": "markdown",
   "id": "turkish-offset",
   "metadata": {},
   "source": [
    "## Tokenization\n",
    "- let's apply embedding to all the source files **LOSE LAYOUT FEATURES**\n",
    "- * it takes time\n",
    "\n",
    "Example of lib usage\n",
    "```python\n",
    "sp.encode('\\tarr = [int(x) for x in str.split()]')\n",
    ">> [6682, 14, 127, 184, 96091, 96097, 96090, 115, 419, 57, 420, 96084, 1300, 5382]\n",
    "print(sp.decode(sp.encode('    arr = [int(x) for x in str.split()]')))\n",
    ">> arr = [int(x) for x in str.split()]\n",
    "```"
   ]
  },
  {
   "cell_type": "code",
   "execution_count": 389,
   "id": "homeless-subscriber",
   "metadata": {},
   "outputs": [
    {
     "data": {
      "text/html": [
       "<div>\n",
       "<style scoped>\n",
       "    .dataframe tbody tr th:only-of-type {\n",
       "        vertical-align: middle;\n",
       "    }\n",
       "\n",
       "    .dataframe tbody tr th {\n",
       "        vertical-align: top;\n",
       "    }\n",
       "\n",
       "    .dataframe thead th {\n",
       "        text-align: right;\n",
       "    }\n",
       "</style>\n",
       "<table border=\"1\" class=\"dataframe\">\n",
       "  <thead>\n",
       "    <tr style=\"text-align: right;\">\n",
       "      <th></th>\n",
       "      <th>year</th>\n",
       "      <th>n_lines</th>\n",
       "      <th>n_tokens</th>\n",
       "    </tr>\n",
       "  </thead>\n",
       "  <tbody>\n",
       "    <tr>\n",
       "      <th>count</th>\n",
       "      <td>76786.000000</td>\n",
       "      <td>76786.000000</td>\n",
       "      <td>76786.000000</td>\n",
       "    </tr>\n",
       "    <tr>\n",
       "      <th>mean</th>\n",
       "      <td>2014.370080</td>\n",
       "      <td>49.792280</td>\n",
       "      <td>340.019248</td>\n",
       "    </tr>\n",
       "    <tr>\n",
       "      <th>std</th>\n",
       "      <td>2.464238</td>\n",
       "      <td>81.449719</td>\n",
       "      <td>743.152993</td>\n",
       "    </tr>\n",
       "    <tr>\n",
       "      <th>min</th>\n",
       "      <td>2008.000000</td>\n",
       "      <td>1.000000</td>\n",
       "      <td>0.000000</td>\n",
       "    </tr>\n",
       "    <tr>\n",
       "      <th>25%</th>\n",
       "      <td>2013.000000</td>\n",
       "      <td>26.000000</td>\n",
       "      <td>167.000000</td>\n",
       "    </tr>\n",
       "    <tr>\n",
       "      <th>50%</th>\n",
       "      <td>2015.000000</td>\n",
       "      <td>39.000000</td>\n",
       "      <td>249.000000</td>\n",
       "    </tr>\n",
       "    <tr>\n",
       "      <th>75%</th>\n",
       "      <td>2016.000000</td>\n",
       "      <td>60.000000</td>\n",
       "      <td>385.000000</td>\n",
       "    </tr>\n",
       "    <tr>\n",
       "      <th>max</th>\n",
       "      <td>2017.000000</td>\n",
       "      <td>7792.000000</td>\n",
       "      <td>36488.000000</td>\n",
       "    </tr>\n",
       "  </tbody>\n",
       "</table>\n",
       "</div>"
      ],
      "text/plain": [
       "               year       n_lines      n_tokens\n",
       "count  76786.000000  76786.000000  76786.000000\n",
       "mean    2014.370080     49.792280    340.019248\n",
       "std        2.464238     81.449719    743.152993\n",
       "min     2008.000000      1.000000      0.000000\n",
       "25%     2013.000000     26.000000    167.000000\n",
       "50%     2015.000000     39.000000    249.000000\n",
       "75%     2016.000000     60.000000    385.000000\n",
       "max     2017.000000   7792.000000  36488.000000"
      ]
     },
     "execution_count": 389,
     "metadata": {},
     "output_type": "execute_result"
    }
   ],
   "source": [
    "sp = spm.SentencePieceProcessor(model_file='embd/sentencepiece_bpe.model')\n",
    "df.index = np.arange(len(df))\n",
    "df[\"n_tokens\"] = df.flines.apply(lambda x: len(sp.encode(x)))\n",
    "df.describe()"
   ]
  },
  {
   "cell_type": "markdown",
   "id": "cheap-terminology",
   "metadata": {},
   "source": [
    "- let's set the threshold of 600 tokens here"
   ]
  },
  {
   "cell_type": "code",
   "execution_count": 390,
   "id": "suited-worthy",
   "metadata": {},
   "outputs": [
    {
     "data": {
      "text/html": [
       "<div>\n",
       "<style scoped>\n",
       "    .dataframe tbody tr th:only-of-type {\n",
       "        vertical-align: middle;\n",
       "    }\n",
       "\n",
       "    .dataframe tbody tr th {\n",
       "        vertical-align: top;\n",
       "    }\n",
       "\n",
       "    .dataframe thead th {\n",
       "        text-align: right;\n",
       "    }\n",
       "</style>\n",
       "<table border=\"1\" class=\"dataframe\">\n",
       "  <thead>\n",
       "    <tr style=\"text-align: right;\">\n",
       "      <th></th>\n",
       "      <th>year</th>\n",
       "      <th>n_lines</th>\n",
       "      <th>n_tokens</th>\n",
       "    </tr>\n",
       "  </thead>\n",
       "  <tbody>\n",
       "    <tr>\n",
       "      <th>count</th>\n",
       "      <td>69980.000000</td>\n",
       "      <td>69980.000000</td>\n",
       "      <td>69980.000000</td>\n",
       "    </tr>\n",
       "    <tr>\n",
       "      <th>mean</th>\n",
       "      <td>2014.417491</td>\n",
       "      <td>40.930466</td>\n",
       "      <td>259.533138</td>\n",
       "    </tr>\n",
       "    <tr>\n",
       "      <th>std</th>\n",
       "      <td>2.444826</td>\n",
       "      <td>20.893534</td>\n",
       "      <td>125.327566</td>\n",
       "    </tr>\n",
       "    <tr>\n",
       "      <th>min</th>\n",
       "      <td>2008.000000</td>\n",
       "      <td>1.000000</td>\n",
       "      <td>0.000000</td>\n",
       "    </tr>\n",
       "    <tr>\n",
       "      <th>25%</th>\n",
       "      <td>2013.000000</td>\n",
       "      <td>25.000000</td>\n",
       "      <td>161.000000</td>\n",
       "    </tr>\n",
       "    <tr>\n",
       "      <th>50%</th>\n",
       "      <td>2015.000000</td>\n",
       "      <td>37.000000</td>\n",
       "      <td>233.000000</td>\n",
       "    </tr>\n",
       "    <tr>\n",
       "      <th>75%</th>\n",
       "      <td>2016.000000</td>\n",
       "      <td>53.000000</td>\n",
       "      <td>337.000000</td>\n",
       "    </tr>\n",
       "    <tr>\n",
       "      <th>max</th>\n",
       "      <td>2017.000000</td>\n",
       "      <td>265.000000</td>\n",
       "      <td>600.000000</td>\n",
       "    </tr>\n",
       "  </tbody>\n",
       "</table>\n",
       "</div>"
      ],
      "text/plain": [
       "               year       n_lines      n_tokens\n",
       "count  69980.000000  69980.000000  69980.000000\n",
       "mean    2014.417491     40.930466    259.533138\n",
       "std        2.444826     20.893534    125.327566\n",
       "min     2008.000000      1.000000      0.000000\n",
       "25%     2013.000000     25.000000    161.000000\n",
       "50%     2015.000000     37.000000    233.000000\n",
       "75%     2016.000000     53.000000    337.000000\n",
       "max     2017.000000    265.000000    600.000000"
      ]
     },
     "execution_count": 390,
     "metadata": {},
     "output_type": "execute_result"
    }
   ],
   "source": [
    "df = df[df.n_tokens<=600]\n",
    "df.describe()"
   ]
  },
  {
   "cell_type": "markdown",
   "id": "objective-proposition",
   "metadata": {},
   "source": [
    "- let's look at the amount of files per participant"
   ]
  },
  {
   "cell_type": "code",
   "execution_count": 392,
   "id": "secondary-prince",
   "metadata": {},
   "outputs": [
    {
     "data": {
      "text/plain": [
       "[<matplotlib.lines.Line2D at 0x16d6f7110>]"
      ]
     },
     "execution_count": 392,
     "metadata": {},
     "output_type": "execute_result"
    },
    {
     "data": {
      "image/png": "[encoded data removed]",
      "text/plain": [
       "<Figure size 432x288 with 1 Axes>"
      ]
     },
     "metadata": {
      "needs_background": "light"
     },
     "output_type": "display_data"
    }
   ],
   "source": [
    "plt.plot(np.array(df.username.value_counts()))"
   ]
  },
  {
   "cell_type": "markdown",
   "id": "institutional-india",
   "metadata": {},
   "source": [
    "- Let's collect `15` users with avg amount of files, which is around 35\n",
    "(enough files, but their difference amount is not sufficient)"
   ]
  },
  {
   "cell_type": "code",
   "execution_count": 395,
   "id": "lightweight-poetry",
   "metadata": {},
   "outputs": [
    {
     "data": {
      "text/plain": [
       "[<matplotlib.lines.Line2D at 0x16c4c0c10>]"
      ]
     },
     "execution_count": 395,
     "metadata": {},
     "output_type": "execute_result"
    },
    {
     "data": {
      "image/png": "[encoded data removed]",
      "text/plain": [
       "<Figure size 432x288 with 1 Axes>"
      ]
     },
     "metadata": {
      "needs_background": "light"
     },
     "output_type": "display_data"
    }
   ],
   "source": [
    "plt.plot(np.array(df.username.value_counts())[5:20])"
   ]
  },
  {
   "cell_type": "code",
   "execution_count": 396,
   "id": "artistic-interpretation",
   "metadata": {},
   "outputs": [
    {
     "data": {
      "text/html": [
       "<div>\n",
       "<style scoped>\n",
       "    .dataframe tbody tr th:only-of-type {\n",
       "        vertical-align: middle;\n",
       "    }\n",
       "\n",
       "    .dataframe tbody tr th {\n",
       "        vertical-align: top;\n",
       "    }\n",
       "\n",
       "    .dataframe thead th {\n",
       "        text-align: right;\n",
       "    }\n",
       "</style>\n",
       "<table border=\"1\" class=\"dataframe\">\n",
       "  <thead>\n",
       "    <tr style=\"text-align: right;\">\n",
       "      <th></th>\n",
       "      <th>year</th>\n",
       "      <th>username</th>\n",
       "      <th>flines</th>\n",
       "      <th>n_lines</th>\n",
       "      <th>n_tokens</th>\n",
       "    </tr>\n",
       "  </thead>\n",
       "  <tbody>\n",
       "    <tr>\n",
       "      <th>6</th>\n",
       "      <td>2008</td>\n",
       "      <td>zibada</td>\n",
       "      <td>import sys\\n def dbg(a): sys.stderr.write(str(...</td>\n",
       "      <td>40</td>\n",
       "      <td>447</td>\n",
       "    </tr>\n",
       "    <tr>\n",
       "      <th>7</th>\n",
       "      <td>2008</td>\n",
       "      <td>zibada</td>\n",
       "      <td>import sys\\n def dbg(a): sys.stderr.write(str(...</td>\n",
       "      <td>47</td>\n",
       "      <td>299</td>\n",
       "    </tr>\n",
       "    <tr>\n",
       "      <th>8</th>\n",
       "      <td>2008</td>\n",
       "      <td>zibada</td>\n",
       "      <td>import sys\\n def dbg(a): sys.stderr.write(str(...</td>\n",
       "      <td>51</td>\n",
       "      <td>345</td>\n",
       "    </tr>\n",
       "    <tr>\n",
       "      <th>236</th>\n",
       "      <td>2008</td>\n",
       "      <td>mth</td>\n",
       "      <td>#!/usr/bin/env python\\n \\n import sys\\n \\n def...</td>\n",
       "      <td>31</td>\n",
       "      <td>170</td>\n",
       "    </tr>\n",
       "    <tr>\n",
       "      <th>237</th>\n",
       "      <td>2008</td>\n",
       "      <td>mth</td>\n",
       "      <td>#!/usr/bin/env python\\n \\n import sys\\n \\n def...</td>\n",
       "      <td>43</td>\n",
       "      <td>337</td>\n",
       "    </tr>\n",
       "  </tbody>\n",
       "</table>\n",
       "</div>"
      ],
      "text/plain": [
       "     year username                                             flines  \\\n",
       "6    2008   zibada  import sys\\n def dbg(a): sys.stderr.write(str(...   \n",
       "7    2008   zibada  import sys\\n def dbg(a): sys.stderr.write(str(...   \n",
       "8    2008   zibada  import sys\\n def dbg(a): sys.stderr.write(str(...   \n",
       "236  2008      mth  #!/usr/bin/env python\\n \\n import sys\\n \\n def...   \n",
       "237  2008      mth  #!/usr/bin/env python\\n \\n import sys\\n \\n def...   \n",
       "\n",
       "     n_lines  n_tokens  \n",
       "6         40       447  \n",
       "7         47       299  \n",
       "8         51       345  \n",
       "236       31       170  \n",
       "237       43       337  "
      ]
     },
     "execution_count": 396,
     "metadata": {},
     "output_type": "execute_result"
    }
   ],
   "source": [
    "users = df.username.value_counts()[5:20].index\n",
    "df = df[df.username.isin(users)]\n",
    "df.head()"
   ]
  },
  {
   "cell_type": "markdown",
   "id": "proper-python",
   "metadata": {},
   "source": [
    "- Let's look at the amount of files per person in more details"
   ]
  },
  {
   "cell_type": "code",
   "execution_count": 397,
   "id": "waiting-mailman",
   "metadata": {},
   "outputs": [
    {
     "data": {
      "text/plain": [
       "count    15.000000\n",
       "mean     46.066667\n",
       "std       2.548576\n",
       "min      43.000000\n",
       "25%      44.000000\n",
       "50%      46.000000\n",
       "75%      47.500000\n",
       "max      51.000000\n",
       "Name: username, dtype: float64"
      ]
     },
     "execution_count": 397,
     "metadata": {},
     "output_type": "execute_result"
    }
   ],
   "source": [
    "df.username.value_counts().describe()"
   ]
  },
  {
   "cell_type": "markdown",
   "id": "fatal-leadership",
   "metadata": {},
   "source": [
    "- Hope, this is enough and the contrast between the smallest amount and the max, won't be sufficient"
   ]
  },
  {
   "cell_type": "code",
   "execution_count": 398,
   "id": "heated-nepal",
   "metadata": {},
   "outputs": [
    {
     "data": {
      "text/plain": [
       "lidaobing    51\n",
       "zli          50\n",
       "Vytis        48\n",
       "kusano       48\n",
       "xtof.durr    47\n",
       "Cypi         47\n",
       "kawasaki     47\n",
       "gepa         46\n",
       "mth          46\n",
       "Nooodles     44\n",
       "mihaild      44\n",
       "zibada       44\n",
       "JongMan      43\n",
       "nwin         43\n",
       "eMBe         43\n",
       "Name: username, dtype: int64"
      ]
     },
     "execution_count": 398,
     "metadata": {},
     "output_type": "execute_result"
    }
   ],
   "source": [
    "df.username.value_counts()"
   ]
  },
  {
   "cell_type": "code",
   "execution_count": 399,
   "id": "toxic-auckland",
   "metadata": {},
   "outputs": [],
   "source": [
    "df[\"tokens\"] = df.flines.apply(lambda x: sp.encode(x))"
   ]
  },
  {
   "cell_type": "code",
   "execution_count": 400,
   "id": "union-alert",
   "metadata": {},
   "outputs": [
    {
     "data": {
      "text/html": [
       "<div>\n",
       "<style scoped>\n",
       "    .dataframe tbody tr th:only-of-type {\n",
       "        vertical-align: middle;\n",
       "    }\n",
       "\n",
       "    .dataframe tbody tr th {\n",
       "        vertical-align: top;\n",
       "    }\n",
       "\n",
       "    .dataframe thead th {\n",
       "        text-align: right;\n",
       "    }\n",
       "</style>\n",
       "<table border=\"1\" class=\"dataframe\">\n",
       "  <thead>\n",
       "    <tr style=\"text-align: right;\">\n",
       "      <th></th>\n",
       "      <th>year</th>\n",
       "      <th>username</th>\n",
       "      <th>flines</th>\n",
       "      <th>n_lines</th>\n",
       "      <th>n_tokens</th>\n",
       "      <th>tokens</th>\n",
       "    </tr>\n",
       "  </thead>\n",
       "  <tbody>\n",
       "    <tr>\n",
       "      <th>6</th>\n",
       "      <td>2008</td>\n",
       "      <td>zibada</td>\n",
       "      <td>import sys\\n def dbg(a): sys.stderr.write(str(...</td>\n",
       "      <td>40</td>\n",
       "      <td>447</td>\n",
       "      <td>[138, 1149, 63, 71605, 96091, 96071, 45, 1149,...</td>\n",
       "    </tr>\n",
       "    <tr>\n",
       "      <th>7</th>\n",
       "      <td>2008</td>\n",
       "      <td>zibada</td>\n",
       "      <td>import sys\\n def dbg(a): sys.stderr.write(str(...</td>\n",
       "      <td>47</td>\n",
       "      <td>299</td>\n",
       "      <td>[138, 1149, 63, 71605, 96091, 96071, 45, 1149,...</td>\n",
       "    </tr>\n",
       "    <tr>\n",
       "      <th>8</th>\n",
       "      <td>2008</td>\n",
       "      <td>zibada</td>\n",
       "      <td>import sys\\n def dbg(a): sys.stderr.write(str(...</td>\n",
       "      <td>51</td>\n",
       "      <td>345</td>\n",
       "      <td>[138, 1149, 63, 71605, 96091, 96071, 45, 1149,...</td>\n",
       "    </tr>\n",
       "    <tr>\n",
       "      <th>236</th>\n",
       "      <td>2008</td>\n",
       "      <td>mth</td>\n",
       "      <td>#!/usr/bin/env python\\n \\n import sys\\n \\n def...</td>\n",
       "      <td>31</td>\n",
       "      <td>170</td>\n",
       "      <td>[3238, 2785, 96124, 1119, 96124, 1376, 1804, 1...</td>\n",
       "    </tr>\n",
       "    <tr>\n",
       "      <th>237</th>\n",
       "      <td>2008</td>\n",
       "      <td>mth</td>\n",
       "      <td>#!/usr/bin/env python\\n \\n import sys\\n \\n def...</td>\n",
       "      <td>43</td>\n",
       "      <td>337</td>\n",
       "      <td>[3238, 2785, 96124, 1119, 96124, 1376, 1804, 1...</td>\n",
       "    </tr>\n",
       "  </tbody>\n",
       "</table>\n",
       "</div>"
      ],
      "text/plain": [
       "     year username                                             flines  \\\n",
       "6    2008   zibada  import sys\\n def dbg(a): sys.stderr.write(str(...   \n",
       "7    2008   zibada  import sys\\n def dbg(a): sys.stderr.write(str(...   \n",
       "8    2008   zibada  import sys\\n def dbg(a): sys.stderr.write(str(...   \n",
       "236  2008      mth  #!/usr/bin/env python\\n \\n import sys\\n \\n def...   \n",
       "237  2008      mth  #!/usr/bin/env python\\n \\n import sys\\n \\n def...   \n",
       "\n",
       "     n_lines  n_tokens                                             tokens  \n",
       "6         40       447  [138, 1149, 63, 71605, 96091, 96071, 45, 1149,...  \n",
       "7         47       299  [138, 1149, 63, 71605, 96091, 96071, 45, 1149,...  \n",
       "8         51       345  [138, 1149, 63, 71605, 96091, 96071, 45, 1149,...  \n",
       "236       31       170  [3238, 2785, 96124, 1119, 96124, 1376, 1804, 1...  \n",
       "237       43       337  [3238, 2785, 96124, 1119, 96124, 1376, 1804, 1...  "
      ]
     },
     "execution_count": 400,
     "metadata": {},
     "output_type": "execute_result"
    }
   ],
   "source": [
    "df.head()"
   ]
  },
  {
   "cell_type": "code",
   "execution_count": 401,
   "id": "hourly-characterization",
   "metadata": {},
   "outputs": [],
   "source": [
    "dataset = df[[\"username\", \"tokens\"]]"
   ]
  },
  {
   "cell_type": "code",
   "execution_count": 402,
   "id": "precise-formation",
   "metadata": {},
   "outputs": [
    {
     "data": {
      "text/html": [
       "<div>\n",
       "<style scoped>\n",
       "    .dataframe tbody tr th:only-of-type {\n",
       "        vertical-align: middle;\n",
       "    }\n",
       "\n",
       "    .dataframe tbody tr th {\n",
       "        vertical-align: top;\n",
       "    }\n",
       "\n",
       "    .dataframe thead th {\n",
       "        text-align: right;\n",
       "    }\n",
       "</style>\n",
       "<table border=\"1\" class=\"dataframe\">\n",
       "  <thead>\n",
       "    <tr style=\"text-align: right;\">\n",
       "      <th></th>\n",
       "      <th>username</th>\n",
       "      <th>tokens</th>\n",
       "    </tr>\n",
       "  </thead>\n",
       "  <tbody>\n",
       "    <tr>\n",
       "      <th>6</th>\n",
       "      <td>zibada</td>\n",
       "      <td>[138, 1149, 63, 71605, 96091, 96071, 45, 1149,...</td>\n",
       "    </tr>\n",
       "    <tr>\n",
       "      <th>7</th>\n",
       "      <td>zibada</td>\n",
       "      <td>[138, 1149, 63, 71605, 96091, 96071, 45, 1149,...</td>\n",
       "    </tr>\n",
       "    <tr>\n",
       "      <th>8</th>\n",
       "      <td>zibada</td>\n",
       "      <td>[138, 1149, 63, 71605, 96091, 96071, 45, 1149,...</td>\n",
       "    </tr>\n",
       "    <tr>\n",
       "      <th>236</th>\n",
       "      <td>mth</td>\n",
       "      <td>[3238, 2785, 96124, 1119, 96124, 1376, 1804, 1...</td>\n",
       "    </tr>\n",
       "    <tr>\n",
       "      <th>237</th>\n",
       "      <td>mth</td>\n",
       "      <td>[3238, 2785, 96124, 1119, 96124, 1376, 1804, 1...</td>\n",
       "    </tr>\n",
       "    <tr>\n",
       "      <th>...</th>\n",
       "      <td>...</td>\n",
       "      <td>...</td>\n",
       "    </tr>\n",
       "    <tr>\n",
       "      <th>75933</th>\n",
       "      <td>mth</td>\n",
       "      <td>[3238, 2785, 96124, 1119, 96124, 1376, 1804, 1...</td>\n",
       "    </tr>\n",
       "    <tr>\n",
       "      <th>76149</th>\n",
       "      <td>zli</td>\n",
       "      <td>[138, 1149, 63, 1985, 96077, 682, 586, 121, 11...</td>\n",
       "    </tr>\n",
       "    <tr>\n",
       "      <th>76150</th>\n",
       "      <td>zli</td>\n",
       "      <td>[138, 1149, 156, 5045, 138, 3020, 63, 1985, 96...</td>\n",
       "    </tr>\n",
       "    <tr>\n",
       "      <th>76276</th>\n",
       "      <td>eMBe</td>\n",
       "      <td>[46, 2860, 96093, 11192, 1109, 156, 321, 2017,...</td>\n",
       "    </tr>\n",
       "    <tr>\n",
       "      <th>76591</th>\n",
       "      <td>kawasaki</td>\n",
       "      <td>[138, 5045, 63, 13778, 96091, 96105, 96085, 14...</td>\n",
       "    </tr>\n",
       "  </tbody>\n",
       "</table>\n",
       "<p>691 rows × 2 columns</p>\n",
       "</div>"
      ],
      "text/plain": [
       "       username                                             tokens\n",
       "6        zibada  [138, 1149, 63, 71605, 96091, 96071, 45, 1149,...\n",
       "7        zibada  [138, 1149, 63, 71605, 96091, 96071, 45, 1149,...\n",
       "8        zibada  [138, 1149, 63, 71605, 96091, 96071, 45, 1149,...\n",
       "236         mth  [3238, 2785, 96124, 1119, 96124, 1376, 1804, 1...\n",
       "237         mth  [3238, 2785, 96124, 1119, 96124, 1376, 1804, 1...\n",
       "...         ...                                                ...\n",
       "75933       mth  [3238, 2785, 96124, 1119, 96124, 1376, 1804, 1...\n",
       "76149       zli  [138, 1149, 63, 1985, 96077, 682, 586, 121, 11...\n",
       "76150       zli  [138, 1149, 156, 5045, 138, 3020, 63, 1985, 96...\n",
       "76276      eMBe  [46, 2860, 96093, 11192, 1109, 156, 321, 2017,...\n",
       "76591  kawasaki  [138, 5045, 63, 13778, 96091, 96105, 96085, 14...\n",
       "\n",
       "[691 rows x 2 columns]"
      ]
     },
     "execution_count": 402,
     "metadata": {},
     "output_type": "execute_result"
    }
   ],
   "source": [
    "dataset"
   ]
  },
  {
   "cell_type": "markdown",
   "id": "duplicate-corps",
   "metadata": {},
   "source": [
    "## Load data\n",
    "Lib selected - tensorflow + keras"
   ]
  },
  {
   "cell_type": "markdown",
   "id": "answering-deputy",
   "metadata": {},
   "source": [
    "### Some small notes for future\n",
    "Tensorflow supports python 3.8 as max version. The issue arises on latest Ubuntu/max os-es, when the default python version is 3.9.\n",
    "\n",
    "What was done on MAC-OS-Big-Sur to solve that issue.\n",
    "- [pyenv](https://github.com/pyenv/pyenv) installed\n",
    "```bash\n",
    ">> brew update\n",
    ">> brew install pyenv\n",
    "...\n",
    "```\n",
    "- python 3.7 installation\n",
    "```\n",
    ">> brew install python@3.7\n",
    "```\n",
    "- pyenv added python 3.7\n",
    "```\n",
    ">> pyenv install 3.7.10\n",
    ">> pyenv loacal 3.7.10\n",
    "```\n",
    "- create [myenv](https://www.tensorflow.org/install/pip#2.-create-a-virtual-environment-recommended)\n",
    "```\n",
    ">> python3.7 -m venv myenv\n",
    ">> source myenv/bin/activate.fish\n",
    "```\n",
    "- solution of the final problem - **UPGRADE PIP**\n",
    "- install tensorflow\n",
    "```\n",
    "(myenv)>> pip install --upgrade tensorflow\n",
    "```"
   ]
  },
  {
   "cell_type": "code",
   "execution_count": 403,
   "id": "nervous-statistics",
   "metadata": {},
   "outputs": [
    {
     "name": "stderr",
     "output_type": "stream",
     "text": [
      "/Users/alinabogdanova/Documents/workspace/research/myenv/lib/python3.7/site-packages/pandas/core/generic.py:5491: SettingWithCopyWarning: \n",
      "A value is trying to be set on a copy of a slice from a DataFrame.\n",
      "Try using .loc[row_indexer,col_indexer] = value instead\n",
      "\n",
      "See the caveats in the documentation: https://pandas.pydata.org/pandas-docs/stable/user_guide/indexing.html#returning-a-view-versus-a-copy\n",
      "  self[name] = value\n"
     ]
    }
   ],
   "source": [
    "le = LabelEncoder()\n",
    "dataset.username = le.fit_transform(dataset.username)"
   ]
  },
  {
   "cell_type": "code",
   "execution_count": 404,
   "id": "powerful-worship",
   "metadata": {},
   "outputs": [
    {
     "data": {
      "text/html": [
       "<div>\n",
       "<style scoped>\n",
       "    .dataframe tbody tr th:only-of-type {\n",
       "        vertical-align: middle;\n",
       "    }\n",
       "\n",
       "    .dataframe tbody tr th {\n",
       "        vertical-align: top;\n",
       "    }\n",
       "\n",
       "    .dataframe thead th {\n",
       "        text-align: right;\n",
       "    }\n",
       "</style>\n",
       "<table border=\"1\" class=\"dataframe\">\n",
       "  <thead>\n",
       "    <tr style=\"text-align: right;\">\n",
       "      <th></th>\n",
       "      <th>username</th>\n",
       "      <th>tokens</th>\n",
       "    </tr>\n",
       "  </thead>\n",
       "  <tbody>\n",
       "    <tr>\n",
       "      <th>64268</th>\n",
       "      <td>1</td>\n",
       "      <td>[63, 13778, 96091, 96075, 45, 3764, 14, 420, 9...</td>\n",
       "    </tr>\n",
       "    <tr>\n",
       "      <th>33709</th>\n",
       "      <td>10</td>\n",
       "      <td>[3238, 2785, 96124, 1119, 96124, 1376, 1804, 1...</td>\n",
       "    </tr>\n",
       "    <tr>\n",
       "      <th>70441</th>\n",
       "      <td>0</td>\n",
       "      <td>[178, 96100, 14, 655, 96091, 1032, 96077, 1044...</td>\n",
       "    </tr>\n",
       "    <tr>\n",
       "      <th>59097</th>\n",
       "      <td>11</td>\n",
       "      <td>[156, 4159, 138, 8485, 63, 13778, 586, 53, 14,...</td>\n",
       "    </tr>\n",
       "    <tr>\n",
       "      <th>42682</th>\n",
       "      <td>0</td>\n",
       "      <td>[156, 4159, 138, 8485, 178, 96100, 14, 655, 96...</td>\n",
       "    </tr>\n",
       "    <tr>\n",
       "      <th>...</th>\n",
       "      <td>...</td>\n",
       "      <td>...</td>\n",
       "    </tr>\n",
       "    <tr>\n",
       "      <th>17764</th>\n",
       "      <td>13</td>\n",
       "      <td>[63, 13778, 586, 49, 96085, 75, 14, 977, 96091...</td>\n",
       "    </tr>\n",
       "    <tr>\n",
       "      <th>59035</th>\n",
       "      <td>2</td>\n",
       "      <td>[5059, 9337, 1174, 1250, 144, 9647, 5059, 4474...</td>\n",
       "    </tr>\n",
       "    <tr>\n",
       "      <th>40501</th>\n",
       "      <td>9</td>\n",
       "      <td>[138, 5045, 138, 6911, 138, 4159, 63, 921, 184...</td>\n",
       "    </tr>\n",
       "    <tr>\n",
       "      <th>33128</th>\n",
       "      <td>2</td>\n",
       "      <td>[111, 14, 655, 96091, 1032, 96077, 1044, 48938...</td>\n",
       "    </tr>\n",
       "    <tr>\n",
       "      <th>8797</th>\n",
       "      <td>4</td>\n",
       "      <td>[3238, 2785, 96124, 1119, 96124, 1376, 1804, 1...</td>\n",
       "    </tr>\n",
       "  </tbody>\n",
       "</table>\n",
       "<p>691 rows × 2 columns</p>\n",
       "</div>"
      ],
      "text/plain": [
       "       username                                             tokens\n",
       "64268         1  [63, 13778, 96091, 96075, 45, 3764, 14, 420, 9...\n",
       "33709        10  [3238, 2785, 96124, 1119, 96124, 1376, 1804, 1...\n",
       "70441         0  [178, 96100, 14, 655, 96091, 1032, 96077, 1044...\n",
       "59097        11  [156, 4159, 138, 8485, 63, 13778, 586, 53, 14,...\n",
       "42682         0  [156, 4159, 138, 8485, 178, 96100, 14, 655, 96...\n",
       "...         ...                                                ...\n",
       "17764        13  [63, 13778, 586, 49, 96085, 75, 14, 977, 96091...\n",
       "59035         2  [5059, 9337, 1174, 1250, 144, 9647, 5059, 4474...\n",
       "40501         9  [138, 5045, 138, 6911, 138, 4159, 63, 921, 184...\n",
       "33128         2  [111, 14, 655, 96091, 1032, 96077, 1044, 48938...\n",
       "8797          4  [3238, 2785, 96124, 1119, 96124, 1376, 1804, 1...\n",
       "\n",
       "[691 rows x 2 columns]"
      ]
     },
     "execution_count": 404,
     "metadata": {},
     "output_type": "execute_result"
    }
   ],
   "source": [
    "# shuffle dataset\n",
    "dataset = dataset.sample(frac = 1) \n",
    "dataset"
   ]
  },
  {
   "cell_type": "code",
   "execution_count": 405,
   "id": "inappropriate-booking",
   "metadata": {},
   "outputs": [],
   "source": [
    "def rsh(x):\n",
    "    arr = np.array(x)\n",
    "    arr.resize(600)\n",
    "    return list(arr)\n",
    "\n",
    "dataset.tokens = dataset.tokens.apply(rsh)"
   ]
  },
  {
   "cell_type": "code",
   "execution_count": 406,
   "id": "international-georgia",
   "metadata": {},
   "outputs": [
    {
     "data": {
      "text/html": [
       "<div>\n",
       "<style scoped>\n",
       "    .dataframe tbody tr th:only-of-type {\n",
       "        vertical-align: middle;\n",
       "    }\n",
       "\n",
       "    .dataframe tbody tr th {\n",
       "        vertical-align: top;\n",
       "    }\n",
       "\n",
       "    .dataframe thead th {\n",
       "        text-align: right;\n",
       "    }\n",
       "</style>\n",
       "<table border=\"1\" class=\"dataframe\">\n",
       "  <thead>\n",
       "    <tr style=\"text-align: right;\">\n",
       "      <th></th>\n",
       "      <th>username</th>\n",
       "      <th>tokens</th>\n",
       "    </tr>\n",
       "  </thead>\n",
       "  <tbody>\n",
       "    <tr>\n",
       "      <th>64268</th>\n",
       "      <td>1</td>\n",
       "      <td>[63, 13778, 96091, 96075, 45, 3764, 14, 420, 9...</td>\n",
       "    </tr>\n",
       "    <tr>\n",
       "      <th>33709</th>\n",
       "      <td>10</td>\n",
       "      <td>[3238, 2785, 96124, 1119, 96124, 1376, 1804, 1...</td>\n",
       "    </tr>\n",
       "    <tr>\n",
       "      <th>70441</th>\n",
       "      <td>0</td>\n",
       "      <td>[178, 96100, 14, 655, 96091, 1032, 96077, 1044...</td>\n",
       "    </tr>\n",
       "    <tr>\n",
       "      <th>59097</th>\n",
       "      <td>11</td>\n",
       "      <td>[156, 4159, 138, 8485, 63, 13778, 586, 53, 14,...</td>\n",
       "    </tr>\n",
       "    <tr>\n",
       "      <th>42682</th>\n",
       "      <td>0</td>\n",
       "      <td>[156, 4159, 138, 8485, 178, 96100, 14, 655, 96...</td>\n",
       "    </tr>\n",
       "    <tr>\n",
       "      <th>...</th>\n",
       "      <td>...</td>\n",
       "      <td>...</td>\n",
       "    </tr>\n",
       "    <tr>\n",
       "      <th>17764</th>\n",
       "      <td>13</td>\n",
       "      <td>[63, 13778, 586, 49, 96085, 75, 14, 977, 96091...</td>\n",
       "    </tr>\n",
       "    <tr>\n",
       "      <th>59035</th>\n",
       "      <td>2</td>\n",
       "      <td>[5059, 9337, 1174, 1250, 144, 9647, 5059, 4474...</td>\n",
       "    </tr>\n",
       "    <tr>\n",
       "      <th>40501</th>\n",
       "      <td>9</td>\n",
       "      <td>[138, 5045, 138, 6911, 138, 4159, 63, 921, 184...</td>\n",
       "    </tr>\n",
       "    <tr>\n",
       "      <th>33128</th>\n",
       "      <td>2</td>\n",
       "      <td>[111, 14, 655, 96091, 1032, 96077, 1044, 48938...</td>\n",
       "    </tr>\n",
       "    <tr>\n",
       "      <th>8797</th>\n",
       "      <td>4</td>\n",
       "      <td>[3238, 2785, 96124, 1119, 96124, 1376, 1804, 1...</td>\n",
       "    </tr>\n",
       "  </tbody>\n",
       "</table>\n",
       "<p>691 rows × 2 columns</p>\n",
       "</div>"
      ],
      "text/plain": [
       "       username                                             tokens\n",
       "64268         1  [63, 13778, 96091, 96075, 45, 3764, 14, 420, 9...\n",
       "33709        10  [3238, 2785, 96124, 1119, 96124, 1376, 1804, 1...\n",
       "70441         0  [178, 96100, 14, 655, 96091, 1032, 96077, 1044...\n",
       "59097        11  [156, 4159, 138, 8485, 63, 13778, 586, 53, 14,...\n",
       "42682         0  [156, 4159, 138, 8485, 178, 96100, 14, 655, 96...\n",
       "...         ...                                                ...\n",
       "17764        13  [63, 13778, 586, 49, 96085, 75, 14, 977, 96091...\n",
       "59035         2  [5059, 9337, 1174, 1250, 144, 9647, 5059, 4474...\n",
       "40501         9  [138, 5045, 138, 6911, 138, 4159, 63, 921, 184...\n",
       "33128         2  [111, 14, 655, 96091, 1032, 96077, 1044, 48938...\n",
       "8797          4  [3238, 2785, 96124, 1119, 96124, 1376, 1804, 1...\n",
       "\n",
       "[691 rows x 2 columns]"
      ]
     },
     "execution_count": 406,
     "metadata": {},
     "output_type": "execute_result"
    }
   ],
   "source": [
    "dataset"
   ]
  },
  {
   "cell_type": "code",
   "execution_count": 407,
   "id": "facial-toddler",
   "metadata": {},
   "outputs": [
    {
     "data": {
      "text/plain": [
       "(691, 600)"
      ]
     },
     "execution_count": 407,
     "metadata": {},
     "output_type": "execute_result"
    }
   ],
   "source": [
    "X = dataset.tokens.values\n",
    "X = np.array(list(X))\n",
    "X.shape"
   ]
  },
  {
   "cell_type": "code",
   "execution_count": 408,
   "id": "instrumental-likelihood",
   "metadata": {},
   "outputs": [
    {
     "data": {
      "text/plain": [
       "(518, 600, 1)"
      ]
     },
     "execution_count": 408,
     "metadata": {},
     "output_type": "execute_result"
    }
   ],
   "source": [
    "X = X.reshape((-1, 600, 1))\n",
    "y = np.array(dataset.username)\n",
    "\n",
    "ohe = OneHotEncoder()\n",
    "y = ohe.fit_transform(y.reshape(-1, 1))\n",
    "y = y.toarray()\n",
    "\n",
    "X_train, X_test, y_train, y_test = train_test_split(X, y)\n",
    "X_train.shape"
   ]
  },
  {
   "cell_type": "markdown",
   "id": "arbitrary-trance",
   "metadata": {},
   "source": [
    "### Structure of the model\n",
    "1. CNN:\n",
    "- ks = 50 (function - level)\n",
    "- ks = 10 (line2 - level)\n",
    "- ks = 5 (lene - level)\n",
    "2. Linear ReLU \n",
    "3. softmax 75"
   ]
  },
  {
   "cell_type": "markdown",
   "id": "coral-plenty",
   "metadata": {},
   "source": [
    "> important note `tanh` activation increases accuracy from 11% to 60% ontraining (50% of test accuracy)\n",
    ">\n",
    "> `linear` function reaches up to 61% of test accuracy"
   ]
  },
  {
   "cell_type": "code",
   "execution_count": 409,
   "id": "nonprofit-gabriel",
   "metadata": {},
   "outputs": [
    {
     "name": "stdout",
     "output_type": "stream",
     "text": [
      "Model: \"sequential_42\"\n",
      "_________________________________________________________________\n",
      "Layer (type)                 Output Shape              Param #   \n",
      "=================================================================\n",
      "conv1d_50 (Conv1D)           (None, 591, 150)          1650      \n",
      "_________________________________________________________________\n",
      "max_pooling1d_50 (MaxPooling (None, 73, 150)           0         \n",
      "_________________________________________________________________\n",
      "flatten_26 (Flatten)         (None, 10950)             0         \n",
      "_________________________________________________________________\n",
      "dropout_64 (Dropout)         (None, 10950)             0         \n",
      "_________________________________________________________________\n",
      "dense_88 (Dense)             (None, 64)                700864    \n",
      "_________________________________________________________________\n",
      "dropout_65 (Dropout)         (None, 64)                0         \n",
      "_________________________________________________________________\n",
      "dense_89 (Dense)             (None, 15)                975       \n",
      "=================================================================\n",
      "Total params: 703,489\n",
      "Trainable params: 703,489\n",
      "Non-trainable params: 0\n",
      "_________________________________________________________________\n"
     ]
    }
   ],
   "source": [
    "model = keras.Sequential()\n",
    "model.add(keras.Input(shape=(600, 1)))  \n",
    "model.add(layers.Conv1D(150, 10, activation=\"linear\")) \n",
    "model.add(layers.MaxPooling1D(pool_size=8))\n",
    "model.add(layers.Flatten())\n",
    "model.add(layers.Dropout(0.5))\n",
    "model.add(layers.Dense(64, activation=\"linear\"))\n",
    "model.add(layers.Dropout(0.5))\n",
    "model.add(layers.Dense(15, activation=\"softmax\"))\n",
    "model.summary()"
   ]
  },
  {
   "cell_type": "code",
   "execution_count": 410,
   "id": "undefined-neutral",
   "metadata": {},
   "outputs": [],
   "source": [
    "optimizer = optimizers.Adam(0.1)\n",
    "lr_schedule = callbacks.ReduceLROnPlateau(monitor='val_accuracy', factor=0.5, patience=5, min_delta=0.000001, verbouse=1)\n",
    "model.compile(optimizer = optimizer , loss = \"categorical_crossentropy\", metrics=[\"accuracy\"])"
   ]
  },
  {
   "cell_type": "code",
   "execution_count": 411,
   "id": "qualified-gardening",
   "metadata": {},
   "outputs": [
    {
     "name": "stdout",
     "output_type": "stream",
     "text": [
      "Epoch 1/100\n",
      "25/25 - 1s - loss: 16370291.0000 - accuracy: 0.0830 - val_loss: 13855447.0000 - val_accuracy: 0.0867\n",
      "Epoch 2/100\n",
      "25/25 - 0s - loss: 14500130.0000 - accuracy: 0.1660 - val_loss: 12177003.0000 - val_accuracy: 0.1965\n",
      "Epoch 3/100\n",
      "25/25 - 0s - loss: 16822834.0000 - accuracy: 0.1873 - val_loss: 13396199.0000 - val_accuracy: 0.1908\n",
      "Epoch 4/100\n",
      "25/25 - 0s - loss: 21550338.0000 - accuracy: 0.2104 - val_loss: 21321930.0000 - val_accuracy: 0.2428\n",
      "Epoch 5/100\n",
      "25/25 - 0s - loss: 33869340.0000 - accuracy: 0.2645 - val_loss: 46024960.0000 - val_accuracy: 0.2197\n",
      "Epoch 6/100\n",
      "25/25 - 0s - loss: 51479608.0000 - accuracy: 0.3012 - val_loss: 62284712.0000 - val_accuracy: 0.3064\n",
      "Epoch 7/100\n",
      "25/25 - 0s - loss: 98774760.0000 - accuracy: 0.2529 - val_loss: 109576464.0000 - val_accuracy: 0.2370\n",
      "Epoch 8/100\n",
      "25/25 - 0s - loss: 134677456.0000 - accuracy: 0.2876 - val_loss: 152817520.0000 - val_accuracy: 0.2486\n",
      "Epoch 9/100\n",
      "25/25 - 0s - loss: 166066960.0000 - accuracy: 0.3398 - val_loss: 219986928.0000 - val_accuracy: 0.2601\n",
      "Epoch 10/100\n",
      "25/25 - 0s - loss: 187080384.0000 - accuracy: 0.3996 - val_loss: 211856336.0000 - val_accuracy: 0.3237\n",
      "Epoch 11/100\n",
      "25/25 - 0s - loss: 191305296.0000 - accuracy: 0.4266 - val_loss: 205382224.0000 - val_accuracy: 0.3468\n",
      "Epoch 12/100\n",
      "25/25 - 0s - loss: 170372928.0000 - accuracy: 0.4846 - val_loss: 251805040.0000 - val_accuracy: 0.3757\n",
      "Epoch 13/100\n",
      "25/25 - 0s - loss: 203331632.0000 - accuracy: 0.5483 - val_loss: 310481760.0000 - val_accuracy: 0.3642\n",
      "Epoch 14/100\n",
      "25/25 - 0s - loss: 147055008.0000 - accuracy: 0.6023 - val_loss: 356675328.0000 - val_accuracy: 0.3121\n",
      "Epoch 15/100\n",
      "25/25 - 0s - loss: 167678064.0000 - accuracy: 0.5792 - val_loss: 377672512.0000 - val_accuracy: 0.4104\n",
      "Epoch 16/100\n",
      "25/25 - 0s - loss: 167925136.0000 - accuracy: 0.6486 - val_loss: 466885568.0000 - val_accuracy: 0.3526\n",
      "Epoch 17/100\n",
      "25/25 - 1s - loss: 201860432.0000 - accuracy: 0.6062 - val_loss: 469751584.0000 - val_accuracy: 0.3642\n",
      "Epoch 18/100\n",
      "25/25 - 0s - loss: 164023696.0000 - accuracy: 0.6737 - val_loss: 556025856.0000 - val_accuracy: 0.4046\n",
      "Epoch 19/100\n",
      "25/25 - 0s - loss: 168167792.0000 - accuracy: 0.7124 - val_loss: 456042592.0000 - val_accuracy: 0.4220\n",
      "Epoch 20/100\n",
      "25/25 - 1s - loss: 134316688.0000 - accuracy: 0.7587 - val_loss: 661662464.0000 - val_accuracy: 0.3873\n",
      "Epoch 21/100\n",
      "25/25 - 0s - loss: 172475232.0000 - accuracy: 0.7471 - val_loss: 670464832.0000 - val_accuracy: 0.4393\n",
      "Epoch 22/100\n",
      "25/25 - 1s - loss: 150187872.0000 - accuracy: 0.7857 - val_loss: 776783168.0000 - val_accuracy: 0.4393\n",
      "Epoch 23/100\n",
      "25/25 - 0s - loss: 192309184.0000 - accuracy: 0.7432 - val_loss: 862465792.0000 - val_accuracy: 0.4220\n",
      "Epoch 24/100\n",
      "25/25 - 0s - loss: 183467664.0000 - accuracy: 0.7819 - val_loss: 982511552.0000 - val_accuracy: 0.4566\n",
      "Epoch 25/100\n",
      "25/25 - 1s - loss: 190542048.0000 - accuracy: 0.7587 - val_loss: 949872128.0000 - val_accuracy: 0.4046\n",
      "Epoch 26/100\n",
      "25/25 - 0s - loss: 232796848.0000 - accuracy: 0.7664 - val_loss: 1294105216.0000 - val_accuracy: 0.4277\n",
      "Epoch 27/100\n",
      "25/25 - 0s - loss: 204727056.0000 - accuracy: 0.8089 - val_loss: 1152923136.0000 - val_accuracy: 0.4335\n",
      "Epoch 28/100\n",
      "25/25 - 0s - loss: 273384992.0000 - accuracy: 0.7568 - val_loss: 1230378112.0000 - val_accuracy: 0.4393\n",
      "Epoch 29/100\n",
      "25/25 - 1s - loss: 197743008.0000 - accuracy: 0.8127 - val_loss: 1444887680.0000 - val_accuracy: 0.4277\n",
      "Epoch 30/100\n",
      "25/25 - 0s - loss: 215191152.0000 - accuracy: 0.8378 - val_loss: 1243725312.0000 - val_accuracy: 0.4451\n",
      "Epoch 31/100\n",
      "25/25 - 0s - loss: 99615960.0000 - accuracy: 0.9035 - val_loss: 1135230464.0000 - val_accuracy: 0.4393\n",
      "Epoch 32/100\n",
      "25/25 - 0s - loss: 110990776.0000 - accuracy: 0.8764 - val_loss: 1168828928.0000 - val_accuracy: 0.4162\n",
      "Epoch 33/100\n",
      "25/25 - 1s - loss: 69517480.0000 - accuracy: 0.9286 - val_loss: 1179194624.0000 - val_accuracy: 0.4104\n",
      "Epoch 34/100\n",
      "25/25 - 0s - loss: 59503444.0000 - accuracy: 0.9324 - val_loss: 1171457920.0000 - val_accuracy: 0.3931\n",
      "Epoch 35/100\n",
      "25/25 - 0s - loss: 58666320.0000 - accuracy: 0.9305 - val_loss: 1163318400.0000 - val_accuracy: 0.3931\n",
      "Epoch 36/100\n",
      "25/25 - 0s - loss: 60096000.0000 - accuracy: 0.9440 - val_loss: 1115540096.0000 - val_accuracy: 0.4162\n",
      "Epoch 37/100\n",
      "25/25 - 0s - loss: 33362928.0000 - accuracy: 0.9479 - val_loss: 1138965632.0000 - val_accuracy: 0.3988\n",
      "Epoch 38/100\n",
      "25/25 - 1s - loss: 60002636.0000 - accuracy: 0.9189 - val_loss: 1075190400.0000 - val_accuracy: 0.4104\n",
      "Epoch 39/100\n",
      "25/25 - 0s - loss: 49022516.0000 - accuracy: 0.9305 - val_loss: 1070625344.0000 - val_accuracy: 0.4277\n",
      "Epoch 40/100\n",
      "25/25 - 1s - loss: 36561100.0000 - accuracy: 0.9537 - val_loss: 1080449536.0000 - val_accuracy: 0.4220\n",
      "Epoch 41/100\n",
      "25/25 - 0s - loss: 42451292.0000 - accuracy: 0.9479 - val_loss: 1083320064.0000 - val_accuracy: 0.4277\n",
      "Epoch 42/100\n",
      "25/25 - 0s - loss: 30390682.0000 - accuracy: 0.9440 - val_loss: 1077126400.0000 - val_accuracy: 0.4104\n",
      "Epoch 43/100\n",
      "25/25 - 0s - loss: 28217430.0000 - accuracy: 0.9459 - val_loss: 1100491392.0000 - val_accuracy: 0.4104\n",
      "Epoch 44/100\n",
      "25/25 - 1s - loss: 27638202.0000 - accuracy: 0.9402 - val_loss: 1092218880.0000 - val_accuracy: 0.4277\n",
      "Epoch 45/100\n",
      "25/25 - 0s - loss: 14297792.0000 - accuracy: 0.9633 - val_loss: 1088676608.0000 - val_accuracy: 0.4393\n",
      "Epoch 46/100\n",
      "25/25 - 0s - loss: 15893606.0000 - accuracy: 0.9691 - val_loss: 1088061952.0000 - val_accuracy: 0.4509\n",
      "Epoch 47/100\n",
      "25/25 - 0s - loss: 29461026.0000 - accuracy: 0.9768 - val_loss: 1061534720.0000 - val_accuracy: 0.4624\n",
      "Epoch 48/100\n",
      "25/25 - 1s - loss: 15683019.0000 - accuracy: 0.9672 - val_loss: 1058434240.0000 - val_accuracy: 0.4566\n",
      "Epoch 49/100\n",
      "25/25 - 0s - loss: 36689900.0000 - accuracy: 0.9556 - val_loss: 1071064960.0000 - val_accuracy: 0.4566\n",
      "Epoch 50/100\n",
      "25/25 - 1s - loss: 13185589.0000 - accuracy: 0.9730 - val_loss: 1074272896.0000 - val_accuracy: 0.4566\n",
      "Epoch 51/100\n",
      "25/25 - 0s - loss: 17247344.0000 - accuracy: 0.9614 - val_loss: 1071624000.0000 - val_accuracy: 0.4393\n",
      "Epoch 52/100\n",
      "25/25 - 0s - loss: 32714996.0000 - accuracy: 0.9498 - val_loss: 1057474624.0000 - val_accuracy: 0.4451\n",
      "Epoch 53/100\n",
      "25/25 - 1s - loss: 23050560.0000 - accuracy: 0.9749 - val_loss: 1053905472.0000 - val_accuracy: 0.4509\n",
      "Epoch 54/100\n",
      "25/25 - 1s - loss: 11704097.0000 - accuracy: 0.9710 - val_loss: 1053047040.0000 - val_accuracy: 0.4509\n",
      "Epoch 55/100\n",
      "25/25 - 0s - loss: 11816678.0000 - accuracy: 0.9788 - val_loss: 1049349568.0000 - val_accuracy: 0.4509\n",
      "Epoch 56/100\n",
      "25/25 - 0s - loss: 23314420.0000 - accuracy: 0.9710 - val_loss: 1046907008.0000 - val_accuracy: 0.4566\n",
      "Epoch 57/100\n",
      "25/25 - 0s - loss: 10199141.0000 - accuracy: 0.9672 - val_loss: 1043904576.0000 - val_accuracy: 0.4509\n",
      "Epoch 58/100\n",
      "25/25 - 1s - loss: 19285950.0000 - accuracy: 0.9653 - val_loss: 1041684032.0000 - val_accuracy: 0.4451\n",
      "Epoch 59/100\n",
      "25/25 - 0s - loss: 26524660.0000 - accuracy: 0.9614 - val_loss: 1041931840.0000 - val_accuracy: 0.4509\n",
      "Epoch 60/100\n",
      "25/25 - 0s - loss: 32157440.0000 - accuracy: 0.9556 - val_loss: 1041316736.0000 - val_accuracy: 0.4509\n",
      "Epoch 61/100\n",
      "25/25 - 1s - loss: 12585016.0000 - accuracy: 0.9710 - val_loss: 1043822720.0000 - val_accuracy: 0.4509\n",
      "Epoch 62/100\n",
      "25/25 - 1s - loss: 11853051.0000 - accuracy: 0.9730 - val_loss: 1043071168.0000 - val_accuracy: 0.4509\n",
      "Epoch 63/100\n",
      "25/25 - 0s - loss: 26987070.0000 - accuracy: 0.9595 - val_loss: 1043703040.0000 - val_accuracy: 0.4509\n",
      "Epoch 64/100\n",
      "25/25 - 0s - loss: 13862038.0000 - accuracy: 0.9749 - val_loss: 1043971520.0000 - val_accuracy: 0.4509\n",
      "Epoch 65/100\n",
      "25/25 - 0s - loss: 23372120.0000 - accuracy: 0.9710 - val_loss: 1044155136.0000 - val_accuracy: 0.4509\n",
      "Epoch 66/100\n",
      "25/25 - 0s - loss: 14418833.0000 - accuracy: 0.9768 - val_loss: 1044891584.0000 - val_accuracy: 0.4566\n",
      "Epoch 67/100\n",
      "25/25 - 0s - loss: 19004506.0000 - accuracy: 0.9691 - val_loss: 1044618432.0000 - val_accuracy: 0.4566\n",
      "Epoch 68/100\n",
      "25/25 - 1s - loss: 20729092.0000 - accuracy: 0.9614 - val_loss: 1044651520.0000 - val_accuracy: 0.4566\n",
      "Epoch 69/100\n",
      "25/25 - 0s - loss: 26987116.0000 - accuracy: 0.9537 - val_loss: 1045246144.0000 - val_accuracy: 0.4566\n",
      "Epoch 70/100\n",
      "25/25 - 0s - loss: 15988380.0000 - accuracy: 0.9710 - val_loss: 1045746240.0000 - val_accuracy: 0.4566\n",
      "Epoch 71/100\n",
      "25/25 - 0s - loss: 30860874.0000 - accuracy: 0.9614 - val_loss: 1045240704.0000 - val_accuracy: 0.4566\n",
      "Epoch 72/100\n",
      "25/25 - 0s - loss: 10058261.0000 - accuracy: 0.9807 - val_loss: 1044471872.0000 - val_accuracy: 0.4566\n",
      "Epoch 73/100\n",
      "25/25 - 0s - loss: 12608484.0000 - accuracy: 0.9730 - val_loss: 1044130624.0000 - val_accuracy: 0.4566\n",
      "Epoch 74/100\n",
      "25/25 - 0s - loss: 24076984.0000 - accuracy: 0.9479 - val_loss: 1043978048.0000 - val_accuracy: 0.4566\n",
      "Epoch 75/100\n",
      "25/25 - 0s - loss: 17232838.0000 - accuracy: 0.9730 - val_loss: 1043819968.0000 - val_accuracy: 0.4566\n",
      "Epoch 76/100\n",
      "25/25 - 1s - loss: 27102212.0000 - accuracy: 0.9556 - val_loss: 1044033920.0000 - val_accuracy: 0.4566\n",
      "Epoch 77/100\n",
      "25/25 - 0s - loss: 9631408.0000 - accuracy: 0.9710 - val_loss: 1043910144.0000 - val_accuracy: 0.4566\n",
      "Epoch 78/100\n",
      "25/25 - 0s - loss: 25836922.0000 - accuracy: 0.9575 - val_loss: 1043869504.0000 - val_accuracy: 0.4566\n",
      "Epoch 79/100\n",
      "25/25 - 1s - loss: 34152996.0000 - accuracy: 0.9459 - val_loss: 1044035456.0000 - val_accuracy: 0.4566\n",
      "Epoch 80/100\n",
      "25/25 - 1s - loss: 28341076.0000 - accuracy: 0.9614 - val_loss: 1044183168.0000 - val_accuracy: 0.4566\n",
      "Epoch 81/100\n",
      "25/25 - 0s - loss: 12394176.0000 - accuracy: 0.9807 - val_loss: 1044087040.0000 - val_accuracy: 0.4566\n",
      "Epoch 82/100\n",
      "25/25 - 0s - loss: 15426158.0000 - accuracy: 0.9749 - val_loss: 1044048704.0000 - val_accuracy: 0.4566\n",
      "Epoch 83/100\n",
      "25/25 - 0s - loss: 12490141.0000 - accuracy: 0.9826 - val_loss: 1044038400.0000 - val_accuracy: 0.4566\n",
      "Epoch 84/100\n",
      "25/25 - 0s - loss: 19748932.0000 - accuracy: 0.9614 - val_loss: 1044052608.0000 - val_accuracy: 0.4566\n",
      "Epoch 85/100\n",
      "25/25 - 0s - loss: 22465828.0000 - accuracy: 0.9653 - val_loss: 1043904448.0000 - val_accuracy: 0.4566\n",
      "Epoch 86/100\n",
      "25/25 - 0s - loss: 12959569.0000 - accuracy: 0.9768 - val_loss: 1043853056.0000 - val_accuracy: 0.4566\n",
      "Epoch 87/100\n",
      "25/25 - 1s - loss: 17580854.0000 - accuracy: 0.9633 - val_loss: 1043854592.0000 - val_accuracy: 0.4566\n",
      "Epoch 88/100\n",
      "25/25 - 0s - loss: 18814694.0000 - accuracy: 0.9672 - val_loss: 1043817472.0000 - val_accuracy: 0.4566\n",
      "Epoch 89/100\n",
      "25/25 - 1s - loss: 15420366.0000 - accuracy: 0.9633 - val_loss: 1043833280.0000 - val_accuracy: 0.4566\n",
      "Epoch 90/100\n",
      "25/25 - 0s - loss: 9426104.0000 - accuracy: 0.9730 - val_loss: 1043854784.0000 - val_accuracy: 0.4566\n",
      "Epoch 91/100\n",
      "25/25 - 0s - loss: 17664522.0000 - accuracy: 0.9730 - val_loss: 1043830592.0000 - val_accuracy: 0.4566\n",
      "Epoch 92/100\n",
      "25/25 - 0s - loss: 20227996.0000 - accuracy: 0.9653 - val_loss: 1043786880.0000 - val_accuracy: 0.4566\n",
      "Epoch 93/100\n",
      "25/25 - 0s - loss: 22920810.0000 - accuracy: 0.9633 - val_loss: 1043775936.0000 - val_accuracy: 0.4566\n",
      "Epoch 94/100\n",
      "25/25 - 0s - loss: 20743884.0000 - accuracy: 0.9633 - val_loss: 1043776704.0000 - val_accuracy: 0.4566\n",
      "Epoch 95/100\n",
      "25/25 - 0s - loss: 10264061.0000 - accuracy: 0.9846 - val_loss: 1043789248.0000 - val_accuracy: 0.4566\n",
      "Epoch 96/100\n",
      "25/25 - 0s - loss: 21333262.0000 - accuracy: 0.9653 - val_loss: 1043783936.0000 - val_accuracy: 0.4566\n",
      "Epoch 97/100\n",
      "25/25 - 0s - loss: 20901750.0000 - accuracy: 0.9614 - val_loss: 1043756800.0000 - val_accuracy: 0.4566\n",
      "Epoch 98/100\n",
      "25/25 - 0s - loss: 17148432.0000 - accuracy: 0.9788 - val_loss: 1043740160.0000 - val_accuracy: 0.4566\n",
      "Epoch 99/100\n",
      "25/25 - 0s - loss: 22537694.0000 - accuracy: 0.9653 - val_loss: 1043739776.0000 - val_accuracy: 0.4566\n",
      "Epoch 100/100\n",
      "25/25 - 1s - loss: 13609430.0000 - accuracy: 0.9653 - val_loss: 1043743104.0000 - val_accuracy: 0.4566\n"
     ]
    }
   ],
   "source": [
    "epochs = 100\n",
    "batch_size = 20\n",
    "history = model.fit(x=X_train, y=y_train, epochs = epochs, \n",
    "                    validation_data = (X_test,y_test),\n",
    "                    steps_per_epoch=X_train.shape[0] // batch_size,\n",
    "                    verbose=2, \n",
    "                    callbacks=[lr_schedule])"
   ]
  },
  {
   "cell_type": "code",
   "execution_count": 412,
   "id": "global-medium",
   "metadata": {},
   "outputs": [],
   "source": [
    "def plot_training(history):\n",
    "    fig = plt.figure(figsize=(12, 5))\n",
    "    plt.subplot(121)\n",
    "    plt.title(\"Loss\")\n",
    "    plt.plot(history.history['loss'], color='b', label=\"Training loss\")\n",
    "    plt.plot(history.history['val_loss'], color='r', label=\"validation loss\")\n",
    "    plt.legend(loc='best', shadow=True)\n",
    "\n",
    "    plt.subplot(122)\n",
    "    plt.title(\"Accuracy\")\n",
    "    plt.plot(history.history['accuracy'], color='b', label=\"Training accuracy\")\n",
    "    plt.plot(history.history['val_accuracy'], color='r',label=\"Validation accuracy\")\n",
    "    plt.legend(loc='best', shadow=True)\n",
    "    return fig"
   ]
  },
  {
   "cell_type": "code",
   "execution_count": 413,
   "id": "neural-insight",
   "metadata": {},
   "outputs": [
    {
     "data": {
      "image/png": "[encoded data removed]",
      "text/plain": [
       "<Figure size 864x360 with 2 Axes>"
      ]
     },
     "metadata": {
      "needs_background": "light"
     },
     "output_type": "display_data"
    }
   ],
   "source": [
    "f = plot_training(history)"
   ]
  },
  {
   "cell_type": "markdown",
   "id": "aggressive-livestock",
   "metadata": {},
   "source": [
    "#### 64% test accuracy\n",
    "\n",
    "```python\n",
    "model = keras.Sequential()\n",
    "model.add(keras.Input(shape=(500, 1)))  \n",
    "model.add(layers.Conv1D(100, 32, activation=\"linear\"))\n",
    "model.add(layers.MaxPooling1D(pool_size=4))\n",
    "model.add(layers.Flatten())\n",
    "model.add(layers.Dropout(0.5))\n",
    "model.add(layers.Dense(32, activation=\"linear\"))\n",
    "model.add(layers.Dropout(0.5))\n",
    "model.add(layers.Dense(20, activation=\"softmax\"))\n",
    "model.summary()\n",
    "```\n",
    "\n",
    "#### up to 76% test accuracy\n",
    "```python\n",
    "model = keras.Sequential()\n",
    "model.add(keras.Input(shape=(500, 1)))  \n",
    "model.add(layers.Conv1D(100, 16, activation=\"linear\")) \n",
    "model.add(layers.MaxPooling1D(pool_size=4))\n",
    "model.add(layers.Flatten())\n",
    "model.add(layers.Dropout(0.5))\n",
    "model.add(layers.Dense(64, activation=\"linear\"))\n",
    "model.add(layers.Dropout(0.5))\n",
    "model.add(layers.Dense(20, activation=\"softmax\"))\n",
    "model.summary()\n",
    "```\n",
    "\n",
    "#### converges to 76% test accuracy\n",
    "```python\n",
    "model = keras.Sequential()\n",
    "model.add(keras.Input(shape=(500, 1)))  \n",
    "model.add(layers.Conv1D(100, 8, activation=\"linear\")) \n",
    "model.add(layers.MaxPooling1D(pool_size=4))\n",
    "model.add(layers.Flatten())\n",
    "model.add(layers.Dropout(0.5))\n",
    "model.add(layers.Dense(64, activation=\"linear\"))\n",
    "model.add(layers.Dropout(0.5))\n",
    "model.add(layers.Dense(20, activation=\"softmax\"))\n",
    "model.summary()\n",
    "```\n",
    "\n",
    "#### 77% of test accuracy\n",
    "```python\n",
    "model = keras.Sequential()\n",
    "model.add(keras.Input(shape=(500, 1))) \n",
    "model.add(layers.Conv1D(150, 8, activation=\"linear\")) \n",
    "model.add(layers.MaxPooling1D(pool_size=6))\n",
    "model.add(layers.Flatten())\n",
    "model.add(layers.Dropout(0.5))\n",
    "model.add(layers.Dense(64, activation=\"linear\"))\n",
    "model.add(layers.Dropout(0.5))\n",
    "model.add(layers.Dense(20, activation=\"softmax\"))\n",
    "model.summary()\n",
    "```\n",
    "\n",
    "#### confident 81%\n",
    "```python\n",
    "model = keras.Sequential()\n",
    "model.add(keras.Input(shape=(500, 1)))  \n",
    "model.add(layers.Conv1D(128, 16, activation=\"linear\")) \n",
    "model.add(layers.MaxPooling1D(pool_size=8))\n",
    "model.add(layers.Flatten())\n",
    "model.add(layers.Dropout(0.5))\n",
    "model.add(layers.Dense(64, activation=\"linear\"))\n",
    "model.add(layers.Dropout(0.5))\n",
    "model.add(layers.Dense(20, activation=\"softmax\"))\n",
    "model.summary()\n",
    "```\n",
    "\n",
    "#### up to 81.71%\n",
    "```python\n",
    "model = keras.Sequential()\n",
    "model.add(keras.Input(shape=(500, 1))) \n",
    "model.add(layers.Conv1D(128, 16, activation=\"linear\", strides=2)) \n",
    "model.add(layers.MaxPooling1D(pool_size=8))\n",
    "model.add(layers.Flatten())\n",
    "model.add(layers.Dropout(0.5))\n",
    "model.add(layers.Dense(64, activation=\"linear\"))\n",
    "model.add(layers.Dropout(0.5))\n",
    "model.add(layers.Dense(20, activation=\"softmax\"))\n",
    "model.summary()\n",
    "```\n",
    "\n",
    "#### converges to 80%\n",
    "```python\n",
    "model = keras.Sequential()\n",
    "model.add(keras.Input(shape=(500, 1)))  \n",
    "model.add(layers.Conv1D(150, 10, activation=\"linear\")) \n",
    "model.add(layers.MaxPooling1D(pool_size=8))\n",
    "model.add(layers.Flatten())\n",
    "model.add(layers.Dropout(0.5))\n",
    "model.add(layers.Dense(64, activation=\"linear\"))\n",
    "model.add(layers.Dropout(0.5))\n",
    "model.add(layers.Dense(20, activation=\"softmax\"))\n",
    "model.summary()\n",
    "```\n",
    "\n",
    "- Also the structures with 2 Convolutional layers were tested (up to 50% accuracy)\n",
    "- Avg Pooling works poarly due to the fact, that the initial data is not normalized"
   ]
  },
  {
   "cell_type": "code",
   "execution_count": 414,
   "id": "nasty-commissioner",
   "metadata": {},
   "outputs": [],
   "source": [
    "from sklearn.metrics import confusion_matrix\n",
    "import itertools\n",
    "\n",
    "def plt_conf_matrix(cm, classes):\n",
    "    cmap=plt.cm.Blues\n",
    "    plt.figure(figsize=(10, 10))\n",
    "    plt.imshow(cm, interpolation=\"nearest\", cmap=cmap)\n",
    "    plt.title(\"Confusion matrix\")\n",
    "    plt.colorbar()\n",
    "    tick_marks = np.arange(len(classes))\n",
    "    plt.xticks(tick_marks, classes, rotation=45)\n",
    "    plt.yticks(tick_marks, classes)\n",
    "\n",
    "\n",
    "    thresh = cm.max() / 2.\n",
    "    for i, j in itertools.product(range(cm.shape[0]), range(cm.shape[1])):\n",
    "        plt.text(j, i, cm[i, j],\n",
    "                 horizontalalignment=\"center\",\n",
    "                 color=\"white\" if cm[i, j] > thresh else \"black\")\n",
    "\n",
    "    plt.tight_layout()\n",
    "    plt.ylabel(\"True label\")\n",
    "    plt.xlabel(\"Predicted label\")\n",
    "     "
   ]
  },
  {
   "cell_type": "code",
   "execution_count": 415,
   "id": "featured-development",
   "metadata": {},
   "outputs": [
    {
     "data": {
      "image/png": "[encoded data removed]",
      "text/plain": [
       "<Figure size 720x720 with 2 Axes>"
      ]
     },
     "metadata": {
      "needs_background": "light"
     },
     "output_type": "display_data"
    }
   ],
   "source": [
    "y_pred = model.predict(X_test)\n",
    "y_pred_classes = np.argmax(y_pred, axis = 1) \n",
    "y_true = np.argmax(y_test, axis = 1) \n",
    "confusion_mtx = confusion_matrix(y_true, y_pred_classes) \n",
    "plt_conf_matrix(confusion_mtx, classes = range(15))"
   ]
  },
  {
   "cell_type": "code",
   "execution_count": 56,
   "id": "endangered-black",
   "metadata": {},
   "outputs": [],
   "source": [
    "model.save('model.h5')"
   ]
  },
  {
   "cell_type": "markdown",
   "id": "latter-graduation",
   "metadata": {},
   "source": [
    "I don't know, what are these ebbeddings, but...\n",
    "\n",
    "## Let's apply normalization\n",
    "(thus `relu`, `than` and other activations may be used)"
   ]
  },
  {
   "cell_type": "code",
   "execution_count": 416,
   "id": "signal-sapphire",
   "metadata": {},
   "outputs": [],
   "source": [
    "from sklearn.preprocessing import StandardScaler"
   ]
  },
  {
   "cell_type": "code",
   "execution_count": 417,
   "id": "obvious-photographer",
   "metadata": {},
   "outputs": [
    {
     "name": "stdout",
     "output_type": "stream",
     "text": [
      "0 13396.308174143753 99263\n"
     ]
    }
   ],
   "source": [
    "print(X.min(), X.mean(), X.max())"
   ]
  },
  {
   "cell_type": "markdown",
   "id": "prepared-burden",
   "metadata": {},
   "source": [
    "As it can be seen, the avg value is far from it's maximum value, thus it is more readonable to apply Standard Scaling"
   ]
  },
  {
   "cell_type": "code",
   "execution_count": 418,
   "id": "cooked-cookie",
   "metadata": {},
   "outputs": [
    {
     "data": {
      "text/plain": [
       "(518, 600, 1)"
      ]
     },
     "execution_count": 418,
     "metadata": {},
     "output_type": "execute_result"
    }
   ],
   "source": [
    "ss = StandardScaler()\n",
    "X = X.reshape((-1, 600))\n",
    "X = ss.fit_transform(X)\n",
    "X = X.reshape((-1, 600, 1))\n",
    "\n",
    "X_train, X_test, y_train, y_test = train_test_split(X, y)\n",
    "X_train.shape"
   ]
  },
  {
   "cell_type": "code",
   "execution_count": 419,
   "id": "higher-secretariat",
   "metadata": {},
   "outputs": [
    {
     "name": "stdout",
     "output_type": "stream",
     "text": [
      "Model: \"sequential_43\"\n",
      "_________________________________________________________________\n",
      "Layer (type)                 Output Shape              Param #   \n",
      "=================================================================\n",
      "conv1d_51 (Conv1D)           (None, 585, 64)           1088      \n",
      "_________________________________________________________________\n",
      "max_pooling1d_51 (MaxPooling (None, 73, 64)            0         \n",
      "_________________________________________________________________\n",
      "conv1d_52 (Conv1D)           (None, 70, 32)            8224      \n",
      "_________________________________________________________________\n",
      "max_pooling1d_52 (MaxPooling (None, 8, 32)             0         \n",
      "_________________________________________________________________\n",
      "flatten_27 (Flatten)         (None, 256)               0         \n",
      "_________________________________________________________________\n",
      "dropout_66 (Dropout)         (None, 256)               0         \n",
      "_________________________________________________________________\n",
      "dense_90 (Dense)             (None, 64)                16448     \n",
      "_________________________________________________________________\n",
      "dropout_67 (Dropout)         (None, 64)                0         \n",
      "_________________________________________________________________\n",
      "dense_91 (Dense)             (None, 15)                975       \n",
      "=================================================================\n",
      "Total params: 26,735\n",
      "Trainable params: 26,735\n",
      "Non-trainable params: 0\n",
      "_________________________________________________________________\n"
     ]
    }
   ],
   "source": [
    "model = keras.Sequential()\n",
    "model.add(keras.Input(shape=(600, 1)))\n",
    "model.add(layers.Conv1D(64, 16, activation=\"tanh\"))\n",
    "model.add(layers.MaxPooling1D(pool_size=8))\n",
    "model.add(layers.Conv1D(32, 4, activation=\"linear\")) \n",
    "model.add(layers.MaxPooling1D(pool_size=8))\n",
    "model.add(layers.Flatten())\n",
    "model.add(layers.Dropout(0.5))\n",
    "model.add(layers.Dense(64, activation=\"linear\"))\n",
    "model.add(layers.Dropout(0.5))\n",
    "model.add(layers.Dense(15, activation=\"softmax\"))\n",
    "model.summary()"
   ]
  },
  {
   "cell_type": "code",
   "execution_count": 420,
   "id": "manufactured-titanium",
   "metadata": {},
   "outputs": [],
   "source": [
    "optimizer = optimizers.Adam(0.01)\n",
    "lr_schedule = callbacks.ReduceLROnPlateau(monitor='val_accuracy', factor=0.5, patience=5, min_delta=0.000001, verbouse=1)\n",
    "model.compile(optimizer = optimizer , loss = \"categorical_crossentropy\", metrics=[\"accuracy\"])"
   ]
  },
  {
   "cell_type": "code",
   "execution_count": 421,
   "id": "smaller-fortune",
   "metadata": {},
   "outputs": [
    {
     "name": "stdout",
     "output_type": "stream",
     "text": [
      "Epoch 1/100\n",
      "25/25 - 1s - loss: 3.2958 - accuracy: 0.0849 - val_loss: 2.7181 - val_accuracy: 0.0809\n",
      "Epoch 2/100\n",
      "25/25 - 1s - loss: 2.8095 - accuracy: 0.1197 - val_loss: 2.5354 - val_accuracy: 0.2023\n",
      "Epoch 3/100\n",
      "25/25 - 0s - loss: 2.5665 - accuracy: 0.1757 - val_loss: 2.6315 - val_accuracy: 0.1734\n",
      "Epoch 4/100\n",
      "25/25 - 0s - loss: 2.5215 - accuracy: 0.1892 - val_loss: 2.4069 - val_accuracy: 0.2254\n",
      "Epoch 5/100\n",
      "25/25 - 0s - loss: 2.4757 - accuracy: 0.2278 - val_loss: 2.7365 - val_accuracy: 0.1850\n",
      "Epoch 6/100\n",
      "25/25 - 0s - loss: 2.5372 - accuracy: 0.2085 - val_loss: 2.3050 - val_accuracy: 0.2659\n",
      "Epoch 7/100\n",
      "25/25 - 0s - loss: 2.4569 - accuracy: 0.2452 - val_loss: 2.3077 - val_accuracy: 0.2717\n",
      "Epoch 8/100\n",
      "25/25 - 0s - loss: 2.3370 - accuracy: 0.2722 - val_loss: 2.4233 - val_accuracy: 0.2312\n",
      "Epoch 9/100\n",
      "25/25 - 0s - loss: 2.2520 - accuracy: 0.2896 - val_loss: 2.3786 - val_accuracy: 0.2659\n",
      "Epoch 10/100\n",
      "25/25 - 0s - loss: 2.2701 - accuracy: 0.3012 - val_loss: 2.5001 - val_accuracy: 0.2428\n",
      "Epoch 11/100\n",
      "25/25 - 0s - loss: 2.3598 - accuracy: 0.3089 - val_loss: 2.4279 - val_accuracy: 0.2543\n",
      "Epoch 12/100\n",
      "25/25 - 0s - loss: 2.2598 - accuracy: 0.3069 - val_loss: 2.2877 - val_accuracy: 0.2717\n",
      "Epoch 13/100\n",
      "25/25 - 0s - loss: 1.8796 - accuracy: 0.3861 - val_loss: 2.2537 - val_accuracy: 0.3121\n",
      "Epoch 14/100\n",
      "25/25 - 0s - loss: 1.6938 - accuracy: 0.4595 - val_loss: 2.2653 - val_accuracy: 0.2890\n",
      "Epoch 15/100\n",
      "25/25 - 0s - loss: 1.5819 - accuracy: 0.4788 - val_loss: 2.1576 - val_accuracy: 0.3121\n",
      "Epoch 16/100\n",
      "25/25 - 0s - loss: 1.4267 - accuracy: 0.5405 - val_loss: 2.2694 - val_accuracy: 0.3526\n",
      "Epoch 17/100\n",
      "25/25 - 0s - loss: 1.4328 - accuracy: 0.5097 - val_loss: 2.0192 - val_accuracy: 0.3757\n",
      "Epoch 18/100\n",
      "25/25 - 0s - loss: 1.4227 - accuracy: 0.5463 - val_loss: 2.1460 - val_accuracy: 0.3815\n",
      "Epoch 19/100\n",
      "25/25 - 0s - loss: 1.2980 - accuracy: 0.5637 - val_loss: 2.1350 - val_accuracy: 0.3757\n",
      "Epoch 20/100\n",
      "25/25 - 0s - loss: 1.2084 - accuracy: 0.5965 - val_loss: 2.2739 - val_accuracy: 0.3584\n",
      "Epoch 21/100\n",
      "25/25 - 0s - loss: 1.2905 - accuracy: 0.5656 - val_loss: 2.1850 - val_accuracy: 0.3815\n",
      "Epoch 22/100\n",
      "25/25 - 0s - loss: 1.2427 - accuracy: 0.5811 - val_loss: 2.2501 - val_accuracy: 0.4104\n",
      "Epoch 23/100\n",
      "25/25 - 0s - loss: 1.2391 - accuracy: 0.5869 - val_loss: 2.2273 - val_accuracy: 0.3584\n",
      "Epoch 24/100\n",
      "25/25 - 0s - loss: 1.0877 - accuracy: 0.6486 - val_loss: 2.3894 - val_accuracy: 0.3988\n",
      "Epoch 25/100\n",
      "25/25 - 0s - loss: 1.1813 - accuracy: 0.6062 - val_loss: 2.1459 - val_accuracy: 0.4220\n",
      "Epoch 26/100\n",
      "25/25 - 0s - loss: 1.1554 - accuracy: 0.6390 - val_loss: 2.2322 - val_accuracy: 0.3526\n",
      "Epoch 27/100\n",
      "25/25 - 0s - loss: 1.1664 - accuracy: 0.6332 - val_loss: 2.5041 - val_accuracy: 0.3584\n",
      "Epoch 28/100\n",
      "25/25 - 0s - loss: 1.1815 - accuracy: 0.6236 - val_loss: 2.2634 - val_accuracy: 0.3873\n",
      "Epoch 29/100\n",
      "25/25 - 0s - loss: 0.9752 - accuracy: 0.6699 - val_loss: 2.3961 - val_accuracy: 0.3873\n",
      "Epoch 30/100\n",
      "25/25 - 0s - loss: 1.0276 - accuracy: 0.6757 - val_loss: 2.4422 - val_accuracy: 0.3699\n",
      "Epoch 31/100\n",
      "25/25 - 0s - loss: 0.8906 - accuracy: 0.7220 - val_loss: 2.2932 - val_accuracy: 0.4104\n",
      "Epoch 32/100\n",
      "25/25 - 0s - loss: 0.6673 - accuracy: 0.7838 - val_loss: 2.3496 - val_accuracy: 0.3988\n",
      "Epoch 33/100\n",
      "25/25 - 0s - loss: 0.6798 - accuracy: 0.7664 - val_loss: 2.2935 - val_accuracy: 0.4220\n",
      "Epoch 34/100\n",
      "25/25 - 0s - loss: 0.6062 - accuracy: 0.8108 - val_loss: 2.3224 - val_accuracy: 0.4220\n",
      "Epoch 35/100\n",
      "25/25 - 0s - loss: 0.5476 - accuracy: 0.8166 - val_loss: 2.2303 - val_accuracy: 0.4509\n",
      "Epoch 36/100\n",
      "25/25 - 0s - loss: 0.5736 - accuracy: 0.8050 - val_loss: 2.2693 - val_accuracy: 0.4509\n",
      "Epoch 37/100\n",
      "25/25 - 0s - loss: 0.5325 - accuracy: 0.8243 - val_loss: 2.3670 - val_accuracy: 0.4046\n",
      "Epoch 38/100\n",
      "25/25 - 0s - loss: 0.5273 - accuracy: 0.8340 - val_loss: 2.3685 - val_accuracy: 0.4162\n",
      "Epoch 39/100\n",
      "25/25 - 0s - loss: 0.4671 - accuracy: 0.8456 - val_loss: 2.3646 - val_accuracy: 0.4162\n",
      "Epoch 40/100\n",
      "25/25 - 0s - loss: 0.5192 - accuracy: 0.8263 - val_loss: 2.5366 - val_accuracy: 0.4046\n",
      "Epoch 41/100\n",
      "25/25 - 0s - loss: 0.5268 - accuracy: 0.8243 - val_loss: 2.3220 - val_accuracy: 0.4393\n",
      "Epoch 42/100\n",
      "25/25 - 0s - loss: 0.4334 - accuracy: 0.8649 - val_loss: 2.3296 - val_accuracy: 0.4046\n",
      "Epoch 43/100\n",
      "25/25 - 0s - loss: 0.3968 - accuracy: 0.8629 - val_loss: 2.3743 - val_accuracy: 0.4393\n",
      "Epoch 44/100\n",
      "25/25 - 0s - loss: 0.4165 - accuracy: 0.8649 - val_loss: 2.4325 - val_accuracy: 0.4335\n",
      "Epoch 45/100\n",
      "25/25 - 0s - loss: 0.3652 - accuracy: 0.8938 - val_loss: 2.3344 - val_accuracy: 0.4451\n",
      "Epoch 46/100\n",
      "25/25 - 0s - loss: 0.3093 - accuracy: 0.9054 - val_loss: 2.3711 - val_accuracy: 0.4509\n",
      "Epoch 47/100\n",
      "25/25 - 0s - loss: 0.2920 - accuracy: 0.9286 - val_loss: 2.4031 - val_accuracy: 0.4277\n",
      "Epoch 48/100\n",
      "25/25 - 0s - loss: 0.2959 - accuracy: 0.9015 - val_loss: 2.3747 - val_accuracy: 0.4277\n",
      "Epoch 49/100\n",
      "25/25 - 0s - loss: 0.3064 - accuracy: 0.9073 - val_loss: 2.4026 - val_accuracy: 0.4277\n",
      "Epoch 50/100\n",
      "25/25 - 0s - loss: 0.3059 - accuracy: 0.9170 - val_loss: 2.4277 - val_accuracy: 0.4393\n",
      "Epoch 51/100\n",
      "25/25 - 0s - loss: 0.3199 - accuracy: 0.9073 - val_loss: 2.4164 - val_accuracy: 0.4509\n",
      "Epoch 52/100\n",
      "25/25 - 0s - loss: 0.3455 - accuracy: 0.9035 - val_loss: 2.3860 - val_accuracy: 0.4509\n",
      "Epoch 53/100\n",
      "25/25 - 0s - loss: 0.3315 - accuracy: 0.8977 - val_loss: 2.4007 - val_accuracy: 0.4451\n",
      "Epoch 54/100\n",
      "25/25 - 0s - loss: 0.2679 - accuracy: 0.9170 - val_loss: 2.4202 - val_accuracy: 0.4335\n",
      "Epoch 55/100\n",
      "25/25 - 0s - loss: 0.2875 - accuracy: 0.9015 - val_loss: 2.4085 - val_accuracy: 0.4393\n",
      "Epoch 56/100\n",
      "25/25 - 0s - loss: 0.2925 - accuracy: 0.9131 - val_loss: 2.4001 - val_accuracy: 0.4335\n",
      "Epoch 57/100\n",
      "25/25 - 0s - loss: 0.2832 - accuracy: 0.9054 - val_loss: 2.4126 - val_accuracy: 0.4335\n",
      "Epoch 58/100\n",
      "25/25 - 0s - loss: 0.2305 - accuracy: 0.9382 - val_loss: 2.4183 - val_accuracy: 0.4393\n",
      "Epoch 59/100\n",
      "25/25 - 0s - loss: 0.2579 - accuracy: 0.9247 - val_loss: 2.4181 - val_accuracy: 0.4393\n",
      "Epoch 60/100\n",
      "25/25 - 0s - loss: 0.2980 - accuracy: 0.9054 - val_loss: 2.4213 - val_accuracy: 0.4451\n",
      "Epoch 61/100\n",
      "25/25 - 0s - loss: 0.3158 - accuracy: 0.8996 - val_loss: 2.4151 - val_accuracy: 0.4393\n",
      "Epoch 62/100\n",
      "25/25 - 0s - loss: 0.2802 - accuracy: 0.9112 - val_loss: 2.4100 - val_accuracy: 0.4393\n",
      "Epoch 63/100\n",
      "25/25 - 0s - loss: 0.3115 - accuracy: 0.8880 - val_loss: 2.4075 - val_accuracy: 0.4451\n",
      "Epoch 64/100\n",
      "25/25 - 0s - loss: 0.2709 - accuracy: 0.9228 - val_loss: 2.4017 - val_accuracy: 0.4335\n",
      "Epoch 65/100\n",
      "25/25 - 0s - loss: 0.2855 - accuracy: 0.9112 - val_loss: 2.4070 - val_accuracy: 0.4335\n",
      "Epoch 66/100\n",
      "25/25 - 0s - loss: 0.2267 - accuracy: 0.9421 - val_loss: 2.4090 - val_accuracy: 0.4393\n",
      "Epoch 67/100\n",
      "25/25 - 0s - loss: 0.2522 - accuracy: 0.9151 - val_loss: 2.4114 - val_accuracy: 0.4335\n",
      "Epoch 68/100\n",
      "25/25 - 0s - loss: 0.2776 - accuracy: 0.9151 - val_loss: 2.4122 - val_accuracy: 0.4335\n",
      "Epoch 69/100\n",
      "25/25 - 0s - loss: 0.3016 - accuracy: 0.9035 - val_loss: 2.4128 - val_accuracy: 0.4335\n",
      "Epoch 70/100\n",
      "25/25 - 0s - loss: 0.2286 - accuracy: 0.9344 - val_loss: 2.4138 - val_accuracy: 0.4335\n",
      "Epoch 71/100\n",
      "25/25 - 0s - loss: 0.2736 - accuracy: 0.9228 - val_loss: 2.4147 - val_accuracy: 0.4335\n",
      "Epoch 72/100\n",
      "25/25 - 0s - loss: 0.2493 - accuracy: 0.9286 - val_loss: 2.4161 - val_accuracy: 0.4335\n",
      "Epoch 73/100\n",
      "25/25 - 0s - loss: 0.2584 - accuracy: 0.9208 - val_loss: 2.4154 - val_accuracy: 0.4335\n",
      "Epoch 74/100\n",
      "25/25 - 0s - loss: 0.2545 - accuracy: 0.9305 - val_loss: 2.4116 - val_accuracy: 0.4335\n",
      "Epoch 75/100\n",
      "25/25 - 0s - loss: 0.2621 - accuracy: 0.9131 - val_loss: 2.4114 - val_accuracy: 0.4335\n",
      "Epoch 76/100\n",
      "25/25 - 0s - loss: 0.2927 - accuracy: 0.9228 - val_loss: 2.4113 - val_accuracy: 0.4335\n",
      "Epoch 77/100\n",
      "25/25 - 0s - loss: 0.2626 - accuracy: 0.9247 - val_loss: 2.4103 - val_accuracy: 0.4335\n",
      "Epoch 78/100\n",
      "25/25 - 0s - loss: 0.2545 - accuracy: 0.9189 - val_loss: 2.4102 - val_accuracy: 0.4335\n",
      "Epoch 79/100\n",
      "25/25 - 0s - loss: 0.2930 - accuracy: 0.9131 - val_loss: 2.4105 - val_accuracy: 0.4335\n",
      "Epoch 80/100\n",
      "25/25 - 0s - loss: 0.2638 - accuracy: 0.9266 - val_loss: 2.4108 - val_accuracy: 0.4335\n",
      "Epoch 81/100\n",
      "25/25 - 0s - loss: 0.2607 - accuracy: 0.9344 - val_loss: 2.4111 - val_accuracy: 0.4335\n",
      "Epoch 82/100\n",
      "25/25 - 0s - loss: 0.2664 - accuracy: 0.9247 - val_loss: 2.4115 - val_accuracy: 0.4335\n",
      "Epoch 83/100\n",
      "25/25 - 0s - loss: 0.2658 - accuracy: 0.9170 - val_loss: 2.4120 - val_accuracy: 0.4335\n",
      "Epoch 84/100\n",
      "25/25 - 0s - loss: 0.2421 - accuracy: 0.9189 - val_loss: 2.4118 - val_accuracy: 0.4277\n",
      "Epoch 85/100\n",
      "25/25 - 0s - loss: 0.2759 - accuracy: 0.9228 - val_loss: 2.4120 - val_accuracy: 0.4277\n",
      "Epoch 86/100\n",
      "25/25 - 0s - loss: 0.2831 - accuracy: 0.9093 - val_loss: 2.4121 - val_accuracy: 0.4277\n",
      "Epoch 87/100\n",
      "25/25 - 0s - loss: 0.2061 - accuracy: 0.9421 - val_loss: 2.4122 - val_accuracy: 0.4277\n",
      "Epoch 88/100\n",
      "25/25 - 0s - loss: 0.2808 - accuracy: 0.9112 - val_loss: 2.4124 - val_accuracy: 0.4277\n",
      "Epoch 89/100\n",
      "25/25 - 0s - loss: 0.2724 - accuracy: 0.9035 - val_loss: 2.4126 - val_accuracy: 0.4277\n",
      "Epoch 90/100\n",
      "25/25 - 0s - loss: 0.3013 - accuracy: 0.8919 - val_loss: 2.4129 - val_accuracy: 0.4277\n",
      "Epoch 91/100\n",
      "25/25 - 0s - loss: 0.2632 - accuracy: 0.9363 - val_loss: 2.4128 - val_accuracy: 0.4277\n",
      "Epoch 92/100\n",
      "25/25 - 0s - loss: 0.2531 - accuracy: 0.9189 - val_loss: 2.4128 - val_accuracy: 0.4277\n",
      "Epoch 93/100\n",
      "25/25 - 0s - loss: 0.2777 - accuracy: 0.9073 - val_loss: 2.4128 - val_accuracy: 0.4277\n",
      "Epoch 94/100\n",
      "25/25 - 0s - loss: 0.3091 - accuracy: 0.9112 - val_loss: 2.4127 - val_accuracy: 0.4277\n",
      "Epoch 95/100\n",
      "25/25 - 0s - loss: 0.2359 - accuracy: 0.9363 - val_loss: 2.4127 - val_accuracy: 0.4277\n",
      "Epoch 96/100\n",
      "25/25 - 0s - loss: 0.2587 - accuracy: 0.9266 - val_loss: 2.4127 - val_accuracy: 0.4277\n",
      "Epoch 97/100\n",
      "25/25 - 0s - loss: 0.2586 - accuracy: 0.9228 - val_loss: 2.4128 - val_accuracy: 0.4277\n",
      "Epoch 98/100\n",
      "25/25 - 0s - loss: 0.2910 - accuracy: 0.9093 - val_loss: 2.4128 - val_accuracy: 0.4277\n",
      "Epoch 99/100\n",
      "25/25 - 0s - loss: 0.2566 - accuracy: 0.9151 - val_loss: 2.4128 - val_accuracy: 0.4277\n",
      "Epoch 100/100\n",
      "25/25 - 0s - loss: 0.2689 - accuracy: 0.9189 - val_loss: 2.4128 - val_accuracy: 0.4277\n"
     ]
    }
   ],
   "source": [
    "epochs = 100\n",
    "batch_size = 20\n",
    "history = model.fit(x=X_train, y=y_train, epochs = epochs, \n",
    "                    validation_data = (X_test,y_test),\n",
    "                    steps_per_epoch=X_train.shape[0] // batch_size,\n",
    "                    verbose=2, \n",
    "                    callbacks=[lr_schedule])"
   ]
  },
  {
   "cell_type": "markdown",
   "id": "broad-spyware",
   "metadata": {},
   "source": [
    "#### 80% accuracy (previous model)\n",
    "```python\n",
    "model = keras.Sequential()\n",
    "model.add(keras.Input(shape=(500, 1)))\n",
    "model.add(layers.Conv1D(150, 10, activation=\"linear\")) \n",
    "model.add(layers.MaxPooling1D(pool_size=8))\n",
    "model.add(layers.Flatten())\n",
    "model.add(layers.Dropout(0.5))\n",
    "model.add(layers.Dense(64, activation=\"linear\"))\n",
    "model.add(layers.Dropout(0.5))\n",
    "model.add(layers.Dense(20, activation=\"softmax\"))\n",
    "model.summary()\n",
    "```\n",
    "\n",
    "#### 82%\n",
    "```python\n",
    "model = keras.Sequential()\n",
    "model.add(keras.Input(shape=(500, 1)))\n",
    "model.add(layers.Conv1D(128, 16, activation=\"tanh\"))\n",
    "model.add(layers.MaxPooling1D(pool_size=8))\n",
    "model.add(layers.Flatten())\n",
    "model.add(layers.Dropout(0.5))\n",
    "model.add(layers.Dense(64, activation=\"linear\"))\n",
    "model.add(layers.Dropout(0.5))\n",
    "model.add(layers.Dense(20, activation=\"softmax\"))\n",
    "model.summary()\n",
    "```\n",
    "\n",
    "#### 86% up to 87%\n",
    "```python\n",
    "model = keras.Sequential()\n",
    "model.add(keras.Input(shape=(500, 1)))\n",
    "model.add(layers.Conv1D(64, 16, activation=\"tanh\"))\n",
    "model.add(layers.MaxPooling1D(pool_size=8))\n",
    "model.add(layers.Conv1D(32, 4, activation=\"linear\")) \n",
    "model.add(layers.MaxPooling1D(pool_size=8))\n",
    "model.add(layers.Flatten())\n",
    "model.add(layers.Dropout(0.5))\n",
    "model.add(layers.Dense(64, activation=\"linear\"))\n",
    "model.add(layers.Dropout(0.5))\n",
    "model.add(layers.Dense(20, activation=\"softmax\"))\n",
    "model.summary()\n",
    "```\n",
    "\n",
    "#### 84%\n",
    "```python\n",
    "model = keras.Sequential()\n",
    "model.add(keras.Input(shape=(500, 1)))\n",
    "model.add(layers.Conv1D(64, 16, activation=\"tanh\"))\n",
    "model.add(layers.MaxPooling1D(pool_size=8))\n",
    "model.add(layers.Conv1D(32, 4, activation=\"linear\")) \n",
    "model.add(layers.MaxPooling1D(pool_size=4))\n",
    "model.add(layers.Flatten())\n",
    "model.add(layers.Dropout(0.5))\n",
    "model.add(layers.Dense(64, activation=\"linear\"))\n",
    "model.add(layers.Dropout(0.5))\n",
    "model.add(layers.Dense(20, activation=\"softmax\"))\n",
    "model.summary()\n",
    "```\n",
    "#### 84%\n",
    "```python\n",
    "model = keras.Sequential()\n",
    "model.add(keras.Input(shape=(500, 1)))\n",
    "model.add(layers.Conv1D(64, 16, activation=\"tanh\"))\n",
    "model.add(layers.AveragePooling1D(pool_size=8))\n",
    "model.add(layers.Conv1D(32, 8, activation=\"linear\")) \n",
    "model.add(layers.AveragePooling1D(pool_size=4))\n",
    "model.add(layers.Flatten())\n",
    "model.add(layers.Dropout(0.5))\n",
    "model.add(layers.Dense(64, activation=\"linear\"))\n",
    "model.add(layers.Dropout(0.5))\n",
    "model.add(layers.Dense(20, activation=\"softmax\"))\n",
    "model.summary()\n",
    "```\n",
    "\n",
    "#### 83%\n",
    "```python\n",
    "model = keras.Sequential()\n",
    "model.add(keras.Input(shape=(500, 1)))\n",
    "model.add(layers.Conv1D(128, 16, activation=\"relu\"))\n",
    "model.add(layers.MaxPooling1D(pool_size=8))\n",
    "model.add(layers.Flatten())\n",
    "model.add(layers.Dropout(0.5))\n",
    "model.add(layers.Dense(64, activation=\"linear\"))\n",
    "model.add(layers.Dropout(0.5))\n",
    "model.add(layers.Dense(20, activation=\"softmax\"))\n",
    "model.summary()\n",
    "```"
   ]
  },
  {
   "cell_type": "code",
   "execution_count": 87,
   "id": "hazardous-liabilities",
   "metadata": {},
   "outputs": [],
   "source": [
    "model.save('86_model.h5')"
   ]
  },
  {
   "cell_type": "code",
   "execution_count": 422,
   "id": "governing-filter",
   "metadata": {},
   "outputs": [
    {
     "data": {
      "image/png": "[encoded data removed]",
      "text/plain": [
       "<Figure size 864x360 with 2 Axes>"
      ]
     },
     "metadata": {
      "needs_background": "light"
     },
     "output_type": "display_data"
    }
   ],
   "source": [
    "f = plot_training(history)"
   ]
  },
  {
   "cell_type": "code",
   "execution_count": 423,
   "id": "cutting-adelaide",
   "metadata": {},
   "outputs": [
    {
     "data": {
      "image/png": "[encoded data removed]",
      "text/plain": [
       "<Figure size 720x720 with 2 Axes>"
      ]
     },
     "metadata": {
      "needs_background": "light"
     },
     "output_type": "display_data"
    }
   ],
   "source": [
    "y_pred = model.predict(X_test)\n",
    "y_pred_classes = np.argmax(y_pred, axis = 1) \n",
    "y_true = np.argmax(y_test, axis = 1) \n",
    "confusion_mtx = confusion_matrix(y_true, y_pred_classes) \n",
    "plt_conf_matrix(confusion_mtx, classes = range(15))"
   ]
  },
  {
   "cell_type": "markdown",
   "id": "gentle-essex",
   "metadata": {},
   "source": [
    "## Triplet loss\n",
    "- useful [link1](https://zhangruochi.com/Create-a-Siamese-Network-with-Triplet-Loss-in-Keras/2020/08/11/ ), [link2](https://codepad.co/snippet/triplet-loss-in-keras-tensorflow-backend)\n",
    "\n",
    "### Main idea (If I understood correctly)\n",
    "- create embedding for embeddings (?)\n",
    "- apply KNN to find the closest vectors - if the problem is related to the classification\n",
    "\n",
    "### Data preprocessing flow:\n",
    "1. Split X[-1, 500] on pices of [-1, 100] and increase the dimensionality of array\n",
    "2. Shuffle ???\n",
    "3. Create batch_loader:\n",
    "        3.1. Select anchor samples (**TODO** search if it is usually done sequentially or randomly)\n",
    "        3.2. Select some X, where y is the same (random or sequential???)\n",
    "        3.3. Select some X, where y is different (random or sequential???)\n",
    "4. Create model (e.g. Sequential)\n",
    "5. Concatenate 3 models for anchor, positives an negatives // this is exactly the parallel convolution, which I was searching during the previous stages\n",
    "6. Create a functions `loss` and `data_generator`\n",
    "7. Train model with dummy y (e.g 0) ([good example](https://github.com/AdrianUng/keras-triplet-loss-mnist#visualizing-separation-of-classes ), [their code](https://github.com/AdrianUng/keras-triplet-loss-mnist/blob/master/Triplet_loss_KERAS_semi_hard_from_TF.ipynb))\n",
    "8. Apply the visualization with PCA/test on KNN????"
   ]
  },
  {
   "cell_type": "markdown",
   "id": "senior-modeling",
   "metadata": {},
   "source": [
    "### Make samples smaller, e.g. 100\n",
    "- potential problem - files are ended with zeros, if amount of tokens is less\n"
   ]
  },
  {
   "cell_type": "code",
   "execution_count": 424,
   "id": "theoretical-symphony",
   "metadata": {},
   "outputs": [],
   "source": [
    "def crop_to(X, y, crop=100, threshold=80):\n",
    "    new_X = []\n",
    "    new_y = []\n",
    "    for old_x, old_y in zip(X, y):\n",
    "        for el in old_x.reshape(-1, 100):\n",
    "            if(np.count_nonzero(el) > 80):\n",
    "                new_X.append(list(el))\n",
    "                new_y.append(np.argmax(old_y))\n",
    "    \n",
    "    new_X = np.array(new_X).reshape(-1, crop, 1)\n",
    "    new_y = np.array(new_y)\n",
    "    return new_X, new_y\n",
    "\n",
    "# new_X, new_y = crop_to(X, y)\n",
    "new_X, new_y = X, np.argmax(y, axis=1)"
   ]
  },
  {
   "cell_type": "code",
   "execution_count": 425,
   "id": "advance-letter",
   "metadata": {},
   "outputs": [
    {
     "data": {
      "text/plain": [
       "(691, 600, 1)"
      ]
     },
     "execution_count": 425,
     "metadata": {},
     "output_type": "execute_result"
    }
   ],
   "source": [
    "new_X.shape"
   ]
  },
  {
   "cell_type": "code",
   "execution_count": 426,
   "id": "laden-henry",
   "metadata": {},
   "outputs": [],
   "source": [
    "data_length = new_y.shape[0]"
   ]
  },
  {
   "cell_type": "markdown",
   "id": "neural-reunion",
   "metadata": {},
   "source": [
    "### Shuffle - do I need this?\n",
    "- No, because in the batch I'm going to use random"
   ]
  },
  {
   "cell_type": "markdown",
   "id": "complicated-irish",
   "metadata": {},
   "source": [
    "### Batch generation"
   ]
  },
  {
   "cell_type": "code",
   "execution_count": 427,
   "id": "handled-interest",
   "metadata": {},
   "outputs": [],
   "source": [
    "def batch_generator(X, y):\n",
    "    \n",
    "    data_length = X.shape[0]\n",
    "    index = np.random.randint(data_length)\n",
    "    anchor, anchor_y = X[index], y[index]\n",
    "    \n",
    "    positive = X[np.random.choice(np.where(y==anchor_y)[0])]\n",
    "    negative = X[np.random.choice(np.where(y!=anchor_y)[0])]\n",
    "    \n",
    "    return [list(anchor), list(positive), list(negative)]\n",
    "\n",
    "def batches_generator(X, y, batch_size=32):\n",
    "    '''\n",
    "    Array of batch_generator results\n",
    "    \n",
    "    batch_size - size of the generated array\n",
    "    '''\n",
    "    all_data = np.array([batch_generator(X, y) for i in range(batch_size)])\n",
    "    anchors = all_data[:, 0, :]\n",
    "    positives = all_data[:, 1, :]\n",
    "    negatives = all_data[:, 2, :]\n",
    "    return anchors, positives, negatives\n",
    "\n",
    "def data_generator(X, y, batch_size=32, input_size=600):\n",
    "    while True:\n",
    "        batch = batches_generator(X, y, batch_size)\n",
    "        labels = np.zeros((batch_size, input_size*3)) \n",
    "        yield batch, labels\n",
    "        \n"
   ]
  },
  {
   "cell_type": "markdown",
   "id": "aerial-killer",
   "metadata": {},
   "source": [
    "### Model creation\n",
    "\n",
    "\n",
    "- let's repeat the best arch"
   ]
  },
  {
   "cell_type": "code",
   "execution_count": 428,
   "id": "funky-quarterly",
   "metadata": {},
   "outputs": [],
   "source": [
    "import tensorflow as tf\n",
    "from tensorflow.keras import regularizers\n",
    "\n",
    "\n",
    "from sklearn.neighbors import KNeighborsClassifier\n",
    "from sklearn.metrics import accuracy_score"
   ]
  },
  {
   "cell_type": "code",
   "execution_count": 429,
   "id": "level-throw",
   "metadata": {},
   "outputs": [],
   "source": [
    "params = {\n",
    "    \"activations\" : [\"tanh\", \"relu\", \"elu\", \"sigmoid\", \"linear\", \"selu\", \"gelu\", \"swish\"],\n",
    "    #\"output_sizes\" : [50, 100, 500],\n",
    "    \"L2_lambda\": [0.01, 0.001, 0.0001],\n",
    "    \"pool_1_size\": [4, 8],\n",
    "    \"pool_2_size\":[4, 8],\n",
    "    \"conv_1_size\": [16, 32, 64],\n",
    "    \"conv_2_size\":[4, 8],\n",
    "    \"dense_1\": [64]   \n",
    "}\n",
    "params = {\n",
    "    \"activations\" : [\"relu\"],\n",
    "    #\"output_sizes\" : [50, 100, 500],\n",
    "    \"L2_lambda\": [0.001],\n",
    "    \"pool_1_size\": [4, 8],\n",
    "    \"pool_2_size\":[4, 8],\n",
    "    \"conv_1_size\": [8, 16],\n",
    "    \"conv_2_size\":[4, 8],\n",
    "    \"dense_1\": [64]   \n",
    "}"
   ]
  },
  {
   "cell_type": "code",
   "execution_count": 430,
   "id": "violent-public",
   "metadata": {},
   "outputs": [
    {
     "data": {
      "text/plain": [
       "((691, 600, 1), (691,))"
      ]
     },
     "execution_count": 430,
     "metadata": {},
     "output_type": "execute_result"
    }
   ],
   "source": [
    "new_X.shape, new_y.shape"
   ]
  },
  {
   "cell_type": "code",
   "execution_count": 431,
   "id": "amateur-diabetes",
   "metadata": {},
   "outputs": [],
   "source": [
    "output_size = 50\n",
    "input_size = 600"
   ]
  },
  {
   "cell_type": "code",
   "execution_count": 432,
   "id": "different-concentrate",
   "metadata": {},
   "outputs": [],
   "source": [
    "def create_model(activation=\"linear\", L2_lambda=0.02, \n",
    "                 pool_1_size=4, pool_2_size=4, \n",
    "                 conv_1_size=16, conv_2_size=4, dense_1=64):\n",
    "    \n",
    "    model_core = keras.Sequential()\n",
    "    model_core.add(layers.Conv1D(64, conv_1_size, \n",
    "                                 activation=activation, \n",
    "                                 kernel_regularizer=regularizers.L2(L2_lambda)))\n",
    "    \n",
    "    model_core.add(layers.LayerNormalization(axis=1))\n",
    "    model_core.add(layers.MaxPooling1D(pool_size=pool_1_size))\n",
    "    \n",
    "    model_core.add(layers.Conv1D(32, conv_2_size, \n",
    "                                 activation=activation, \n",
    "                                 kernel_regularizer=regularizers.L2(L2_lambda)))\n",
    "\n",
    "    model_core.add(layers.LayerNormalization(axis=1))\n",
    "    model_core.add(layers.MaxPooling1D(pool_size=pool_2_size))\n",
    "    \n",
    "    model_core.add(layers.Flatten())\n",
    "    model_core.add(layers.Dropout(0.5))\n",
    "    model_core.add(layers.Dense(dense_1, activation=activation, \n",
    "                                kernel_regularizer=regularizers.L2(L2_lambda)))\n",
    "    model_core.add(layers.LayerNormalization(axis=1))\n",
    "    \n",
    "    model_core.add(layers.Dropout(0.5))\n",
    "    model_core.add(layers.Dense(output_size, activation=activation, \n",
    "                                kernel_regularizer=regularizers.L2(L2_lambda)))\n",
    "    model_core.add(layers.LayerNormalization(axis=1))\n",
    "    return model_core\n"
   ]
  },
  {
   "cell_type": "code",
   "execution_count": 433,
   "id": "certain-tobago",
   "metadata": {},
   "outputs": [],
   "source": [
    "def triplet_loss(y_true, y_pred):\n",
    "    alpha = 0.2\n",
    "    y_pred = tf.convert_to_tensor(y_pred)\n",
    "    global output_size\n",
    "    anchor = y_pred[:, :output_size]\n",
    "    positive = y_pred[:, output_size:2*output_size]\n",
    "    negative = y_pred[:, 2*output_size:]\n",
    "    \n",
    "    positive_dist = tf.reduce_mean(tf.square(anchor - positive), axis=1)\n",
    "    negative_dist = tf.reduce_mean(tf.square(anchor - negative), axis=1)\n",
    "\n",
    "    return tf.maximum(positive_dist - negative_dist + alpha, 0.)"
   ]
  },
  {
   "cell_type": "code",
   "execution_count": 434,
   "id": "respected-wagner",
   "metadata": {},
   "outputs": [],
   "source": [
    "def create_triplet_model(input_size, model_core):\n",
    "    \n",
    "    input_anchor = layers.Input(shape=(input_size, 1))\n",
    "    input_positive = layers.Input(shape=(input_size, 1))\n",
    "    input_negative = layers.Input(shape=(input_size, 1))\n",
    "\n",
    "    model_anchor = model_core(input_anchor)\n",
    "    model_positive = model_core(input_positive)\n",
    "    model_negative = model_core(input_negative)\n",
    "\n",
    "    result = layers.concatenate([model_anchor, model_positive, model_negative], axis=1)\n",
    "    model = models.Model([input_anchor, input_positive, input_negative], result)\n",
    "    return model\n"
   ]
  },
  {
   "cell_type": "code",
   "execution_count": 435,
   "id": "welcome-millennium",
   "metadata": {},
   "outputs": [],
   "source": [
    "def train(new_X, new_y, input_size, model):\n",
    "    batch_size = 64\n",
    "    epochs = 100\n",
    "    steps_per_epoch = int(new_X.shape[0]/batch_size)\n",
    "\n",
    "    optimizer = optimizers.Adam(0.1)\n",
    "    lr_schedule = callbacks.ReduceLROnPlateau(monitor='loss', actor=0.5, patience=2, min_delta=0.000001, verbouse=1)\n",
    "    early_stopping = callbacks.EarlyStopping(monitor=\"loss\", min_delta = 0.0001, patience=5, restore_best_weights=True)\n",
    "\n",
    "    model.compile(loss=triplet_loss, optimizer=optimizer)\n",
    "    history = model.fit(data_generator(new_X, new_y, batch_size, input_size),\n",
    "                        steps_per_epoch=steps_per_epoch,\n",
    "                        epochs=epochs, \n",
    "                        verbose=0, \n",
    "                        callbacks=[lr_schedule, early_stopping])\n",
    "    return model, history\n"
   ]
  },
  {
   "cell_type": "code",
   "execution_count": 436,
   "id": "minus-belize",
   "metadata": {},
   "outputs": [],
   "source": [
    "from sklearn.metrics import f1_score, precision_score, recall_score"
   ]
  },
  {
   "cell_type": "code",
   "execution_count": 437,
   "id": "upset-memphis",
   "metadata": {},
   "outputs": [],
   "source": [
    "def test(model_core, new_X, new_y):\n",
    "    transformed_X = model_core.predict(new_X.reshape(-1, input_size, 1))\n",
    "    X_train, X_test, y_train, y_test = train_test_split(transformed_X, new_y)\n",
    "    \n",
    "   \n",
    "    knn = KNeighborsClassifier(n_neighbors=3, algorithm=\"ball_tree\", weights=\"distance\")\n",
    "    knn.fit(X_train, y_train)\n",
    "    y_pred = knn.predict(X_test)\n",
    "    \n",
    "    score = accuracy_score(y_test, y_pred)\n",
    "    \n",
    "    return score"
   ]
  },
  {
   "cell_type": "code",
   "execution_count": 438,
   "id": "hispanic-glossary",
   "metadata": {},
   "outputs": [
    {
     "data": {
      "text/plain": [
       "16"
      ]
     },
     "execution_count": 438,
     "metadata": {},
     "output_type": "execute_result"
    }
   ],
   "source": [
    "param_list = []\n",
    "for key in params.keys():\n",
    "    if len(param_list)==0:\n",
    "        for x in params[key]:\n",
    "            param_list.append([x])\n",
    "    else:\n",
    "        new_param_list = []\n",
    "        for l in param_list:\n",
    "            for x in params[key]:\n",
    "                l_copy = l.copy()\n",
    "                l_copy.append(x)\n",
    "                new_param_list.append(l_copy)\n",
    "        param_list = new_param_list\n",
    "len(param_list)"
   ]
  },
  {
   "cell_type": "code",
   "execution_count": 439,
   "id": "japanese-conducting",
   "metadata": {},
   "outputs": [
    {
     "data": {
      "text/plain": [
       "['relu', 0.001, 4, 4, 8, 4, 64]"
      ]
     },
     "execution_count": 439,
     "metadata": {},
     "output_type": "execute_result"
    }
   ],
   "source": [
    "param_list[0]"
   ]
  },
  {
   "cell_type": "code",
   "execution_count": 440,
   "id": "reported-saying",
   "metadata": {},
   "outputs": [],
   "source": [
    "import tqdm"
   ]
  },
  {
   "cell_type": "code",
   "execution_count": 441,
   "id": "minute-perry",
   "metadata": {},
   "outputs": [
    {
     "name": "stderr",
     "output_type": "stream",
     "text": [
      "  6%|▋         | 1/16 [02:02<30:43, 122.92s/it]"
     ]
    },
    {
     "name": "stdout",
     "output_type": "stream",
     "text": [
      "['relu', 0.001, 4, 4, 8, 4, 64] 0.12716763005780346\n"
     ]
    },
    {
     "name": "stderr",
     "output_type": "stream",
     "text": [
      " 12%|█▎        | 2/16 [03:27<23:26, 100.45s/it]"
     ]
    },
    {
     "name": "stdout",
     "output_type": "stream",
     "text": [
      "['relu', 0.001, 4, 4, 8, 8, 64] 0.13872832369942195\n"
     ]
    },
    {
     "name": "stderr",
     "output_type": "stream",
     "text": [
      " 38%|███▊      | 6/16 [07:05<09:31, 57.10s/it] "
     ]
    },
    {
     "name": "stdout",
     "output_type": "stream",
     "text": [
      "['relu', 0.001, 4, 8, 8, 8, 64] 0.14450867052023122\n"
     ]
    },
    {
     "name": "stderr",
     "output_type": "stream",
     "text": [
      " 56%|█████▋    | 9/16 [11:40<09:09, 78.53s/it]"
     ]
    },
    {
     "name": "stdout",
     "output_type": "stream",
     "text": [
      "['relu', 0.001, 8, 4, 8, 4, 64] 0.16184971098265896\n"
     ]
    },
    {
     "name": "stderr",
     "output_type": "stream",
     "text": [
      "100%|██████████| 16/16 [17:56<00:00, 67.25s/it]\n"
     ]
    }
   ],
   "source": [
    "max_score = 0\n",
    "best_model = None\n",
    "log = []\n",
    "core_model = None\n",
    "for p in tqdm.tqdm(param_list):\n",
    "    core_model = create_model(*p)\n",
    "    triplet = create_triplet_model(input_size, core_model)\n",
    "    model, history = train(new_X, new_y, input_size, triplet)\n",
    "    score = test(core_model, new_X, new_y)\n",
    "    if score > max_score:\n",
    "        max_score = score\n",
    "        best_model = model\n",
    "        print(p, score)\n",
    "    log.append({\"score\": score, \"history\": history, \"params\": p})\n"
   ]
  },
  {
   "cell_type": "code",
   "execution_count": 324,
   "id": "ranking-creation",
   "metadata": {},
   "outputs": [
    {
     "name": "stdout",
     "output_type": "stream",
     "text": [
      "16\n"
     ]
    }
   ],
   "source": [
    "print(len(log))"
   ]
  },
  {
   "cell_type": "code",
   "execution_count": 325,
   "id": "remarkable-share",
   "metadata": {},
   "outputs": [],
   "source": [
    "log_df = pd.DataFrame(log)"
   ]
  },
  {
   "cell_type": "code",
   "execution_count": 326,
   "id": "fitting-snowboard",
   "metadata": {},
   "outputs": [
    {
     "data": {
      "text/html": [
       "<div>\n",
       "<style scoped>\n",
       "    .dataframe tbody tr th:only-of-type {\n",
       "        vertical-align: middle;\n",
       "    }\n",
       "\n",
       "    .dataframe tbody tr th {\n",
       "        vertical-align: top;\n",
       "    }\n",
       "\n",
       "    .dataframe thead th {\n",
       "        text-align: right;\n",
       "    }\n",
       "</style>\n",
       "<table border=\"1\" class=\"dataframe\">\n",
       "  <thead>\n",
       "    <tr style=\"text-align: right;\">\n",
       "      <th></th>\n",
       "      <th>score</th>\n",
       "      <th>history</th>\n",
       "      <th>params</th>\n",
       "    </tr>\n",
       "  </thead>\n",
       "  <tbody>\n",
       "    <tr>\n",
       "      <th>0</th>\n",
       "      <td>0.136691</td>\n",
       "      <td>&lt;tensorflow.python.keras.callbacks.History obj...</td>\n",
       "      <td>[relu, 0.001, 4, 4, 8, 4, 64]</td>\n",
       "    </tr>\n",
       "    <tr>\n",
       "      <th>1</th>\n",
       "      <td>0.136691</td>\n",
       "      <td>&lt;tensorflow.python.keras.callbacks.History obj...</td>\n",
       "      <td>[relu, 0.001, 4, 4, 8, 8, 64]</td>\n",
       "    </tr>\n",
       "    <tr>\n",
       "      <th>2</th>\n",
       "      <td>0.172662</td>\n",
       "      <td>&lt;tensorflow.python.keras.callbacks.History obj...</td>\n",
       "      <td>[relu, 0.001, 4, 4, 16, 4, 64]</td>\n",
       "    </tr>\n",
       "    <tr>\n",
       "      <th>3</th>\n",
       "      <td>0.323741</td>\n",
       "      <td>&lt;tensorflow.python.keras.callbacks.History obj...</td>\n",
       "      <td>[relu, 0.001, 4, 4, 16, 8, 64]</td>\n",
       "    </tr>\n",
       "    <tr>\n",
       "      <th>4</th>\n",
       "      <td>0.165468</td>\n",
       "      <td>&lt;tensorflow.python.keras.callbacks.History obj...</td>\n",
       "      <td>[relu, 0.001, 4, 8, 8, 4, 64]</td>\n",
       "    </tr>\n",
       "    <tr>\n",
       "      <th>5</th>\n",
       "      <td>0.136691</td>\n",
       "      <td>&lt;tensorflow.python.keras.callbacks.History obj...</td>\n",
       "      <td>[relu, 0.001, 4, 8, 8, 8, 64]</td>\n",
       "    </tr>\n",
       "    <tr>\n",
       "      <th>6</th>\n",
       "      <td>0.223022</td>\n",
       "      <td>&lt;tensorflow.python.keras.callbacks.History obj...</td>\n",
       "      <td>[relu, 0.001, 4, 8, 16, 4, 64]</td>\n",
       "    </tr>\n",
       "    <tr>\n",
       "      <th>7</th>\n",
       "      <td>0.172662</td>\n",
       "      <td>&lt;tensorflow.python.keras.callbacks.History obj...</td>\n",
       "      <td>[relu, 0.001, 4, 8, 16, 8, 64]</td>\n",
       "    </tr>\n",
       "    <tr>\n",
       "      <th>8</th>\n",
       "      <td>0.093525</td>\n",
       "      <td>&lt;tensorflow.python.keras.callbacks.History obj...</td>\n",
       "      <td>[relu, 0.001, 8, 4, 8, 4, 64]</td>\n",
       "    </tr>\n",
       "    <tr>\n",
       "      <th>9</th>\n",
       "      <td>0.172662</td>\n",
       "      <td>&lt;tensorflow.python.keras.callbacks.History obj...</td>\n",
       "      <td>[relu, 0.001, 8, 4, 8, 8, 64]</td>\n",
       "    </tr>\n",
       "    <tr>\n",
       "      <th>10</th>\n",
       "      <td>0.107914</td>\n",
       "      <td>&lt;tensorflow.python.keras.callbacks.History obj...</td>\n",
       "      <td>[relu, 0.001, 8, 4, 16, 4, 64]</td>\n",
       "    </tr>\n",
       "    <tr>\n",
       "      <th>11</th>\n",
       "      <td>0.158273</td>\n",
       "      <td>&lt;tensorflow.python.keras.callbacks.History obj...</td>\n",
       "      <td>[relu, 0.001, 8, 4, 16, 8, 64]</td>\n",
       "    </tr>\n",
       "    <tr>\n",
       "      <th>12</th>\n",
       "      <td>0.187050</td>\n",
       "      <td>&lt;tensorflow.python.keras.callbacks.History obj...</td>\n",
       "      <td>[relu, 0.001, 8, 8, 8, 4, 64]</td>\n",
       "    </tr>\n",
       "    <tr>\n",
       "      <th>13</th>\n",
       "      <td>0.187050</td>\n",
       "      <td>&lt;tensorflow.python.keras.callbacks.History obj...</td>\n",
       "      <td>[relu, 0.001, 8, 8, 8, 8, 64]</td>\n",
       "    </tr>\n",
       "    <tr>\n",
       "      <th>14</th>\n",
       "      <td>0.172662</td>\n",
       "      <td>&lt;tensorflow.python.keras.callbacks.History obj...</td>\n",
       "      <td>[relu, 0.001, 8, 8, 16, 4, 64]</td>\n",
       "    </tr>\n",
       "    <tr>\n",
       "      <th>15</th>\n",
       "      <td>0.093525</td>\n",
       "      <td>&lt;tensorflow.python.keras.callbacks.History obj...</td>\n",
       "      <td>[relu, 0.001, 8, 8, 16, 8, 64]</td>\n",
       "    </tr>\n",
       "  </tbody>\n",
       "</table>\n",
       "</div>"
      ],
      "text/plain": [
       "       score                                            history  \\\n",
       "0   0.136691  <tensorflow.python.keras.callbacks.History obj...   \n",
       "1   0.136691  <tensorflow.python.keras.callbacks.History obj...   \n",
       "2   0.172662  <tensorflow.python.keras.callbacks.History obj...   \n",
       "3   0.323741  <tensorflow.python.keras.callbacks.History obj...   \n",
       "4   0.165468  <tensorflow.python.keras.callbacks.History obj...   \n",
       "5   0.136691  <tensorflow.python.keras.callbacks.History obj...   \n",
       "6   0.223022  <tensorflow.python.keras.callbacks.History obj...   \n",
       "7   0.172662  <tensorflow.python.keras.callbacks.History obj...   \n",
       "8   0.093525  <tensorflow.python.keras.callbacks.History obj...   \n",
       "9   0.172662  <tensorflow.python.keras.callbacks.History obj...   \n",
       "10  0.107914  <tensorflow.python.keras.callbacks.History obj...   \n",
       "11  0.158273  <tensorflow.python.keras.callbacks.History obj...   \n",
       "12  0.187050  <tensorflow.python.keras.callbacks.History obj...   \n",
       "13  0.187050  <tensorflow.python.keras.callbacks.History obj...   \n",
       "14  0.172662  <tensorflow.python.keras.callbacks.History obj...   \n",
       "15  0.093525  <tensorflow.python.keras.callbacks.History obj...   \n",
       "\n",
       "                            params  \n",
       "0    [relu, 0.001, 4, 4, 8, 4, 64]  \n",
       "1    [relu, 0.001, 4, 4, 8, 8, 64]  \n",
       "2   [relu, 0.001, 4, 4, 16, 4, 64]  \n",
       "3   [relu, 0.001, 4, 4, 16, 8, 64]  \n",
       "4    [relu, 0.001, 4, 8, 8, 4, 64]  \n",
       "5    [relu, 0.001, 4, 8, 8, 8, 64]  \n",
       "6   [relu, 0.001, 4, 8, 16, 4, 64]  \n",
       "7   [relu, 0.001, 4, 8, 16, 8, 64]  \n",
       "8    [relu, 0.001, 8, 4, 8, 4, 64]  \n",
       "9    [relu, 0.001, 8, 4, 8, 8, 64]  \n",
       "10  [relu, 0.001, 8, 4, 16, 4, 64]  \n",
       "11  [relu, 0.001, 8, 4, 16, 8, 64]  \n",
       "12   [relu, 0.001, 8, 8, 8, 4, 64]  \n",
       "13   [relu, 0.001, 8, 8, 8, 8, 64]  \n",
       "14  [relu, 0.001, 8, 8, 16, 4, 64]  \n",
       "15  [relu, 0.001, 8, 8, 16, 8, 64]  "
      ]
     },
     "execution_count": 326,
     "metadata": {},
     "output_type": "execute_result"
    }
   ],
   "source": [
    "log_df"
   ]
  },
  {
   "cell_type": "code",
   "execution_count": 327,
   "id": "occupied-provision",
   "metadata": {},
   "outputs": [],
   "source": [
    "log_df[\"history_arr\"] = log_df.history.apply(lambda x: x.history[\"loss\"])"
   ]
  },
  {
   "cell_type": "code",
   "execution_count": 328,
   "id": "academic-couple",
   "metadata": {},
   "outputs": [],
   "source": [
    "log_df[\"activations\"] = log_df.params.apply(lambda x:x[0])\n",
    "log_df[\"L2_lambda\"]  = log_df.params.apply(lambda x:x[1])\n",
    "log_df[ \"pool_1_size\"] = log_df.params.apply(lambda x:x[2])\n",
    "log_df[ \"pool_2_size\"] = log_df.params.apply(lambda x:x[3])\n",
    "log_df[\"conv_1_size\"] = log_df.params.apply(lambda x:x[4])\n",
    "log_df[\"conv_2_size\"] = log_df.params.apply(lambda x:x[5])\n",
    "log_df[\"dense_1\"] = log_df.params.apply(lambda x:x[6])"
   ]
  },
  {
   "cell_type": "code",
   "execution_count": 329,
   "id": "centered-circular",
   "metadata": {},
   "outputs": [],
   "source": [
    "log_df = log_df.drop(columns=[\"history\", \"params\"])"
   ]
  },
  {
   "cell_type": "code",
   "execution_count": 330,
   "id": "sweet-chase",
   "metadata": {},
   "outputs": [
    {
     "data": {
      "text/plain": [
       "count    16.000000\n",
       "mean      0.165018\n",
       "std       0.055196\n",
       "min       0.093525\n",
       "25%       0.136691\n",
       "50%       0.169065\n",
       "75%       0.176259\n",
       "max       0.323741\n",
       "Name: score, dtype: float64"
      ]
     },
     "execution_count": 330,
     "metadata": {},
     "output_type": "execute_result"
    }
   ],
   "source": [
    "log_df.score.describe()"
   ]
  },
  {
   "cell_type": "markdown",
   "id": "infectious-buffalo",
   "metadata": {},
   "source": [
    "#### All the tame accuracy was approximately the same"
   ]
  },
  {
   "cell_type": "code",
   "execution_count": 331,
   "id": "aboriginal-manufacturer",
   "metadata": {},
   "outputs": [
    {
     "data": {
      "text/plain": [
       "[<matplotlib.lines.Line2D at 0x164c8ba90>]"
      ]
     },
     "execution_count": 331,
     "metadata": {},
     "output_type": "execute_result"
    },
    {
     "data": {
      "image/png": "[encoded data removed]",
      "text/plain": [
       "<Figure size 432x288 with 1 Axes>"
      ]
     },
     "metadata": {
      "needs_background": "light"
     },
     "output_type": "display_data"
    }
   ],
   "source": [
    "plt.plot(log_df.score)"
   ]
  },
  {
   "cell_type": "markdown",
   "id": "incredible-message",
   "metadata": {},
   "source": [
    "### How the best model was trained?"
   ]
  },
  {
   "cell_type": "code",
   "execution_count": 371,
   "id": "comfortable-insider",
   "metadata": {},
   "outputs": [
    {
     "data": {
      "text/plain": [
       "[<matplotlib.lines.Line2D at 0x16ba0c6d0>]"
      ]
     },
     "execution_count": 371,
     "metadata": {},
     "output_type": "execute_result"
    },
    {
     "data": {
      "image/png": "[encoded data removed]",
      "text/plain": [
       "<Figure size 432x288 with 1 Axes>"
      ]
     },
     "metadata": {
      "needs_background": "light"
     },
     "output_type": "display_data"
    }
   ],
   "source": [
    "plt.plot(log_df.history_arr[3])"
   ]
  },
  {
   "cell_type": "code",
   "execution_count": 333,
   "id": "agreed-arbitration",
   "metadata": {},
   "outputs": [],
   "source": [
    "log_df.to_csv(\"grid_6.csv\")"
   ]
  },
  {
   "cell_type": "code",
   "execution_count": 334,
   "id": "harmful-danger",
   "metadata": {},
   "outputs": [],
   "source": [
    "log_df.to_json(\"grid_6.json\")# arrays could be exported better (history)"
   ]
  },
  {
   "cell_type": "markdown",
   "id": "adjustable-theorem",
   "metadata": {},
   "source": [
    "-  52% - 20-40 by amount of files, 600 input - 100 output\n",
    "-  53% - 20-40 by amount of files, 600 input - 200 output\n",
    "-  53% - 20-40 by amount of files, 600 input - 400 output\n",
    "- 33% - 20-40 by amount of files, 100 input - 100 output\n",
    "-  49.7% - 0-40 by amount of files, 600 input - 100 output"
   ]
  },
  {
   "cell_type": "markdown",
   "id": "cheap-tanzania",
   "metadata": {},
   "source": [
    "### Read more\n",
    "- [implementation by tensorflow](https://www.tensorflow.org/addons/tutorials/losses_triplet)"
   ]
  },
  {
   "cell_type": "markdown",
   "id": "angry-cotton",
   "metadata": {},
   "source": [
    "## What's going on!?\n",
    "Why the accuracy is so low! Let's look at the PCA of the daataset"
   ]
  },
  {
   "cell_type": "code",
   "execution_count": 335,
   "id": "common-marketplace",
   "metadata": {},
   "outputs": [],
   "source": [
    "import numpy as np\n",
    "from sklearn.decomposition import PCA"
   ]
  },
  {
   "cell_type": "code",
   "execution_count": 336,
   "id": "adjustable-personality",
   "metadata": {},
   "outputs": [],
   "source": [
    "# pass the data through the model"
   ]
  },
  {
   "cell_type": "code",
   "execution_count": 337,
   "id": "narrow-bowling",
   "metadata": {},
   "outputs": [],
   "source": [
    "vectorized_X = core_model.predict(new_X)"
   ]
  },
  {
   "cell_type": "code",
   "execution_count": 338,
   "id": "interpreted-cardiff",
   "metadata": {},
   "outputs": [
    {
     "data": {
      "text/plain": [
       "(556, 50)"
      ]
     },
     "execution_count": 338,
     "metadata": {},
     "output_type": "execute_result"
    }
   ],
   "source": [
    "vectorized_X.shape"
   ]
  },
  {
   "cell_type": "code",
   "execution_count": 339,
   "id": "timely-apartment",
   "metadata": {},
   "outputs": [],
   "source": [
    "pca = PCA(n_components=3)"
   ]
  },
  {
   "cell_type": "code",
   "execution_count": 340,
   "id": "thick-capitol",
   "metadata": {},
   "outputs": [
    {
     "data": {
      "text/plain": [
       "PCA(n_components=3)"
      ]
     },
     "execution_count": 340,
     "metadata": {},
     "output_type": "execute_result"
    }
   ],
   "source": [
    "pca.fit(vectorized_X)"
   ]
  },
  {
   "cell_type": "code",
   "execution_count": 341,
   "id": "fitted-karaoke",
   "metadata": {},
   "outputs": [],
   "source": [
    "pca_x = pca.transform(vectorized_X)"
   ]
  },
  {
   "cell_type": "code",
   "execution_count": 342,
   "id": "danish-lighter",
   "metadata": {},
   "outputs": [
    {
     "data": {
      "text/plain": [
       "(556, 3)"
      ]
     },
     "execution_count": 342,
     "metadata": {},
     "output_type": "execute_result"
    }
   ],
   "source": [
    "pca_x.shape"
   ]
  },
  {
   "cell_type": "code",
   "execution_count": 347,
   "id": "interesting-marble",
   "metadata": {},
   "outputs": [],
   "source": [
    "y1d = new_y\n",
    "# y1d = np.argmax(new_y, axis=1)"
   ]
  },
  {
   "cell_type": "code",
   "execution_count": 350,
   "id": "detailed-mozambique",
   "metadata": {},
   "outputs": [
    {
     "data": {
      "text/plain": [
       "array([[ 1.7652576 ,  1.7969167 ,  1.7108258 ,  0.8462425 ,  1.79191   ,\n",
       "         1.7723073 ,  1.7566134 ,  1.7595161 ,  1.7924966 , -1.4870523 ,\n",
       "         1.7969167 ,  1.7966443 ,  1.5209836 , -1.4434018 ,  1.7880903 ,\n",
       "         1.7946037 ,  0.04005579,  0.44772303,  1.4355172 ,  1.6830665 ,\n",
       "         1.8048829 , -1.5411042 ,  1.7882164 ,  1.7909865 , -1.5408669 ,\n",
       "         1.7834002 ,  1.7908866 ,  0.03174303, -0.31782928,  1.6932625 ,\n",
       "         1.677132  , -1.5323657 ,  1.6906624 ,  1.8019091 ]],\n",
       "      dtype=float32)"
      ]
     },
     "execution_count": 350,
     "metadata": {},
     "output_type": "execute_result"
    }
   ],
   "source": [
    "pca_x[np.where(y1d==0), 0]"
   ]
  },
  {
   "cell_type": "code",
   "execution_count": 354,
   "id": "specified-madonna",
   "metadata": {},
   "outputs": [
    {
     "data": {
      "text/plain": [
       "<matplotlib.legend.Legend at 0x16af4b550>"
      ]
     },
     "execution_count": 354,
     "metadata": {},
     "output_type": "execute_result"
    },
    {
     "data": {
      "image/png": "[encoded data removed]",
      "text/plain": [
       "<Figure size 1152x576 with 1 Axes>"
      ]
     },
     "metadata": {
      "needs_background": "light"
     },
     "output_type": "display_data"
    }
   ],
   "source": [
    "plt.figure(figsize=(16, 8))\n",
    "for i in range(15):\n",
    "    plt.plot(pca_x[np.where(y1d==i), 0][0], pca_x[np.where(y1d==i), 1][0], 'o', ms=4, label=str(i))\n",
    "plt.legend(ncol=4)"
   ]
  },
  {
   "attachments": {
    "77775455-7d04-471d-a90a-fb680b8590b4.png": {
     "image/png": "[encoded data removed]"
    }
   },
   "cell_type": "markdown",
   "id": "average-stock",
   "metadata": {},
   "source": [
    "Before\n",
    "![image.png](attachment:77775455-7d04-471d-a90a-fb680b8590b4.png)"
   ]
  },
  {
   "cell_type": "markdown",
   "id": "recent-transparency",
   "metadata": {},
   "source": [
    "### Ok... Let's train the model on the top of the embeddings"
   ]
  },
  {
   "cell_type": "code",
   "execution_count": 355,
   "id": "piano-prison",
   "metadata": {},
   "outputs": [],
   "source": [
    "new_y\n",
    "ohe = OneHotEncoder()\n",
    "new_y = ohe.fit_transform(new_y.reshape(-1, 1))\n",
    "new_y = new_y.toarray()"
   ]
  },
  {
   "cell_type": "code",
   "execution_count": 376,
   "id": "automated-platinum",
   "metadata": {},
   "outputs": [],
   "source": [
    "classifier = keras.Sequential()\n",
    "classifier.add(layers.Input((1, 50)))\n",
    "classifier.add(layers.Dense(128, activation=\"linear\"))\n",
    "classifier.add(layers.LayerNormalization(axis=1))\n",
    "classifier.add(layers.Dropout(0.5))\n",
    "classifier.add(layers.Dense(64, activation=\"linear\"))\n",
    "classifier.add(layers.LayerNormalization(axis=1))\n",
    "classifier.add(layers.Dropout(0.5))\n",
    "classifier.add(layers.Dense(15, activation=\"softmax\"))"
   ]
  },
  {
   "cell_type": "code",
   "execution_count": 377,
   "id": "valid-tucson",
   "metadata": {},
   "outputs": [
    {
     "data": {
      "text/plain": [
       "(556, 50)"
      ]
     },
     "execution_count": 377,
     "metadata": {},
     "output_type": "execute_result"
    }
   ],
   "source": [
    "vectorized_X.shape"
   ]
  },
  {
   "cell_type": "code",
   "execution_count": 378,
   "id": "steady-highland",
   "metadata": {},
   "outputs": [
    {
     "data": {
      "text/plain": [
       "(556, 15)"
      ]
     },
     "execution_count": 378,
     "metadata": {},
     "output_type": "execute_result"
    }
   ],
   "source": [
    "new_y.shape"
   ]
  },
  {
   "cell_type": "code",
   "execution_count": 379,
   "id": "loaded-treasury",
   "metadata": {},
   "outputs": [
    {
     "name": "stdout",
     "output_type": "stream",
     "text": [
      "Epoch 1/100\n",
      "WARNING:tensorflow:Model was constructed with shape (None, 1, 50) for input KerasTensor(type_spec=TensorSpec(shape=(None, 1, 50), dtype=tf.float32, name='input_78'), name='input_78', description=\"created by layer 'input_78'\"), but it was called on an input with incompatible shape (None, 50).\n",
      "WARNING:tensorflow:Model was constructed with shape (None, 1, 50) for input KerasTensor(type_spec=TensorSpec(shape=(None, 1, 50), dtype=tf.float32, name='input_78'), name='input_78', description=\"created by layer 'input_78'\"), but it was called on an input with incompatible shape (None, 50).\n",
      "WARNING:tensorflow:Model was constructed with shape (None, 1, 50) for input KerasTensor(type_spec=TensorSpec(shape=(None, 1, 50), dtype=tf.float32, name='input_78'), name='input_78', description=\"created by layer 'input_78'\"), but it was called on an input with incompatible shape (None, 50).\n",
      "8/8 - 1s - loss: 4.1786 - accuracy: 0.0665 - val_loss: 2.7677 - val_accuracy: 0.1007\n",
      "Epoch 2/100\n",
      "8/8 - 0s - loss: 2.8550 - accuracy: 0.0791 - val_loss: 3.0864 - val_accuracy: 0.0737\n",
      "Epoch 3/100\n",
      "8/8 - 0s - loss: 2.9546 - accuracy: 0.0647 - val_loss: 2.7966 - val_accuracy: 0.0755\n",
      "Epoch 4/100\n",
      "8/8 - 0s - loss: 2.8099 - accuracy: 0.0558 - val_loss: 2.7181 - val_accuracy: 0.0755\n",
      "Epoch 5/100\n",
      "8/8 - 0s - loss: 2.7436 - accuracy: 0.0629 - val_loss: 2.7409 - val_accuracy: 0.0737\n",
      "Epoch 6/100\n",
      "8/8 - 0s - loss: 2.7385 - accuracy: 0.0629 - val_loss: 2.7065 - val_accuracy: 0.0647\n",
      "Epoch 7/100\n",
      "8/8 - 0s - loss: 2.7214 - accuracy: 0.0683 - val_loss: 2.7080 - val_accuracy: 0.1043\n",
      "Epoch 8/100\n",
      "8/8 - 0s - loss: 2.7212 - accuracy: 0.0701 - val_loss: 2.7091 - val_accuracy: 0.0737\n",
      "Epoch 9/100\n",
      "8/8 - 0s - loss: 2.7142 - accuracy: 0.0647 - val_loss: 2.7036 - val_accuracy: 0.0719\n",
      "Epoch 10/100\n",
      "8/8 - 0s - loss: 2.7114 - accuracy: 0.0809 - val_loss: 2.7040 - val_accuracy: 0.0737\n",
      "Epoch 11/100\n",
      "8/8 - 0s - loss: 2.7106 - accuracy: 0.0737 - val_loss: 2.7016 - val_accuracy: 0.0791\n",
      "Epoch 12/100\n",
      "8/8 - 0s - loss: 2.7101 - accuracy: 0.0827 - val_loss: 2.7006 - val_accuracy: 0.0971\n",
      "Epoch 13/100\n",
      "8/8 - 0s - loss: 2.7103 - accuracy: 0.0665 - val_loss: 2.7035 - val_accuracy: 0.0737\n",
      "Epoch 14/100\n",
      "8/8 - 0s - loss: 2.7156 - accuracy: 0.0899 - val_loss: 2.6943 - val_accuracy: 0.1025\n",
      "Epoch 15/100\n",
      "8/8 - 0s - loss: 2.7087 - accuracy: 0.0737 - val_loss: 2.6944 - val_accuracy: 0.1025\n",
      "Epoch 16/100\n",
      "8/8 - 0s - loss: 2.6986 - accuracy: 0.0827 - val_loss: 2.6950 - val_accuracy: 0.1007\n",
      "Epoch 17/100\n",
      "8/8 - 0s - loss: 2.6972 - accuracy: 0.0863 - val_loss: 2.6951 - val_accuracy: 0.0989\n",
      "Epoch 18/100\n",
      "8/8 - 0s - loss: 2.6998 - accuracy: 0.1007 - val_loss: 2.6939 - val_accuracy: 0.0971\n",
      "Epoch 19/100\n",
      "8/8 - 0s - loss: 2.7014 - accuracy: 0.0737 - val_loss: 2.6932 - val_accuracy: 0.0989\n",
      "Epoch 20/100\n",
      "8/8 - 0s - loss: 2.6912 - accuracy: 0.0917 - val_loss: 2.6932 - val_accuracy: 0.0989\n",
      "Epoch 21/100\n",
      "8/8 - 0s - loss: 2.7023 - accuracy: 0.0809 - val_loss: 2.6930 - val_accuracy: 0.1007\n",
      "Epoch 22/100\n",
      "8/8 - 0s - loss: 2.7013 - accuracy: 0.0863 - val_loss: 2.6929 - val_accuracy: 0.1007\n",
      "Epoch 23/100\n",
      "8/8 - 0s - loss: 2.6991 - accuracy: 0.0629 - val_loss: 2.6929 - val_accuracy: 0.1007\n",
      "Epoch 24/100\n",
      "8/8 - 0s - loss: 2.7043 - accuracy: 0.0737 - val_loss: 2.6929 - val_accuracy: 0.1007\n",
      "Epoch 25/100\n",
      "8/8 - 0s - loss: 2.7036 - accuracy: 0.0701 - val_loss: 2.6929 - val_accuracy: 0.1007\n"
     ]
    }
   ],
   "source": [
    "batch_size = 64\n",
    "epochs = 100\n",
    "steps_per_epoch = int(vectorized_X.shape[0]/batch_size)\n",
    "\n",
    "optimizer = optimizers.Adam(0.1)\n",
    "lr_schedule = callbacks.ReduceLROnPlateau(monitor='loss', actor=0.5, patience=2, min_delta=0.000001, verbouse=1)\n",
    "early_stopping = callbacks.EarlyStopping(monitor=\"loss\", min_delta = 0.0001, patience=5, restore_best_weights=True)\n",
    "\n",
    "\n",
    "classifier.compile(optimizer = optimizer, loss = \"categorical_crossentropy\", metrics=[\"accuracy\"])\n",
    "history = classifier.fit(x=vectorized_X, y=new_y, epochs = epochs, \n",
    "                        validation_data = (vectorized_X,new_y),\n",
    "                        steps_per_epoch=vectorized_X.shape[0] // batch_size,\n",
    "                        verbose=2, \n",
    "                        callbacks=[lr_schedule, early_stopping])"
   ]
  },
  {
   "cell_type": "markdown",
   "id": "conditional-configuration",
   "metadata": {},
   "source": [
    "- [x] Plot data with PCA\n",
    "- [x] Train more sophisticated classifier\n",
    "- [ ] Look at the data with errors - nope... too much encodings and normalizations to transform it back\n",
    "- [x] Classification of the other question\n",
    "- [ ] Parallell training\n",
    "- [x] Change the data selection process\n",
    "- [ ] Start conv2d embeddings\n",
    "- [ ] Change the generation process of the triplets"
   ]
  },
  {
   "cell_type": "code",
   "execution_count": 364,
   "id": "million-district",
   "metadata": {},
   "outputs": [
    {
     "data": {
      "text/plain": [
       "[<matplotlib.lines.Line2D at 0x16bb64a10>]"
      ]
     },
     "execution_count": 364,
     "metadata": {},
     "output_type": "execute_result"
    },
    {
     "data": {
      "image/png": "[encoded data removed]",
      "text/plain": [
       "<Figure size 432x288 with 1 Axes>"
      ]
     },
     "metadata": {
      "needs_background": "light"
     },
     "output_type": "display_data"
    }
   ],
   "source": [
    "def test(model_core, new_X, new_y, threshold=0.2, printing=0):\n",
    "    transformed_X = model_core.predict(new_X.reshape(-1, input_size, 1))\n",
    "    X_train, X_test, y_train, y_test = train_test_split(transformed_X, new_y)\n",
    "    \n",
    "    y_pred = []\n",
    "    y_true = []\n",
    "    for i in range(X_test.shape[0]):\n",
    "        for j in range(i, X_test.shape[0]):\n",
    "            if np.mean((X_test[i] - X_test[j])**2) <= threshold:\n",
    "                y_pred.append(1)\n",
    "            else:\n",
    "                y_pred.append(0)\n",
    "            \n",
    "            if y_test[i] == y_test[j]:\n",
    "                y_true.append(1)\n",
    "            else:\n",
    "                y_true.append(0)\n",
    "    y_pred = np.array(y_pred)\n",
    "    y_true = np.array(y_true)\n",
    "    \n",
    "    score = accuracy_score(y_true, y_pred)\n",
    "    if printing:\n",
    "        print(confusion_matrix(y_true, y_pred))\n",
    "        print(sum(y_pred), sum(y_true), y_true.shape)\n",
    "    \n",
    "    return score\n",
    "    \n",
    "\n",
    "scores = [test(core_model, new_X, np.argmax(new_y, axis=1), k) for k in np.arange(0, 0.25, 0.01) ]\n",
    "plt.plot(np.arange(0, 0.25, 0.01), scores)"
   ]
  },
  {
   "cell_type": "code",
   "execution_count": 365,
   "id": "improving-bandwidth",
   "metadata": {},
   "outputs": [],
   "source": [
    "## As it can be seen, the accuracy is still around 50% in the best meaningfull cases \n",
    "## Despite the low values on KNN, threshold approximation works good (even a bit better)"
   ]
  },
  {
   "cell_type": "markdown",
   "id": "lucky-growth",
   "metadata": {},
   "source": [
    "Some more links\n",
    "- signature recognition with [triplet loss](https://github.com/jadevaibhav/Signature-verification-using-deep-learning/blob/master/mycode.ipynb)\n",
    "- "
   ]
  },
  {
   "cell_type": "markdown",
   "id": "legitimate-husband",
   "metadata": {},
   "source": [
    "Whhen the dataset changed, the accuracy dropped drammatically, however, the visualization performed better"
   ]
  },
  {
   "cell_type": "code",
   "execution_count": null,
   "id": "divine-prince",
   "metadata": {},
   "outputs": [],
   "source": []
  }
 ],
 "metadata": {
  "kernelspec": {
   "display_name": "myenv",
   "language": "python",
   "name": "myenv"
  },
  "language_info": {
   "codemirror_mode": {
    "name": "ipython",
    "version": 3
   },
   "file_extension": ".py",
   "mimetype": "text/x-python",
   "name": "python",
   "nbconvert_exporter": "python",
   "pygments_lexer": "ipython3",
   "version": "3.7.10"
  }
 },
 "nbformat": 4,
 "nbformat_minor": 5
}
