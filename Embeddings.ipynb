{
 "cells": [
  {
   "cell_type": "markdown",
   "id": "diagnostic-simulation",
   "metadata": {},
   "source": [
    "# Embeddings\n",
    "- [gensim](https://radimrehurek.com/gensim/auto_examples/tutorials/run_annoy.html?highlight=load%20word2vec%20txt#work-with-google-s-word2vec-files) - **why do I need it????**\n",
    "- [tokenizer](https://github.com/google/sentencepiece/blob/master/python/README.md)\n"
   ]
  },
  {
   "cell_type": "markdown",
   "id": "phantom-pioneer",
   "metadata": {},
   "source": [
    "## Load data (separate dataset)\n",
    "- the 2008-2016 dataset \n",
    "- python language"
   ]
  },
  {
   "cell_type": "code",
   "execution_count": 1,
   "id": "streaming-sampling",
   "metadata": {},
   "outputs": [],
   "source": [
    "import numpy as np\n",
    "import pandas as pd\n",
    "import tensorflow as tf\n",
    "import matplotlib.pyplot as plt\n",
    "\n",
    "from sklearn.model_selection import train_test_split\n",
    "from sklearn.preprocessing import LabelEncoder, OneHotEncoder, StandardScaler\n",
    "from tensorflow import keras\n",
    "from tensorflow.keras import layers\n",
    "from tensorflow.keras import callbacks \n",
    "from tensorflow.keras import optimizers, models\n",
    "\n",
    "import sentencepiece as spm"
   ]
  },
  {
   "cell_type": "code",
   "execution_count": 2,
   "id": "lonely-reference",
   "metadata": {},
   "outputs": [
    {
     "name": "stdout",
     "output_type": "stream",
     "text": [
      "pip 21.0.1 from /Users/alinabogdanova/.pyenv/versions/3.7.10/lib/python3.7/site-packages/pip (python 3.7)\n"
     ]
    }
   ],
   "source": [
    "!pip --version"
   ]
  },
  {
   "cell_type": "code",
   "execution_count": 3,
   "id": "understood-namibia",
   "metadata": {},
   "outputs": [],
   "source": [
    "# df = pd.read_csv(\"python_solved.csv\")\n",
    "df = pd.read_csv(\"py_df.csv\")\n",
    "df = df.drop(columns=[\"round\", \"task\", \"solution\", \"file\", \"full_path\", \"Unnamed: 0.1\", \"Unnamed: 0\", \"lang\"])"
   ]
  },
  {
   "cell_type": "markdown",
   "id": "executed-london",
   "metadata": {},
   "source": [
    "- Let's remove the sort files, then select users with the highest amount of files"
   ]
  },
  {
   "cell_type": "markdown",
   "id": "hawaiian-newman",
   "metadata": {},
   "source": [
    "- count lines"
   ]
  },
  {
   "cell_type": "code",
   "execution_count": 4,
   "id": "through-portland",
   "metadata": {},
   "outputs": [
    {
     "data": {
      "text/plain": [
       "count    155359.000000\n",
       "mean         50.815852\n",
       "std          70.495160\n",
       "min           0.000000\n",
       "25%          27.000000\n",
       "50%          41.000000\n",
       "75%          62.000000\n",
       "max       10052.000000\n",
       "Name: n_lines, dtype: float64"
      ]
     },
     "execution_count": 4,
     "metadata": {},
     "output_type": "execute_result"
    }
   ],
   "source": [
    "df[\"n_lines\"] = df.flines.apply(lambda x: str(x).count(\"\\n\"))\n",
    "df[\"n_lines\"].describe()"
   ]
  },
  {
   "cell_type": "markdown",
   "id": "growing-physics",
   "metadata": {},
   "source": [
    "- let's save files with amount of lines in range `[30; 120]`"
   ]
  },
  {
   "cell_type": "code",
   "execution_count": 5,
   "id": "starting-typing",
   "metadata": {},
   "outputs": [
    {
     "data": {
      "text/plain": [
       "count    155330.000000\n",
       "mean         50.825340\n",
       "std          70.498321\n",
       "min           1.000000\n",
       "25%          27.000000\n",
       "50%          41.000000\n",
       "75%          62.000000\n",
       "max       10052.000000\n",
       "Name: n_lines, dtype: float64"
      ]
     },
     "execution_count": 5,
     "metadata": {},
     "output_type": "execute_result"
    }
   ],
   "source": [
    "df = df[(df.n_lines>0)]#&(df.n_lines<=120)]\n",
    "df.n_lines.describe()"
   ]
  },
  {
   "cell_type": "markdown",
   "id": "lasting-listening",
   "metadata": {},
   "source": [
    "- let's find avg file length (in chars)"
   ]
  },
  {
   "cell_type": "code",
   "execution_count": 6,
   "id": "unusual-blackjack",
   "metadata": {},
   "outputs": [],
   "source": [
    "# df[\"n_chars\"] = df.flines.apply(lambda x: len(str(x)))\n",
    "# (df.n_chars/df.n_lines).describe()"
   ]
  },
  {
   "cell_type": "markdown",
   "id": "running-wilson",
   "metadata": {},
   "source": [
    "- suspicious max value let's drop evetyrhing, highter then `100` and look, what's left"
   ]
  },
  {
   "cell_type": "code",
   "execution_count": 7,
   "id": "naked-badge",
   "metadata": {},
   "outputs": [],
   "source": [
    "# df[\"chars_per_line\"] = df.n_chars/df.n_lines\n",
    "# df = df[df.chars_per_line<100]\n",
    "# df.describe()"
   ]
  },
  {
   "cell_type": "markdown",
   "id": "painted-cambridge",
   "metadata": {},
   "source": [
    "- less, then 100 files were removed"
   ]
  },
  {
   "cell_type": "markdown",
   "id": "circular-quarter",
   "metadata": {},
   "source": [
    "## Tokenization\n",
    "- let's apply embedding to all the source files **LOSE LAYOUT FEATURES**\n",
    "- * it takes time\n",
    "\n",
    "Example of lib usage\n",
    "```python\n",
    "sp.encode('\\tarr = [int(x) for x in str.split()]')\n",
    ">> [6682, 14, 127, 184, 96091, 96097, 96090, 115, 419, 57, 420, 96084, 1300, 5382]\n",
    "print(sp.decode(sp.encode('    arr = [int(x) for x in str.split()]')))\n",
    ">> arr = [int(x) for x in str.split()]\n",
    "```"
   ]
  },
  {
   "cell_type": "code",
   "execution_count": 8,
   "id": "proprietary-metallic",
   "metadata": {},
   "outputs": [
    {
     "data": {
      "text/html": [
       "<div>\n",
       "<style scoped>\n",
       "    .dataframe tbody tr th:only-of-type {\n",
       "        vertical-align: middle;\n",
       "    }\n",
       "\n",
       "    .dataframe tbody tr th {\n",
       "        vertical-align: top;\n",
       "    }\n",
       "\n",
       "    .dataframe thead th {\n",
       "        text-align: right;\n",
       "    }\n",
       "</style>\n",
       "<table border=\"1\" class=\"dataframe\">\n",
       "  <thead>\n",
       "    <tr style=\"text-align: right;\">\n",
       "      <th></th>\n",
       "      <th>year</th>\n",
       "      <th>n_lines</th>\n",
       "      <th>n_tokens</th>\n",
       "    </tr>\n",
       "  </thead>\n",
       "  <tbody>\n",
       "    <tr>\n",
       "      <th>count</th>\n",
       "      <td>155330.000000</td>\n",
       "      <td>155330.000000</td>\n",
       "      <td>155330.000000</td>\n",
       "    </tr>\n",
       "    <tr>\n",
       "      <th>mean</th>\n",
       "      <td>2013.619855</td>\n",
       "      <td>50.825340</td>\n",
       "      <td>343.410333</td>\n",
       "    </tr>\n",
       "    <tr>\n",
       "      <th>std</th>\n",
       "      <td>2.254751</td>\n",
       "      <td>70.498321</td>\n",
       "      <td>664.640139</td>\n",
       "    </tr>\n",
       "    <tr>\n",
       "      <th>min</th>\n",
       "      <td>2008.000000</td>\n",
       "      <td>1.000000</td>\n",
       "      <td>0.000000</td>\n",
       "    </tr>\n",
       "    <tr>\n",
       "      <th>25%</th>\n",
       "      <td>2012.000000</td>\n",
       "      <td>27.000000</td>\n",
       "      <td>172.000000</td>\n",
       "    </tr>\n",
       "    <tr>\n",
       "      <th>50%</th>\n",
       "      <td>2014.000000</td>\n",
       "      <td>41.000000</td>\n",
       "      <td>258.000000</td>\n",
       "    </tr>\n",
       "    <tr>\n",
       "      <th>75%</th>\n",
       "      <td>2016.000000</td>\n",
       "      <td>62.000000</td>\n",
       "      <td>396.000000</td>\n",
       "    </tr>\n",
       "    <tr>\n",
       "      <th>max</th>\n",
       "      <td>2016.000000</td>\n",
       "      <td>10052.000000</td>\n",
       "      <td>36488.000000</td>\n",
       "    </tr>\n",
       "  </tbody>\n",
       "</table>\n",
       "</div>"
      ],
      "text/plain": [
       "                year        n_lines       n_tokens\n",
       "count  155330.000000  155330.000000  155330.000000\n",
       "mean     2013.619855      50.825340     343.410333\n",
       "std         2.254751      70.498321     664.640139\n",
       "min      2008.000000       1.000000       0.000000\n",
       "25%      2012.000000      27.000000     172.000000\n",
       "50%      2014.000000      41.000000     258.000000\n",
       "75%      2016.000000      62.000000     396.000000\n",
       "max      2016.000000   10052.000000   36488.000000"
      ]
     },
     "execution_count": 8,
     "metadata": {},
     "output_type": "execute_result"
    }
   ],
   "source": [
    "sp = spm.SentencePieceProcessor(model_file='embd/sentencepiece_bpe.model')\n",
    "df.index = np.arange(len(df))\n",
    "df[\"n_tokens\"] = df.flines.apply(lambda x: len(sp.encode(x)))\n",
    "df.describe()"
   ]
  },
  {
   "cell_type": "markdown",
   "id": "developing-access",
   "metadata": {},
   "source": [
    "- let's set the threshold of 600 tokens here"
   ]
  },
  {
   "cell_type": "code",
   "execution_count": 9,
   "id": "impossible-shanghai",
   "metadata": {},
   "outputs": [
    {
     "data": {
      "text/html": [
       "<div>\n",
       "<style scoped>\n",
       "    .dataframe tbody tr th:only-of-type {\n",
       "        vertical-align: middle;\n",
       "    }\n",
       "\n",
       "    .dataframe tbody tr th {\n",
       "        vertical-align: top;\n",
       "    }\n",
       "\n",
       "    .dataframe thead th {\n",
       "        text-align: right;\n",
       "    }\n",
       "</style>\n",
       "<table border=\"1\" class=\"dataframe\">\n",
       "  <thead>\n",
       "    <tr style=\"text-align: right;\">\n",
       "      <th></th>\n",
       "      <th>year</th>\n",
       "      <th>n_lines</th>\n",
       "      <th>n_tokens</th>\n",
       "    </tr>\n",
       "  </thead>\n",
       "  <tbody>\n",
       "    <tr>\n",
       "      <th>count</th>\n",
       "      <td>140599.000000</td>\n",
       "      <td>140599.000000</td>\n",
       "      <td>140599.000000</td>\n",
       "    </tr>\n",
       "    <tr>\n",
       "      <th>mean</th>\n",
       "      <td>2013.656477</td>\n",
       "      <td>41.831357</td>\n",
       "      <td>264.747061</td>\n",
       "    </tr>\n",
       "    <tr>\n",
       "      <th>std</th>\n",
       "      <td>2.242584</td>\n",
       "      <td>21.308814</td>\n",
       "      <td>126.812730</td>\n",
       "    </tr>\n",
       "    <tr>\n",
       "      <th>min</th>\n",
       "      <td>2008.000000</td>\n",
       "      <td>1.000000</td>\n",
       "      <td>0.000000</td>\n",
       "    </tr>\n",
       "    <tr>\n",
       "      <th>25%</th>\n",
       "      <td>2012.000000</td>\n",
       "      <td>25.000000</td>\n",
       "      <td>165.000000</td>\n",
       "    </tr>\n",
       "    <tr>\n",
       "      <th>50%</th>\n",
       "      <td>2014.000000</td>\n",
       "      <td>38.000000</td>\n",
       "      <td>240.000000</td>\n",
       "    </tr>\n",
       "    <tr>\n",
       "      <th>75%</th>\n",
       "      <td>2016.000000</td>\n",
       "      <td>55.000000</td>\n",
       "      <td>346.000000</td>\n",
       "    </tr>\n",
       "    <tr>\n",
       "      <th>max</th>\n",
       "      <td>2016.000000</td>\n",
       "      <td>380.000000</td>\n",
       "      <td>600.000000</td>\n",
       "    </tr>\n",
       "  </tbody>\n",
       "</table>\n",
       "</div>"
      ],
      "text/plain": [
       "                year        n_lines       n_tokens\n",
       "count  140599.000000  140599.000000  140599.000000\n",
       "mean     2013.656477      41.831357     264.747061\n",
       "std         2.242584      21.308814     126.812730\n",
       "min      2008.000000       1.000000       0.000000\n",
       "25%      2012.000000      25.000000     165.000000\n",
       "50%      2014.000000      38.000000     240.000000\n",
       "75%      2016.000000      55.000000     346.000000\n",
       "max      2016.000000     380.000000     600.000000"
      ]
     },
     "execution_count": 9,
     "metadata": {},
     "output_type": "execute_result"
    }
   ],
   "source": [
    "df = df[df.n_tokens<=600]\n",
    "df.describe()"
   ]
  },
  {
   "cell_type": "markdown",
   "id": "cellular-relevance",
   "metadata": {},
   "source": [
    "- let's look at the amount of files per participant"
   ]
  },
  {
   "cell_type": "code",
   "execution_count": 10,
   "id": "coordinated-evanescence",
   "metadata": {},
   "outputs": [
    {
     "data": {
      "text/plain": [
       "[<matplotlib.lines.Line2D at 0x1569ed090>]"
      ]
     },
     "execution_count": 10,
     "metadata": {},
     "output_type": "execute_result"
    },
    {
     "data": {
      "image/png": "[encoded data removed]",
      "text/plain": [
       "<Figure size 432x288 with 1 Axes>"
      ]
     },
     "metadata": {
      "needs_background": "light"
     },
     "output_type": "display_data"
    }
   ],
   "source": [
    "plt.plot(np.array(df.username.value_counts()))"
   ]
  },
  {
   "cell_type": "markdown",
   "id": "systematic-aberdeen",
   "metadata": {},
   "source": [
    "- Let's collect `15` users with avg amount of files, which is around 35\n",
    "(enough files, but their difference amount is not sufficient)"
   ]
  },
  {
   "cell_type": "code",
   "execution_count": 11,
   "id": "decent-armstrong",
   "metadata": {},
   "outputs": [
    {
     "data": {
      "text/plain": [
       "[<matplotlib.lines.Line2D at 0x156153850>]"
      ]
     },
     "execution_count": 11,
     "metadata": {},
     "output_type": "execute_result"
    },
    {
     "data": {
      "image/png": "[encoded data removed]",
      "text/plain": [
       "<Figure size 432x288 with 1 Axes>"
      ]
     },
     "metadata": {
      "needs_background": "light"
     },
     "output_type": "display_data"
    }
   ],
   "source": [
    "plt.plot(np.array(df.username.value_counts())[50:550])"
   ]
  },
  {
   "cell_type": "code",
   "execution_count": 12,
   "id": "excited-thomson",
   "metadata": {},
   "outputs": [
    {
     "data": {
      "text/html": [
       "<div>\n",
       "<style scoped>\n",
       "    .dataframe tbody tr th:only-of-type {\n",
       "        vertical-align: middle;\n",
       "    }\n",
       "\n",
       "    .dataframe tbody tr th {\n",
       "        vertical-align: top;\n",
       "    }\n",
       "\n",
       "    .dataframe thead th {\n",
       "        text-align: right;\n",
       "    }\n",
       "</style>\n",
       "<table border=\"1\" class=\"dataframe\">\n",
       "  <thead>\n",
       "    <tr style=\"text-align: right;\">\n",
       "      <th></th>\n",
       "      <th>year</th>\n",
       "      <th>username</th>\n",
       "      <th>flines</th>\n",
       "      <th>n_lines</th>\n",
       "      <th>n_tokens</th>\n",
       "    </tr>\n",
       "  </thead>\n",
       "  <tbody>\n",
       "    <tr>\n",
       "      <th>11</th>\n",
       "      <td>2008</td>\n",
       "      <td>Keegan</td>\n",
       "      <td>#!/usr/bin/env python\\n \\n import sys\\n \\n rea...</td>\n",
       "      <td>35</td>\n",
       "      <td>191</td>\n",
       "    </tr>\n",
       "    <tr>\n",
       "      <th>49</th>\n",
       "      <td>2008</td>\n",
       "      <td>Klinck</td>\n",
       "      <td>import sys\\n import math\\n \\n cnt = [0]*1024\\n...</td>\n",
       "      <td>57</td>\n",
       "      <td>321</td>\n",
       "    </tr>\n",
       "    <tr>\n",
       "      <th>50</th>\n",
       "      <td>2008</td>\n",
       "      <td>ipknHama</td>\n",
       "      <td>n = input()\\n for loop in range(1, n+1):\\n \\t\\...</td>\n",
       "      <td>43</td>\n",
       "      <td>321</td>\n",
       "    </tr>\n",
       "    <tr>\n",
       "      <th>51</th>\n",
       "      <td>2008</td>\n",
       "      <td>ipknHama</td>\n",
       "      <td>import psyco\\n def main():\\n \\tbcd = {}\\n \\tde...</td>\n",
       "      <td>63</td>\n",
       "      <td>333</td>\n",
       "    </tr>\n",
       "    <tr>\n",
       "      <th>58</th>\n",
       "      <td>2008</td>\n",
       "      <td>Klinck</td>\n",
       "      <td>import sys\\n input = sys.stdin\\n \\n def solve(...</td>\n",
       "      <td>40</td>\n",
       "      <td>313</td>\n",
       "    </tr>\n",
       "  </tbody>\n",
       "</table>\n",
       "</div>"
      ],
      "text/plain": [
       "    year  username                                             flines  \\\n",
       "11  2008    Keegan  #!/usr/bin/env python\\n \\n import sys\\n \\n rea...   \n",
       "49  2008    Klinck  import sys\\n import math\\n \\n cnt = [0]*1024\\n...   \n",
       "50  2008  ipknHama  n = input()\\n for loop in range(1, n+1):\\n \\t\\...   \n",
       "51  2008  ipknHama  import psyco\\n def main():\\n \\tbcd = {}\\n \\tde...   \n",
       "58  2008    Klinck  import sys\\n input = sys.stdin\\n \\n def solve(...   \n",
       "\n",
       "    n_lines  n_tokens  \n",
       "11       35       191  \n",
       "49       57       321  \n",
       "50       43       321  \n",
       "51       63       333  \n",
       "58       40       313  "
      ]
     },
     "execution_count": 12,
     "metadata": {},
     "output_type": "execute_result"
    }
   ],
   "source": [
    "users = df.username.value_counts()[50:550].index\n",
    "df = df[df.username.isin(users)]\n",
    "df.head()"
   ]
  },
  {
   "cell_type": "markdown",
   "id": "clinical-highland",
   "metadata": {},
   "source": [
    "- Let's look at the amount of files per person in more details"
   ]
  },
  {
   "cell_type": "code",
   "execution_count": 13,
   "id": "desirable-andrew",
   "metadata": {},
   "outputs": [
    {
     "data": {
      "text/plain": [
       "count    500.000000\n",
       "mean      42.796000\n",
       "std        9.693622\n",
       "min       31.000000\n",
       "25%       35.000000\n",
       "50%       40.000000\n",
       "75%       49.000000\n",
       "max       71.000000\n",
       "Name: username, dtype: float64"
      ]
     },
     "execution_count": 13,
     "metadata": {},
     "output_type": "execute_result"
    }
   ],
   "source": [
    "df.username.value_counts().describe()"
   ]
  },
  {
   "cell_type": "markdown",
   "id": "forty-fortune",
   "metadata": {},
   "source": [
    "- Hope, this is enough and the contrast between the smallest amount and the max, won't be sufficient"
   ]
  },
  {
   "cell_type": "code",
   "execution_count": 14,
   "id": "logical-surveillance",
   "metadata": {},
   "outputs": [
    {
     "data": {
      "text/plain": [
       "sekiye         71\n",
       "archangel11    71\n",
       "shacharr       70\n",
       "pawko          70\n",
       "killerrex      70\n",
       "               ..\n",
       "lookingfor     31\n",
       "zepp           31\n",
       "jtidor         31\n",
       "sandeva        31\n",
       "shomster       31\n",
       "Name: username, Length: 500, dtype: int64"
      ]
     },
     "execution_count": 14,
     "metadata": {},
     "output_type": "execute_result"
    }
   ],
   "source": [
    "df.username.value_counts()"
   ]
  },
  {
   "cell_type": "code",
   "execution_count": 15,
   "id": "atomic-procedure",
   "metadata": {},
   "outputs": [],
   "source": [
    "df[\"tokens\"] = df.flines.apply(lambda x: sp.encode(x))"
   ]
  },
  {
   "cell_type": "code",
   "execution_count": 16,
   "id": "wrong-outside",
   "metadata": {},
   "outputs": [
    {
     "data": {
      "text/html": [
       "<div>\n",
       "<style scoped>\n",
       "    .dataframe tbody tr th:only-of-type {\n",
       "        vertical-align: middle;\n",
       "    }\n",
       "\n",
       "    .dataframe tbody tr th {\n",
       "        vertical-align: top;\n",
       "    }\n",
       "\n",
       "    .dataframe thead th {\n",
       "        text-align: right;\n",
       "    }\n",
       "</style>\n",
       "<table border=\"1\" class=\"dataframe\">\n",
       "  <thead>\n",
       "    <tr style=\"text-align: right;\">\n",
       "      <th></th>\n",
       "      <th>year</th>\n",
       "      <th>username</th>\n",
       "      <th>flines</th>\n",
       "      <th>n_lines</th>\n",
       "      <th>n_tokens</th>\n",
       "      <th>tokens</th>\n",
       "    </tr>\n",
       "  </thead>\n",
       "  <tbody>\n",
       "    <tr>\n",
       "      <th>11</th>\n",
       "      <td>2008</td>\n",
       "      <td>Keegan</td>\n",
       "      <td>#!/usr/bin/env python\\n \\n import sys\\n \\n rea...</td>\n",
       "      <td>35</td>\n",
       "      <td>191</td>\n",
       "      <td>[3238, 2785, 96124, 1119, 96124, 1376, 1804, 1...</td>\n",
       "    </tr>\n",
       "    <tr>\n",
       "      <th>49</th>\n",
       "      <td>2008</td>\n",
       "      <td>Klinck</td>\n",
       "      <td>import sys\\n import math\\n \\n cnt = [0]*1024\\n...</td>\n",
       "      <td>57</td>\n",
       "      <td>321</td>\n",
       "      <td>[138, 1149, 138, 5045, 17170, 14, 64737, 18033...</td>\n",
       "    </tr>\n",
       "    <tr>\n",
       "      <th>50</th>\n",
       "      <td>2008</td>\n",
       "      <td>ipknHama</td>\n",
       "      <td>n = input()\\n for loop in range(1, n+1):\\n \\t\\...</td>\n",
       "      <td>43</td>\n",
       "      <td>321</td>\n",
       "      <td>[49, 14, 1128, 101, 115, 3737, 57, 1181, 2480,...</td>\n",
       "    </tr>\n",
       "    <tr>\n",
       "      <th>51</th>\n",
       "      <td>2008</td>\n",
       "      <td>ipknHama</td>\n",
       "      <td>import psyco\\n def main():\\n \\tbcd = {}\\n \\tde...</td>\n",
       "      <td>63</td>\n",
       "      <td>333</td>\n",
       "      <td>[138, 20653, 62, 63, 2536, 586, 67, 3382, 14, ...</td>\n",
       "    </tr>\n",
       "    <tr>\n",
       "      <th>58</th>\n",
       "      <td>2008</td>\n",
       "      <td>Klinck</td>\n",
       "      <td>import sys\\n input = sys.stdin\\n \\n def solve(...</td>\n",
       "      <td>40</td>\n",
       "      <td>313</td>\n",
       "      <td>[138, 1149, 1128, 14, 1149, 96084, 8827, 63, 1...</td>\n",
       "    </tr>\n",
       "  </tbody>\n",
       "</table>\n",
       "</div>"
      ],
      "text/plain": [
       "    year  username                                             flines  \\\n",
       "11  2008    Keegan  #!/usr/bin/env python\\n \\n import sys\\n \\n rea...   \n",
       "49  2008    Klinck  import sys\\n import math\\n \\n cnt = [0]*1024\\n...   \n",
       "50  2008  ipknHama  n = input()\\n for loop in range(1, n+1):\\n \\t\\...   \n",
       "51  2008  ipknHama  import psyco\\n def main():\\n \\tbcd = {}\\n \\tde...   \n",
       "58  2008    Klinck  import sys\\n input = sys.stdin\\n \\n def solve(...   \n",
       "\n",
       "    n_lines  n_tokens                                             tokens  \n",
       "11       35       191  [3238, 2785, 96124, 1119, 96124, 1376, 1804, 1...  \n",
       "49       57       321  [138, 1149, 138, 5045, 17170, 14, 64737, 18033...  \n",
       "50       43       321  [49, 14, 1128, 101, 115, 3737, 57, 1181, 2480,...  \n",
       "51       63       333  [138, 20653, 62, 63, 2536, 586, 67, 3382, 14, ...  \n",
       "58       40       313  [138, 1149, 1128, 14, 1149, 96084, 8827, 63, 1...  "
      ]
     },
     "execution_count": 16,
     "metadata": {},
     "output_type": "execute_result"
    }
   ],
   "source": [
    "df.head()"
   ]
  },
  {
   "cell_type": "code",
   "execution_count": 17,
   "id": "hydraulic-timer",
   "metadata": {},
   "outputs": [],
   "source": [
    "dataset = df[[\"username\", \"tokens\"]]"
   ]
  },
  {
   "cell_type": "code",
   "execution_count": 18,
   "id": "departmental-allah",
   "metadata": {},
   "outputs": [
    {
     "data": {
      "text/html": [
       "<div>\n",
       "<style scoped>\n",
       "    .dataframe tbody tr th:only-of-type {\n",
       "        vertical-align: middle;\n",
       "    }\n",
       "\n",
       "    .dataframe tbody tr th {\n",
       "        vertical-align: top;\n",
       "    }\n",
       "\n",
       "    .dataframe thead th {\n",
       "        text-align: right;\n",
       "    }\n",
       "</style>\n",
       "<table border=\"1\" class=\"dataframe\">\n",
       "  <thead>\n",
       "    <tr style=\"text-align: right;\">\n",
       "      <th></th>\n",
       "      <th>username</th>\n",
       "      <th>tokens</th>\n",
       "    </tr>\n",
       "  </thead>\n",
       "  <tbody>\n",
       "    <tr>\n",
       "      <th>11</th>\n",
       "      <td>Keegan</td>\n",
       "      <td>[3238, 2785, 96124, 1119, 96124, 1376, 1804, 1...</td>\n",
       "    </tr>\n",
       "    <tr>\n",
       "      <th>49</th>\n",
       "      <td>Klinck</td>\n",
       "      <td>[138, 1149, 138, 5045, 17170, 14, 64737, 18033...</td>\n",
       "    </tr>\n",
       "    <tr>\n",
       "      <th>50</th>\n",
       "      <td>ipknHama</td>\n",
       "      <td>[49, 14, 1128, 101, 115, 3737, 57, 1181, 2480,...</td>\n",
       "    </tr>\n",
       "    <tr>\n",
       "      <th>51</th>\n",
       "      <td>ipknHama</td>\n",
       "      <td>[138, 20653, 62, 63, 2536, 586, 67, 3382, 14, ...</td>\n",
       "    </tr>\n",
       "    <tr>\n",
       "      <th>58</th>\n",
       "      <td>Klinck</td>\n",
       "      <td>[138, 1149, 1128, 14, 1149, 96084, 8827, 63, 1...</td>\n",
       "    </tr>\n",
       "    <tr>\n",
       "      <th>...</th>\n",
       "      <td>...</td>\n",
       "      <td>...</td>\n",
       "    </tr>\n",
       "    <tr>\n",
       "      <th>155325</th>\n",
       "      <td>Fantoccini</td>\n",
       "      <td>[156, 12330, 138, 15913, 156, 4159, 138, 8485,...</td>\n",
       "    </tr>\n",
       "    <tr>\n",
       "      <th>155326</th>\n",
       "      <td>Fantoccini</td>\n",
       "      <td>[156, 12330, 138, 15913, 156, 4159, 138, 8485,...</td>\n",
       "    </tr>\n",
       "    <tr>\n",
       "      <th>155327</th>\n",
       "      <td>Fantoccini</td>\n",
       "      <td>[156, 12330, 138, 15913, 63, 13778, 96091, 960...</td>\n",
       "    </tr>\n",
       "    <tr>\n",
       "      <th>155328</th>\n",
       "      <td>Fantoccini</td>\n",
       "      <td>[156, 12330, 138, 15913, 63, 13778, 96091, 960...</td>\n",
       "    </tr>\n",
       "    <tr>\n",
       "      <th>155329</th>\n",
       "      <td>Fantoccini</td>\n",
       "      <td>[156, 12330, 138, 15913, 156, 4159, 138, 8485,...</td>\n",
       "    </tr>\n",
       "  </tbody>\n",
       "</table>\n",
       "<p>21398 rows × 2 columns</p>\n",
       "</div>"
      ],
      "text/plain": [
       "          username                                             tokens\n",
       "11          Keegan  [3238, 2785, 96124, 1119, 96124, 1376, 1804, 1...\n",
       "49          Klinck  [138, 1149, 138, 5045, 17170, 14, 64737, 18033...\n",
       "50        ipknHama  [49, 14, 1128, 101, 115, 3737, 57, 1181, 2480,...\n",
       "51        ipknHama  [138, 20653, 62, 63, 2536, 586, 67, 3382, 14, ...\n",
       "58          Klinck  [138, 1149, 1128, 14, 1149, 96084, 8827, 63, 1...\n",
       "...            ...                                                ...\n",
       "155325  Fantoccini  [156, 12330, 138, 15913, 156, 4159, 138, 8485,...\n",
       "155326  Fantoccini  [156, 12330, 138, 15913, 156, 4159, 138, 8485,...\n",
       "155327  Fantoccini  [156, 12330, 138, 15913, 63, 13778, 96091, 960...\n",
       "155328  Fantoccini  [156, 12330, 138, 15913, 63, 13778, 96091, 960...\n",
       "155329  Fantoccini  [156, 12330, 138, 15913, 156, 4159, 138, 8485,...\n",
       "\n",
       "[21398 rows x 2 columns]"
      ]
     },
     "execution_count": 18,
     "metadata": {},
     "output_type": "execute_result"
    }
   ],
   "source": [
    "dataset"
   ]
  },
  {
   "cell_type": "markdown",
   "id": "second-street",
   "metadata": {},
   "source": [
    "## Load data\n",
    "Lib selected - tensorflow + keras"
   ]
  },
  {
   "cell_type": "markdown",
   "id": "german-canada",
   "metadata": {},
   "source": [
    "### Some small notes for future\n",
    "Tensorflow supports python 3.8 as max version. The issue arises on latest Ubuntu/max os-es, when the default python version is 3.9.\n",
    "\n",
    "What was done on MAC-OS-Big-Sur to solve that issue.\n",
    "- [pyenv](https://github.com/pyenv/pyenv) installed\n",
    "```bash\n",
    ">> brew update\n",
    ">> brew install pyenv\n",
    "...\n",
    "```\n",
    "- python 3.7 installation\n",
    "```\n",
    ">> brew install python@3.7\n",
    "```\n",
    "- pyenv added python 3.7\n",
    "```\n",
    ">> pyenv install 3.7.10\n",
    ">> pyenv loacal 3.7.10\n",
    "```\n",
    "- create [myenv](https://www.tensorflow.org/install/pip#2.-create-a-virtual-environment-recommended)\n",
    "```\n",
    ">> python3.7 -m venv myenv\n",
    ">> source myenv/bin/activate.fish\n",
    "```\n",
    "- solution of the final problem - **UPGRADE PIP**\n",
    "- install tensorflow\n",
    "```\n",
    "(myenv)>> pip install --upgrade tensorflow\n",
    "```"
   ]
  },
  {
   "cell_type": "code",
   "execution_count": 19,
   "id": "matched-boulder",
   "metadata": {},
   "outputs": [
    {
     "name": "stderr",
     "output_type": "stream",
     "text": [
      "/Users/alinabogdanova/Documents/workspace/research/myenv/lib/python3.7/site-packages/pandas/core/generic.py:5491: SettingWithCopyWarning: \n",
      "A value is trying to be set on a copy of a slice from a DataFrame.\n",
      "Try using .loc[row_indexer,col_indexer] = value instead\n",
      "\n",
      "See the caveats in the documentation: https://pandas.pydata.org/pandas-docs/stable/user_guide/indexing.html#returning-a-view-versus-a-copy\n",
      "  self[name] = value\n"
     ]
    }
   ],
   "source": [
    "le = LabelEncoder()\n",
    "dataset.username = le.fit_transform(dataset.username)"
   ]
  },
  {
   "cell_type": "code",
   "execution_count": 20,
   "id": "color-runner",
   "metadata": {},
   "outputs": [
    {
     "data": {
      "text/html": [
       "<div>\n",
       "<style scoped>\n",
       "    .dataframe tbody tr th:only-of-type {\n",
       "        vertical-align: middle;\n",
       "    }\n",
       "\n",
       "    .dataframe tbody tr th {\n",
       "        vertical-align: top;\n",
       "    }\n",
       "\n",
       "    .dataframe thead th {\n",
       "        text-align: right;\n",
       "    }\n",
       "</style>\n",
       "<table border=\"1\" class=\"dataframe\">\n",
       "  <thead>\n",
       "    <tr style=\"text-align: right;\">\n",
       "      <th></th>\n",
       "      <th>username</th>\n",
       "      <th>tokens</th>\n",
       "    </tr>\n",
       "  </thead>\n",
       "  <tbody>\n",
       "    <tr>\n",
       "      <th>101527</th>\n",
       "      <td>201</td>\n",
       "      <td>[8444, 96117, 14, 2705, 96102, 63, 13778, 9609...</td>\n",
       "    </tr>\n",
       "    <tr>\n",
       "      <th>149513</th>\n",
       "      <td>415</td>\n",
       "      <td>[46, 1386, 1867, 96093, 2043, 1109, 1386, 138,...</td>\n",
       "    </tr>\n",
       "    <tr>\n",
       "      <th>113825</th>\n",
       "      <td>339</td>\n",
       "      <td>[63, 13778, 96077, 2292, 96091, 10022, 96077, ...</td>\n",
       "    </tr>\n",
       "    <tr>\n",
       "      <th>90717</th>\n",
       "      <td>43</td>\n",
       "      <td>[138, 1149, 11791, 14, 1149, 96084, 8827, 63, ...</td>\n",
       "    </tr>\n",
       "    <tr>\n",
       "      <th>69537</th>\n",
       "      <td>490</td>\n",
       "      <td>[138, 1149, 156, 4159, 138, 19453, 29, 14, 138...</td>\n",
       "    </tr>\n",
       "    <tr>\n",
       "      <th>...</th>\n",
       "      <td>...</td>\n",
       "      <td>...</td>\n",
       "    </tr>\n",
       "    <tr>\n",
       "      <th>87132</th>\n",
       "      <td>10</td>\n",
       "      <td>[3238, 2785, 96124, 1119, 96124, 1376, 1804, 1...</td>\n",
       "    </tr>\n",
       "    <tr>\n",
       "      <th>145517</th>\n",
       "      <td>275</td>\n",
       "      <td>[63, 9158, 96091, 96151, 96085, 1385, 45, 170,...</td>\n",
       "    </tr>\n",
       "    <tr>\n",
       "      <th>28459</th>\n",
       "      <td>217</td>\n",
       "      <td>[3238, 2785, 96124, 1119, 96124, 1796, 156, 69...</td>\n",
       "    </tr>\n",
       "    <tr>\n",
       "      <th>21261</th>\n",
       "      <td>63</td>\n",
       "      <td>[3074, 594, 2785, 96124, 1119, 96124, 1796, 67...</td>\n",
       "    </tr>\n",
       "    <tr>\n",
       "      <th>74766</th>\n",
       "      <td>400</td>\n",
       "      <td>[5594, 14, 1388, 153, 96139, 96096, 8026, 9609...</td>\n",
       "    </tr>\n",
       "  </tbody>\n",
       "</table>\n",
       "<p>21398 rows × 2 columns</p>\n",
       "</div>"
      ],
      "text/plain": [
       "        username                                             tokens\n",
       "101527       201  [8444, 96117, 14, 2705, 96102, 63, 13778, 9609...\n",
       "149513       415  [46, 1386, 1867, 96093, 2043, 1109, 1386, 138,...\n",
       "113825       339  [63, 13778, 96077, 2292, 96091, 10022, 96077, ...\n",
       "90717         43  [138, 1149, 11791, 14, 1149, 96084, 8827, 63, ...\n",
       "69537        490  [138, 1149, 156, 4159, 138, 19453, 29, 14, 138...\n",
       "...          ...                                                ...\n",
       "87132         10  [3238, 2785, 96124, 1119, 96124, 1376, 1804, 1...\n",
       "145517       275  [63, 9158, 96091, 96151, 96085, 1385, 45, 170,...\n",
       "28459        217  [3238, 2785, 96124, 1119, 96124, 1796, 156, 69...\n",
       "21261         63  [3074, 594, 2785, 96124, 1119, 96124, 1796, 67...\n",
       "74766        400  [5594, 14, 1388, 153, 96139, 96096, 8026, 9609...\n",
       "\n",
       "[21398 rows x 2 columns]"
      ]
     },
     "execution_count": 20,
     "metadata": {},
     "output_type": "execute_result"
    }
   ],
   "source": [
    "# shuffle dataset\n",
    "dataset = dataset.sample(frac = 1) \n",
    "dataset"
   ]
  },
  {
   "cell_type": "code",
   "execution_count": 21,
   "id": "racial-celtic",
   "metadata": {},
   "outputs": [],
   "source": [
    "def rsh(x):\n",
    "    arr = np.array(x)\n",
    "    arr.resize(600)\n",
    "    return list(arr)\n",
    "\n",
    "dataset.tokens = dataset.tokens.apply(rsh)"
   ]
  },
  {
   "cell_type": "code",
   "execution_count": 22,
   "id": "excellent-pastor",
   "metadata": {},
   "outputs": [
    {
     "data": {
      "text/html": [
       "<div>\n",
       "<style scoped>\n",
       "    .dataframe tbody tr th:only-of-type {\n",
       "        vertical-align: middle;\n",
       "    }\n",
       "\n",
       "    .dataframe tbody tr th {\n",
       "        vertical-align: top;\n",
       "    }\n",
       "\n",
       "    .dataframe thead th {\n",
       "        text-align: right;\n",
       "    }\n",
       "</style>\n",
       "<table border=\"1\" class=\"dataframe\">\n",
       "  <thead>\n",
       "    <tr style=\"text-align: right;\">\n",
       "      <th></th>\n",
       "      <th>username</th>\n",
       "      <th>tokens</th>\n",
       "    </tr>\n",
       "  </thead>\n",
       "  <tbody>\n",
       "    <tr>\n",
       "      <th>101527</th>\n",
       "      <td>201</td>\n",
       "      <td>[8444, 96117, 14, 2705, 96102, 63, 13778, 9609...</td>\n",
       "    </tr>\n",
       "    <tr>\n",
       "      <th>149513</th>\n",
       "      <td>415</td>\n",
       "      <td>[46, 1386, 1867, 96093, 2043, 1109, 1386, 138,...</td>\n",
       "    </tr>\n",
       "    <tr>\n",
       "      <th>113825</th>\n",
       "      <td>339</td>\n",
       "      <td>[63, 13778, 96077, 2292, 96091, 10022, 96077, ...</td>\n",
       "    </tr>\n",
       "    <tr>\n",
       "      <th>90717</th>\n",
       "      <td>43</td>\n",
       "      <td>[138, 1149, 11791, 14, 1149, 96084, 8827, 63, ...</td>\n",
       "    </tr>\n",
       "    <tr>\n",
       "      <th>69537</th>\n",
       "      <td>490</td>\n",
       "      <td>[138, 1149, 156, 4159, 138, 19453, 29, 14, 138...</td>\n",
       "    </tr>\n",
       "    <tr>\n",
       "      <th>...</th>\n",
       "      <td>...</td>\n",
       "      <td>...</td>\n",
       "    </tr>\n",
       "    <tr>\n",
       "      <th>87132</th>\n",
       "      <td>10</td>\n",
       "      <td>[3238, 2785, 96124, 1119, 96124, 1376, 1804, 1...</td>\n",
       "    </tr>\n",
       "    <tr>\n",
       "      <th>145517</th>\n",
       "      <td>275</td>\n",
       "      <td>[63, 9158, 96091, 96151, 96085, 1385, 45, 170,...</td>\n",
       "    </tr>\n",
       "    <tr>\n",
       "      <th>28459</th>\n",
       "      <td>217</td>\n",
       "      <td>[3238, 2785, 96124, 1119, 96124, 1796, 156, 69...</td>\n",
       "    </tr>\n",
       "    <tr>\n",
       "      <th>21261</th>\n",
       "      <td>63</td>\n",
       "      <td>[3074, 594, 2785, 96124, 1119, 96124, 1796, 67...</td>\n",
       "    </tr>\n",
       "    <tr>\n",
       "      <th>74766</th>\n",
       "      <td>400</td>\n",
       "      <td>[5594, 14, 1388, 153, 96139, 96096, 8026, 9609...</td>\n",
       "    </tr>\n",
       "  </tbody>\n",
       "</table>\n",
       "<p>21398 rows × 2 columns</p>\n",
       "</div>"
      ],
      "text/plain": [
       "        username                                             tokens\n",
       "101527       201  [8444, 96117, 14, 2705, 96102, 63, 13778, 9609...\n",
       "149513       415  [46, 1386, 1867, 96093, 2043, 1109, 1386, 138,...\n",
       "113825       339  [63, 13778, 96077, 2292, 96091, 10022, 96077, ...\n",
       "90717         43  [138, 1149, 11791, 14, 1149, 96084, 8827, 63, ...\n",
       "69537        490  [138, 1149, 156, 4159, 138, 19453, 29, 14, 138...\n",
       "...          ...                                                ...\n",
       "87132         10  [3238, 2785, 96124, 1119, 96124, 1376, 1804, 1...\n",
       "145517       275  [63, 9158, 96091, 96151, 96085, 1385, 45, 170,...\n",
       "28459        217  [3238, 2785, 96124, 1119, 96124, 1796, 156, 69...\n",
       "21261         63  [3074, 594, 2785, 96124, 1119, 96124, 1796, 67...\n",
       "74766        400  [5594, 14, 1388, 153, 96139, 96096, 8026, 9609...\n",
       "\n",
       "[21398 rows x 2 columns]"
      ]
     },
     "execution_count": 22,
     "metadata": {},
     "output_type": "execute_result"
    }
   ],
   "source": [
    "dataset"
   ]
  },
  {
   "cell_type": "code",
   "execution_count": 23,
   "id": "stable-bracket",
   "metadata": {},
   "outputs": [],
   "source": [
    "dataset.to_json(\"train.json\")"
   ]
  },
  {
   "cell_type": "code",
   "execution_count": 4,
   "id": "novel-spending",
   "metadata": {},
   "outputs": [],
   "source": [
    "dataset = pd.read_json(\"train.json\")"
   ]
  },
  {
   "cell_type": "code",
   "execution_count": 5,
   "id": "crude-maine",
   "metadata": {},
   "outputs": [
    {
     "data": {
      "text/plain": [
       "(21398, 600)"
      ]
     },
     "execution_count": 5,
     "metadata": {},
     "output_type": "execute_result"
    }
   ],
   "source": [
    "X = dataset.tokens.values\n",
    "X = np.array(list(X))\n",
    "X.shape"
   ]
  },
  {
   "cell_type": "code",
   "execution_count": 6,
   "id": "initial-collectible",
   "metadata": {},
   "outputs": [
    {
     "data": {
      "text/plain": [
       "(16048, 600, 1)"
      ]
     },
     "execution_count": 6,
     "metadata": {},
     "output_type": "execute_result"
    }
   ],
   "source": [
    "X = X.reshape((-1, 600, 1))\n",
    "y = np.array(dataset.username)\n",
    "\n",
    "ohe = OneHotEncoder()\n",
    "y = ohe.fit_transform(y.reshape(-1, 1))\n",
    "y = y.toarray()\n",
    "\n",
    "X_train, X_test, y_train, y_test = train_test_split(X, y)\n",
    "X_train.shape"
   ]
  },
  {
   "cell_type": "markdown",
   "id": "broad-turning",
   "metadata": {},
   "source": [
    "### Structure of the model\n",
    "1. CNN:\n",
    "- ks = 50 (function - level)\n",
    "- ks = 10 (line2 - level)\n",
    "- ks = 5 (lene - level)\n",
    "2. Linear ReLU \n",
    "3. softmax 75"
   ]
  },
  {
   "cell_type": "markdown",
   "id": "atlantic-debate",
   "metadata": {},
   "source": [
    "> important note `tanh` activation increases accuracy from 11% to 60% ontraining (50% of test accuracy)\n",
    ">\n",
    "> `linear` function reaches up to 61% of test accuracy"
   ]
  },
  {
   "cell_type": "code",
   "execution_count": 7,
   "id": "guilty-telling",
   "metadata": {},
   "outputs": [],
   "source": [
    "X = X[np.where(np.argmax(y, axis=1) < 40)]\n",
    "y = y[np.where(np.argmax(y, axis=1) < 40)]\n",
    "ohe = OneHotEncoder()\n",
    "y = ohe.fit_transform(np.argmax(y, axis = 1).reshape(-1, 1)).toarray()\n",
    "\n",
    "X_train, X_test, y_train, y_test = train_test_split(X, y)"
   ]
  },
  {
   "cell_type": "code",
   "execution_count": 8,
   "id": "protective-desire",
   "metadata": {},
   "outputs": [
    {
     "data": {
      "text/plain": [
       "array([[0., 0., 0., ..., 1., 0., 0.],\n",
       "       [0., 0., 0., ..., 0., 0., 0.],\n",
       "       [0., 0., 0., ..., 0., 0., 0.],\n",
       "       ...,\n",
       "       [0., 0., 0., ..., 0., 0., 0.],\n",
       "       [0., 0., 0., ..., 0., 0., 0.],\n",
       "       [0., 0., 0., ..., 0., 0., 0.]])"
      ]
     },
     "execution_count": 8,
     "metadata": {},
     "output_type": "execute_result"
    }
   ],
   "source": [
    "y"
   ]
  },
  {
   "cell_type": "code",
   "execution_count": 29,
   "id": "african-resort",
   "metadata": {},
   "outputs": [
    {
     "name": "stdout",
     "output_type": "stream",
     "text": [
      "Model: \"sequential\"\n",
      "_________________________________________________________________\n",
      "Layer (type)                 Output Shape              Param #   \n",
      "=================================================================\n",
      "conv1d (Conv1D)              (None, 591, 150)          1650      \n",
      "_________________________________________________________________\n",
      "max_pooling1d (MaxPooling1D) (None, 73, 150)           0         \n",
      "_________________________________________________________________\n",
      "flatten (Flatten)            (None, 10950)             0         \n",
      "_________________________________________________________________\n",
      "dropout (Dropout)            (None, 10950)             0         \n",
      "_________________________________________________________________\n",
      "dense (Dense)                (None, 64)                700864    \n",
      "_________________________________________________________________\n",
      "dropout_1 (Dropout)          (None, 64)                0         \n",
      "_________________________________________________________________\n",
      "dense_1 (Dense)              (None, 40)                2600      \n",
      "=================================================================\n",
      "Total params: 705,114\n",
      "Trainable params: 705,114\n",
      "Non-trainable params: 0\n",
      "_________________________________________________________________\n"
     ]
    }
   ],
   "source": [
    "model = keras.Sequential()\n",
    "model.add(keras.Input(shape=(600, 1)))  \n",
    "model.add(layers.Conv1D(150, 10, activation=\"linear\")) \n",
    "model.add(layers.MaxPooling1D(pool_size=8))\n",
    "model.add(layers.Flatten())\n",
    "model.add(layers.Dropout(0.5))\n",
    "model.add(layers.Dense(64, activation=\"linear\"))\n",
    "model.add(layers.Dropout(0.5))\n",
    "model.add(layers.Dense(40, activation=\"softmax\"))\n",
    "model.summary()"
   ]
  },
  {
   "cell_type": "code",
   "execution_count": 30,
   "id": "behind-mount",
   "metadata": {},
   "outputs": [],
   "source": [
    "optimizer = optimizers.Adam(0.1)\n",
    "lr_schedule = callbacks.ReduceLROnPlateau(monitor='val_accuracy', factor=0.5, patience=5, min_delta=0.000001, verbouse=1)\n",
    "model.compile(optimizer = optimizer , loss = \"categorical_crossentropy\", metrics=[\"accuracy\"])"
   ]
  },
  {
   "cell_type": "code",
   "execution_count": 31,
   "id": "political-rhythm",
   "metadata": {},
   "outputs": [
    {
     "name": "stdout",
     "output_type": "stream",
     "text": [
      "Epoch 1/150\n",
      "63/63 - 2s - loss: 20086350.0000 - accuracy: 0.0455 - val_loss: 25771066.0000 - val_accuracy: 0.0796\n",
      "Epoch 2/150\n",
      "63/63 - 1s - loss: 53394520.0000 - accuracy: 0.0568 - val_loss: 46603112.0000 - val_accuracy: 0.0913\n",
      "Epoch 3/150\n",
      "63/63 - 1s - loss: 99113384.0000 - accuracy: 0.0697 - val_loss: 94409760.0000 - val_accuracy: 0.0632\n",
      "Epoch 4/150\n",
      "63/63 - 1s - loss: 139661248.0000 - accuracy: 0.0689 - val_loss: 86394472.0000 - val_accuracy: 0.1030\n",
      "Epoch 5/150\n",
      "63/63 - 1s - loss: 165303312.0000 - accuracy: 0.0856 - val_loss: 118794112.0000 - val_accuracy: 0.1054\n",
      "Epoch 6/150\n",
      "63/63 - 1s - loss: 185155472.0000 - accuracy: 0.0977 - val_loss: 126833760.0000 - val_accuracy: 0.0960\n",
      "Epoch 7/150\n",
      "63/63 - 1s - loss: 177190368.0000 - accuracy: 0.1015 - val_loss: 113504144.0000 - val_accuracy: 0.1639\n",
      "Epoch 8/150\n",
      "63/63 - 1s - loss: 182382448.0000 - accuracy: 0.1159 - val_loss: 99374896.0000 - val_accuracy: 0.1733\n",
      "Epoch 9/150\n",
      "63/63 - 1s - loss: 172262608.0000 - accuracy: 0.1409 - val_loss: 102670064.0000 - val_accuracy: 0.1920\n",
      "Epoch 10/150\n",
      "63/63 - 1s - loss: 173542368.0000 - accuracy: 0.1568 - val_loss: 113798560.0000 - val_accuracy: 0.2131\n",
      "Epoch 11/150\n",
      "63/63 - 1s - loss: 186340048.0000 - accuracy: 0.1758 - val_loss: 130220408.0000 - val_accuracy: 0.2436\n",
      "Epoch 12/150\n",
      "63/63 - 1s - loss: 201302592.0000 - accuracy: 0.1667 - val_loss: 136829104.0000 - val_accuracy: 0.2225\n",
      "Epoch 13/150\n",
      "63/63 - 1s - loss: 226907808.0000 - accuracy: 0.1833 - val_loss: 167297152.0000 - val_accuracy: 0.2389\n",
      "Epoch 14/150\n",
      "63/63 - 1s - loss: 249803392.0000 - accuracy: 0.2068 - val_loss: 197648384.0000 - val_accuracy: 0.2529\n",
      "Epoch 15/150\n",
      "63/63 - 1s - loss: 273149440.0000 - accuracy: 0.2356 - val_loss: 186008640.0000 - val_accuracy: 0.2763\n",
      "Epoch 16/150\n",
      "63/63 - 1s - loss: 297713408.0000 - accuracy: 0.2439 - val_loss: 207809424.0000 - val_accuracy: 0.3068\n",
      "Epoch 17/150\n",
      "63/63 - 1s - loss: 357442240.0000 - accuracy: 0.2652 - val_loss: 304681568.0000 - val_accuracy: 0.2951\n",
      "Epoch 18/150\n",
      "63/63 - 1s - loss: 411977600.0000 - accuracy: 0.2818 - val_loss: 298113536.0000 - val_accuracy: 0.3489\n",
      "Epoch 19/150\n",
      "63/63 - 1s - loss: 480581152.0000 - accuracy: 0.2939 - val_loss: 359356864.0000 - val_accuracy: 0.3888\n",
      "Epoch 20/150\n",
      "63/63 - 1s - loss: 534466336.0000 - accuracy: 0.3447 - val_loss: 388625056.0000 - val_accuracy: 0.4052\n",
      "Epoch 21/150\n",
      "63/63 - 1s - loss: 565007680.0000 - accuracy: 0.3568 - val_loss: 549055680.0000 - val_accuracy: 0.4028\n",
      "Epoch 22/150\n",
      "63/63 - 1s - loss: 593802752.0000 - accuracy: 0.3697 - val_loss: 557824064.0000 - val_accuracy: 0.4169\n",
      "Epoch 23/150\n",
      "63/63 - 1s - loss: 613861120.0000 - accuracy: 0.4227 - val_loss: 522416032.0000 - val_accuracy: 0.4215\n",
      "Epoch 24/150\n",
      "63/63 - 1s - loss: 620384896.0000 - accuracy: 0.4106 - val_loss: 530980320.0000 - val_accuracy: 0.5176\n",
      "Epoch 25/150\n",
      "63/63 - 1s - loss: 482377472.0000 - accuracy: 0.5174 - val_loss: 578785280.0000 - val_accuracy: 0.5129\n",
      "Epoch 26/150\n",
      "63/63 - 1s - loss: 469045952.0000 - accuracy: 0.5402 - val_loss: 597152128.0000 - val_accuracy: 0.5152\n",
      "Epoch 27/150\n",
      "63/63 - 1s - loss: 468360832.0000 - accuracy: 0.5470 - val_loss: 619835776.0000 - val_accuracy: 0.5691\n",
      "Epoch 28/150\n",
      "63/63 - 1s - loss: 480107456.0000 - accuracy: 0.5833 - val_loss: 747754176.0000 - val_accuracy: 0.5316\n",
      "Epoch 29/150\n",
      "63/63 - 1s - loss: 530320800.0000 - accuracy: 0.5780 - val_loss: 693365760.0000 - val_accuracy: 0.5785\n",
      "Epoch 30/150\n",
      "63/63 - 1s - loss: 455471392.0000 - accuracy: 0.6152 - val_loss: 723835904.0000 - val_accuracy: 0.5855\n",
      "Epoch 31/150\n",
      "63/63 - 1s - loss: 434888896.0000 - accuracy: 0.6317 - val_loss: 817213056.0000 - val_accuracy: 0.6019\n",
      "Epoch 32/150\n",
      "63/63 - 1s - loss: 502460288.0000 - accuracy: 0.6364 - val_loss: 817326912.0000 - val_accuracy: 0.6206\n",
      "Epoch 33/150\n",
      "63/63 - 1s - loss: 509296832.0000 - accuracy: 0.6735 - val_loss: 934133568.0000 - val_accuracy: 0.5972\n",
      "Epoch 34/150\n",
      "63/63 - 1s - loss: 541295360.0000 - accuracy: 0.6689 - val_loss: 987843456.0000 - val_accuracy: 0.6276\n",
      "Epoch 35/150\n",
      "63/63 - 1s - loss: 566944000.0000 - accuracy: 0.6674 - val_loss: 1057610688.0000 - val_accuracy: 0.6230\n",
      "Epoch 36/150\n",
      "63/63 - 1s - loss: 545334784.0000 - accuracy: 0.6962 - val_loss: 1207606912.0000 - val_accuracy: 0.6253\n",
      "Epoch 37/150\n",
      "63/63 - 1s - loss: 566263808.0000 - accuracy: 0.6992 - val_loss: 1290124416.0000 - val_accuracy: 0.6230\n",
      "Epoch 38/150\n",
      "63/63 - 1s - loss: 559044544.0000 - accuracy: 0.7167 - val_loss: 1286514688.0000 - val_accuracy: 0.6253\n",
      "Epoch 39/150\n",
      "63/63 - 1s - loss: 570038912.0000 - accuracy: 0.7288 - val_loss: 1543799040.0000 - val_accuracy: 0.6112\n",
      "Epoch 40/150\n",
      "63/63 - 1s - loss: 439150048.0000 - accuracy: 0.7765 - val_loss: 1270946944.0000 - val_accuracy: 0.6721\n",
      "Epoch 41/150\n",
      "63/63 - 1s - loss: 272528064.0000 - accuracy: 0.8348 - val_loss: 1257781504.0000 - val_accuracy: 0.6721\n",
      "Epoch 42/150\n",
      "63/63 - 1s - loss: 247651456.0000 - accuracy: 0.8424 - val_loss: 1203517056.0000 - val_accuracy: 0.6745\n",
      "Epoch 43/150\n",
      "63/63 - 1s - loss: 211833584.0000 - accuracy: 0.8568 - val_loss: 1200923904.0000 - val_accuracy: 0.6581\n",
      "Epoch 44/150\n",
      "63/63 - 1s - loss: 185970784.0000 - accuracy: 0.8727 - val_loss: 1194747904.0000 - val_accuracy: 0.6581\n",
      "Epoch 45/150\n",
      "63/63 - 1s - loss: 149922880.0000 - accuracy: 0.8765 - val_loss: 1161673600.0000 - val_accuracy: 0.6815\n",
      "Epoch 46/150\n",
      "63/63 - 1s - loss: 143958160.0000 - accuracy: 0.8841 - val_loss: 1168136192.0000 - val_accuracy: 0.6674\n",
      "Epoch 47/150\n",
      "63/63 - 1s - loss: 164234928.0000 - accuracy: 0.8894 - val_loss: 1091921280.0000 - val_accuracy: 0.6932\n",
      "Epoch 48/150\n",
      "63/63 - 1s - loss: 138185808.0000 - accuracy: 0.8871 - val_loss: 1062860288.0000 - val_accuracy: 0.6862\n",
      "Epoch 49/150\n",
      "63/63 - 1s - loss: 100858968.0000 - accuracy: 0.9265 - val_loss: 1081815424.0000 - val_accuracy: 0.6885\n",
      "Epoch 50/150\n",
      "63/63 - 1s - loss: 124208792.0000 - accuracy: 0.9083 - val_loss: 1102583424.0000 - val_accuracy: 0.6838\n",
      "Epoch 51/150\n",
      "63/63 - 1s - loss: 116398960.0000 - accuracy: 0.9068 - val_loss: 1112041088.0000 - val_accuracy: 0.6885\n",
      "Epoch 52/150\n",
      "63/63 - 1s - loss: 105555024.0000 - accuracy: 0.9189 - val_loss: 1088255488.0000 - val_accuracy: 0.6862\n",
      "Epoch 53/150\n",
      "63/63 - 1s - loss: 85854360.0000 - accuracy: 0.9182 - val_loss: 1076214912.0000 - val_accuracy: 0.6932\n",
      "Epoch 54/150\n",
      "63/63 - 1s - loss: 84052848.0000 - accuracy: 0.9265 - val_loss: 1074241664.0000 - val_accuracy: 0.6815\n",
      "Epoch 55/150\n",
      "63/63 - 1s - loss: 73311464.0000 - accuracy: 0.9371 - val_loss: 1047961152.0000 - val_accuracy: 0.6792\n",
      "Epoch 56/150\n",
      "63/63 - 1s - loss: 86293272.0000 - accuracy: 0.9212 - val_loss: 1028820096.0000 - val_accuracy: 0.6932\n",
      "Epoch 57/150\n",
      "63/63 - 1s - loss: 66779072.0000 - accuracy: 0.9402 - val_loss: 1021209600.0000 - val_accuracy: 0.6862\n",
      "Epoch 58/150\n",
      "63/63 - 1s - loss: 99518088.0000 - accuracy: 0.9136 - val_loss: 1005644672.0000 - val_accuracy: 0.6979\n",
      "Epoch 59/150\n",
      "63/63 - 1s - loss: 51290024.0000 - accuracy: 0.9447 - val_loss: 1019454592.0000 - val_accuracy: 0.6885\n",
      "Epoch 60/150\n",
      "63/63 - 1s - loss: 49199804.0000 - accuracy: 0.9477 - val_loss: 1013417024.0000 - val_accuracy: 0.6932\n",
      "Epoch 61/150\n",
      "63/63 - 1s - loss: 56127840.0000 - accuracy: 0.9423 - val_loss: 1003167360.0000 - val_accuracy: 0.7026\n",
      "Epoch 62/150\n",
      "63/63 - 1s - loss: 56907644.0000 - accuracy: 0.9485 - val_loss: 982308800.0000 - val_accuracy: 0.7026\n",
      "Epoch 63/150\n",
      "63/63 - 1s - loss: 57905436.0000 - accuracy: 0.9470 - val_loss: 982224768.0000 - val_accuracy: 0.7026\n",
      "Epoch 64/150\n",
      "63/63 - 1s - loss: 40989564.0000 - accuracy: 0.9568 - val_loss: 979877376.0000 - val_accuracy: 0.6979\n",
      "Epoch 65/150\n",
      "63/63 - 1s - loss: 48146996.0000 - accuracy: 0.9500 - val_loss: 975381184.0000 - val_accuracy: 0.6956\n",
      "Epoch 66/150\n",
      "63/63 - 1s - loss: 33060274.0000 - accuracy: 0.9530 - val_loss: 964108672.0000 - val_accuracy: 0.6956\n",
      "Epoch 67/150\n",
      "63/63 - 1s - loss: 39428236.0000 - accuracy: 0.9545 - val_loss: 967167936.0000 - val_accuracy: 0.6885\n",
      "Epoch 68/150\n",
      "63/63 - 1s - loss: 28548748.0000 - accuracy: 0.9674 - val_loss: 970895424.0000 - val_accuracy: 0.6862\n",
      "Epoch 69/150\n",
      "63/63 - 1s - loss: 44202280.0000 - accuracy: 0.9568 - val_loss: 981544000.0000 - val_accuracy: 0.6909\n",
      "Epoch 70/150\n",
      "63/63 - 1s - loss: 37391548.0000 - accuracy: 0.9553 - val_loss: 987016128.0000 - val_accuracy: 0.6885\n",
      "Epoch 71/150\n",
      "63/63 - 1s - loss: 32625170.0000 - accuracy: 0.9598 - val_loss: 978817792.0000 - val_accuracy: 0.6909\n",
      "Epoch 72/150\n",
      "63/63 - 1s - loss: 34113380.0000 - accuracy: 0.9614 - val_loss: 969991104.0000 - val_accuracy: 0.6932\n",
      "Epoch 73/150\n",
      "63/63 - 1s - loss: 43509064.0000 - accuracy: 0.9614 - val_loss: 967847680.0000 - val_accuracy: 0.6932\n",
      "Epoch 74/150\n",
      "63/63 - 1s - loss: 48796844.0000 - accuracy: 0.9561 - val_loss: 968696640.0000 - val_accuracy: 0.6956\n",
      "Epoch 75/150\n",
      "63/63 - 1s - loss: 42036340.0000 - accuracy: 0.9470 - val_loss: 964414976.0000 - val_accuracy: 0.6956\n",
      "Epoch 76/150\n",
      "63/63 - 1s - loss: 36586252.0000 - accuracy: 0.9530 - val_loss: 966052032.0000 - val_accuracy: 0.6909\n",
      "Epoch 77/150\n",
      "63/63 - 1s - loss: 35967152.0000 - accuracy: 0.9576 - val_loss: 963342208.0000 - val_accuracy: 0.6909\n",
      "Epoch 78/150\n",
      "63/63 - 1s - loss: 33588120.0000 - accuracy: 0.9614 - val_loss: 962002432.0000 - val_accuracy: 0.6885\n",
      "Epoch 79/150\n",
      "63/63 - 1s - loss: 38154164.0000 - accuracy: 0.9621 - val_loss: 961441344.0000 - val_accuracy: 0.6932\n",
      "Epoch 80/150\n",
      "63/63 - 1s - loss: 52524472.0000 - accuracy: 0.9553 - val_loss: 961355200.0000 - val_accuracy: 0.6932\n",
      "Epoch 81/150\n",
      "63/63 - 1s - loss: 34415988.0000 - accuracy: 0.9553 - val_loss: 958417280.0000 - val_accuracy: 0.6956\n",
      "Epoch 82/150\n",
      "63/63 - 1s - loss: 43952204.0000 - accuracy: 0.9538 - val_loss: 958596224.0000 - val_accuracy: 0.6932\n",
      "Epoch 83/150\n",
      "63/63 - 1s - loss: 38642776.0000 - accuracy: 0.9598 - val_loss: 959222912.0000 - val_accuracy: 0.6956\n",
      "Epoch 84/150\n",
      "63/63 - 1s - loss: 32067792.0000 - accuracy: 0.9636 - val_loss: 959109568.0000 - val_accuracy: 0.6956\n",
      "Epoch 85/150\n",
      "63/63 - 1s - loss: 42430748.0000 - accuracy: 0.9568 - val_loss: 957585856.0000 - val_accuracy: 0.6932\n",
      "Epoch 86/150\n",
      "63/63 - 1s - loss: 32749130.0000 - accuracy: 0.9659 - val_loss: 958173056.0000 - val_accuracy: 0.6932\n",
      "Epoch 87/150\n",
      "63/63 - 1s - loss: 41202716.0000 - accuracy: 0.9591 - val_loss: 958640128.0000 - val_accuracy: 0.6956\n",
      "Epoch 88/150\n",
      "63/63 - 1s - loss: 31704088.0000 - accuracy: 0.9629 - val_loss: 957565056.0000 - val_accuracy: 0.6932\n",
      "Epoch 89/150\n",
      "63/63 - 1s - loss: 37770660.0000 - accuracy: 0.9591 - val_loss: 957231552.0000 - val_accuracy: 0.6932\n",
      "Epoch 90/150\n",
      "63/63 - 1s - loss: 40243076.0000 - accuracy: 0.9621 - val_loss: 956812096.0000 - val_accuracy: 0.6932\n",
      "Epoch 91/150\n",
      "63/63 - 1s - loss: 42229900.0000 - accuracy: 0.9614 - val_loss: 956616192.0000 - val_accuracy: 0.6909\n",
      "Epoch 92/150\n",
      "63/63 - 1s - loss: 26963262.0000 - accuracy: 0.9681 - val_loss: 956292928.0000 - val_accuracy: 0.6909\n",
      "Epoch 93/150\n",
      "63/63 - 1s - loss: 34442476.0000 - accuracy: 0.9576 - val_loss: 956368512.0000 - val_accuracy: 0.6909\n",
      "Epoch 94/150\n",
      "63/63 - 1s - loss: 29035582.0000 - accuracy: 0.9636 - val_loss: 956096320.0000 - val_accuracy: 0.6909\n",
      "Epoch 95/150\n",
      "63/63 - 1s - loss: 36806636.0000 - accuracy: 0.9644 - val_loss: 956064128.0000 - val_accuracy: 0.6909\n",
      "Epoch 96/150\n",
      "63/63 - 1s - loss: 31167746.0000 - accuracy: 0.9697 - val_loss: 955744704.0000 - val_accuracy: 0.6909\n",
      "Epoch 97/150\n",
      "63/63 - 1s - loss: 42939424.0000 - accuracy: 0.9576 - val_loss: 955839040.0000 - val_accuracy: 0.6909\n",
      "Epoch 98/150\n",
      "63/63 - 1s - loss: 39867572.0000 - accuracy: 0.9568 - val_loss: 955307968.0000 - val_accuracy: 0.6909\n",
      "Epoch 99/150\n",
      "63/63 - 1s - loss: 28945054.0000 - accuracy: 0.9629 - val_loss: 955260864.0000 - val_accuracy: 0.6909\n",
      "Epoch 100/150\n",
      "63/63 - 1s - loss: 27782424.0000 - accuracy: 0.9636 - val_loss: 955127872.0000 - val_accuracy: 0.6909\n",
      "Epoch 101/150\n",
      "63/63 - 1s - loss: 36222436.0000 - accuracy: 0.9576 - val_loss: 955038144.0000 - val_accuracy: 0.6909\n",
      "Epoch 102/150\n",
      "63/63 - 1s - loss: 39706228.0000 - accuracy: 0.9553 - val_loss: 955017856.0000 - val_accuracy: 0.6909\n",
      "Epoch 103/150\n",
      "63/63 - 1s - loss: 28995532.0000 - accuracy: 0.9568 - val_loss: 955089728.0000 - val_accuracy: 0.6909\n",
      "Epoch 104/150\n",
      "63/63 - 1s - loss: 28474808.0000 - accuracy: 0.9629 - val_loss: 955028800.0000 - val_accuracy: 0.6909\n",
      "Epoch 105/150\n",
      "63/63 - 1s - loss: 24473468.0000 - accuracy: 0.9674 - val_loss: 954984960.0000 - val_accuracy: 0.6909\n",
      "Epoch 106/150\n",
      "63/63 - 1s - loss: 25000858.0000 - accuracy: 0.9659 - val_loss: 954997888.0000 - val_accuracy: 0.6909\n",
      "Epoch 107/150\n",
      "63/63 - 1s - loss: 34200308.0000 - accuracy: 0.9629 - val_loss: 954963904.0000 - val_accuracy: 0.6909\n",
      "Epoch 108/150\n",
      "63/63 - 1s - loss: 35848004.0000 - accuracy: 0.9561 - val_loss: 954942144.0000 - val_accuracy: 0.6909\n",
      "Epoch 109/150\n",
      "63/63 - 1s - loss: 41155308.0000 - accuracy: 0.9523 - val_loss: 955004992.0000 - val_accuracy: 0.6909\n",
      "Epoch 110/150\n",
      "63/63 - 1s - loss: 45640476.0000 - accuracy: 0.9515 - val_loss: 954953984.0000 - val_accuracy: 0.6909\n",
      "Epoch 111/150\n",
      "63/63 - 1s - loss: 27891104.0000 - accuracy: 0.9652 - val_loss: 954908096.0000 - val_accuracy: 0.6909\n",
      "Epoch 112/150\n",
      "63/63 - 1s - loss: 38135548.0000 - accuracy: 0.9583 - val_loss: 954923904.0000 - val_accuracy: 0.6909\n",
      "Epoch 113/150\n",
      "63/63 - 1s - loss: 44803596.0000 - accuracy: 0.9523 - val_loss: 954948672.0000 - val_accuracy: 0.6909\n",
      "Epoch 114/150\n",
      "63/63 - 1s - loss: 33050484.0000 - accuracy: 0.9591 - val_loss: 954953728.0000 - val_accuracy: 0.6909\n",
      "Epoch 115/150\n",
      "63/63 - 1s - loss: 28260556.0000 - accuracy: 0.9614 - val_loss: 954952384.0000 - val_accuracy: 0.6909\n",
      "Epoch 116/150\n",
      "63/63 - 1s - loss: 28008060.0000 - accuracy: 0.9591 - val_loss: 954951616.0000 - val_accuracy: 0.6909\n",
      "Epoch 117/150\n",
      "63/63 - 1s - loss: 34085420.0000 - accuracy: 0.9644 - val_loss: 954948096.0000 - val_accuracy: 0.6909\n",
      "Epoch 118/150\n",
      "63/63 - 1s - loss: 40010180.0000 - accuracy: 0.9515 - val_loss: 954954048.0000 - val_accuracy: 0.6909\n",
      "Epoch 119/150\n",
      "63/63 - 1s - loss: 40274696.0000 - accuracy: 0.9583 - val_loss: 954940736.0000 - val_accuracy: 0.6909\n",
      "Epoch 120/150\n",
      "63/63 - 1s - loss: 38478660.0000 - accuracy: 0.9583 - val_loss: 954933504.0000 - val_accuracy: 0.6909\n",
      "Epoch 121/150\n",
      "63/63 - 1s - loss: 30454580.0000 - accuracy: 0.9621 - val_loss: 954922496.0000 - val_accuracy: 0.6909\n",
      "Epoch 122/150\n",
      "63/63 - 1s - loss: 30821062.0000 - accuracy: 0.9651 - val_loss: 954913920.0000 - val_accuracy: 0.6909\n",
      "Epoch 123/150\n",
      "63/63 - 1s - loss: 41789668.0000 - accuracy: 0.9553 - val_loss: 954916288.0000 - val_accuracy: 0.6909\n",
      "Epoch 124/150\n",
      "63/63 - 1s - loss: 43411324.0000 - accuracy: 0.9530 - val_loss: 954914944.0000 - val_accuracy: 0.6909\n",
      "Epoch 125/150\n",
      "63/63 - 1s - loss: 40177468.0000 - accuracy: 0.9644 - val_loss: 954916032.0000 - val_accuracy: 0.6909\n",
      "Epoch 126/150\n",
      "63/63 - 1s - loss: 44182856.0000 - accuracy: 0.9515 - val_loss: 954920384.0000 - val_accuracy: 0.6909\n",
      "Epoch 127/150\n",
      "63/63 - 1s - loss: 37481920.0000 - accuracy: 0.9545 - val_loss: 954920704.0000 - val_accuracy: 0.6909\n",
      "Epoch 128/150\n",
      "63/63 - 1s - loss: 41463936.0000 - accuracy: 0.9568 - val_loss: 954915392.0000 - val_accuracy: 0.6909\n",
      "Epoch 129/150\n",
      "63/63 - 1s - loss: 44246820.0000 - accuracy: 0.9561 - val_loss: 954914304.0000 - val_accuracy: 0.6909\n",
      "Epoch 130/150\n",
      "63/63 - 1s - loss: 41570192.0000 - accuracy: 0.9553 - val_loss: 954910144.0000 - val_accuracy: 0.6909\n",
      "Epoch 131/150\n",
      "63/63 - 1s - loss: 29831808.0000 - accuracy: 0.9598 - val_loss: 954907392.0000 - val_accuracy: 0.6909\n",
      "Epoch 132/150\n",
      "63/63 - 1s - loss: 33872444.0000 - accuracy: 0.9667 - val_loss: 954906496.0000 - val_accuracy: 0.6909\n",
      "Epoch 133/150\n",
      "63/63 - 1s - loss: 41494136.0000 - accuracy: 0.9561 - val_loss: 954903936.0000 - val_accuracy: 0.6909\n",
      "Epoch 134/150\n",
      "63/63 - 1s - loss: 29619122.0000 - accuracy: 0.9583 - val_loss: 954903936.0000 - val_accuracy: 0.6909\n",
      "Epoch 135/150\n",
      "63/63 - 1s - loss: 51487144.0000 - accuracy: 0.9500 - val_loss: 954904768.0000 - val_accuracy: 0.6909\n",
      "Epoch 136/150\n",
      "63/63 - 1s - loss: 49258404.0000 - accuracy: 0.9598 - val_loss: 954903936.0000 - val_accuracy: 0.6909\n",
      "Epoch 137/150\n",
      "63/63 - 1s - loss: 26087994.0000 - accuracy: 0.9682 - val_loss: 954904192.0000 - val_accuracy: 0.6909\n",
      "Epoch 138/150\n",
      "63/63 - 1s - loss: 40979020.0000 - accuracy: 0.9576 - val_loss: 954903872.0000 - val_accuracy: 0.6909\n",
      "Epoch 139/150\n",
      "63/63 - 1s - loss: 41324800.0000 - accuracy: 0.9598 - val_loss: 954903360.0000 - val_accuracy: 0.6909\n",
      "Epoch 140/150\n",
      "63/63 - 1s - loss: 33516852.0000 - accuracy: 0.9545 - val_loss: 954902720.0000 - val_accuracy: 0.6909\n",
      "Epoch 141/150\n",
      "63/63 - 1s - loss: 47830196.0000 - accuracy: 0.9576 - val_loss: 954902976.0000 - val_accuracy: 0.6909\n",
      "Epoch 142/150\n",
      "63/63 - 1s - loss: 46877484.0000 - accuracy: 0.9561 - val_loss: 954902848.0000 - val_accuracy: 0.6909\n",
      "Epoch 143/150\n",
      "63/63 - 1s - loss: 34498704.0000 - accuracy: 0.9636 - val_loss: 954902592.0000 - val_accuracy: 0.6909\n",
      "Epoch 144/150\n",
      "63/63 - 1s - loss: 19202156.0000 - accuracy: 0.9720 - val_loss: 954902848.0000 - val_accuracy: 0.6909\n",
      "Epoch 145/150\n",
      "63/63 - 1s - loss: 46434592.0000 - accuracy: 0.9591 - val_loss: 954902464.0000 - val_accuracy: 0.6909\n",
      "Epoch 146/150\n",
      "WARNING:tensorflow:Your input ran out of data; interrupting training. Make sure that your dataset or generator can generate at least `steps_per_epoch * epochs` batches (in this case, 9450 batches). You may need to use the repeat() function when building your dataset.\n",
      "63/63 - 0s - loss: 36083628.0000 - accuracy: 0.9519 - val_loss: 954902464.0000 - val_accuracy: 0.6909\n"
     ]
    }
   ],
   "source": [
    "epochs = 150\n",
    "batch_size = 20\n",
    "history = model.fit(x=X_train, y=y_train, epochs = epochs, \n",
    "                    validation_data = (X_test,y_test),\n",
    "                    steps_per_epoch=X_train.shape[0] // batch_size,\n",
    "                    verbose=2, \n",
    "                    callbacks=[lr_schedule])"
   ]
  },
  {
   "cell_type": "code",
   "execution_count": 32,
   "id": "expensive-titanium",
   "metadata": {},
   "outputs": [],
   "source": [
    "def plot_training(history):\n",
    "    fig = plt.figure(figsize=(12, 5))\n",
    "    plt.subplot(121)\n",
    "    plt.title(\"Loss\")\n",
    "    plt.plot(history.history['loss'], color='b', label=\"Training loss\")\n",
    "    plt.plot(history.history['val_loss'], color='r', label=\"validation loss\")\n",
    "    plt.legend(loc='best', shadow=True)\n",
    "\n",
    "    plt.subplot(122)\n",
    "    plt.title(\"Accuracy\")\n",
    "    plt.plot(history.history['accuracy'], color='b', label=\"Training accuracy\")\n",
    "    plt.plot(history.history['val_accuracy'], color='r',label=\"Validation accuracy\")\n",
    "    plt.legend(loc='best', shadow=True)\n",
    "    return fig"
   ]
  },
  {
   "cell_type": "code",
   "execution_count": 33,
   "id": "fuzzy-alpha",
   "metadata": {},
   "outputs": [
    {
     "data": {
      "image/png": "[encoded data removed]",
      "text/plain": [
       "<Figure size 864x360 with 2 Axes>"
      ]
     },
     "metadata": {
      "needs_background": "light"
     },
     "output_type": "display_data"
    }
   ],
   "source": [
    "f = plot_training(history)"
   ]
  },
  {
   "cell_type": "markdown",
   "id": "blond-agriculture",
   "metadata": {},
   "source": [
    "#### 64% test accuracy\n",
    "\n",
    "```python\n",
    "model = keras.Sequential()\n",
    "model.add(keras.Input(shape=(500, 1)))  \n",
    "model.add(layers.Conv1D(100, 32, activation=\"linear\"))\n",
    "model.add(layers.MaxPooling1D(pool_size=4))\n",
    "model.add(layers.Flatten())\n",
    "model.add(layers.Dropout(0.5))\n",
    "model.add(layers.Dense(32, activation=\"linear\"))\n",
    "model.add(layers.Dropout(0.5))\n",
    "model.add(layers.Dense(20, activation=\"softmax\"))\n",
    "model.summary()\n",
    "```\n",
    "\n",
    "#### up to 76% test accuracy\n",
    "```python\n",
    "model = keras.Sequential()\n",
    "model.add(keras.Input(shape=(500, 1)))  \n",
    "model.add(layers.Conv1D(100, 16, activation=\"linear\")) \n",
    "model.add(layers.MaxPooling1D(pool_size=4))\n",
    "model.add(layers.Flatten())\n",
    "model.add(layers.Dropout(0.5))\n",
    "model.add(layers.Dense(64, activation=\"linear\"))\n",
    "model.add(layers.Dropout(0.5))\n",
    "model.add(layers.Dense(20, activation=\"softmax\"))\n",
    "model.summary()\n",
    "```\n",
    "\n",
    "#### converges to 76% test accuracy\n",
    "```python\n",
    "model = keras.Sequential()\n",
    "model.add(keras.Input(shape=(500, 1)))  \n",
    "model.add(layers.Conv1D(100, 8, activation=\"linear\")) \n",
    "model.add(layers.MaxPooling1D(pool_size=4))\n",
    "model.add(layers.Flatten())\n",
    "model.add(layers.Dropout(0.5))\n",
    "model.add(layers.Dense(64, activation=\"linear\"))\n",
    "model.add(layers.Dropout(0.5))\n",
    "model.add(layers.Dense(20, activation=\"softmax\"))\n",
    "model.summary()\n",
    "```\n",
    "\n",
    "#### 77% of test accuracy\n",
    "```python\n",
    "model = keras.Sequential()\n",
    "model.add(keras.Input(shape=(500, 1))) \n",
    "model.add(layers.Conv1D(150, 8, activation=\"linear\")) \n",
    "model.add(layers.MaxPooling1D(pool_size=6))\n",
    "model.add(layers.Flatten())\n",
    "model.add(layers.Dropout(0.5))\n",
    "model.add(layers.Dense(64, activation=\"linear\"))\n",
    "model.add(layers.Dropout(0.5))\n",
    "model.add(layers.Dense(20, activation=\"softmax\"))\n",
    "model.summary()\n",
    "```\n",
    "\n",
    "#### confident 81%\n",
    "```python\n",
    "model = keras.Sequential()\n",
    "model.add(keras.Input(shape=(500, 1)))  \n",
    "model.add(layers.Conv1D(128, 16, activation=\"linear\")) \n",
    "model.add(layers.MaxPooling1D(pool_size=8))\n",
    "model.add(layers.Flatten())\n",
    "model.add(layers.Dropout(0.5))\n",
    "model.add(layers.Dense(64, activation=\"linear\"))\n",
    "model.add(layers.Dropout(0.5))\n",
    "model.add(layers.Dense(20, activation=\"softmax\"))\n",
    "model.summary()\n",
    "```\n",
    "\n",
    "#### up to 81.71%\n",
    "```python\n",
    "model = keras.Sequential()\n",
    "model.add(keras.Input(shape=(500, 1))) \n",
    "model.add(layers.Conv1D(128, 16, activation=\"linear\", strides=2)) \n",
    "model.add(layers.MaxPooling1D(pool_size=8))\n",
    "model.add(layers.Flatten())\n",
    "model.add(layers.Dropout(0.5))\n",
    "model.add(layers.Dense(64, activation=\"linear\"))\n",
    "model.add(layers.Dropout(0.5))\n",
    "model.add(layers.Dense(20, activation=\"softmax\"))\n",
    "model.summary()\n",
    "```\n",
    "\n",
    "#### converges to 80%\n",
    "```python\n",
    "model = keras.Sequential()\n",
    "model.add(keras.Input(shape=(500, 1)))  \n",
    "model.add(layers.Conv1D(150, 10, activation=\"linear\")) \n",
    "model.add(layers.MaxPooling1D(pool_size=8))\n",
    "model.add(layers.Flatten())\n",
    "model.add(layers.Dropout(0.5))\n",
    "model.add(layers.Dense(64, activation=\"linear\"))\n",
    "model.add(layers.Dropout(0.5))\n",
    "model.add(layers.Dense(20, activation=\"softmax\"))\n",
    "model.summary()\n",
    "```\n",
    "\n",
    "- Also the structures with 2 Convolutional layers were tested (up to 50% accuracy)\n",
    "- Avg Pooling works poarly due to the fact, that the initial data is not normalized"
   ]
  },
  {
   "cell_type": "code",
   "execution_count": 34,
   "id": "offensive-teach",
   "metadata": {},
   "outputs": [],
   "source": [
    "from sklearn.metrics import confusion_matrix\n",
    "import itertools\n",
    "\n",
    "def plt_conf_matrix(cm, classes):\n",
    "    cmap=plt.cm.Blues\n",
    "    plt.figure(figsize=(10, 10))\n",
    "    plt.imshow(cm, interpolation=\"nearest\", cmap=cmap)\n",
    "    plt.title(\"Confusion matrix\")\n",
    "    plt.colorbar()\n",
    "    tick_marks = np.arange(len(classes))\n",
    "    plt.xticks(tick_marks, classes, rotation=45)\n",
    "    plt.yticks(tick_marks, classes)\n",
    "\n",
    "\n",
    "    thresh = cm.max() / 2.\n",
    "    for i, j in itertools.product(range(cm.shape[0]), range(cm.shape[1])):\n",
    "        plt.text(j, i, cm[i, j],\n",
    "                 horizontalalignment=\"center\",\n",
    "                 color=\"white\" if cm[i, j] > thresh else \"black\")\n",
    "\n",
    "    plt.tight_layout()\n",
    "    plt.ylabel(\"True label\")\n",
    "    plt.xlabel(\"Predicted label\")\n",
    "     "
   ]
  },
  {
   "cell_type": "code",
   "execution_count": 35,
   "id": "matched-hobby",
   "metadata": {},
   "outputs": [
    {
     "data": {
      "image/png": "[encoded data removed]",
      "text/plain": [
       "<Figure size 720x720 with 2 Axes>"
      ]
     },
     "metadata": {
      "needs_background": "light"
     },
     "output_type": "display_data"
    }
   ],
   "source": [
    "y_pred = model.predict(X_test)\n",
    "y_pred_classes = np.argmax(y_pred, axis = 1) \n",
    "y_true = np.argmax(y_test, axis = 1) \n",
    "confusion_mtx = confusion_matrix(y_true, y_pred_classes) \n",
    "plt_conf_matrix(confusion_mtx, classes = range(40))"
   ]
  },
  {
   "cell_type": "code",
   "execution_count": 36,
   "id": "earned-bumper",
   "metadata": {},
   "outputs": [
    {
     "data": {
      "image/png": "[encoded data removed]",
      "text/plain": [
       "<Figure size 432x288 with 1 Axes>"
      ]
     },
     "metadata": {
      "needs_background": "light"
     },
     "output_type": "display_data"
    }
   ],
   "source": [
    "# visualize the embedding\n",
    "from sklearn.decomposition import PCA\n",
    "pca = PCA(2)\n",
    "\n",
    "\n",
    "embd_model = keras.Sequential()\n",
    "embd_model.add(keras.Input(shape=(600, 1)))  \n",
    "embd_model.add(layers.Conv1D(150, 10, activation=\"linear\")) \n",
    "embd_model.add(layers.MaxPooling1D(pool_size=8))\n",
    "embd_model.add(layers.Flatten())\n",
    "embd_model.add(layers.Dense(64, activation=\"linear\"))\n",
    "embd_model.layers[0].set_weights([model.layers[0].get_weights()[0], model.layers[0].get_weights()[1]])\n",
    "embd_model.layers[3].set_weights([model.layers[4].get_weights()[0], model.layers[4].get_weights()[1]])\n",
    "\n",
    "embd_train = embd_model.predict(X_train)\n",
    "\n",
    "components = pca.fit_transform(embd_train)\n",
    "\n",
    "for developer in range(10, 20):\n",
    "    index = np.where(np.argmax(y_train, axis=1)==developer)\n",
    "    plt.plot(components[index][0], components[index][1], 'o', ms=3)"
   ]
  },
  {
   "cell_type": "code",
   "execution_count": 37,
   "id": "creative-portsmouth",
   "metadata": {},
   "outputs": [],
   "source": [
    "## they are not close"
   ]
  },
  {
   "cell_type": "code",
   "execution_count": 38,
   "id": "alert-presentation",
   "metadata": {},
   "outputs": [],
   "source": [
    "model.save('model.h5')"
   ]
  },
  {
   "cell_type": "markdown",
   "id": "split-administrator",
   "metadata": {},
   "source": [
    "I don't know, what are these ebbeddings, but...\n",
    "\n",
    "## Let's apply normalization\n",
    "(thus `relu`, `than` and other activations may be used)"
   ]
  },
  {
   "cell_type": "code",
   "execution_count": 9,
   "id": "considerable-radar",
   "metadata": {},
   "outputs": [
    {
     "name": "stdout",
     "output_type": "stream",
     "text": [
      "0.0 11879.594527629233 96161.0\n"
     ]
    }
   ],
   "source": [
    "print(X.min(), X.mean(), X.max())"
   ]
  },
  {
   "cell_type": "markdown",
   "id": "extended-working",
   "metadata": {},
   "source": [
    "As it can be seen, the avg value is far from it's maximum value, thus it is more readonable to apply Standard Scaling"
   ]
  },
  {
   "cell_type": "code",
   "execution_count": 10,
   "id": "hairy-briefing",
   "metadata": {},
   "outputs": [],
   "source": [
    "ss = StandardScaler()\n",
    "\n",
    "ss.fit(X_train.reshape((-1, 600)))\n",
    "def scale(X):\n",
    "    X = X.reshape((-1, 600))\n",
    "    X = ss.transform(X)\n",
    "    X = X.reshape((-1, 600, 1))\n",
    "    return X\n",
    "\n",
    "X_train = scale(X_train)\n",
    "X_test = scale(X_test)\n"
   ]
  },
  {
   "cell_type": "code",
   "execution_count": 42,
   "id": "incorporate-genius",
   "metadata": {},
   "outputs": [
    {
     "name": "stdout",
     "output_type": "stream",
     "text": [
      "Model: \"sequential_2\"\n",
      "_________________________________________________________________\n",
      "Layer (type)                 Output Shape              Param #   \n",
      "=================================================================\n",
      "conv1d_2 (Conv1D)            (None, 585, 64)           1088      \n",
      "_________________________________________________________________\n",
      "max_pooling1d_2 (MaxPooling1 (None, 73, 64)            0         \n",
      "_________________________________________________________________\n",
      "conv1d_3 (Conv1D)            (None, 70, 32)            8224      \n",
      "_________________________________________________________________\n",
      "max_pooling1d_3 (MaxPooling1 (None, 8, 32)             0         \n",
      "_________________________________________________________________\n",
      "flatten_2 (Flatten)          (None, 256)               0         \n",
      "_________________________________________________________________\n",
      "dropout_2 (Dropout)          (None, 256)               0         \n",
      "_________________________________________________________________\n",
      "dense_3 (Dense)              (None, 100)               25700     \n",
      "_________________________________________________________________\n",
      "dropout_3 (Dropout)          (None, 100)               0         \n",
      "_________________________________________________________________\n",
      "dense_4 (Dense)              (None, 40)                4040      \n",
      "=================================================================\n",
      "Total params: 39,052\n",
      "Trainable params: 39,052\n",
      "Non-trainable params: 0\n",
      "_________________________________________________________________\n"
     ]
    }
   ],
   "source": [
    "model = keras.Sequential()\n",
    "model.add(keras.Input(shape=(600, 1)))\n",
    "model.add(layers.Conv1D(64, 16, activation=\"tanh\"))\n",
    "model.add(layers.MaxPooling1D(pool_size=8))\n",
    "model.add(layers.Conv1D(32, 4, activation=\"linear\")) \n",
    "model.add(layers.MaxPooling1D(pool_size=8))\n",
    "model.add(layers.Flatten())\n",
    "model.add(layers.Dropout(0.5))\n",
    "model.add(layers.Dense(100, activation=\"linear\"))\n",
    "model.add(layers.Dropout(0.5))\n",
    "model.add(layers.Dense(40, activation=\"softmax\"))\n",
    "model.summary()"
   ]
  },
  {
   "cell_type": "code",
   "execution_count": 43,
   "id": "metropolitan-stability",
   "metadata": {},
   "outputs": [],
   "source": [
    "optimizer = optimizers.Adam(0.01)\n",
    "lr_schedule = callbacks.ReduceLROnPlateau(monitor='val_accuracy', factor=0.5, patience=5, min_delta=0.000001, verbouse=1)\n",
    "model.compile(optimizer = optimizer , loss = \"categorical_crossentropy\", metrics=[\"accuracy\"])"
   ]
  },
  {
   "cell_type": "code",
   "execution_count": 44,
   "id": "balanced-morocco",
   "metadata": {},
   "outputs": [
    {
     "name": "stdout",
     "output_type": "stream",
     "text": [
      "Epoch 1/200\n",
      "63/63 - 1s - loss: 4.0147 - accuracy: 0.0371 - val_loss: 3.6547 - val_accuracy: 0.0422\n",
      "Epoch 2/200\n",
      "63/63 - 1s - loss: 3.9251 - accuracy: 0.0439 - val_loss: 3.5594 - val_accuracy: 0.0820\n",
      "Epoch 3/200\n",
      "63/63 - 1s - loss: 3.9503 - accuracy: 0.0576 - val_loss: 3.5899 - val_accuracy: 0.0632\n",
      "Epoch 4/200\n",
      "63/63 - 1s - loss: 3.8999 - accuracy: 0.0727 - val_loss: 3.4943 - val_accuracy: 0.0656\n",
      "Epoch 5/200\n",
      "63/63 - 1s - loss: 4.0058 - accuracy: 0.0621 - val_loss: 3.5821 - val_accuracy: 0.0749\n",
      "Epoch 6/200\n",
      "63/63 - 1s - loss: 4.0133 - accuracy: 0.0636 - val_loss: 3.5282 - val_accuracy: 0.1148\n",
      "Epoch 7/200\n",
      "63/63 - 1s - loss: 4.0605 - accuracy: 0.0712 - val_loss: 3.5236 - val_accuracy: 0.1007\n",
      "Epoch 8/200\n",
      "63/63 - 1s - loss: 4.1423 - accuracy: 0.0689 - val_loss: 3.6493 - val_accuracy: 0.0585\n",
      "Epoch 9/200\n",
      "63/63 - 1s - loss: 4.2583 - accuracy: 0.0568 - val_loss: 3.5589 - val_accuracy: 0.0890\n",
      "Epoch 10/200\n",
      "63/63 - 1s - loss: 4.2193 - accuracy: 0.0614 - val_loss: 3.5812 - val_accuracy: 0.0913\n",
      "Epoch 11/200\n",
      "63/63 - 1s - loss: 4.2785 - accuracy: 0.0568 - val_loss: 3.5892 - val_accuracy: 0.0820\n",
      "Epoch 12/200\n",
      "63/63 - 1s - loss: 3.6826 - accuracy: 0.1053 - val_loss: 3.2514 - val_accuracy: 0.1803\n",
      "Epoch 13/200\n",
      "63/63 - 1s - loss: 3.3923 - accuracy: 0.1265 - val_loss: 3.1503 - val_accuracy: 0.1803\n",
      "Epoch 14/200\n",
      "63/63 - 1s - loss: 3.2052 - accuracy: 0.1561 - val_loss: 3.1010 - val_accuracy: 0.2155\n",
      "Epoch 15/200\n",
      "63/63 - 1s - loss: 3.1269 - accuracy: 0.1894 - val_loss: 2.9778 - val_accuracy: 0.2108\n",
      "Epoch 16/200\n",
      "63/63 - 1s - loss: 3.1028 - accuracy: 0.1871 - val_loss: 2.9759 - val_accuracy: 0.2342\n",
      "Epoch 17/200\n",
      "63/63 - 1s - loss: 2.9130 - accuracy: 0.2432 - val_loss: 2.8929 - val_accuracy: 0.2272\n",
      "Epoch 18/200\n",
      "63/63 - 1s - loss: 2.8772 - accuracy: 0.2371 - val_loss: 2.7687 - val_accuracy: 0.2717\n",
      "Epoch 19/200\n",
      "63/63 - 1s - loss: 2.8755 - accuracy: 0.2530 - val_loss: 2.7712 - val_accuracy: 0.2646\n",
      "Epoch 20/200\n",
      "63/63 - 1s - loss: 2.8387 - accuracy: 0.2636 - val_loss: 2.7390 - val_accuracy: 0.3068\n",
      "Epoch 21/200\n",
      "63/63 - 1s - loss: 2.7206 - accuracy: 0.2811 - val_loss: 2.7426 - val_accuracy: 0.2810\n",
      "Epoch 22/200\n",
      "63/63 - 1s - loss: 2.8444 - accuracy: 0.2636 - val_loss: 2.7474 - val_accuracy: 0.2951\n",
      "Epoch 23/200\n",
      "63/63 - 1s - loss: 2.7795 - accuracy: 0.2833 - val_loss: 2.7343 - val_accuracy: 0.3255\n",
      "Epoch 24/200\n",
      "63/63 - 1s - loss: 2.7582 - accuracy: 0.2917 - val_loss: 2.6539 - val_accuracy: 0.3255\n",
      "Epoch 25/200\n",
      "63/63 - 1s - loss: 2.7092 - accuracy: 0.2765 - val_loss: 2.6677 - val_accuracy: 0.3396\n",
      "Epoch 26/200\n",
      "63/63 - 1s - loss: 2.6399 - accuracy: 0.3129 - val_loss: 2.5466 - val_accuracy: 0.3794\n",
      "Epoch 27/200\n",
      "63/63 - 1s - loss: 2.5301 - accuracy: 0.3235 - val_loss: 2.5744 - val_accuracy: 0.4028\n",
      "Epoch 28/200\n",
      "63/63 - 1s - loss: 2.4770 - accuracy: 0.3515 - val_loss: 2.6028 - val_accuracy: 0.3630\n",
      "Epoch 29/200\n",
      "63/63 - 1s - loss: 2.4998 - accuracy: 0.3629 - val_loss: 2.4479 - val_accuracy: 0.3911\n",
      "Epoch 30/200\n",
      "63/63 - 1s - loss: 2.4219 - accuracy: 0.3659 - val_loss: 2.5034 - val_accuracy: 0.3888\n",
      "Epoch 31/200\n",
      "63/63 - 1s - loss: 2.4984 - accuracy: 0.3766 - val_loss: 2.4971 - val_accuracy: 0.3653\n",
      "Epoch 32/200\n",
      "63/63 - 1s - loss: 2.4318 - accuracy: 0.3636 - val_loss: 2.4525 - val_accuracy: 0.3958\n",
      "Epoch 33/200\n",
      "63/63 - 1s - loss: 1.9952 - accuracy: 0.4530 - val_loss: 2.2367 - val_accuracy: 0.4918\n",
      "Epoch 34/200\n",
      "63/63 - 1s - loss: 1.8210 - accuracy: 0.4932 - val_loss: 2.2081 - val_accuracy: 0.5012\n",
      "Epoch 35/200\n",
      "63/63 - 1s - loss: 1.6541 - accuracy: 0.5432 - val_loss: 2.1253 - val_accuracy: 0.5340\n",
      "Epoch 36/200\n",
      "63/63 - 1s - loss: 1.5536 - accuracy: 0.5492 - val_loss: 2.1015 - val_accuracy: 0.5129\n",
      "Epoch 37/200\n",
      "63/63 - 1s - loss: 1.5304 - accuracy: 0.5705 - val_loss: 2.1240 - val_accuracy: 0.5105\n",
      "Epoch 38/200\n",
      "63/63 - 1s - loss: 1.4924 - accuracy: 0.5811 - val_loss: 2.0937 - val_accuracy: 0.5340\n",
      "Epoch 39/200\n",
      "63/63 - 1s - loss: 1.3606 - accuracy: 0.6038 - val_loss: 2.0959 - val_accuracy: 0.5480\n",
      "Epoch 40/200\n",
      "63/63 - 1s - loss: 1.3976 - accuracy: 0.5977 - val_loss: 2.0660 - val_accuracy: 0.5714\n",
      "Epoch 41/200\n",
      "63/63 - 1s - loss: 1.4273 - accuracy: 0.5962 - val_loss: 2.0526 - val_accuracy: 0.5504\n",
      "Epoch 42/200\n",
      "63/63 - 1s - loss: 1.2701 - accuracy: 0.6295 - val_loss: 2.0916 - val_accuracy: 0.5527\n",
      "Epoch 43/200\n",
      "63/63 - 1s - loss: 1.3548 - accuracy: 0.6136 - val_loss: 2.0923 - val_accuracy: 0.5574\n",
      "Epoch 44/200\n",
      "63/63 - 1s - loss: 1.3321 - accuracy: 0.6144 - val_loss: 2.2258 - val_accuracy: 0.5574\n",
      "Epoch 45/200\n",
      "63/63 - 1s - loss: 1.2333 - accuracy: 0.6333 - val_loss: 2.1467 - val_accuracy: 0.5691\n",
      "Epoch 46/200\n",
      "63/63 - 1s - loss: 1.2124 - accuracy: 0.6470 - val_loss: 2.0350 - val_accuracy: 0.5902\n",
      "Epoch 47/200\n",
      "63/63 - 1s - loss: 1.1296 - accuracy: 0.6765 - val_loss: 2.0486 - val_accuracy: 0.6042\n",
      "Epoch 48/200\n",
      "63/63 - 1s - loss: 1.0798 - accuracy: 0.6826 - val_loss: 2.0316 - val_accuracy: 0.6066\n",
      "Epoch 49/200\n",
      "63/63 - 1s - loss: 0.9678 - accuracy: 0.7045 - val_loss: 2.0105 - val_accuracy: 0.6089\n",
      "Epoch 50/200\n",
      "63/63 - 1s - loss: 1.0317 - accuracy: 0.7000 - val_loss: 2.0850 - val_accuracy: 0.5972\n",
      "Epoch 51/200\n",
      "63/63 - 1s - loss: 0.9395 - accuracy: 0.7250 - val_loss: 2.0395 - val_accuracy: 0.6066\n",
      "Epoch 52/200\n",
      "63/63 - 1s - loss: 0.9083 - accuracy: 0.7288 - val_loss: 2.0674 - val_accuracy: 0.6253\n",
      "Epoch 53/200\n",
      "63/63 - 1s - loss: 0.9434 - accuracy: 0.7152 - val_loss: 2.0070 - val_accuracy: 0.6089\n",
      "Epoch 54/200\n",
      "63/63 - 1s - loss: 0.9611 - accuracy: 0.7144 - val_loss: 2.0229 - val_accuracy: 0.6183\n",
      "Epoch 55/200\n",
      "63/63 - 1s - loss: 0.9223 - accuracy: 0.7258 - val_loss: 2.0313 - val_accuracy: 0.6183\n",
      "Epoch 56/200\n",
      "63/63 - 1s - loss: 0.9202 - accuracy: 0.7303 - val_loss: 2.0362 - val_accuracy: 0.6276\n",
      "Epoch 57/200\n",
      "63/63 - 1s - loss: 0.8970 - accuracy: 0.7424 - val_loss: 2.0334 - val_accuracy: 0.6066\n",
      "Epoch 58/200\n",
      "63/63 - 1s - loss: 0.8718 - accuracy: 0.7273 - val_loss: 2.0619 - val_accuracy: 0.6230\n",
      "Epoch 59/200\n",
      "63/63 - 1s - loss: 0.8846 - accuracy: 0.7318 - val_loss: 2.0026 - val_accuracy: 0.6159\n",
      "Epoch 60/200\n",
      "63/63 - 1s - loss: 0.8158 - accuracy: 0.7652 - val_loss: 2.0378 - val_accuracy: 0.6230\n",
      "Epoch 61/200\n",
      "63/63 - 1s - loss: 0.8521 - accuracy: 0.7570 - val_loss: 2.0337 - val_accuracy: 0.6276\n",
      "Epoch 62/200\n",
      "63/63 - 1s - loss: 0.8097 - accuracy: 0.7606 - val_loss: 2.0029 - val_accuracy: 0.6393\n",
      "Epoch 63/200\n",
      "63/63 - 1s - loss: 0.7793 - accuracy: 0.7773 - val_loss: 1.9567 - val_accuracy: 0.6276\n",
      "Epoch 64/200\n",
      "63/63 - 1s - loss: 0.7785 - accuracy: 0.7682 - val_loss: 2.0022 - val_accuracy: 0.6323\n",
      "Epoch 65/200\n",
      "63/63 - 1s - loss: 0.7356 - accuracy: 0.7902 - val_loss: 1.9921 - val_accuracy: 0.6323\n",
      "Epoch 66/200\n",
      "63/63 - 1s - loss: 0.7345 - accuracy: 0.7780 - val_loss: 1.9576 - val_accuracy: 0.6323\n",
      "Epoch 67/200\n",
      "63/63 - 1s - loss: 0.7307 - accuracy: 0.7720 - val_loss: 1.9560 - val_accuracy: 0.6487\n",
      "Epoch 68/200\n",
      "63/63 - 1s - loss: 0.6719 - accuracy: 0.8023 - val_loss: 1.9555 - val_accuracy: 0.6347\n",
      "Epoch 69/200\n",
      "63/63 - 1s - loss: 0.6923 - accuracy: 0.7894 - val_loss: 1.9732 - val_accuracy: 0.6417\n",
      "Epoch 70/200\n",
      "63/63 - 1s - loss: 0.6749 - accuracy: 0.8045 - val_loss: 1.9686 - val_accuracy: 0.6511\n",
      "Epoch 71/200\n",
      "63/63 - 1s - loss: 0.7261 - accuracy: 0.7780 - val_loss: 1.9738 - val_accuracy: 0.6464\n",
      "Epoch 72/200\n",
      "63/63 - 1s - loss: 0.6953 - accuracy: 0.8000 - val_loss: 1.9625 - val_accuracy: 0.6417\n",
      "Epoch 73/200\n",
      "63/63 - 1s - loss: 0.6985 - accuracy: 0.7871 - val_loss: 1.9747 - val_accuracy: 0.6393\n",
      "Epoch 74/200\n",
      "63/63 - 1s - loss: 0.5905 - accuracy: 0.8182 - val_loss: 1.9687 - val_accuracy: 0.6347\n",
      "Epoch 75/200\n",
      "63/63 - 1s - loss: 0.7186 - accuracy: 0.7879 - val_loss: 1.9311 - val_accuracy: 0.6347\n",
      "Epoch 76/200\n",
      "63/63 - 1s - loss: 0.6542 - accuracy: 0.8038 - val_loss: 1.9306 - val_accuracy: 0.6487\n",
      "Epoch 77/200\n",
      "63/63 - 1s - loss: 0.6555 - accuracy: 0.7970 - val_loss: 1.9091 - val_accuracy: 0.6393\n",
      "Epoch 78/200\n",
      "63/63 - 1s - loss: 0.5860 - accuracy: 0.8212 - val_loss: 1.9285 - val_accuracy: 0.6628\n",
      "Epoch 79/200\n",
      "63/63 - 1s - loss: 0.6376 - accuracy: 0.8083 - val_loss: 1.9541 - val_accuracy: 0.6464\n",
      "Epoch 80/200\n",
      "63/63 - 1s - loss: 0.5976 - accuracy: 0.8106 - val_loss: 1.9375 - val_accuracy: 0.6487\n",
      "Epoch 81/200\n",
      "63/63 - 1s - loss: 0.6517 - accuracy: 0.8015 - val_loss: 1.9445 - val_accuracy: 0.6464\n",
      "Epoch 82/200\n",
      "63/63 - 1s - loss: 0.6148 - accuracy: 0.8144 - val_loss: 1.9556 - val_accuracy: 0.6487\n",
      "Epoch 83/200\n",
      "63/63 - 1s - loss: 0.5870 - accuracy: 0.8182 - val_loss: 1.9629 - val_accuracy: 0.6300\n",
      "Epoch 84/200\n",
      "63/63 - 1s - loss: 0.5369 - accuracy: 0.8432 - val_loss: 1.9562 - val_accuracy: 0.6464\n",
      "Epoch 85/200\n",
      "63/63 - 1s - loss: 0.5525 - accuracy: 0.8311 - val_loss: 1.9534 - val_accuracy: 0.6464\n",
      "Epoch 86/200\n",
      "63/63 - 1s - loss: 0.5758 - accuracy: 0.8273 - val_loss: 1.9452 - val_accuracy: 0.6464\n",
      "Epoch 87/200\n",
      "63/63 - 1s - loss: 0.5512 - accuracy: 0.8417 - val_loss: 1.9633 - val_accuracy: 0.6511\n",
      "Epoch 88/200\n",
      "63/63 - 1s - loss: 0.5670 - accuracy: 0.8295 - val_loss: 1.9566 - val_accuracy: 0.6464\n",
      "Epoch 89/200\n",
      "63/63 - 1s - loss: 0.5563 - accuracy: 0.8273 - val_loss: 1.9532 - val_accuracy: 0.6440\n",
      "Epoch 90/200\n",
      "63/63 - 1s - loss: 0.6152 - accuracy: 0.8121 - val_loss: 1.9518 - val_accuracy: 0.6417\n",
      "Epoch 91/200\n",
      "63/63 - 1s - loss: 0.5641 - accuracy: 0.8280 - val_loss: 1.9565 - val_accuracy: 0.6464\n",
      "Epoch 92/200\n",
      "63/63 - 1s - loss: 0.5776 - accuracy: 0.8299 - val_loss: 1.9553 - val_accuracy: 0.6487\n",
      "Epoch 93/200\n",
      "63/63 - 1s - loss: 0.5713 - accuracy: 0.8318 - val_loss: 1.9543 - val_accuracy: 0.6511\n",
      "Epoch 94/200\n",
      "63/63 - 1s - loss: 0.5305 - accuracy: 0.8447 - val_loss: 1.9599 - val_accuracy: 0.6511\n",
      "Epoch 95/200\n",
      "63/63 - 1s - loss: 0.5604 - accuracy: 0.8318 - val_loss: 1.9615 - val_accuracy: 0.6557\n",
      "Epoch 96/200\n",
      "63/63 - 1s - loss: 0.5499 - accuracy: 0.8364 - val_loss: 1.9549 - val_accuracy: 0.6487\n",
      "Epoch 97/200\n",
      "63/63 - 1s - loss: 0.5941 - accuracy: 0.8197 - val_loss: 1.9542 - val_accuracy: 0.6487\n",
      "Epoch 98/200\n",
      "63/63 - 1s - loss: 0.5342 - accuracy: 0.8402 - val_loss: 1.9600 - val_accuracy: 0.6511\n",
      "Epoch 99/200\n",
      "63/63 - 1s - loss: 0.5668 - accuracy: 0.8303 - val_loss: 1.9604 - val_accuracy: 0.6464\n",
      "Epoch 100/200\n",
      "63/63 - 1s - loss: 0.5869 - accuracy: 0.8227 - val_loss: 1.9610 - val_accuracy: 0.6464\n",
      "Epoch 101/200\n",
      "63/63 - 1s - loss: 0.5479 - accuracy: 0.8288 - val_loss: 1.9601 - val_accuracy: 0.6511\n",
      "Epoch 102/200\n",
      "63/63 - 1s - loss: 0.6041 - accuracy: 0.8212 - val_loss: 1.9575 - val_accuracy: 0.6487\n",
      "Epoch 103/200\n",
      "63/63 - 1s - loss: 0.5419 - accuracy: 0.8485 - val_loss: 1.9582 - val_accuracy: 0.6464\n",
      "Epoch 104/200\n",
      "63/63 - 1s - loss: 0.5500 - accuracy: 0.8394 - val_loss: 1.9580 - val_accuracy: 0.6534\n",
      "Epoch 105/200\n",
      "63/63 - 1s - loss: 0.5699 - accuracy: 0.8333 - val_loss: 1.9573 - val_accuracy: 0.6534\n",
      "Epoch 106/200\n",
      "63/63 - 1s - loss: 0.5490 - accuracy: 0.8394 - val_loss: 1.9567 - val_accuracy: 0.6487\n",
      "Epoch 107/200\n",
      "63/63 - 1s - loss: 0.5395 - accuracy: 0.8364 - val_loss: 1.9565 - val_accuracy: 0.6464\n",
      "Epoch 108/200\n",
      "63/63 - 1s - loss: 0.5484 - accuracy: 0.8409 - val_loss: 1.9564 - val_accuracy: 0.6464\n",
      "Epoch 109/200\n",
      "63/63 - 1s - loss: 0.5791 - accuracy: 0.8242 - val_loss: 1.9563 - val_accuracy: 0.6464\n",
      "Epoch 110/200\n",
      "63/63 - 1s - loss: 0.5668 - accuracy: 0.8326 - val_loss: 1.9563 - val_accuracy: 0.6464\n",
      "Epoch 111/200\n",
      "63/63 - 1s - loss: 0.5541 - accuracy: 0.8265 - val_loss: 1.9559 - val_accuracy: 0.6487\n",
      "Epoch 112/200\n",
      "63/63 - 1s - loss: 0.5436 - accuracy: 0.8341 - val_loss: 1.9557 - val_accuracy: 0.6464\n",
      "Epoch 113/200\n",
      "63/63 - 1s - loss: 0.5538 - accuracy: 0.8417 - val_loss: 1.9554 - val_accuracy: 0.6464\n",
      "Epoch 114/200\n",
      "63/63 - 1s - loss: 0.5262 - accuracy: 0.8371 - val_loss: 1.9554 - val_accuracy: 0.6464\n",
      "Epoch 115/200\n",
      "63/63 - 1s - loss: 0.5608 - accuracy: 0.8356 - val_loss: 1.9554 - val_accuracy: 0.6464\n",
      "Epoch 116/200\n",
      "63/63 - 1s - loss: 0.5430 - accuracy: 0.8394 - val_loss: 1.9551 - val_accuracy: 0.6464\n",
      "Epoch 117/200\n",
      "63/63 - 1s - loss: 0.5421 - accuracy: 0.8341 - val_loss: 1.9550 - val_accuracy: 0.6464\n",
      "Epoch 118/200\n",
      "63/63 - 1s - loss: 0.5108 - accuracy: 0.8538 - val_loss: 1.9551 - val_accuracy: 0.6464\n",
      "Epoch 119/200\n",
      "63/63 - 1s - loss: 0.5727 - accuracy: 0.8341 - val_loss: 1.9551 - val_accuracy: 0.6464\n",
      "Epoch 120/200\n",
      "63/63 - 1s - loss: 0.5613 - accuracy: 0.8333 - val_loss: 1.9550 - val_accuracy: 0.6464\n",
      "Epoch 121/200\n",
      "63/63 - 1s - loss: 0.5506 - accuracy: 0.8326 - val_loss: 1.9550 - val_accuracy: 0.6464\n",
      "Epoch 122/200\n",
      "63/63 - 1s - loss: 0.5431 - accuracy: 0.8322 - val_loss: 1.9549 - val_accuracy: 0.6464\n",
      "Epoch 123/200\n",
      "63/63 - 1s - loss: 0.5435 - accuracy: 0.8348 - val_loss: 1.9550 - val_accuracy: 0.6464\n",
      "Epoch 124/200\n",
      "63/63 - 1s - loss: 0.5669 - accuracy: 0.8295 - val_loss: 1.9550 - val_accuracy: 0.6464\n",
      "Epoch 125/200\n",
      "63/63 - 1s - loss: 0.5782 - accuracy: 0.8205 - val_loss: 1.9549 - val_accuracy: 0.6464\n",
      "Epoch 126/200\n",
      "63/63 - 1s - loss: 0.5274 - accuracy: 0.8417 - val_loss: 1.9549 - val_accuracy: 0.6464\n",
      "Epoch 127/200\n",
      "63/63 - 1s - loss: 0.5185 - accuracy: 0.8530 - val_loss: 1.9549 - val_accuracy: 0.6464\n",
      "Epoch 128/200\n",
      "63/63 - 1s - loss: 0.5697 - accuracy: 0.8326 - val_loss: 1.9548 - val_accuracy: 0.6464\n",
      "Epoch 129/200\n",
      "63/63 - 1s - loss: 0.5438 - accuracy: 0.8394 - val_loss: 1.9548 - val_accuracy: 0.6464\n",
      "Epoch 130/200\n",
      "63/63 - 1s - loss: 0.5299 - accuracy: 0.8417 - val_loss: 1.9548 - val_accuracy: 0.6464\n",
      "Epoch 131/200\n",
      "63/63 - 1s - loss: 0.5248 - accuracy: 0.8379 - val_loss: 1.9548 - val_accuracy: 0.6464\n",
      "Epoch 132/200\n",
      "63/63 - 1s - loss: 0.6060 - accuracy: 0.8182 - val_loss: 1.9548 - val_accuracy: 0.6464\n",
      "Epoch 133/200\n",
      "63/63 - 1s - loss: 0.5239 - accuracy: 0.8462 - val_loss: 1.9548 - val_accuracy: 0.6464\n",
      "Epoch 134/200\n",
      "63/63 - 1s - loss: 0.5569 - accuracy: 0.8364 - val_loss: 1.9548 - val_accuracy: 0.6464\n",
      "Epoch 135/200\n",
      "63/63 - 1s - loss: 0.5321 - accuracy: 0.8371 - val_loss: 1.9548 - val_accuracy: 0.6464\n",
      "Epoch 136/200\n",
      "63/63 - 1s - loss: 0.5745 - accuracy: 0.8326 - val_loss: 1.9548 - val_accuracy: 0.6464\n",
      "Epoch 137/200\n",
      "63/63 - 1s - loss: 0.5306 - accuracy: 0.8439 - val_loss: 1.9548 - val_accuracy: 0.6464\n",
      "Epoch 138/200\n",
      "63/63 - 1s - loss: 0.5804 - accuracy: 0.8318 - val_loss: 1.9548 - val_accuracy: 0.6464\n",
      "Epoch 139/200\n",
      "63/63 - 1s - loss: 0.5480 - accuracy: 0.8455 - val_loss: 1.9548 - val_accuracy: 0.6464\n",
      "Epoch 140/200\n",
      "63/63 - 1s - loss: 0.5468 - accuracy: 0.8386 - val_loss: 1.9548 - val_accuracy: 0.6464\n",
      "Epoch 141/200\n",
      "63/63 - 1s - loss: 0.5459 - accuracy: 0.8311 - val_loss: 1.9548 - val_accuracy: 0.6464\n",
      "Epoch 142/200\n",
      "63/63 - 1s - loss: 0.5904 - accuracy: 0.8318 - val_loss: 1.9548 - val_accuracy: 0.6464\n",
      "Epoch 143/200\n",
      "63/63 - 1s - loss: 0.5683 - accuracy: 0.8280 - val_loss: 1.9548 - val_accuracy: 0.6464\n",
      "Epoch 144/200\n",
      "63/63 - 1s - loss: 0.5548 - accuracy: 0.8227 - val_loss: 1.9548 - val_accuracy: 0.6464\n",
      "Epoch 145/200\n",
      "63/63 - 1s - loss: 0.5610 - accuracy: 0.8303 - val_loss: 1.9548 - val_accuracy: 0.6464\n",
      "Epoch 146/200\n",
      "63/63 - 1s - loss: 0.5901 - accuracy: 0.8341 - val_loss: 1.9548 - val_accuracy: 0.6464\n",
      "Epoch 147/200\n",
      "63/63 - 1s - loss: 0.5340 - accuracy: 0.8409 - val_loss: 1.9548 - val_accuracy: 0.6464\n",
      "Epoch 148/200\n",
      "63/63 - 1s - loss: 0.5594 - accuracy: 0.8371 - val_loss: 1.9548 - val_accuracy: 0.6464\n",
      "Epoch 149/200\n",
      "63/63 - 1s - loss: 0.5325 - accuracy: 0.8492 - val_loss: 1.9548 - val_accuracy: 0.6464\n",
      "Epoch 150/200\n",
      "63/63 - 1s - loss: 0.5524 - accuracy: 0.8402 - val_loss: 1.9548 - val_accuracy: 0.6464\n",
      "Epoch 151/200\n",
      "63/63 - 1s - loss: 0.5707 - accuracy: 0.8356 - val_loss: 1.9548 - val_accuracy: 0.6464\n",
      "Epoch 152/200\n",
      "63/63 - 1s - loss: 0.5704 - accuracy: 0.8386 - val_loss: 1.9548 - val_accuracy: 0.6464\n",
      "Epoch 153/200\n",
      "63/63 - 1s - loss: 0.5191 - accuracy: 0.8405 - val_loss: 1.9548 - val_accuracy: 0.6464\n",
      "Epoch 154/200\n",
      "63/63 - 1s - loss: 0.5189 - accuracy: 0.8432 - val_loss: 1.9548 - val_accuracy: 0.6464\n",
      "Epoch 155/200\n",
      "63/63 - 1s - loss: 0.5545 - accuracy: 0.8341 - val_loss: 1.9548 - val_accuracy: 0.6464\n",
      "Epoch 156/200\n",
      "63/63 - 1s - loss: 0.5475 - accuracy: 0.8364 - val_loss: 1.9548 - val_accuracy: 0.6464\n",
      "Epoch 157/200\n",
      "63/63 - 1s - loss: 0.5847 - accuracy: 0.8235 - val_loss: 1.9548 - val_accuracy: 0.6464\n",
      "Epoch 158/200\n",
      "63/63 - 1s - loss: 0.5330 - accuracy: 0.8561 - val_loss: 1.9548 - val_accuracy: 0.6464\n",
      "Epoch 159/200\n",
      "63/63 - 1s - loss: 0.5648 - accuracy: 0.8295 - val_loss: 1.9548 - val_accuracy: 0.6464\n",
      "Epoch 160/200\n",
      "63/63 - 1s - loss: 0.5617 - accuracy: 0.8280 - val_loss: 1.9548 - val_accuracy: 0.6464\n",
      "Epoch 161/200\n",
      "63/63 - 1s - loss: 0.5460 - accuracy: 0.8326 - val_loss: 1.9548 - val_accuracy: 0.6464\n",
      "Epoch 162/200\n",
      "63/63 - 1s - loss: 0.5695 - accuracy: 0.8303 - val_loss: 1.9548 - val_accuracy: 0.6464\n",
      "Epoch 163/200\n",
      "63/63 - 1s - loss: 0.5416 - accuracy: 0.8432 - val_loss: 1.9548 - val_accuracy: 0.6464\n",
      "Epoch 164/200\n",
      "63/63 - 1s - loss: 0.5521 - accuracy: 0.8371 - val_loss: 1.9548 - val_accuracy: 0.6464\n",
      "Epoch 165/200\n",
      "63/63 - 1s - loss: 0.4989 - accuracy: 0.8727 - val_loss: 1.9548 - val_accuracy: 0.6464\n",
      "Epoch 166/200\n",
      "63/63 - 1s - loss: 0.4992 - accuracy: 0.8447 - val_loss: 1.9548 - val_accuracy: 0.6464\n",
      "Epoch 167/200\n",
      "63/63 - 1s - loss: 0.5535 - accuracy: 0.8333 - val_loss: 1.9548 - val_accuracy: 0.6464\n",
      "Epoch 168/200\n",
      "63/63 - 1s - loss: 0.5804 - accuracy: 0.8265 - val_loss: 1.9548 - val_accuracy: 0.6464\n",
      "Epoch 169/200\n",
      "63/63 - 1s - loss: 0.5667 - accuracy: 0.8295 - val_loss: 1.9548 - val_accuracy: 0.6464\n",
      "Epoch 170/200\n",
      "63/63 - 1s - loss: 0.5721 - accuracy: 0.8273 - val_loss: 1.9548 - val_accuracy: 0.6464\n",
      "Epoch 171/200\n",
      "63/63 - 1s - loss: 0.5621 - accuracy: 0.8432 - val_loss: 1.9548 - val_accuracy: 0.6464\n",
      "Epoch 172/200\n",
      "63/63 - 1s - loss: 0.5457 - accuracy: 0.8288 - val_loss: 1.9548 - val_accuracy: 0.6464\n",
      "Epoch 173/200\n",
      "63/63 - 1s - loss: 0.5808 - accuracy: 0.8326 - val_loss: 1.9548 - val_accuracy: 0.6464\n",
      "Epoch 174/200\n",
      "63/63 - 1s - loss: 0.5188 - accuracy: 0.8455 - val_loss: 1.9548 - val_accuracy: 0.6464\n",
      "Epoch 175/200\n",
      "63/63 - 1s - loss: 0.5753 - accuracy: 0.8356 - val_loss: 1.9548 - val_accuracy: 0.6464\n",
      "Epoch 176/200\n",
      "63/63 - 1s - loss: 0.5896 - accuracy: 0.8167 - val_loss: 1.9548 - val_accuracy: 0.6464\n",
      "Epoch 177/200\n",
      "63/63 - 1s - loss: 0.5369 - accuracy: 0.8386 - val_loss: 1.9548 - val_accuracy: 0.6464\n",
      "Epoch 178/200\n",
      "63/63 - 1s - loss: 0.5250 - accuracy: 0.8326 - val_loss: 1.9548 - val_accuracy: 0.6464\n",
      "Epoch 179/200\n",
      "63/63 - 1s - loss: 0.5093 - accuracy: 0.8439 - val_loss: 1.9548 - val_accuracy: 0.6464\n",
      "Epoch 180/200\n",
      "63/63 - 1s - loss: 0.5581 - accuracy: 0.8417 - val_loss: 1.9548 - val_accuracy: 0.6464\n",
      "Epoch 181/200\n",
      "63/63 - 1s - loss: 0.5504 - accuracy: 0.8356 - val_loss: 1.9548 - val_accuracy: 0.6464\n",
      "Epoch 182/200\n",
      "63/63 - 1s - loss: 0.5103 - accuracy: 0.8500 - val_loss: 1.9548 - val_accuracy: 0.6464\n",
      "Epoch 183/200\n",
      "63/63 - 1s - loss: 0.5359 - accuracy: 0.8352 - val_loss: 1.9548 - val_accuracy: 0.6464\n",
      "Epoch 184/200\n",
      "63/63 - 1s - loss: 0.5742 - accuracy: 0.8402 - val_loss: 1.9548 - val_accuracy: 0.6464\n",
      "Epoch 185/200\n",
      "63/63 - 1s - loss: 0.5495 - accuracy: 0.8303 - val_loss: 1.9548 - val_accuracy: 0.6464\n",
      "Epoch 186/200\n",
      "63/63 - 1s - loss: 0.5960 - accuracy: 0.8167 - val_loss: 1.9548 - val_accuracy: 0.6464\n",
      "Epoch 187/200\n",
      "63/63 - 1s - loss: 0.5326 - accuracy: 0.8409 - val_loss: 1.9548 - val_accuracy: 0.6464\n",
      "Epoch 188/200\n",
      "63/63 - 1s - loss: 0.5328 - accuracy: 0.8424 - val_loss: 1.9548 - val_accuracy: 0.6464\n",
      "Epoch 189/200\n",
      "63/63 - 1s - loss: 0.5659 - accuracy: 0.8455 - val_loss: 1.9548 - val_accuracy: 0.6464\n",
      "Epoch 190/200\n",
      "63/63 - 1s - loss: 0.5513 - accuracy: 0.8303 - val_loss: 1.9548 - val_accuracy: 0.6464\n",
      "Epoch 191/200\n",
      "63/63 - 1s - loss: 0.5889 - accuracy: 0.8220 - val_loss: 1.9548 - val_accuracy: 0.6464\n",
      "Epoch 192/200\n",
      "63/63 - 1s - loss: 0.5769 - accuracy: 0.8326 - val_loss: 1.9548 - val_accuracy: 0.6464\n",
      "Epoch 193/200\n",
      "63/63 - 1s - loss: 0.5578 - accuracy: 0.8379 - val_loss: 1.9548 - val_accuracy: 0.6464\n",
      "Epoch 194/200\n",
      "WARNING:tensorflow:Your input ran out of data; interrupting training. Make sure that your dataset or generator can generate at least `steps_per_epoch * epochs` batches (in this case, 12600 batches). You may need to use the repeat() function when building your dataset.\n",
      "63/63 - 1s - loss: 0.5785 - accuracy: 0.8170 - val_loss: 1.9548 - val_accuracy: 0.6464\n"
     ]
    }
   ],
   "source": [
    "epochs = 200\n",
    "batch_size = 20\n",
    "history = model.fit(x=X_train, y=y_train, epochs = epochs, \n",
    "                    validation_data = (X_test,y_test),\n",
    "                    steps_per_epoch=X_train.shape[0] // batch_size,\n",
    "                    verbose=2, \n",
    "                    callbacks=[lr_schedule])"
   ]
  },
  {
   "cell_type": "markdown",
   "id": "purple-camera",
   "metadata": {},
   "source": [
    "#### 80% accuracy (previous model)\n",
    "```python\n",
    "model = keras.Sequential()\n",
    "model.add(keras.Input(shape=(500, 1)))\n",
    "model.add(layers.Conv1D(150, 10, activation=\"linear\")) \n",
    "model.add(layers.MaxPooling1D(pool_size=8))\n",
    "model.add(layers.Flatten())\n",
    "model.add(layers.Dropout(0.5))\n",
    "model.add(layers.Dense(64, activation=\"linear\"))\n",
    "model.add(layers.Dropout(0.5))\n",
    "model.add(layers.Dense(20, activation=\"softmax\"))\n",
    "model.summary()\n",
    "```\n",
    "\n",
    "#### 82%\n",
    "```python\n",
    "model = keras.Sequential()\n",
    "model.add(keras.Input(shape=(500, 1)))\n",
    "model.add(layers.Conv1D(128, 16, activation=\"tanh\"))\n",
    "model.add(layers.MaxPooling1D(pool_size=8))\n",
    "model.add(layers.Flatten())\n",
    "model.add(layers.Dropout(0.5))\n",
    "model.add(layers.Dense(64, activation=\"linear\"))\n",
    "model.add(layers.Dropout(0.5))\n",
    "model.add(layers.Dense(20, activation=\"softmax\"))\n",
    "model.summary()\n",
    "```\n",
    "\n",
    "#### 86% up to 87%\n",
    "```python\n",
    "model = keras.Sequential()\n",
    "model.add(keras.Input(shape=(500, 1)))\n",
    "model.add(layers.Conv1D(64, 16, activation=\"tanh\"))\n",
    "model.add(layers.MaxPooling1D(pool_size=8))\n",
    "model.add(layers.Conv1D(32, 4, activation=\"linear\")) \n",
    "model.add(layers.MaxPooling1D(pool_size=8))\n",
    "model.add(layers.Flatten())\n",
    "model.add(layers.Dropout(0.5))\n",
    "model.add(layers.Dense(64, activation=\"linear\"))\n",
    "model.add(layers.Dropout(0.5))\n",
    "model.add(layers.Dense(20, activation=\"softmax\"))\n",
    "model.summary()\n",
    "```\n",
    "\n",
    "#### 84%\n",
    "```python\n",
    "model = keras.Sequential()\n",
    "model.add(keras.Input(shape=(500, 1)))\n",
    "model.add(layers.Conv1D(64, 16, activation=\"tanh\"))\n",
    "model.add(layers.MaxPooling1D(pool_size=8))\n",
    "model.add(layers.Conv1D(32, 4, activation=\"linear\")) \n",
    "model.add(layers.MaxPooling1D(pool_size=4))\n",
    "model.add(layers.Flatten())\n",
    "model.add(layers.Dropout(0.5))\n",
    "model.add(layers.Dense(64, activation=\"linear\"))\n",
    "model.add(layers.Dropout(0.5))\n",
    "model.add(layers.Dense(20, activation=\"softmax\"))\n",
    "model.summary()\n",
    "```\n",
    "#### 84%\n",
    "```python\n",
    "model = keras.Sequential()\n",
    "model.add(keras.Input(shape=(500, 1)))\n",
    "model.add(layers.Conv1D(64, 16, activation=\"tanh\"))\n",
    "model.add(layers.AveragePooling1D(pool_size=8))\n",
    "model.add(layers.Conv1D(32, 8, activation=\"linear\")) \n",
    "model.add(layers.AveragePooling1D(pool_size=4))\n",
    "model.add(layers.Flatten())\n",
    "model.add(layers.Dropout(0.5))\n",
    "model.add(layers.Dense(64, activation=\"linear\"))\n",
    "model.add(layers.Dropout(0.5))\n",
    "model.add(layers.Dense(20, activation=\"softmax\"))\n",
    "model.summary()\n",
    "```\n",
    "\n",
    "#### 83%\n",
    "```python\n",
    "model = keras.Sequential()\n",
    "model.add(keras.Input(shape=(500, 1)))\n",
    "model.add(layers.Conv1D(128, 16, activation=\"relu\"))\n",
    "model.add(layers.MaxPooling1D(pool_size=8))\n",
    "model.add(layers.Flatten())\n",
    "model.add(layers.Dropout(0.5))\n",
    "model.add(layers.Dense(64, activation=\"linear\"))\n",
    "model.add(layers.Dropout(0.5))\n",
    "model.add(layers.Dense(20, activation=\"softmax\"))\n",
    "model.summary()\n",
    "```"
   ]
  },
  {
   "cell_type": "code",
   "execution_count": 45,
   "id": "union-context",
   "metadata": {},
   "outputs": [],
   "source": [
    "model.save('86_model.h5')"
   ]
  },
  {
   "cell_type": "code",
   "execution_count": 46,
   "id": "clear-evanescence",
   "metadata": {},
   "outputs": [
    {
     "data": {
      "image/png": "[encoded data removed]",
      "text/plain": [
       "<Figure size 864x360 with 2 Axes>"
      ]
     },
     "metadata": {
      "needs_background": "light"
     },
     "output_type": "display_data"
    }
   ],
   "source": [
    "f = plot_training(history)"
   ]
  },
  {
   "cell_type": "code",
   "execution_count": 47,
   "id": "intermediate-campbell",
   "metadata": {},
   "outputs": [
    {
     "data": {
      "image/png": "[encoded data removed]",
      "text/plain": [
       "<Figure size 720x720 with 2 Axes>"
      ]
     },
     "metadata": {
      "needs_background": "light"
     },
     "output_type": "display_data"
    }
   ],
   "source": [
    "y_pred = model.predict(X_test)\n",
    "y_pred_classes = np.argmax(y_pred, axis = 1) \n",
    "y_true = np.argmax(y_test, axis = 1) \n",
    "confusion_mtx = confusion_matrix(y_true, y_pred_classes) \n",
    "plt_conf_matrix(confusion_mtx, classes = range(40))"
   ]
  },
  {
   "cell_type": "code",
   "execution_count": 48,
   "id": "unlikely-return",
   "metadata": {},
   "outputs": [],
   "source": [
    "# visualize the embedding\n",
    "from sklearn.decomposition import PCA\n",
    "pca = PCA(2)\n",
    "\n",
    "embd_model = keras.Sequential()\n",
    "embd_model.add(keras.Input(shape=(600, 1)))\n",
    "embd_model.add(layers.Conv1D(64, 16, activation=\"tanh\"))\n",
    "embd_model.add(layers.MaxPooling1D(pool_size=8))\n",
    "embd_model.add(layers.Conv1D(32, 4, activation=\"linear\")) \n",
    "embd_model.add(layers.MaxPooling1D(pool_size=8))\n",
    "embd_model.add(layers.Flatten())\n",
    "embd_model.add(layers.Dense(100, activation=\"linear\"))\n",
    "\n",
    "embd_model.layers[0].set_weights([model.layers[0].get_weights()[0], model.layers[0].get_weights()[1]])\n",
    "embd_model.layers[2].set_weights([model.layers[2].get_weights()[0], model.layers[2].get_weights()[1]])\n",
    "embd_model.layers[5].set_weights([model.layers[6].get_weights()[0], model.layers[6].get_weights()[1]])\n",
    "\n",
    "embd_train = embd_model.predict(X_train)\n",
    "\n",
    "components = pca.fit_transform(embd_train)"
   ]
  },
  {
   "cell_type": "code",
   "execution_count": 49,
   "id": "suspected-participation",
   "metadata": {},
   "outputs": [
    {
     "data": {
      "text/plain": [
       "(1278, 600, 1)"
      ]
     },
     "execution_count": 49,
     "metadata": {},
     "output_type": "execute_result"
    }
   ],
   "source": [
    "X_train.shape"
   ]
  },
  {
   "cell_type": "code",
   "execution_count": 50,
   "id": "established-variable",
   "metadata": {},
   "outputs": [
    {
     "data": {
      "image/png": "[encoded data removed]",
      "text/plain": [
       "<Figure size 432x288 with 1 Axes>"
      ]
     },
     "metadata": {
      "needs_background": "light"
     },
     "output_type": "display_data"
    }
   ],
   "source": [
    "for developer in range(0, 40):\n",
    "    index = np.where(np.argmax(y_train, axis=1)==developer)\n",
    "    plt.plot(components[index][0], components[index][1], 'o', ms=3)"
   ]
  },
  {
   "cell_type": "markdown",
   "id": "weekly-gasoline",
   "metadata": {},
   "source": [
    "## Triplet loss\n",
    "- useful [link1](https://zhangruochi.com/Create-a-Siamese-Network-with-Triplet-Loss-in-Keras/2020/08/11/ ), [link2](https://codepad.co/snippet/triplet-loss-in-keras-tensorflow-backend)\n",
    "\n",
    "### Main idea (If I understood correctly)\n",
    "- create embedding for embeddings (?)\n",
    "- apply KNN to find the closest vectors - if the problem is related to the classification\n",
    "\n",
    "### Data preprocessing flow:\n",
    "1. Split X[-1, 500] on pices of [-1, 100] and increase the dimensionality of array\n",
    "2. Shuffle ???\n",
    "3. Create batch_loader:\n",
    "        3.1. Select anchor samples (**TODO** search if it is usually done sequentially or randomly)\n",
    "        3.2. Select some X, where y is the same (random or sequential???)\n",
    "        3.3. Select some X, where y is different (random or sequential???)\n",
    "4. Create model (e.g. Sequential)\n",
    "5. Concatenate 3 models for anchor, positives an negatives // this is exactly the parallel convolution, which I was searching during the previous stages\n",
    "6. Create a functions `loss` and `data_generator`\n",
    "7. Train model with dummy y (e.g 0) ([good example](https://github.com/AdrianUng/keras-triplet-loss-mnist#visualizing-separation-of-classes ), [their code](https://github.com/AdrianUng/keras-triplet-loss-mnist/blob/master/Triplet_loss_KERAS_semi_hard_from_TF.ipynb))\n",
    "8. Apply the visualization with PCA/test on KNN????"
   ]
  },
  {
   "cell_type": "markdown",
   "id": "talented-jonathan",
   "metadata": {},
   "source": [
    "### Make samples smaller, e.g. 100\n",
    "- potential problem - files are ended with zeros, if amount of tokens is less\n"
   ]
  },
  {
   "cell_type": "code",
   "execution_count": 11,
   "id": "lovely-words",
   "metadata": {},
   "outputs": [],
   "source": [
    "import tensorflow_addons as tfa"
   ]
  },
  {
   "cell_type": "code",
   "execution_count": 61,
   "id": "heavy-broadcasting",
   "metadata": {},
   "outputs": [
    {
     "data": {
      "text/plain": [
       "(16048, 600, 1)"
      ]
     },
     "execution_count": 61,
     "metadata": {},
     "output_type": "execute_result"
    }
   ],
   "source": [
    "X = dataset.tokens.values\n",
    "X = np.array(list(X))\n",
    "X = X.reshape((-1, 600, 1))\n",
    "\n",
    "y = np.array(dataset.username)\n",
    "\n",
    "ohe = OneHotEncoder()\n",
    "y = ohe.fit_transform(y.reshape(-1, 1))\n",
    "y = y.toarray()\n",
    "\n",
    "X_new, X_test, y_new, y_test = train_test_split(X, y)\n",
    "X_new.shape"
   ]
  },
  {
   "cell_type": "code",
   "execution_count": 62,
   "id": "entitled-guarantee",
   "metadata": {},
   "outputs": [],
   "source": [
    "ss = StandardScaler()\n",
    "ss.fit(X_new.reshape(-1, 600))\n",
    "X_new = ss.transform(X_new.reshape((-1, 600))).reshape((-1, 600, 1))\n",
    "X_test = ss.transform(X_test.reshape((-1, 600))).reshape((-1, 600, 1))"
   ]
  },
  {
   "cell_type": "code",
   "execution_count": 63,
   "id": "placed-highway",
   "metadata": {},
   "outputs": [],
   "source": [
    "def crop_to(X, y, crop=100, threshold=80):\n",
    "    new_X = []\n",
    "    new_y = []\n",
    "    for old_x, old_y in zip(X, y):\n",
    "        for el in old_x.reshape(-1, crop):\n",
    "            if(np.count_nonzero(el) > 80):\n",
    "                new_X.append(list(el))\n",
    "                new_y.append(np.argmax(old_y))\n",
    "    \n",
    "    new_X = np.array(new_X).reshape(-1, crop, 1)\n",
    "    new_y = np.array(new_y)\n",
    "    return new_X, new_y\n",
    "\n",
    "# new_X, new_y = crop_to(X_new, y_new, 500)\n",
    "new_X, new_y = X_new, y_new"
   ]
  },
  {
   "cell_type": "code",
   "execution_count": 64,
   "id": "smaller-friendly",
   "metadata": {},
   "outputs": [
    {
     "data": {
      "text/plain": [
       "(16048, 600, 1)"
      ]
     },
     "execution_count": 64,
     "metadata": {},
     "output_type": "execute_result"
    }
   ],
   "source": [
    "new_X.shape"
   ]
  },
  {
   "cell_type": "code",
   "execution_count": 65,
   "id": "sized-preference",
   "metadata": {},
   "outputs": [],
   "source": [
    "data_length = new_y.shape[0]"
   ]
  },
  {
   "cell_type": "markdown",
   "id": "periodic-checklist",
   "metadata": {},
   "source": [
    "### Shuffle - do I need this?\n",
    "- No, because in the batch I'm going to use random"
   ]
  },
  {
   "cell_type": "markdown",
   "id": "technical-drink",
   "metadata": {},
   "source": [
    "### Batch generation"
   ]
  },
  {
   "cell_type": "code",
   "execution_count": 18,
   "id": "continental-taste",
   "metadata": {},
   "outputs": [],
   "source": [
    "def batch_generator(X, y):\n",
    "    \n",
    "    data_length = X.shape[0]\n",
    "    index = np.random.randint(data_length)\n",
    "    anchor, anchor_y = X[index], y[index]\n",
    "    \n",
    "    positive = X[np.random.choice(np.where(y==anchor_y)[0])]\n",
    "    negative = X[np.random.choice(np.where(y!=anchor_y)[0])]\n",
    "    \n",
    "    return [list(anchor), list(positive), list(negative)]\n",
    "\n",
    "def batches_generator(X, y, batch_size=32):\n",
    "    '''\n",
    "    Array of batch_generator results\n",
    "    \n",
    "    batch_size - size of the generated array\n",
    "    '''\n",
    "    all_data = np.array([batch_generator(X, y) for i in range(batch_size)])\n",
    "    anchors = all_data[:, 0, :]\n",
    "    positives = all_data[:, 1, :]\n",
    "    negatives = all_data[:, 2, :]\n",
    "    return anchors, positives, negatives\n",
    "\n",
    "def data_generator(X, y, batch_size=32, input_size=600):\n",
    "    while True:\n",
    "        batch = batches_generator(X, y, batch_size)\n",
    "        labels = np.zeros((batch_size, input_size*3)) \n",
    "        yield batch, labels\n",
    "        \n"
   ]
  },
  {
   "cell_type": "markdown",
   "id": "occupied-sydney",
   "metadata": {},
   "source": [
    "### Model creation\n",
    "\n",
    "\n",
    "- let's repeat the best arch"
   ]
  },
  {
   "cell_type": "code",
   "execution_count": 19,
   "id": "norwegian-botswana",
   "metadata": {},
   "outputs": [],
   "source": [
    "import tensorflow as tf\n",
    "from tensorflow.keras import regularizers\n",
    "\n",
    "\n",
    "from sklearn.neighbors import KNeighborsClassifier\n",
    "from sklearn.metrics import accuracy_score"
   ]
  },
  {
   "cell_type": "code",
   "execution_count": 20,
   "id": "closed-insured",
   "metadata": {},
   "outputs": [],
   "source": [
    "params = {\n",
    "    \"activations\" : [\"tanh\", \"relu\", \"elu\", \"sigmoid\", \"linear\", \"selu\", \"gelu\", \"swish\"],\n",
    "    #\"output_sizes\" : [50, 100, 500],\n",
    "    \"L2_lambda\": [0.01, 0.001, 0.0001],\n",
    "    \"pool_1_size\": [4, 8],\n",
    "    \"pool_2_size\":[4, 8],\n",
    "    \"conv_1_size\": [16, 32, 64],\n",
    "    \"conv_2_size\":[4, 8],\n",
    "    \"dense_1\": [64]   \n",
    "}\n",
    "params = {\n",
    "    \"activations\" : [\"relu\"],\n",
    "    #\"output_sizes\" : [50, 100, 500],\n",
    "    \"L2_lambda\": [0.001],\n",
    "    \"pool_1_size\": [4, 8],\n",
    "    \"pool_2_size\":[4, 8],\n",
    "    \"conv_1_size\": [8, 16],\n",
    "    \"conv_2_size\":[4, 8],\n",
    "    \"dense_1\": [64]   \n",
    "}"
   ]
  },
  {
   "cell_type": "code",
   "execution_count": 21,
   "id": "intellectual-canada",
   "metadata": {},
   "outputs": [
    {
     "data": {
      "text/plain": [
       "((16048, 600, 1), (16048, 500))"
      ]
     },
     "execution_count": 21,
     "metadata": {},
     "output_type": "execute_result"
    }
   ],
   "source": [
    "new_X.shape, new_y.shape"
   ]
  },
  {
   "cell_type": "code",
   "execution_count": 22,
   "id": "federal-rebate",
   "metadata": {},
   "outputs": [],
   "source": [
    "output_size = 50\n",
    "input_size = 600"
   ]
  },
  {
   "cell_type": "code",
   "execution_count": 23,
   "id": "approved-reduction",
   "metadata": {},
   "outputs": [],
   "source": [
    "def create_model(activation=\"linear\", L2_lambda=0.02, \n",
    "                 pool_1_size=4, pool_2_size=4, \n",
    "                 conv_1_size=16, conv_2_size=4, dense_1=64):\n",
    "    \n",
    "    model_core = keras.Sequential()\n",
    "    model_core.add(layers.Conv1D(64, conv_1_size, \n",
    "                                 activation=activation, \n",
    "                                 kernel_regularizer=regularizers.L2(L2_lambda)))\n",
    "    \n",
    "    model_core.add(layers.LayerNormalization(axis=1))\n",
    "    model_core.add(layers.MaxPooling1D(pool_size=pool_1_size))\n",
    "    \n",
    "    model_core.add(layers.Conv1D(32, conv_2_size, \n",
    "                                 activation=activation, \n",
    "                                 kernel_regularizer=regularizers.L2(L2_lambda)))\n",
    "\n",
    "    model_core.add(layers.LayerNormalization(axis=1))\n",
    "    model_core.add(layers.MaxPooling1D(pool_size=pool_2_size))\n",
    "    \n",
    "    model_core.add(layers.Flatten())\n",
    "    model_core.add(layers.Dropout(0.5))\n",
    "    model_core.add(layers.Dense(dense_1, activation=activation, \n",
    "                                kernel_regularizer=regularizers.L2(L2_lambda)))\n",
    "    model_core.add(layers.LayerNormalization(axis=1))\n",
    "    \n",
    "    model_core.add(layers.Dropout(0.5))\n",
    "    model_core.add(layers.Dense(output_size, activation=activation, \n",
    "                                kernel_regularizer=regularizers.L2(L2_lambda)))\n",
    "    model_core.add(layers.LayerNormalization(axis=1))\n",
    "    return model_core\n"
   ]
  },
  {
   "cell_type": "code",
   "execution_count": 24,
   "id": "stuffed-checkout",
   "metadata": {},
   "outputs": [],
   "source": [
    "def triplet_loss(y_true, y_pred):\n",
    "    alpha = 0.2\n",
    "    y_pred = tf.convert_to_tensor(y_pred)\n",
    "    global output_size\n",
    "    anchor = y_pred[:, :output_size]\n",
    "    positive = y_pred[:, output_size:2*output_size]\n",
    "    negative = y_pred[:, 2*output_size:]\n",
    "    \n",
    "    positive_dist = tf.reduce_mean(tf.square(anchor - positive), axis=1)\n",
    "    negative_dist = tf.reduce_mean(tf.square(anchor - negative), axis=1)\n",
    "\n",
    "    return tf.maximum(positive_dist - negative_dist + alpha, 0.)"
   ]
  },
  {
   "cell_type": "code",
   "execution_count": 25,
   "id": "acoustic-festival",
   "metadata": {},
   "outputs": [],
   "source": [
    "def create_triplet_model(input_size, model_core):\n",
    "    \n",
    "    input_anchor = layers.Input(shape=(input_size, 1))\n",
    "    input_positive = layers.Input(shape=(input_size, 1))\n",
    "    input_negative = layers.Input(shape=(input_size, 1))\n",
    "\n",
    "    model_anchor = model_core(input_anchor)\n",
    "    model_positive = model_core(input_positive)\n",
    "    model_negative = model_core(input_negative)\n",
    "\n",
    "    result = layers.concatenate([model_anchor, model_positive, model_negative], axis=1)\n",
    "    model = models.Model([input_anchor, input_positive, input_negative], result)\n",
    "    return model\n"
   ]
  },
  {
   "cell_type": "code",
   "execution_count": 26,
   "id": "pleasant-valve",
   "metadata": {},
   "outputs": [],
   "source": [
    "def train(new_X, new_y, input_size, model):\n",
    "    batch_size = 64\n",
    "    epochs = 100\n",
    "    steps_per_epoch = int(new_X.shape[0]/batch_size)\n",
    "\n",
    "    optimizer = optimizers.Adam(0.1)\n",
    "    lr_schedule = callbacks.ReduceLROnPlateau(monitor='loss', actor=0.5, patience=2, min_delta=0.000001, verbouse=1)\n",
    "    early_stopping = callbacks.EarlyStopping(monitor=\"loss\", min_delta = 0.0001, patience=10, restore_best_weights=True)\n",
    "\n",
    "    model.compile(loss=triplet_loss, optimizer=optimizer)\n",
    "    history = model.fit(data_generator(new_X, new_y, batch_size, input_size),\n",
    "                        steps_per_epoch=steps_per_epoch,\n",
    "                        epochs=epochs, \n",
    "                        verbose=1, \n",
    "                        callbacks=[lr_schedule, early_stopping])\n",
    "    return model, history\n"
   ]
  },
  {
   "cell_type": "code",
   "execution_count": 27,
   "id": "attached-tension",
   "metadata": {},
   "outputs": [],
   "source": [
    "from sklearn.metrics import f1_score, precision_score, recall_score"
   ]
  },
  {
   "cell_type": "code",
   "execution_count": 28,
   "id": "fifty-springer",
   "metadata": {},
   "outputs": [],
   "source": [
    "def test(model_core, new_X, new_y):\n",
    "    transformed_X = model_core.predict(new_X.reshape(-1, input_size, 1))\n",
    "    X_train, X_test, y_train, y_test = train_test_split(transformed_X, new_y)\n",
    "    \n",
    "   \n",
    "    knn = KNeighborsClassifier(n_neighbors=3, algorithm=\"ball_tree\", weights=\"distance\")\n",
    "    knn.fit(X_train, y_train)\n",
    "    y_pred = knn.predict(X_test)\n",
    "    \n",
    "    score = accuracy_score(y_test, y_pred)\n",
    "    \n",
    "    return score"
   ]
  },
  {
   "cell_type": "code",
   "execution_count": 29,
   "id": "musical-dodge",
   "metadata": {},
   "outputs": [
    {
     "data": {
      "text/plain": [
       "16"
      ]
     },
     "execution_count": 29,
     "metadata": {},
     "output_type": "execute_result"
    }
   ],
   "source": [
    "param_list = []\n",
    "for key in params.keys():\n",
    "    if len(param_list)==0:\n",
    "        for x in params[key]:\n",
    "            param_list.append([x])\n",
    "    else:\n",
    "        new_param_list = []\n",
    "        for l in param_list:\n",
    "            for x in params[key]:\n",
    "                l_copy = l.copy()\n",
    "                l_copy.append(x)\n",
    "                new_param_list.append(l_copy)\n",
    "        param_list = new_param_list\n",
    "len(param_list)"
   ]
  },
  {
   "cell_type": "code",
   "execution_count": 30,
   "id": "regulated-samba",
   "metadata": {},
   "outputs": [
    {
     "data": {
      "text/plain": [
       "['relu', 0.001, 4, 4, 8, 4, 64]"
      ]
     },
     "execution_count": 30,
     "metadata": {},
     "output_type": "execute_result"
    }
   ],
   "source": [
    "param_list[0]"
   ]
  },
  {
   "cell_type": "code",
   "execution_count": 31,
   "id": "neutral-peeing",
   "metadata": {},
   "outputs": [],
   "source": [
    "import tqdm"
   ]
  },
  {
   "cell_type": "code",
   "execution_count": 93,
   "id": "electronic-platform",
   "metadata": {},
   "outputs": [
    {
     "name": "stderr",
     "output_type": "stream",
     "text": [
      "  0%|          | 0/1 [00:00<?, ?it/s]"
     ]
    },
    {
     "name": "stdout",
     "output_type": "stream",
     "text": [
      "Epoch 1/100\n",
      "250/250 [==============================] - 1574s 6s/step - loss: 2.0021\n",
      "Epoch 2/100\n",
      "250/250 [==============================] - 1576s 6s/step - loss: 0.3502\n",
      "Epoch 3/100\n",
      "250/250 [==============================] - 1570s 6s/step - loss: 0.2103\n",
      "Epoch 4/100\n",
      "250/250 [==============================] - 1575s 6s/step - loss: 0.2002\n",
      "Epoch 5/100\n",
      "250/250 [==============================] - 1571s 6s/step - loss: 0.2000\n",
      "Epoch 6/100\n",
      "250/250 [==============================] - 1576s 6s/step - loss: 0.2000\n",
      "Epoch 7/100\n",
      "250/250 [==============================] - 1573s 6s/step - loss: 0.2000\n",
      "Epoch 8/100\n",
      "250/250 [==============================] - 1577s 6s/step - loss: 0.2000\n",
      "Epoch 9/100\n",
      "250/250 [==============================] - 1579s 6s/step - loss: 0.2000\n",
      "Epoch 10/100\n",
      "250/250 [==============================] - 1573s 6s/step - loss: 0.2000\n",
      "Epoch 11/100\n",
      "250/250 [==============================] - 1574s 6s/step - loss: 0.2000\n",
      "Epoch 12/100\n",
      "250/250 [==============================] - 1579s 6s/step - loss: 0.2000\n",
      "Epoch 13/100\n",
      "250/250 [==============================] - 1578s 6s/step - loss: 0.2000\n",
      "Epoch 14/100\n",
      "250/250 [==============================] - 1581s 6s/step - loss: 0.2000\n"
     ]
    },
    {
     "name": "stderr",
     "output_type": "stream",
     "text": [
      "100%|██████████| 1/1 [6:07:56<00:00, 22076.52s/it]\n"
     ]
    }
   ],
   "source": [
    "max_score = 0\n",
    "best_model = None\n",
    "log = []\n",
    "core_model = None\n",
    "for p in tqdm.tqdm(param_list[3:4]):\n",
    "    core_model = create_model(*p)\n",
    "    triplet = create_triplet_model(input_size, core_model)\n",
    "    model, history = train(new_X, new_y, input_size, triplet)\n",
    "    score = test(core_model, new_X, new_y)\n",
    "    if score > max_score:\n",
    "        max_score = score\n",
    "        best_model = model\n",
    "        print(p, score)\n",
    "    log.append({\"score\": score, \"history\": history, \"params\": p})\n"
   ]
  },
  {
   "cell_type": "code",
   "execution_count": 94,
   "id": "returning-citizen",
   "metadata": {},
   "outputs": [
    {
     "name": "stdout",
     "output_type": "stream",
     "text": [
      "1\n"
     ]
    }
   ],
   "source": [
    "print(len(log))"
   ]
  },
  {
   "cell_type": "code",
   "execution_count": 95,
   "id": "activated-verification",
   "metadata": {},
   "outputs": [],
   "source": [
    "log_df = pd.DataFrame(log)"
   ]
  },
  {
   "cell_type": "code",
   "execution_count": 96,
   "id": "sound-startup",
   "metadata": {},
   "outputs": [
    {
     "data": {
      "text/html": [
       "<div>\n",
       "<style scoped>\n",
       "    .dataframe tbody tr th:only-of-type {\n",
       "        vertical-align: middle;\n",
       "    }\n",
       "\n",
       "    .dataframe tbody tr th {\n",
       "        vertical-align: top;\n",
       "    }\n",
       "\n",
       "    .dataframe thead th {\n",
       "        text-align: right;\n",
       "    }\n",
       "</style>\n",
       "<table border=\"1\" class=\"dataframe\">\n",
       "  <thead>\n",
       "    <tr style=\"text-align: right;\">\n",
       "      <th></th>\n",
       "      <th>score</th>\n",
       "      <th>history</th>\n",
       "      <th>params</th>\n",
       "    </tr>\n",
       "  </thead>\n",
       "  <tbody>\n",
       "    <tr>\n",
       "      <th>0</th>\n",
       "      <td>0.0</td>\n",
       "      <td>&lt;tensorflow.python.keras.callbacks.History obj...</td>\n",
       "      <td>[relu, 0.001, 4, 4, 16, 8, 64]</td>\n",
       "    </tr>\n",
       "  </tbody>\n",
       "</table>\n",
       "</div>"
      ],
      "text/plain": [
       "   score                                            history  \\\n",
       "0    0.0  <tensorflow.python.keras.callbacks.History obj...   \n",
       "\n",
       "                           params  \n",
       "0  [relu, 0.001, 4, 4, 16, 8, 64]  "
      ]
     },
     "execution_count": 96,
     "metadata": {},
     "output_type": "execute_result"
    }
   ],
   "source": [
    "log_df"
   ]
  },
  {
   "cell_type": "code",
   "execution_count": 97,
   "id": "substantial-renaissance",
   "metadata": {},
   "outputs": [],
   "source": [
    "log_df[\"history_arr\"] = log_df.history.apply(lambda x: x.history[\"loss\"])"
   ]
  },
  {
   "cell_type": "code",
   "execution_count": 98,
   "id": "downtown-montana",
   "metadata": {},
   "outputs": [],
   "source": [
    "log_df[\"activations\"] = log_df.params.apply(lambda x:x[0])\n",
    "log_df[\"L2_lambda\"]  = log_df.params.apply(lambda x:x[1])\n",
    "log_df[ \"pool_1_size\"] = log_df.params.apply(lambda x:x[2])\n",
    "log_df[ \"pool_2_size\"] = log_df.params.apply(lambda x:x[3])\n",
    "log_df[\"conv_1_size\"] = log_df.params.apply(lambda x:x[4])\n",
    "log_df[\"conv_2_size\"] = log_df.params.apply(lambda x:x[5])\n",
    "log_df[\"dense_1\"] = log_df.params.apply(lambda x:x[6])"
   ]
  },
  {
   "cell_type": "code",
   "execution_count": 99,
   "id": "guided-basket",
   "metadata": {},
   "outputs": [],
   "source": [
    "log_df = log_df.drop(columns=[\"history\", \"params\"])"
   ]
  },
  {
   "cell_type": "code",
   "execution_count": 100,
   "id": "broad-girlfriend",
   "metadata": {},
   "outputs": [
    {
     "data": {
      "text/plain": [
       "count    1.0\n",
       "mean     0.0\n",
       "std      NaN\n",
       "min      0.0\n",
       "25%      0.0\n",
       "50%      0.0\n",
       "75%      0.0\n",
       "max      0.0\n",
       "Name: score, dtype: float64"
      ]
     },
     "execution_count": 100,
     "metadata": {},
     "output_type": "execute_result"
    }
   ],
   "source": [
    "log_df.score.describe()"
   ]
  },
  {
   "cell_type": "markdown",
   "id": "modern-parks",
   "metadata": {},
   "source": [
    "#### All the tame accuracy was approximately the same"
   ]
  },
  {
   "cell_type": "code",
   "execution_count": 101,
   "id": "given-twist",
   "metadata": {},
   "outputs": [
    {
     "data": {
      "text/plain": [
       "[<matplotlib.lines.Line2D at 0x17449d050>]"
      ]
     },
     "execution_count": 101,
     "metadata": {},
     "output_type": "execute_result"
    },
    {
     "data": {
      "image/png": "[encoded data removed]",
      "text/plain": [
       "<Figure size 432x288 with 1 Axes>"
      ]
     },
     "metadata": {
      "needs_background": "light"
     },
     "output_type": "display_data"
    }
   ],
   "source": [
    "plt.plot(log_df.score)"
   ]
  },
  {
   "cell_type": "markdown",
   "id": "mature-punishment",
   "metadata": {},
   "source": [
    "### How the best model was trained?"
   ]
  },
  {
   "cell_type": "code",
   "execution_count": 102,
   "id": "fossil-transmission",
   "metadata": {},
   "outputs": [
    {
     "data": {
      "text/plain": [
       "[<matplotlib.lines.Line2D at 0x17445c690>]"
      ]
     },
     "execution_count": 102,
     "metadata": {},
     "output_type": "execute_result"
    },
    {
     "data": {
      "image/png": "[encoded data removed]",
      "text/plain": [
       "<Figure size 432x288 with 1 Axes>"
      ]
     },
     "metadata": {
      "needs_background": "light"
     },
     "output_type": "display_data"
    }
   ],
   "source": [
    "plt.plot(log_df.history_arr[0])"
   ]
  },
  {
   "cell_type": "code",
   "execution_count": 103,
   "id": "legitimate-protocol",
   "metadata": {},
   "outputs": [],
   "source": [
    "log_df.to_csv(\"grid_6.csv\")"
   ]
  },
  {
   "cell_type": "code",
   "execution_count": 136,
   "id": "present-people",
   "metadata": {},
   "outputs": [],
   "source": [
    "log_df.to_json(\"grid_6.json\")# arrays could be exported better (history)"
   ]
  },
  {
   "cell_type": "markdown",
   "id": "advanced-pacific",
   "metadata": {},
   "source": [
    "-  52% - 20-40 by amount of files, 600 input - 100 output\n",
    "-  53% - 20-40 by amount of files, 600 input - 200 output\n",
    "-  53% - 20-40 by amount of files, 600 input - 400 output\n",
    "- 33% - 20-40 by amount of files, 100 input - 100 output\n",
    "-  49.7% - 0-40 by amount of files, 600 input - 100 output"
   ]
  },
  {
   "cell_type": "markdown",
   "id": "outstanding-correction",
   "metadata": {},
   "source": [
    "### Read more\n",
    "- [implementation by tensorflow](https://www.tensorflow.org/addons/tutorials/losses_triplet)"
   ]
  },
  {
   "cell_type": "markdown",
   "id": "elect-fitness",
   "metadata": {},
   "source": [
    "## What's going on!?\n",
    "Why the accuracy is so low! Let's look at the PCA of the daataset"
   ]
  },
  {
   "cell_type": "code",
   "execution_count": 32,
   "id": "surprised-nutrition",
   "metadata": {},
   "outputs": [],
   "source": [
    "import numpy as np\n",
    "from sklearn.decomposition import PCA"
   ]
  },
  {
   "cell_type": "code",
   "execution_count": 105,
   "id": "unauthorized-burns",
   "metadata": {},
   "outputs": [],
   "source": [
    "# pass the data through the model"
   ]
  },
  {
   "cell_type": "code",
   "execution_count": 106,
   "id": "mysterious-november",
   "metadata": {},
   "outputs": [
    {
     "data": {
      "text/plain": [
       "array([[8.165467e-05, 8.165467e-05, 8.165467e-05, ..., 8.165467e-05,\n",
       "        8.165467e-05, 8.165467e-05],\n",
       "       [8.165467e-05, 8.165467e-05, 8.165467e-05, ..., 8.165467e-05,\n",
       "        8.165467e-05, 8.165467e-05]], dtype=float32)"
      ]
     },
     "execution_count": 106,
     "metadata": {},
     "output_type": "execute_result"
    }
   ],
   "source": [
    "vectorized_X = core_model.predict(new_X)\n",
    "\n",
    "pca = PCA(n_components=3)\n",
    "\n",
    "pca.fit(vectorized_X)\n",
    "\n",
    "pca_x = pca.transform(vectorized_X)\n",
    "\n",
    "y1d = new_y\n",
    "# y1d = np.argmax(new_y, axis=1)\n",
    "\n",
    "pca_x[np.where(y1d==0), 0]"
   ]
  },
  {
   "cell_type": "code",
   "execution_count": 108,
   "id": "neither-reggae",
   "metadata": {},
   "outputs": [
    {
     "data": {
      "image/png": "[encoded data removed]",
      "text/plain": [
       "<Figure size 1152x576 with 1 Axes>"
      ]
     },
     "metadata": {
      "needs_background": "light"
     },
     "output_type": "display_data"
    }
   ],
   "source": [
    "plt.figure(figsize=(16, 8))\n",
    "for i in range(500):\n",
    "    plt.plot(pca_x[np.where(y1d==i), 2][0], pca_x[np.where(y1d==i), 0][0], 'o', ms=4)# label=str(i))\n",
    "# plt.legend(ncol=4)"
   ]
  },
  {
   "attachments": {
    "77775455-7d04-471d-a90a-fb680b8590b4.png": {
     "image/png": "[encoded data removed]"
    }
   },
   "cell_type": "markdown",
   "id": "monthly-canyon",
   "metadata": {},
   "source": [
    "Before\n",
    "![image.png](attachment:77775455-7d04-471d-a90a-fb680b8590b4.png)"
   ]
  },
  {
   "cell_type": "markdown",
   "id": "breeding-meaning",
   "metadata": {},
   "source": [
    "### Ok... Let's train the model on the top of the embeddings"
   ]
  },
  {
   "cell_type": "code",
   "execution_count": 143,
   "id": "continent-origin",
   "metadata": {},
   "outputs": [],
   "source": [
    "new_y\n",
    "ohe = OneHotEncoder()\n",
    "new_y = ohe.fit_transform(new_y.reshape(-1, 1))\n",
    "new_y = new_y.toarray()"
   ]
  },
  {
   "cell_type": "code",
   "execution_count": 144,
   "id": "running-athens",
   "metadata": {},
   "outputs": [],
   "source": [
    "classifier = keras.Sequential()\n",
    "classifier.add(layers.Input((1, 50)))\n",
    "classifier.add(layers.Dense(128, activation=\"linear\"))\n",
    "classifier.add(layers.LayerNormalization(axis=1))\n",
    "classifier.add(layers.Dropout(0.5))\n",
    "classifier.add(layers.Dense(64, activation=\"linear\"))\n",
    "classifier.add(layers.LayerNormalization(axis=1))\n",
    "classifier.add(layers.Dropout(0.5))\n",
    "classifier.add(layers.Dense(500, activation=\"softmax\"))"
   ]
  },
  {
   "cell_type": "code",
   "execution_count": 145,
   "id": "million-geneva",
   "metadata": {},
   "outputs": [
    {
     "data": {
      "text/plain": [
       "(21398, 50)"
      ]
     },
     "execution_count": 145,
     "metadata": {},
     "output_type": "execute_result"
    }
   ],
   "source": [
    "vectorized_X.shape"
   ]
  },
  {
   "cell_type": "code",
   "execution_count": 146,
   "id": "fatty-central",
   "metadata": {},
   "outputs": [
    {
     "data": {
      "text/plain": [
       "(21398, 500)"
      ]
     },
     "execution_count": 146,
     "metadata": {},
     "output_type": "execute_result"
    }
   ],
   "source": [
    "new_y.shape"
   ]
  },
  {
   "cell_type": "code",
   "execution_count": 147,
   "id": "fifteen-peninsula",
   "metadata": {},
   "outputs": [
    {
     "name": "stdout",
     "output_type": "stream",
     "text": [
      "Epoch 1/100\n",
      "WARNING:tensorflow:Model was constructed with shape (None, 1, 50) for input KerasTensor(type_spec=TensorSpec(shape=(None, 1, 50), dtype=tf.float32, name='input_19'), name='input_19', description=\"created by layer 'input_19'\"), but it was called on an input with incompatible shape (None, 50).\n",
      "WARNING:tensorflow:Model was constructed with shape (None, 1, 50) for input KerasTensor(type_spec=TensorSpec(shape=(None, 1, 50), dtype=tf.float32, name='input_19'), name='input_19', description=\"created by layer 'input_19'\"), but it was called on an input with incompatible shape (None, 50).\n",
      "WARNING:tensorflow:Model was constructed with shape (None, 1, 50) for input KerasTensor(type_spec=TensorSpec(shape=(None, 1, 50), dtype=tf.float32, name='input_19'), name='input_19', description=\"created by layer 'input_19'\"), but it was called on an input with incompatible shape (None, 50).\n",
      "334/334 - 2s - loss: 6.3403 - accuracy: 0.0022 - val_loss: 6.2758 - val_accuracy: 0.0029\n",
      "Epoch 2/100\n",
      "334/334 - 1s - loss: 6.3147 - accuracy: 0.0018 - val_loss: 6.2662 - val_accuracy: 0.0030\n",
      "Epoch 3/100\n",
      "334/334 - 1s - loss: 6.3165 - accuracy: 0.0018 - val_loss: 6.3172 - val_accuracy: 0.0020\n",
      "Epoch 4/100\n",
      "334/334 - 1s - loss: 6.3193 - accuracy: 0.0018 - val_loss: 6.2729 - val_accuracy: 0.0024\n",
      "Epoch 5/100\n",
      "334/334 - 1s - loss: 6.2371 - accuracy: 0.0026 - val_loss: 6.1977 - val_accuracy: 0.0033\n",
      "Epoch 6/100\n",
      "334/334 - 1s - loss: 6.2098 - accuracy: 0.0024 - val_loss: 6.2114 - val_accuracy: 0.0024\n",
      "Epoch 7/100\n",
      "334/334 - 1s - loss: 6.2084 - accuracy: 0.0030 - val_loss: 6.1967 - val_accuracy: 0.0029\n",
      "Epoch 8/100\n",
      "334/334 - 1s - loss: 6.2081 - accuracy: 0.0029 - val_loss: 6.2006 - val_accuracy: 0.0024\n",
      "Epoch 9/100\n",
      "334/334 - 1s - loss: 6.2074 - accuracy: 0.0027 - val_loss: 6.1983 - val_accuracy: 0.0029\n",
      "Epoch 10/100\n",
      "334/334 - 1s - loss: 6.2064 - accuracy: 0.0032 - val_loss: 6.1932 - val_accuracy: 0.0033\n",
      "Epoch 11/100\n",
      "334/334 - 1s - loss: 6.2091 - accuracy: 0.0029 - val_loss: 6.1942 - val_accuracy: 0.0033\n",
      "Epoch 12/100\n",
      "334/334 - 1s - loss: 6.2059 - accuracy: 0.0027 - val_loss: 6.1939 - val_accuracy: 0.0029\n",
      "Epoch 13/100\n",
      "334/334 - 1s - loss: 6.2065 - accuracy: 0.0031 - val_loss: 6.1937 - val_accuracy: 0.0032\n",
      "Epoch 14/100\n",
      "334/334 - 1s - loss: 6.2072 - accuracy: 0.0026 - val_loss: 6.1944 - val_accuracy: 0.0033\n",
      "Epoch 15/100\n",
      "334/334 - 1s - loss: 6.1979 - accuracy: 0.0029 - val_loss: 6.1918 - val_accuracy: 0.0033\n",
      "Epoch 16/100\n",
      "334/334 - 1s - loss: 6.1918 - accuracy: 0.0030 - val_loss: 6.1920 - val_accuracy: 0.0033\n",
      "Epoch 17/100\n",
      "334/334 - 1s - loss: 6.1934 - accuracy: 0.0035 - val_loss: 6.1913 - val_accuracy: 0.0033\n",
      "Epoch 18/100\n",
      "334/334 - 1s - loss: 6.1921 - accuracy: 0.0032 - val_loss: 6.1917 - val_accuracy: 0.0033\n",
      "Epoch 19/100\n",
      "334/334 - 1s - loss: 6.1926 - accuracy: 0.0030 - val_loss: 6.1911 - val_accuracy: 0.0033\n",
      "Epoch 20/100\n",
      "334/334 - 1s - loss: 6.1910 - accuracy: 0.0036 - val_loss: 6.1910 - val_accuracy: 0.0033\n",
      "Epoch 21/100\n",
      "334/334 - 1s - loss: 6.1918 - accuracy: 0.0030 - val_loss: 6.1910 - val_accuracy: 0.0033\n",
      "Epoch 22/100\n",
      "334/334 - 1s - loss: 6.1898 - accuracy: 0.0034 - val_loss: 6.1910 - val_accuracy: 0.0033\n",
      "Epoch 23/100\n",
      "334/334 - 1s - loss: 6.1916 - accuracy: 0.0030 - val_loss: 6.1910 - val_accuracy: 0.0033\n",
      "Epoch 24/100\n",
      "334/334 - 2s - loss: 6.1921 - accuracy: 0.0033 - val_loss: 6.1909 - val_accuracy: 0.0033\n",
      "Epoch 25/100\n",
      "334/334 - 1s - loss: 6.1901 - accuracy: 0.0033 - val_loss: 6.1909 - val_accuracy: 0.0033\n",
      "Epoch 26/100\n",
      "334/334 - 1s - loss: 6.1916 - accuracy: 0.0036 - val_loss: 6.1909 - val_accuracy: 0.0033\n",
      "Epoch 27/100\n",
      "334/334 - 1s - loss: 6.1909 - accuracy: 0.0035 - val_loss: 6.1909 - val_accuracy: 0.0033\n"
     ]
    }
   ],
   "source": [
    "batch_size = 64\n",
    "epochs = 100\n",
    "steps_per_epoch = int(vectorized_X.shape[0]/batch_size)\n",
    "\n",
    "optimizer = optimizers.Adam(0.1)\n",
    "lr_schedule = callbacks.ReduceLROnPlateau(monitor='loss', actor=0.5, patience=2, min_delta=0.000001, verbouse=1)\n",
    "early_stopping = callbacks.EarlyStopping(monitor=\"loss\", min_delta = 0.0001, patience=5, restore_best_weights=True)\n",
    "\n",
    "\n",
    "classifier.compile(optimizer = optimizer, loss = \"categorical_crossentropy\", metrics=[\"accuracy\"])\n",
    "history = classifier.fit(x=vectorized_X, y=new_y, epochs = epochs, \n",
    "                        validation_data = (vectorized_X,new_y),\n",
    "                        steps_per_epoch=vectorized_X.shape[0] // batch_size,\n",
    "                        verbose=2, \n",
    "                        callbacks=[lr_schedule, early_stopping])"
   ]
  },
  {
   "cell_type": "markdown",
   "id": "hispanic-rwanda",
   "metadata": {},
   "source": [
    "- [x] Plot data with PCA\n",
    "- [x] Train more sophisticated classifier\n",
    "- [x] Classification of the other question\n",
    "- [x] Change the data selection process\n",
    "- [ ] Look at the data with errors - nope... too much encodings and normalizations to transform it back\n",
    "- [ ] Change the generation process of the triplets\n",
    "- [ ] Parallell training\n",
    "- [x] Start conv2d embeddings"
   ]
  },
  {
   "cell_type": "code",
   "execution_count": 48,
   "id": "vertical-satisfaction",
   "metadata": {},
   "outputs": [
    {
     "ename": "NameError",
     "evalue": "name 'core_model' is not defined",
     "output_type": "error",
     "traceback": [
      "\u001b[0;31m---------------------------------------------------------------------------\u001b[0m",
      "\u001b[0;31mNameError\u001b[0m                                 Traceback (most recent call last)",
      "\u001b[0;32m<ipython-input-48-f7fbaa76b133>\u001b[0m in \u001b[0;36m<module>\u001b[0;34m\u001b[0m\n\u001b[1;32m     30\u001b[0m \u001b[0;34m\u001b[0m\u001b[0m\n\u001b[1;32m     31\u001b[0m \u001b[0;34m\u001b[0m\u001b[0m\n\u001b[0;32m---> 32\u001b[0;31m \u001b[0mscores\u001b[0m \u001b[0;34m=\u001b[0m \u001b[0;34m[\u001b[0m\u001b[0mtest\u001b[0m\u001b[0;34m(\u001b[0m\u001b[0mcore_model\u001b[0m\u001b[0;34m,\u001b[0m \u001b[0mnew_X\u001b[0m\u001b[0;34m,\u001b[0m \u001b[0mnew_y\u001b[0m\u001b[0;34m,\u001b[0m \u001b[0mk\u001b[0m\u001b[0;34m)\u001b[0m \u001b[0;32mfor\u001b[0m \u001b[0mk\u001b[0m \u001b[0;32min\u001b[0m \u001b[0mnp\u001b[0m\u001b[0;34m.\u001b[0m\u001b[0marange\u001b[0m\u001b[0;34m(\u001b[0m\u001b[0;36m0\u001b[0m\u001b[0;34m,\u001b[0m \u001b[0;36m0.25\u001b[0m\u001b[0;34m,\u001b[0m \u001b[0;36m0.01\u001b[0m\u001b[0;34m)\u001b[0m \u001b[0;34m]\u001b[0m\u001b[0;34m\u001b[0m\u001b[0;34m\u001b[0m\u001b[0m\n\u001b[0m\u001b[1;32m     33\u001b[0m \u001b[0mplt\u001b[0m\u001b[0;34m.\u001b[0m\u001b[0mplot\u001b[0m\u001b[0;34m(\u001b[0m\u001b[0mnp\u001b[0m\u001b[0;34m.\u001b[0m\u001b[0marange\u001b[0m\u001b[0;34m(\u001b[0m\u001b[0;36m0\u001b[0m\u001b[0;34m,\u001b[0m \u001b[0;36m0.25\u001b[0m\u001b[0;34m,\u001b[0m \u001b[0;36m0.01\u001b[0m\u001b[0;34m)\u001b[0m\u001b[0;34m,\u001b[0m \u001b[0mscores\u001b[0m\u001b[0;34m)\u001b[0m\u001b[0;34m\u001b[0m\u001b[0;34m\u001b[0m\u001b[0m\n",
      "\u001b[0;32m<ipython-input-48-f7fbaa76b133>\u001b[0m in \u001b[0;36m<listcomp>\u001b[0;34m(.0)\u001b[0m\n\u001b[1;32m     30\u001b[0m \u001b[0;34m\u001b[0m\u001b[0m\n\u001b[1;32m     31\u001b[0m \u001b[0;34m\u001b[0m\u001b[0m\n\u001b[0;32m---> 32\u001b[0;31m \u001b[0mscores\u001b[0m \u001b[0;34m=\u001b[0m \u001b[0;34m[\u001b[0m\u001b[0mtest\u001b[0m\u001b[0;34m(\u001b[0m\u001b[0mcore_model\u001b[0m\u001b[0;34m,\u001b[0m \u001b[0mnew_X\u001b[0m\u001b[0;34m,\u001b[0m \u001b[0mnew_y\u001b[0m\u001b[0;34m,\u001b[0m \u001b[0mk\u001b[0m\u001b[0;34m)\u001b[0m \u001b[0;32mfor\u001b[0m \u001b[0mk\u001b[0m \u001b[0;32min\u001b[0m \u001b[0mnp\u001b[0m\u001b[0;34m.\u001b[0m\u001b[0marange\u001b[0m\u001b[0;34m(\u001b[0m\u001b[0;36m0\u001b[0m\u001b[0;34m,\u001b[0m \u001b[0;36m0.25\u001b[0m\u001b[0;34m,\u001b[0m \u001b[0;36m0.01\u001b[0m\u001b[0;34m)\u001b[0m \u001b[0;34m]\u001b[0m\u001b[0;34m\u001b[0m\u001b[0;34m\u001b[0m\u001b[0m\n\u001b[0m\u001b[1;32m     33\u001b[0m \u001b[0mplt\u001b[0m\u001b[0;34m.\u001b[0m\u001b[0mplot\u001b[0m\u001b[0;34m(\u001b[0m\u001b[0mnp\u001b[0m\u001b[0;34m.\u001b[0m\u001b[0marange\u001b[0m\u001b[0;34m(\u001b[0m\u001b[0;36m0\u001b[0m\u001b[0;34m,\u001b[0m \u001b[0;36m0.25\u001b[0m\u001b[0;34m,\u001b[0m \u001b[0;36m0.01\u001b[0m\u001b[0;34m)\u001b[0m\u001b[0;34m,\u001b[0m \u001b[0mscores\u001b[0m\u001b[0;34m)\u001b[0m\u001b[0;34m\u001b[0m\u001b[0;34m\u001b[0m\u001b[0m\n",
      "\u001b[0;31mNameError\u001b[0m: name 'core_model' is not defined"
     ]
    }
   ],
   "source": [
    "def test(model_core, new_X, new_y, threshold=0.2, printing=0):\n",
    "    transformed_X = model_core.predict(new_X.reshape(-1, input_size, 1))\n",
    "#     X_train, X_test, y_train, y_test = train_test_split(transformed_X, new_y)\n",
    "    index = np.where(new_y<20)[0]\n",
    "    X_test, y_test = new_X[index], new_y[index]\n",
    "    y_pred = []\n",
    "    y_true = []\n",
    "    for i in range(X_test.shape[0]):\n",
    "        for j in range(i, X_test.shape[0]):\n",
    "            if np.mean((X_test[i] - X_test[j])**2) <= threshold:\n",
    "                y_pred.append(1)\n",
    "            else:\n",
    "                y_pred.append(0)\n",
    "            \n",
    "            if y_test[i] == y_test[j]:\n",
    "                y_true.append(1)\n",
    "            else:\n",
    "                y_true.append(0)\n",
    "    y_pred = np.array(y_pred)\n",
    "    y_true = np.array(y_true)\n",
    "    \n",
    "    score = accuracy_score(y_true, y_pred)\n",
    "    if printing:\n",
    "        print(confusion_matrix(y_true, y_pred))\n",
    "        print(\"totoal predicted as 1:\", sum(y_pred), \n",
    "              \"\\ntotoal real 1:\", sum(y_true), \n",
    "              \"\\ntotal examples\", y_true.shape)\n",
    "    \n",
    "    return score\n",
    "    \n",
    "\n",
    "scores = [test(core_model, new_X, new_y, k) for k in np.arange(0, 0.25, 0.01) ]\n",
    "plt.plot(np.arange(0, 0.25, 0.01), scores)"
   ]
  },
  {
   "cell_type": "code",
   "execution_count": 95,
   "id": "placed-standard",
   "metadata": {},
   "outputs": [
    {
     "data": {
      "text/plain": [
       "0.9491743262190372"
      ]
     },
     "execution_count": 95,
     "metadata": {},
     "output_type": "execute_result"
    }
   ],
   "source": [
    "scores[-5]"
   ]
  },
  {
   "cell_type": "code",
   "execution_count": 96,
   "id": "driving-closer",
   "metadata": {},
   "outputs": [
    {
     "name": "stdout",
     "output_type": "stream",
     "text": [
      "[[72696    39]\n",
      " [ 3876   417]]\n",
      "456 4293 (77028,)\n"
     ]
    },
    {
     "data": {
      "text/plain": [
       "0.9491743262190372"
      ]
     },
     "execution_count": 96,
     "metadata": {},
     "output_type": "execute_result"
    }
   ],
   "source": [
    "test(core_model, new_X, new_y, 0.2, 1)"
   ]
  },
  {
   "cell_type": "code",
   "execution_count": 1,
   "id": "right-merchandise",
   "metadata": {},
   "outputs": [
    {
     "data": {
      "text/plain": [
       "0.09713487071977638"
      ]
     },
     "execution_count": 1,
     "metadata": {},
     "output_type": "execute_result"
    }
   ],
   "source": [
    "# Accuracy in terms of positives (recall): \n",
    "417/4293"
   ]
  },
  {
   "cell_type": "code",
   "execution_count": 365,
   "id": "mediterranean-desire",
   "metadata": {},
   "outputs": [],
   "source": [
    "## As it can be seen, the accuracy is still around 50% in the best meaningfull cases \n",
    "## Despite the low values on KNN, threshold approximation works good (even a bit better)\n",
    "## when there is a lot of data, the usual pre"
   ]
  },
  {
   "cell_type": "markdown",
   "id": "transsexual-looking",
   "metadata": {},
   "source": [
    "Some more links\n",
    "- signature recognition with [triplet loss](https://github.com/jadevaibhav/Signature-verification-using-deep-learning/blob/master/mycode.ipynb)\n",
    "- "
   ]
  },
  {
   "cell_type": "markdown",
   "id": "sexual-output",
   "metadata": {},
   "source": [
    "Whhen the dataset changed, the accuracy dropped drammatically, however, the visualization performed better"
   ]
  },
  {
   "cell_type": "markdown",
   "id": "german-contact",
   "metadata": {},
   "source": [
    "### Model from TF "
   ]
  },
  {
   "cell_type": "code",
   "execution_count": 66,
   "id": "optical-cleanup",
   "metadata": {},
   "outputs": [],
   "source": [
    "y = np.argmax(y, axis=1)"
   ]
  },
  {
   "cell_type": "code",
   "execution_count": 89,
   "id": "bound-geology",
   "metadata": {},
   "outputs": [
    {
     "data": {
      "text/plain": [
       "array([   28,    34,    35, ..., 21376, 21386, 21393])"
      ]
     },
     "execution_count": 89,
     "metadata": {},
     "output_type": "execute_result"
    }
   ],
   "source": [
    "np.where(y<40)[0]"
   ]
  },
  {
   "cell_type": "code",
   "execution_count": 103,
   "id": "serial-router",
   "metadata": {},
   "outputs": [],
   "source": [
    "# dont to be out of RAM\n",
    "# X = X[np.where(y<100)[0]]\n",
    "# y = y[np.where(y<100)[0]]\n",
    "X_train, X_test, y_train, y_test = train_test_split(X, y)"
   ]
  },
  {
   "cell_type": "code",
   "execution_count": 116,
   "id": "instrumental-decline",
   "metadata": {},
   "outputs": [],
   "source": [
    "def create_model(activation=\"linear\", L2_lambda=0.02, \n",
    "                 pool_1_size=4, pool_2_size=4, \n",
    "                 conv_1_size=16, conv_2_size=4, dense_1=64):\n",
    "    \n",
    "    model_core = keras.Sequential()\n",
    "    model_core.add(layers.Conv1D(64, conv_1_size, \n",
    "                                 activation=activation, \n",
    "                                 kernel_regularizer=regularizers.L2(L2_lambda)))\n",
    "    \n",
    "    model_core.add(layers.LayerNormalization(axis=1))\n",
    "    model_core.add(layers.MaxPooling1D(pool_size=pool_1_size))\n",
    "    \n",
    "    model_core.add(layers.Conv1D(32, conv_2_size, \n",
    "                                 activation=activation, \n",
    "                                 kernel_regularizer=regularizers.L2(L2_lambda)))\n",
    "\n",
    "    model_core.add(layers.LayerNormalization(axis=1))\n",
    "    model_core.add(layers.MaxPooling1D(pool_size=pool_2_size))\n",
    "    \n",
    "    model_core.add(layers.Flatten())\n",
    "    model_core.add(layers.Dropout(0.5))\n",
    "    model_core.add(layers.Dense(dense_1, activation=activation, \n",
    "                                kernel_regularizer=regularizers.L2(L2_lambda)))\n",
    "    model_core.add(layers.LayerNormalization(axis=1))\n",
    "    \n",
    "    model_core.add(layers.Dropout(0.5))\n",
    "    model_core.add(layers.Dense(output_size, activation=activation, \n",
    "                                kernel_regularizer=regularizers.L2(L2_lambda)))\n",
    "#     model_core.add(layers.LayerNormalization(axis=1))\n",
    "    return model_core\n",
    "\n"
   ]
  },
  {
   "cell_type": "code",
   "execution_count": 117,
   "id": "structural-colonial",
   "metadata": {},
   "outputs": [],
   "source": [
    "\n",
    "tfa_model = create_model(activation=\"relu\", L2_lambda=0.001, pool_1_size=4, \n",
    "                         pool_2_size=4, conv_1_size=8, conv_2_size=8, dense_1=64)\n",
    "tfa_model.compile(\n",
    "    optimizer=tf.keras.optimizers.Adam(0.1),\n",
    "    loss=tfa.losses.TripletSemiHardLoss(margin=0.2)\n",
    ")"
   ]
  },
  {
   "cell_type": "code",
   "execution_count": 118,
   "id": "dress-divorce",
   "metadata": {},
   "outputs": [],
   "source": [
    "from sklearn.metrics import confusion_matrix, recall_score, accuracy_score"
   ]
  },
  {
   "cell_type": "code",
   "execution_count": 119,
   "id": "foster-contamination",
   "metadata": {},
   "outputs": [],
   "source": [
    "from tensorflow.keras import callbacks\n",
    "\n",
    "class TestCallback(callbacks.Callback):\n",
    "    def __init__(self, X, y, threshold=0.2, input_size=600):\n",
    "        self.threshold = threshold\n",
    "        self.input_size = input_size\n",
    "        index = np.where(y<5)[0]\n",
    "        self.X = X[index]\n",
    "        self.y = y[index]\n",
    "        self.scores = []\n",
    "        self.recalls = []\n",
    "        \n",
    "    def on_epoch_end(self, epoch, logs=None):\n",
    "        #(model, new_X, new_y, threshold=0.2, printing=0):\n",
    "        transformed_X = self.model.predict(self.X.reshape(-1, self.input_size, 1))\n",
    "    #     X_train, X_test, y_train, y_test = train_test_split(transformed_X, new_y)\n",
    "        \n",
    "        y_pred = []\n",
    "        y_true = []\n",
    "        for i in range(self.X.shape[0]):\n",
    "            for j in range(i, self.X.shape[0]):\n",
    "                if np.mean((transformed_X[i] - transformed_X[j])**2) <= self.threshold:\n",
    "                    y_pred.append(1)\n",
    "                else:\n",
    "                    y_pred.append(0)\n",
    "\n",
    "                if self.y[i] == self.y[j]:\n",
    "                    y_true.append(1)\n",
    "                else:\n",
    "                    y_true.append(0)\n",
    "        y_pred = np.array(y_pred)\n",
    "        y_true = np.array(y_true)\n",
    "\n",
    "        score = accuracy_score(y_true, y_pred)\n",
    "        cm = confusion_matrix(y_true, y_pred)\n",
    "#         if printing:\n",
    "#             print(cm)\n",
    "#             print(\"totoal predicted as 1:\", sum(y_pred), \n",
    "#                   \"\\ntotoal real 1:\", sum(y_true), \n",
    "#                   \"\\ntotal examples\", y_true.shape)\n",
    "            \n",
    "        recall = cm[1][1]/sum(y_true)\n",
    "        \n",
    "        self.scores.append(score)\n",
    "        self.recalls.append(recall)\n",
    "        print(\"accuracy:\", round(score, 4), \"recall:\", round(recall, 4))\n",
    "        return score, recall\n",
    "    \n",
    "    def return_results(self):\n",
    "        return {\"scores\": self.scores, \"recalls\": self.recalls}\n"
   ]
  },
  {
   "cell_type": "code",
   "execution_count": 120,
   "id": "revised-quick",
   "metadata": {},
   "outputs": [
    {
     "name": "stdout",
     "output_type": "stream",
     "text": [
      "Epoch 1/150\n",
      "125/125 [==============================] - 29s 223ms/step - loss: 8.8497 - val_loss: nan\n",
      "accuracy: 0.7566 recall: 0.1672\n",
      "Epoch 2/150\n",
      "125/125 [==============================] - 25s 204ms/step - loss: 7.5838 - val_loss: nan\n",
      "accuracy: 0.7729 recall: 0.0856\n",
      "Epoch 3/150\n",
      "125/125 [==============================] - 25s 197ms/step - loss: 8.5619 - val_loss: nan\n",
      "accuracy: 0.785 recall: 0.0903\n",
      "Epoch 4/150\n",
      "125/125 [==============================] - 26s 209ms/step - loss: 13.2227 - val_loss: nan\n",
      "accuracy: 0.788 recall: 0.0848\n",
      "Epoch 5/150\n",
      "125/125 [==============================] - 35s 282ms/step - loss: 11.1616 - val_loss: nan\n",
      "accuracy: 0.774 recall: 0.1074\n",
      "Epoch 6/150\n",
      "125/125 [==============================] - 48s 389ms/step - loss: 7.9034 - val_loss: nan\n",
      "accuracy: 0.7778 recall: 0.0931\n",
      "Epoch 7/150\n",
      "125/125 [==============================] - 28s 222ms/step - loss: 5.8416 - val_loss: nan\n",
      "accuracy: 0.7759 recall: 0.1113\n",
      "Epoch 8/150\n",
      "125/125 [==============================] - 25s 203ms/step - loss: 4.7873 - val_loss: nan\n",
      "accuracy: 0.7628 recall: 0.1216\n",
      "Epoch 9/150\n",
      "125/125 [==============================] - 29s 234ms/step - loss: 3.8857 - val_loss: nan\n",
      "accuracy: 0.7301 recall: 0.1811\n",
      "Epoch 10/150\n",
      "125/125 [==============================] - 26s 208ms/step - loss: 3.3120 - val_loss: nan\n",
      "accuracy: 0.7541 recall: 0.1347\n",
      "Epoch 11/150\n",
      "125/125 [==============================] - 26s 208ms/step - loss: 2.9114 - val_loss: nan\n",
      "accuracy: 0.6626 recall: 0.2805\n",
      "Epoch 12/150\n",
      "125/125 [==============================] - 31s 252ms/step - loss: 2.9453 - val_loss: nan\n",
      "accuracy: 0.743 recall: 0.1482\n",
      "Epoch 13/150\n",
      "125/125 [==============================] - 26s 210ms/step - loss: 2.9780 - val_loss: nan\n",
      "accuracy: 0.7844 recall: 0.0868\n",
      "Epoch 14/150\n",
      "125/125 [==============================] - 27s 215ms/step - loss: 2.7273 - val_loss: nan\n",
      "accuracy: 0.7791 recall: 0.0765\n",
      "Epoch 15/150\n",
      "125/125 [==============================] - 31s 252ms/step - loss: 2.6855 - val_loss: nan\n",
      "accuracy: 0.7281 recall: 0.1751\n",
      "Epoch 16/150\n",
      "125/125 [==============================] - 51s 409ms/step - loss: 2.5094 - val_loss: nan\n",
      "accuracy: 0.7832 recall: 0.0911\n",
      "Epoch 17/150\n",
      "125/125 [==============================] - 28s 225ms/step - loss: 2.4430 - val_loss: nan\n",
      "accuracy: 0.7885 recall: 0.0705\n",
      "Epoch 18/150\n",
      "125/125 [==============================] - 28s 226ms/step - loss: 2.5499 - val_loss: nan\n",
      "accuracy: 0.7885 recall: 0.0745\n",
      "Epoch 19/150\n",
      "125/125 [==============================] - 30s 241ms/step - loss: 2.3821 - val_loss: nan\n",
      "accuracy: 0.7845 recall: 0.0872\n",
      "Epoch 20/150\n",
      "125/125 [==============================] - 27s 217ms/step - loss: 2.2816 - val_loss: nan\n",
      "accuracy: 0.7869 recall: 0.0856\n",
      "Epoch 21/150\n",
      "125/125 [==============================] - 27s 214ms/step - loss: 2.1969 - val_loss: nan\n",
      "accuracy: 0.7807 recall: 0.0895\n",
      "Epoch 22/150\n",
      "125/125 [==============================] - 26s 209ms/step - loss: 2.0907 - val_loss: nan\n",
      "accuracy: 0.7845 recall: 0.0804\n",
      "Epoch 23/150\n",
      "125/125 [==============================] - 26s 204ms/step - loss: 2.1276 - val_loss: nan\n",
      "accuracy: 0.7429 recall: 0.1731\n",
      "Epoch 24/150\n",
      "125/125 [==============================] - 25s 198ms/step - loss: 1.9883 - val_loss: nan\n",
      "accuracy: 0.7746 recall: 0.0959\n",
      "Epoch 25/150\n",
      "125/125 [==============================] - 25s 199ms/step - loss: 1.8407 - val_loss: nan\n",
      "accuracy: 0.7707 recall: 0.1086\n",
      "Epoch 26/150\n",
      "125/125 [==============================] - 25s 198ms/step - loss: 1.7041 - val_loss: nan\n",
      "accuracy: 0.7766 recall: 0.1022\n",
      "Epoch 27/150\n",
      "125/125 [==============================] - 25s 200ms/step - loss: 1.5947 - val_loss: nan\n",
      "accuracy: 0.7329 recall: 0.1957\n",
      "Epoch 28/150\n",
      "125/125 [==============================] - 25s 198ms/step - loss: 1.7120 - val_loss: nan\n",
      "accuracy: 0.7377 recall: 0.1918\n",
      "Epoch 29/150\n",
      "125/125 [==============================] - 25s 199ms/step - loss: 1.8672 - val_loss: nan\n",
      "accuracy: 0.7561 recall: 0.1414\n",
      "Epoch 30/150\n",
      "125/125 [==============================] - 25s 200ms/step - loss: 1.9122 - val_loss: nan\n",
      "accuracy: 0.7469 recall: 0.1696\n",
      "Epoch 31/150\n",
      "125/125 [==============================] - 25s 202ms/step - loss: 1.5192 - val_loss: nan\n",
      "accuracy: 0.7448 recall: 0.1807\n",
      "Epoch 32/150\n",
      "125/125 [==============================] - 25s 201ms/step - loss: nan - val_loss: nan\n",
      "accuracy: 0.7741 recall: 0.0\n",
      "Epoch 33/150\n",
      "125/125 [==============================] - 25s 199ms/step - loss: nan - val_loss: nan\n",
      "accuracy: 0.7741 recall: 0.0\n",
      "Epoch 34/150\n",
      "125/125 [==============================] - 26s 212ms/step - loss: nan - val_loss: nan\n",
      "accuracy: 0.7741 recall: 0.0\n",
      "Epoch 35/150\n",
      "125/125 [==============================] - 25s 200ms/step - loss: nan - val_loss: nan\n",
      "accuracy: 0.7741 recall: 0.0\n",
      "Epoch 36/150\n",
      "125/125 [==============================] - 25s 199ms/step - loss: nan - val_loss: nan\n",
      "accuracy: 0.7741 recall: 0.0\n",
      "Epoch 37/150\n",
      "125/125 [==============================] - 25s 201ms/step - loss: nan - val_loss: nan\n",
      "accuracy: 0.7741 recall: 0.0\n",
      "Epoch 38/150\n",
      "125/125 [==============================] - 25s 199ms/step - loss: nan - val_loss: nan\n",
      "accuracy: 0.7741 recall: 0.0\n",
      "Epoch 39/150\n",
      "125/125 [==============================] - 25s 199ms/step - loss: nan - val_loss: nan\n",
      "accuracy: 0.7741 recall: 0.0\n",
      "Epoch 40/150\n",
      "125/125 [==============================] - 25s 198ms/step - loss: nan - val_loss: nan\n",
      "accuracy: 0.7741 recall: 0.0\n",
      "Epoch 41/150\n",
      "125/125 [==============================] - 25s 199ms/step - loss: nan - val_loss: nan\n",
      "accuracy: 0.7448 recall: 0.1807\n"
     ]
    }
   ],
   "source": [
    "batch_size = 128\n",
    "epochs = 150\n",
    "steps_per_epoch = int(X_train.shape[0]/batch_size)\n",
    "\n",
    "lr_schedule = callbacks.ReduceLROnPlateau(monitor=\"loss\", actor=0.5, patience=3, min_delta=0.000001, verbouse=1)\n",
    "early_stopping = callbacks.EarlyStopping(monitor=\"loss\", min_delta = 0.0001, patience=10, restore_best_weights=True)\n",
    "test_cb = TestCallback(X_train, y_train)\n",
    "\n",
    "history = tfa_model.fit(x=X_train, y=y_train, epochs = epochs, \n",
    "                         validation_data = (X_test, y_test),\n",
    "                         steps_per_epoch=steps_per_epoch,\n",
    "                         verbose=1, \n",
    "                         callbacks=[lr_schedule, early_stopping, test_cb])"
   ]
  },
  {
   "cell_type": "code",
   "execution_count": 96,
   "id": "leading-throat",
   "metadata": {},
   "outputs": [],
   "source": [
    "rsc = test_cb.return_results()"
   ]
  },
  {
   "cell_type": "code",
   "execution_count": 102,
   "id": "tired-housing",
   "metadata": {},
   "outputs": [
    {
     "data": {
      "text/plain": [
       "<matplotlib.legend.Legend at 0x15ba2ec90>"
      ]
     },
     "execution_count": 102,
     "metadata": {},
     "output_type": "execute_result"
    },
    {
     "data": {
      "image/png": "[encoded data removed]",
      "text/plain": [
       "<Figure size 720x504 with 1 Axes>"
      ]
     },
     "metadata": {
      "needs_background": "light"
     },
     "output_type": "display_data"
    }
   ],
   "source": [
    "plt.figure(figsize=(10, 7))\n",
    "plt.title(\"Training process of the HardTripletLoss\")\n",
    "plt.plot(history.history['loss'], label='loss')\n",
    "plt.plot(rsc['scores'], label='accuracy')\n",
    "plt.plot(rsc['recalls'], label='recall')\n",
    "plt.grid()\n",
    "plt.legend()"
   ]
  },
  {
   "cell_type": "code",
   "execution_count": 98,
   "id": "absent-notion",
   "metadata": {},
   "outputs": [
    {
     "data": {
      "text/plain": [
       "0.22954434100930915"
      ]
     },
     "execution_count": 98,
     "metadata": {},
     "output_type": "execute_result"
    }
   ],
   "source": [
    "max(rsc['scores'])"
   ]
  },
  {
   "cell_type": "markdown",
   "id": "public-township",
   "metadata": {},
   "source": [
    "![](https://external-content.duckduckgo.com/iu/?u=https%3A%2F%2Fwww.meme-arsenal.com%2Fmemes%2Fddb088b3a662269cc7da9a6e2a929eb5.jpg&f=1&nofb=1)"
   ]
  },
  {
   "cell_type": "code",
   "execution_count": 99,
   "id": "bigger-enhancement",
   "metadata": {},
   "outputs": [],
   "source": [
    "vectorized_X = tfa_model.predict(X_test)\n",
    "\n",
    "pca = PCA(n_components=3)\n",
    "\n",
    "pca.fit(vectorized_X)\n",
    "\n",
    "pca_x = pca.transform(vectorized_X)\n",
    "\n",
    "y1d = y_test\n",
    "# y1d = np.argmax(new_y, axis=1)"
   ]
  },
  {
   "cell_type": "code",
   "execution_count": 101,
   "id": "prerequisite-mistake",
   "metadata": {},
   "outputs": [
    {
     "data": {
      "image/png": "[encoded data removed]",
      "text/plain": [
       "<Figure size 1152x576 with 1 Axes>"
      ]
     },
     "metadata": {
      "needs_background": "light"
     },
     "output_type": "display_data"
    }
   ],
   "source": [
    "plt.figure(figsize=(16, 8))\n",
    "for i in range(10):\n",
    "    plt.plot(pca_x[np.where(y1d==i), 0][0], pca_x[np.where(y1d==i), 1][0], 'o', ms=4)# label=str(i))\n",
    "# plt.legend(ncol=4)"
   ]
  },
  {
   "cell_type": "markdown",
   "id": "suitable-classification",
   "metadata": {},
   "source": [
    "### Problems of triplet loss\n",
    "- From [GitHub](https://github.com/omoindrot/tensorflow-triplet-loss/issues/6#issuecomment-385342106)\n",
    "> However if the loss gets stuck at exactly the margin (0.5), it indicates that all the embeddings are collapsed into a single point. One solution is to reduce the learning rate until training does not collapse.\n",
    "\n",
    "- I have the same problem, moreover, it was adviced to define batches manually (not all-vs-all)\n",
    "- One more [notebook](https://datascience-enthusiast.com/DL/Face_Recognition_for_the_Happy_House_v3.html) with triplet loss"
   ]
  },
  {
   "cell_type": "markdown",
   "id": "straight-footage",
   "metadata": {},
   "source": [
    "## FAT"
   ]
  },
  {
   "cell_type": "code",
   "execution_count": null,
   "id": "dependent-ocean",
   "metadata": {},
   "outputs": [],
   "source": []
  }
 ],
 "metadata": {
  "kernelspec": {
   "display_name": "myenv",
   "language": "python",
   "name": "myenv"
  },
  "language_info": {
   "codemirror_mode": {
    "name": "ipython",
    "version": 3
   },
   "file_extension": ".py",
   "mimetype": "text/x-python",
   "name": "python",
   "nbconvert_exporter": "python",
   "pygments_lexer": "ipython3",
   "version": "3.7.10"
  }
 },
 "nbformat": 4,
 "nbformat_minor": 5
}
