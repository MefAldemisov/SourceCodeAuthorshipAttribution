{
 "cells": [
  {
   "cell_type": "code",
   "execution_count": 1,
   "metadata": {},
   "outputs": [
    {
     "name": "stdout",
     "output_type": "stream",
     "text": [
      "Python 3.7.7\n"
     ]
    }
   ],
   "source": [
    "!python --version"
   ]
  },
  {
   "cell_type": "markdown",
   "metadata": {},
   "source": [
    "# Embeddings\n",
    "- [gensim](https://radimrehurek.com/gensim/auto_examples/tutorials/run_annoy.html?highlight=load%20word2vec%20txt#work-with-google-s-word2vec-files) - **why do I need it????**\n",
    "- [tokenizer](https://github.com/google/sentencepiece/blob/master/python/README.md)\n"
   ]
  },
  {
   "cell_type": "markdown",
   "metadata": {},
   "source": [
    "## Load data (separate dataset)\n",
    "- the 2008-2016 dataset \n",
    "- python language"
   ]
  },
  {
   "cell_type": "code",
   "execution_count": 2,
   "metadata": {},
   "outputs": [
    {
     "name": "stdout",
     "output_type": "stream",
     "text": [
      "tf.Tensor(-460.60602, shape=(), dtype=float32)\n"
     ]
    },
    {
     "name": "stderr",
     "output_type": "stream",
     "text": [
      "2021-03-02 19:23:46.089800: I tensorflow/stream_executor/platform/default/dso_loader.cc:49] Successfully opened dynamic library cudart64_110.dll\n",
      "2021-03-02 19:23:48.742102: I tensorflow/compiler/jit/xla_cpu_device.cc:41] Not creating XLA devices, tf_xla_enable_xla_devices not set\n",
      "2021-03-02 19:23:48.743934: I tensorflow/stream_executor/platform/default/dso_loader.cc:49] Successfully opened dynamic library nvcuda.dll\n",
      "2021-03-02 19:23:48.774573: I tensorflow/core/common_runtime/gpu/gpu_device.cc:1720] Found device 0 with properties: \n",
      "pciBusID: 0000:65:00.0 name: GeForce GT 440 computeCapability: 2.1\n",
      "coreClock: 1.62GHz coreCount: 2 deviceMemorySize: 1.00GiB deviceMemoryBandwidth: 19.88GiB/s\n",
      "2021-03-02 19:23:48.774602: I tensorflow/stream_executor/platform/default/dso_loader.cc:49] Successfully opened dynamic library cudart64_110.dll\n",
      "2021-03-02 19:23:48.783340: I tensorflow/stream_executor/platform/default/dso_loader.cc:49] Successfully opened dynamic library cublas64_11.dll\n",
      "2021-03-02 19:23:48.783375: I tensorflow/stream_executor/platform/default/dso_loader.cc:49] Successfully opened dynamic library cublasLt64_11.dll\n",
      "2021-03-02 19:23:48.788389: I tensorflow/stream_executor/platform/default/dso_loader.cc:49] Successfully opened dynamic library cufft64_10.dll\n",
      "2021-03-02 19:23:48.789972: I tensorflow/stream_executor/platform/default/dso_loader.cc:49] Successfully opened dynamic library curand64_10.dll\n",
      "2021-03-02 19:23:48.790748: W tensorflow/stream_executor/platform/default/dso_loader.cc:60] Could not load dynamic library 'cusolver64_10.dll'; dlerror: cusolver64_10.dll not found\n",
      "2021-03-02 19:23:48.794731: I tensorflow/stream_executor/platform/default/dso_loader.cc:49] Successfully opened dynamic library cusparse64_11.dll\n",
      "2021-03-02 19:23:48.795452: W tensorflow/stream_executor/platform/default/dso_loader.cc:60] Could not load dynamic library 'cudnn64_8.dll'; dlerror: cudnn64_8.dll not found\n",
      "2021-03-02 19:23:48.795467: W tensorflow/core/common_runtime/gpu/gpu_device.cc:1757] Cannot dlopen some GPU libraries. Please make sure the missing libraries mentioned above are installed properly if you would like to use GPU. Follow the guide at https://www.tensorflow.org/install/gpu for how to download and setup the required libraries for your platform.\n",
      "Skipping registering GPU devices...\n",
      "2021-03-02 19:23:48.795801: I tensorflow/core/platform/cpu_feature_guard.cc:142] This TensorFlow binary is optimized with oneAPI Deep Neural Network Library (oneDNN) to use the following CPU instructions in performance-critical operations:  AVX2\n",
      "To enable them in other operations, rebuild TensorFlow with the appropriate compiler flags.\n",
      "2021-03-02 19:23:48.796622: I tensorflow/core/common_runtime/gpu/gpu_device.cc:1261] Device interconnect StreamExecutor with strength 1 edge matrix:\n",
      "2021-03-02 19:23:48.796635: I tensorflow/core/common_runtime/gpu/gpu_device.cc:1267]      \n",
      "2021-03-02 19:23:48.796662: I tensorflow/compiler/jit/xla_gpu_device.cc:99] Not creating XLA devices, tf_xla_enable_xla_devices not set\n"
     ]
    }
   ],
   "source": [
    "!python -c \"import tensorflow as tf;print(tf.reduce_sum(tf.random.normal([1000, 1000])))\""
   ]
  },
  {
   "cell_type": "code",
   "execution_count": 20,
   "metadata": {},
   "outputs": [],
   "source": [
    "import numpy as np\n",
    "import pandas as pd\n",
    "import matplotlib.pyplot as plt\n",
    "from sklearn.model_selection import train_test_split\n",
    "from sklearn.preprocessing import LabelEncoder, OneHotEncoder\n",
    "import tensorflow as tf\n",
    "from tensorflow import keras\n",
    "from tensorflow.keras import layers\n",
    "from tensorflow.keras import callbacks \n",
    "from tensorflow.keras import optimizers, models\n",
    "\n",
    "import sentencepiece as spm"
   ]
  },
  {
   "cell_type": "code",
   "execution_count": 4,
   "metadata": {},
   "outputs": [
    {
     "name": "stdout",
     "output_type": "stream",
     "text": [
      "pip 21.0.1 from c:\\users\\admin\\sourcecodeauthorshipattribution\\venv\\lib\\site-packages\\pip (python 3.7)\n",
      "\n"
     ]
    }
   ],
   "source": [
    "!pip --version"
   ]
  },
  {
   "cell_type": "code",
   "execution_count": 5,
   "metadata": {},
   "outputs": [
    {
     "name": "stdout",
     "output_type": "stream",
     "text": [
      "Requirement already satisfied: tensorflow in c:\\users\\admin\\sourcecodeauthorshipattribution\\venv\\lib\\site-packages (2.4.1)\n",
      "Requirement already satisfied: termcolor~=1.1.0 in c:\\users\\admin\\sourcecodeauthorshipattribution\\venv\\lib\\site-packages (from tensorflow) (1.1.0)\n",
      "Requirement already satisfied: opt-einsum~=3.3.0 in c:\\users\\admin\\sourcecodeauthorshipattribution\\venv\\lib\\site-packages (from tensorflow) (3.3.0)\n",
      "Requirement already satisfied: tensorflow-estimator<2.5.0,>=2.4.0 in c:\\users\\admin\\sourcecodeauthorshipattribution\\venv\\lib\\site-packages (from tensorflow) (2.4.0)\n",
      "Requirement already satisfied: numpy~=1.19.2 in c:\\users\\admin\\sourcecodeauthorshipattribution\\venv\\lib\\site-packages (from tensorflow) (1.19.5)\n",
      "Requirement already satisfied: tensorboard~=2.4 in c:\\users\\admin\\sourcecodeauthorshipattribution\\venv\\lib\\site-packages (from tensorflow) (2.4.1)\n",
      "Requirement already satisfied: typing-extensions~=3.7.4 in c:\\users\\admin\\sourcecodeauthorshipattribution\\venv\\lib\\site-packages (from tensorflow) (3.7.4.3)\n",
      "Requirement already satisfied: grpcio~=1.32.0 in c:\\users\\admin\\sourcecodeauthorshipattribution\\venv\\lib\\site-packages (from tensorflow) (1.32.0)\n",
      "Requirement already satisfied: wheel~=0.35 in c:\\users\\admin\\sourcecodeauthorshipattribution\\venv\\lib\\site-packages (from tensorflow) (0.36.2)\n",
      "Requirement already satisfied: six~=1.15.0 in c:\\users\\admin\\sourcecodeauthorshipattribution\\venv\\lib\\site-packages (from tensorflow) (1.15.0)\n",
      "Requirement already satisfied: keras-preprocessing~=1.1.2 in c:\\users\\admin\\sourcecodeauthorshipattribution\\venv\\lib\\site-packages (from tensorflow) (1.1.2)\n",
      "Requirement already satisfied: protobuf>=3.9.2 in c:\\users\\admin\\sourcecodeauthorshipattribution\\venv\\lib\\site-packages (from tensorflow) (3.15.3)\n",
      "Requirement already satisfied: gast==0.3.3 in c:\\users\\admin\\sourcecodeauthorshipattribution\\venv\\lib\\site-packages (from tensorflow) (0.3.3)\n",
      "Requirement already satisfied: flatbuffers~=1.12.0 in c:\\users\\admin\\sourcecodeauthorshipattribution\\venv\\lib\\site-packages (from tensorflow) (1.12)\n",
      "Requirement already satisfied: wrapt~=1.12.1 in c:\\users\\admin\\sourcecodeauthorshipattribution\\venv\\lib\\site-packages (from tensorflow) (1.12.1)\n",
      "Requirement already satisfied: google-pasta~=0.2 in c:\\users\\admin\\sourcecodeauthorshipattribution\\venv\\lib\\site-packages (from tensorflow) (0.2.0)\n",
      "Requirement already satisfied: absl-py~=0.10 in c:\\users\\admin\\sourcecodeauthorshipattribution\\venv\\lib\\site-packages (from tensorflow) (0.11.0)\n",
      "Requirement already satisfied: h5py~=2.10.0 in c:\\users\\admin\\sourcecodeauthorshipattribution\\venv\\lib\\site-packages (from tensorflow) (2.10.0)\n",
      "Requirement already satisfied: astunparse~=1.6.3 in c:\\users\\admin\\sourcecodeauthorshipattribution\\venv\\lib\\site-packages (from tensorflow) (1.6.3)\n",
      "Requirement already satisfied: tensorboard-plugin-wit>=1.6.0 in c:\\users\\admin\\sourcecodeauthorshipattribution\\venv\\lib\\site-packages (from tensorboard~=2.4->tensorflow) (1.8.0)\n",
      "Requirement already satisfied: google-auth-oauthlib<0.5,>=0.4.1 in c:\\users\\admin\\sourcecodeauthorshipattribution\\venv\\lib\\site-packages (from tensorboard~=2.4->tensorflow) (0.4.2)\n",
      "Requirement already satisfied: requests<3,>=2.21.0 in c:\\users\\admin\\sourcecodeauthorshipattribution\\venv\\lib\\site-packages (from tensorboard~=2.4->tensorflow) (2.25.1)\n",
      "Requirement already satisfied: setuptools>=41.0.0 in c:\\users\\admin\\sourcecodeauthorshipattribution\\venv\\lib\\site-packages (from tensorboard~=2.4->tensorflow) (47.1.0)\n",
      "Requirement already satisfied: werkzeug>=0.11.15 in c:\\users\\admin\\sourcecodeauthorshipattribution\\venv\\lib\\site-packages (from tensorboard~=2.4->tensorflow) (1.0.1)\n",
      "Requirement already satisfied: markdown>=2.6.8 in c:\\users\\admin\\sourcecodeauthorshipattribution\\venv\\lib\\site-packages (from tensorboard~=2.4->tensorflow) (3.3.4)\n",
      "Requirement already satisfied: google-auth<2,>=1.6.3 in c:\\users\\admin\\sourcecodeauthorshipattribution\\venv\\lib\\site-packages (from tensorboard~=2.4->tensorflow) (1.27.0)\n",
      "Requirement already satisfied: rsa<5,>=3.1.4 in c:\\users\\admin\\sourcecodeauthorshipattribution\\venv\\lib\\site-packages (from google-auth<2,>=1.6.3->tensorboard~=2.4->tensorflow) (4.7.2)\n",
      "Requirement already satisfied: cachetools<5.0,>=2.0.0 in c:\\users\\admin\\sourcecodeauthorshipattribution\\venv\\lib\\site-packages (from google-auth<2,>=1.6.3->tensorboard~=2.4->tensorflow) (4.2.1)\n",
      "Requirement already satisfied: pyasn1-modules>=0.2.1 in c:\\users\\admin\\sourcecodeauthorshipattribution\\venv\\lib\\site-packages (from google-auth<2,>=1.6.3->tensorboard~=2.4->tensorflow) (0.2.8)\n",
      "Requirement already satisfied: requests-oauthlib>=0.7.0 in c:\\users\\admin\\sourcecodeauthorshipattribution\\venv\\lib\\site-packages (from google-auth-oauthlib<0.5,>=0.4.1->tensorboard~=2.4->tensorflow) (1.3.0)\n",
      "Requirement already satisfied: importlib-metadata in c:\\users\\admin\\sourcecodeauthorshipattribution\\venv\\lib\\site-packages (from markdown>=2.6.8->tensorboard~=2.4->tensorflow) (3.7.0)\n",
      "Requirement already satisfied: pyasn1<0.5.0,>=0.4.6 in c:\\users\\admin\\sourcecodeauthorshipattribution\\venv\\lib\\site-packages (from pyasn1-modules>=0.2.1->google-auth<2,>=1.6.3->tensorboard~=2.4->tensorflow) (0.4.8)\n",
      "Requirement already satisfied: idna<3,>=2.5 in c:\\users\\admin\\sourcecodeauthorshipattribution\\venv\\lib\\site-packages (from requests<3,>=2.21.0->tensorboard~=2.4->tensorflow) (2.10)\n",
      "Requirement already satisfied: chardet<5,>=3.0.2 in c:\\users\\admin\\sourcecodeauthorshipattribution\\venv\\lib\\site-packages (from requests<3,>=2.21.0->tensorboard~=2.4->tensorflow) (4.0.0)\n",
      "Requirement already satisfied: certifi>=2017.4.17 in c:\\users\\admin\\sourcecodeauthorshipattribution\\venv\\lib\\site-packages (from requests<3,>=2.21.0->tensorboard~=2.4->tensorflow) (2020.12.5)\n",
      "Requirement already satisfied: urllib3<1.27,>=1.21.1 in c:\\users\\admin\\sourcecodeauthorshipattribution\\venv\\lib\\site-packages (from requests<3,>=2.21.0->tensorboard~=2.4->tensorflow) (1.26.3)\n",
      "Requirement already satisfied: oauthlib>=3.0.0 in c:\\users\\admin\\sourcecodeauthorshipattribution\\venv\\lib\\site-packages (from requests-oauthlib>=0.7.0->google-auth-oauthlib<0.5,>=0.4.1->tensorboard~=2.4->tensorflow) (3.1.0)\n",
      "Requirement already satisfied: zipp>=0.5 in c:\\users\\admin\\sourcecodeauthorshipattribution\\venv\\lib\\site-packages (from importlib-metadata->markdown>=2.6.8->tensorboard~=2.4->tensorflow) (3.4.0)\n"
     ]
    }
   ],
   "source": [
    "!pip install --upgrade tensorflow "
   ]
  },
  {
   "cell_type": "code",
   "execution_count": 6,
   "metadata": {},
   "outputs": [],
   "source": [
    "df = pd.read_csv(\"py_df.csv\")\n",
    "df = df.drop(columns=[\"round\", \"task\", \"solution\", \"file\", \"full_path\", \"Unnamed: 0.1\", \"Unnamed: 0\", \"lang\"])"
   ]
  },
  {
   "cell_type": "markdown",
   "metadata": {},
   "source": [
    "- Let's remove the sort files, then select users with the highest amount of files"
   ]
  },
  {
   "cell_type": "markdown",
   "metadata": {},
   "source": [
    "- count lines"
   ]
  },
  {
   "cell_type": "code",
   "execution_count": 7,
   "metadata": {},
   "outputs": [
    {
     "data": {
      "text/plain": [
       "count    155359.000000\n",
       "mean         50.815852\n",
       "std          70.495160\n",
       "min           0.000000\n",
       "25%          27.000000\n",
       "50%          41.000000\n",
       "75%          62.000000\n",
       "max       10052.000000\n",
       "Name: n_lines, dtype: float64"
      ]
     },
     "execution_count": 7,
     "metadata": {},
     "output_type": "execute_result"
    }
   ],
   "source": [
    "df[\"n_lines\"] = df.flines.apply(lambda x: str(x).count(\"\\n\"))\n",
    "df[\"n_lines\"].describe()"
   ]
  },
  {
   "cell_type": "markdown",
   "metadata": {},
   "source": [
    "- let's save files with amount of lines in range `[30; 100]`"
   ]
  },
  {
   "cell_type": "code",
   "execution_count": 8,
   "metadata": {},
   "outputs": [
    {
     "data": {
      "text/plain": [
       "count    96347.000000\n",
       "mean        53.112406\n",
       "std         17.997254\n",
       "min         30.000000\n",
       "25%         38.000000\n",
       "50%         49.000000\n",
       "75%         65.000000\n",
       "max        100.000000\n",
       "Name: n_lines, dtype: float64"
      ]
     },
     "execution_count": 8,
     "metadata": {},
     "output_type": "execute_result"
    }
   ],
   "source": [
    "df = df[(df.n_lines>=30)&(df.n_lines<=100)]\n",
    "df.n_lines.describe()"
   ]
  },
  {
   "cell_type": "markdown",
   "metadata": {},
   "source": [
    "- let's find avg file length (in chars)"
   ]
  },
  {
   "cell_type": "code",
   "execution_count": 9,
   "metadata": {},
   "outputs": [
    {
     "data": {
      "text/plain": [
       "count    96347.000000\n",
       "mean        25.218311\n",
       "std         24.381574\n",
       "min          9.404255\n",
       "25%         21.201266\n",
       "50%         24.256098\n",
       "75%         27.609035\n",
       "max       2305.270270\n",
       "dtype: float64"
      ]
     },
     "execution_count": 9,
     "metadata": {},
     "output_type": "execute_result"
    }
   ],
   "source": [
    "df[\"n_chars\"] = df.flines.apply(lambda x: len(str(x)))\n",
    "(df.n_chars/df.n_lines).describe()"
   ]
  },
  {
   "cell_type": "markdown",
   "metadata": {},
   "source": [
    "- suspicious max value let's drop evetyrhing, highter then `100` and look, what's left"
   ]
  },
  {
   "cell_type": "code",
   "execution_count": 10,
   "metadata": {},
   "outputs": [
    {
     "data": {
      "text/html": [
       "<div>\n",
       "<style scoped>\n",
       "    .dataframe tbody tr th:only-of-type {\n",
       "        vertical-align: middle;\n",
       "    }\n",
       "\n",
       "    .dataframe tbody tr th {\n",
       "        vertical-align: top;\n",
       "    }\n",
       "\n",
       "    .dataframe thead th {\n",
       "        text-align: right;\n",
       "    }\n",
       "</style>\n",
       "<table border=\"1\" class=\"dataframe\">\n",
       "  <thead>\n",
       "    <tr style=\"text-align: right;\">\n",
       "      <th></th>\n",
       "      <th>year</th>\n",
       "      <th>n_lines</th>\n",
       "      <th>n_chars</th>\n",
       "      <th>chars_per_line</th>\n",
       "    </tr>\n",
       "  </thead>\n",
       "  <tbody>\n",
       "    <tr>\n",
       "      <th>count</th>\n",
       "      <td>96268.000000</td>\n",
       "      <td>96268.000000</td>\n",
       "      <td>96268.000000</td>\n",
       "      <td>96268.000000</td>\n",
       "    </tr>\n",
       "    <tr>\n",
       "      <th>mean</th>\n",
       "      <td>2013.419059</td>\n",
       "      <td>53.110462</td>\n",
       "      <td>1320.138987</td>\n",
       "      <td>24.737484</td>\n",
       "    </tr>\n",
       "    <tr>\n",
       "      <th>std</th>\n",
       "      <td>2.275480</td>\n",
       "      <td>17.996703</td>\n",
       "      <td>556.480639</td>\n",
       "      <td>5.274293</td>\n",
       "    </tr>\n",
       "    <tr>\n",
       "      <th>min</th>\n",
       "      <td>2008.000000</td>\n",
       "      <td>30.000000</td>\n",
       "      <td>322.000000</td>\n",
       "      <td>9.404255</td>\n",
       "    </tr>\n",
       "    <tr>\n",
       "      <th>25%</th>\n",
       "      <td>2012.000000</td>\n",
       "      <td>38.000000</td>\n",
       "      <td>903.000000</td>\n",
       "      <td>21.200000</td>\n",
       "    </tr>\n",
       "    <tr>\n",
       "      <th>50%</th>\n",
       "      <td>2014.000000</td>\n",
       "      <td>49.000000</td>\n",
       "      <td>1193.000000</td>\n",
       "      <td>24.250000</td>\n",
       "    </tr>\n",
       "    <tr>\n",
       "      <th>75%</th>\n",
       "      <td>2016.000000</td>\n",
       "      <td>65.000000</td>\n",
       "      <td>1622.000000</td>\n",
       "      <td>27.600000</td>\n",
       "    </tr>\n",
       "    <tr>\n",
       "      <th>max</th>\n",
       "      <td>2016.000000</td>\n",
       "      <td>100.000000</td>\n",
       "      <td>8109.000000</td>\n",
       "      <td>98.937500</td>\n",
       "    </tr>\n",
       "  </tbody>\n",
       "</table>\n",
       "</div>"
      ],
      "text/plain": [
       "               year       n_lines       n_chars  chars_per_line\n",
       "count  96268.000000  96268.000000  96268.000000    96268.000000\n",
       "mean    2013.419059     53.110462   1320.138987       24.737484\n",
       "std        2.275480     17.996703    556.480639        5.274293\n",
       "min     2008.000000     30.000000    322.000000        9.404255\n",
       "25%     2012.000000     38.000000    903.000000       21.200000\n",
       "50%     2014.000000     49.000000   1193.000000       24.250000\n",
       "75%     2016.000000     65.000000   1622.000000       27.600000\n",
       "max     2016.000000    100.000000   8109.000000       98.937500"
      ]
     },
     "execution_count": 10,
     "metadata": {},
     "output_type": "execute_result"
    }
   ],
   "source": [
    "df[\"chars_per_line\"] = df.n_chars/df.n_lines\n",
    "df = df[df.chars_per_line<100]\n",
    "df.describe()"
   ]
  },
  {
   "cell_type": "markdown",
   "metadata": {},
   "source": [
    "- less, then 100 files were removed"
   ]
  },
  {
   "cell_type": "markdown",
   "metadata": {},
   "source": [
    "- let's look at the amount of files per participant"
   ]
  },
  {
   "cell_type": "code",
   "execution_count": 11,
   "metadata": {},
   "outputs": [
    {
     "data": {
      "text/plain": [
       "[<matplotlib.lines.Line2D at 0x214b8ef51c8>]"
      ]
     },
     "execution_count": 11,
     "metadata": {},
     "output_type": "execute_result"
    },
    {
     "data": {
      "image/png": "[encoded data removed]",
      "text/plain": [
       "<Figure size 432x288 with 1 Axes>"
      ]
     },
     "metadata": {
      "needs_background": "light"
     },
     "output_type": "display_data"
    }
   ],
   "source": [
    "plt.plot(np.array(df.username.value_counts()))"
   ]
  },
  {
   "cell_type": "markdown",
   "metadata": {},
   "source": [
    "- Let's collect `20` users with avg amount of files, which is around 100\n",
    "(enough files, but their difference amount is not sufficient)"
   ]
  },
  {
   "cell_type": "code",
   "execution_count": 12,
   "metadata": {},
   "outputs": [
    {
     "data": {
      "text/plain": [
       "[<matplotlib.lines.Line2D at 0x214b0ca05c8>]"
      ]
     },
     "execution_count": 12,
     "metadata": {},
     "output_type": "execute_result"
    },
    {
     "data": {
      "image/png": "[encoded data removed]",
      "text/plain": [
       "<Figure size 432x288 with 1 Axes>"
      ]
     },
     "metadata": {
      "needs_background": "light"
     },
     "output_type": "display_data"
    }
   ],
   "source": [
    "plt.plot(np.array(df.username.value_counts())[:20])"
   ]
  },
  {
   "cell_type": "code",
   "execution_count": 13,
   "metadata": {},
   "outputs": [
    {
     "data": {
      "text/html": [
       "<div>\n",
       "<style scoped>\n",
       "    .dataframe tbody tr th:only-of-type {\n",
       "        vertical-align: middle;\n",
       "    }\n",
       "\n",
       "    .dataframe tbody tr th {\n",
       "        vertical-align: top;\n",
       "    }\n",
       "\n",
       "    .dataframe thead th {\n",
       "        text-align: right;\n",
       "    }\n",
       "</style>\n",
       "<table border=\"1\" class=\"dataframe\">\n",
       "  <thead>\n",
       "    <tr style=\"text-align: right;\">\n",
       "      <th></th>\n",
       "      <th>year</th>\n",
       "      <th>username</th>\n",
       "      <th>flines</th>\n",
       "      <th>n_lines</th>\n",
       "      <th>n_chars</th>\n",
       "      <th>chars_per_line</th>\n",
       "    </tr>\n",
       "  </thead>\n",
       "  <tbody>\n",
       "    <tr>\n",
       "      <th>0</th>\n",
       "      <td>2008</td>\n",
       "      <td>mth</td>\n",
       "      <td>#!/usr/bin/env python\\n \\n def comb(a, b):\\n \\...</td>\n",
       "      <td>41</td>\n",
       "      <td>870</td>\n",
       "      <td>21.219512</td>\n",
       "    </tr>\n",
       "    <tr>\n",
       "      <th>6</th>\n",
       "      <td>2008</td>\n",
       "      <td>RalfKistner</td>\n",
       "      <td>#!/usr/bin/python\\n \\n fin = open(\"d.in\", \"r\")...</td>\n",
       "      <td>50</td>\n",
       "      <td>1040</td>\n",
       "      <td>20.800000</td>\n",
       "    </tr>\n",
       "    <tr>\n",
       "      <th>21</th>\n",
       "      <td>2008</td>\n",
       "      <td>lidaobing</td>\n",
       "      <td>import sys\\n \\n def getints(ifile):\\n     retu...</td>\n",
       "      <td>48</td>\n",
       "      <td>931</td>\n",
       "      <td>19.395833</td>\n",
       "    </tr>\n",
       "    <tr>\n",
       "      <th>23</th>\n",
       "      <td>2008</td>\n",
       "      <td>lidaobing</td>\n",
       "      <td>import sys\\n import psyco\\n psyco.full()\\n imp...</td>\n",
       "      <td>85</td>\n",
       "      <td>1911</td>\n",
       "      <td>22.482353</td>\n",
       "    </tr>\n",
       "    <tr>\n",
       "      <th>28</th>\n",
       "      <td>2008</td>\n",
       "      <td>gizzywump</td>\n",
       "      <td>#!/usr/bin/env python\\n \\n import sys\\n \\n CAC...</td>\n",
       "      <td>38</td>\n",
       "      <td>885</td>\n",
       "      <td>23.289474</td>\n",
       "    </tr>\n",
       "  </tbody>\n",
       "</table>\n",
       "</div>"
      ],
      "text/plain": [
       "    year     username                                             flines  \\\n",
       "0   2008          mth  #!/usr/bin/env python\\n \\n def comb(a, b):\\n \\...   \n",
       "6   2008  RalfKistner  #!/usr/bin/python\\n \\n fin = open(\"d.in\", \"r\")...   \n",
       "21  2008    lidaobing  import sys\\n \\n def getints(ifile):\\n     retu...   \n",
       "23  2008    lidaobing  import sys\\n import psyco\\n psyco.full()\\n imp...   \n",
       "28  2008    gizzywump  #!/usr/bin/env python\\n \\n import sys\\n \\n CAC...   \n",
       "\n",
       "    n_lines  n_chars  chars_per_line  \n",
       "0        41      870       21.219512  \n",
       "6        50     1040       20.800000  \n",
       "21       48      931       19.395833  \n",
       "23       85     1911       22.482353  \n",
       "28       38      885       23.289474  "
      ]
     },
     "execution_count": 13,
     "metadata": {},
     "output_type": "execute_result"
    }
   ],
   "source": [
    "users = df.username.value_counts()[:20].index\n",
    "df = df[df.username.isin(users)]\n",
    "df.head()"
   ]
  },
  {
   "cell_type": "markdown",
   "metadata": {},
   "source": [
    "- Let's look at the amount of files per person in more details"
   ]
  },
  {
   "cell_type": "code",
   "execution_count": 14,
   "metadata": {},
   "outputs": [
    {
     "data": {
      "text/plain": [
       "count     20.000000\n",
       "mean      84.300000\n",
       "std       16.645214\n",
       "min       69.000000\n",
       "25%       73.000000\n",
       "50%       78.000000\n",
       "75%       87.750000\n",
       "max      135.000000\n",
       "Name: username, dtype: float64"
      ]
     },
     "execution_count": 14,
     "metadata": {},
     "output_type": "execute_result"
    }
   ],
   "source": [
    "df.username.value_counts().describe()"
   ]
  },
  {
   "cell_type": "markdown",
   "metadata": {},
   "source": [
    "- Hope, this is enough and the contrast between the smallest amount and the max, won't be sufficient"
   ]
  },
  {
   "cell_type": "markdown",
   "metadata": {},
   "source": [
    "## Embedding"
   ]
  },
  {
   "cell_type": "code",
   "execution_count": 21,
   "metadata": {},
   "outputs": [
    {
     "data": {
      "text/plain": [
       "[6682, 14, 127, 184, 96091, 96097, 96090, 115, 419, 57, 420, 96084, 1300, 5382]"
      ]
     },
     "execution_count": 21,
     "metadata": {},
     "output_type": "execute_result"
    }
   ],
   "source": [
    "sp = spm.SentencePieceProcessor(model_file='embd/sentencepiece_bpe.model')\n",
    "sp.encode('\\tarr = [int(x) for x in str.split()]')"
   ]
  },
  {
   "cell_type": "code",
   "execution_count": 22,
   "metadata": {},
   "outputs": [
    {
     "name": "stdout",
     "output_type": "stream",
     "text": [
      "arr = [int(x) for x in str.split()]\n"
     ]
    }
   ],
   "source": [
    "print(sp.decode(sp.encode('    arr = [int(x) for x in str.split()]')))"
   ]
  },
  {
   "cell_type": "markdown",
   "metadata": {},
   "source": [
    "- **we loose layout features!**"
   ]
  },
  {
   "cell_type": "code",
   "execution_count": 23,
   "metadata": {},
   "outputs": [
    {
     "data": {
      "text/html": [
       "<div>\n",
       "<style scoped>\n",
       "    .dataframe tbody tr th:only-of-type {\n",
       "        vertical-align: middle;\n",
       "    }\n",
       "\n",
       "    .dataframe tbody tr th {\n",
       "        vertical-align: top;\n",
       "    }\n",
       "\n",
       "    .dataframe thead th {\n",
       "        text-align: right;\n",
       "    }\n",
       "</style>\n",
       "<table border=\"1\" class=\"dataframe\">\n",
       "  <thead>\n",
       "    <tr style=\"text-align: right;\">\n",
       "      <th></th>\n",
       "      <th>year</th>\n",
       "      <th>n_lines</th>\n",
       "      <th>n_chars</th>\n",
       "      <th>chars_per_line</th>\n",
       "      <th>n_tokens</th>\n",
       "    </tr>\n",
       "  </thead>\n",
       "  <tbody>\n",
       "    <tr>\n",
       "      <th>count</th>\n",
       "      <td>1686.000000</td>\n",
       "      <td>1686.000000</td>\n",
       "      <td>1686.00000</td>\n",
       "      <td>1686.000000</td>\n",
       "      <td>1686.000000</td>\n",
       "    </tr>\n",
       "    <tr>\n",
       "      <th>mean</th>\n",
       "      <td>2012.897390</td>\n",
       "      <td>58.486358</td>\n",
       "      <td>1444.54745</td>\n",
       "      <td>24.543324</td>\n",
       "      <td>371.159549</td>\n",
       "    </tr>\n",
       "    <tr>\n",
       "      <th>std</th>\n",
       "      <td>2.291935</td>\n",
       "      <td>18.141141</td>\n",
       "      <td>558.78286</td>\n",
       "      <td>4.619417</td>\n",
       "      <td>150.535618</td>\n",
       "    </tr>\n",
       "    <tr>\n",
       "      <th>min</th>\n",
       "      <td>2008.000000</td>\n",
       "      <td>30.000000</td>\n",
       "      <td>531.00000</td>\n",
       "      <td>14.732558</td>\n",
       "      <td>118.000000</td>\n",
       "    </tr>\n",
       "    <tr>\n",
       "      <th>25%</th>\n",
       "      <td>2011.000000</td>\n",
       "      <td>44.000000</td>\n",
       "      <td>1032.00000</td>\n",
       "      <td>21.746667</td>\n",
       "      <td>265.000000</td>\n",
       "    </tr>\n",
       "    <tr>\n",
       "      <th>50%</th>\n",
       "      <td>2013.000000</td>\n",
       "      <td>56.000000</td>\n",
       "      <td>1358.00000</td>\n",
       "      <td>24.121212</td>\n",
       "      <td>344.000000</td>\n",
       "    </tr>\n",
       "    <tr>\n",
       "      <th>75%</th>\n",
       "      <td>2015.000000</td>\n",
       "      <td>72.000000</td>\n",
       "      <td>1762.75000</td>\n",
       "      <td>26.712798</td>\n",
       "      <td>455.000000</td>\n",
       "    </tr>\n",
       "    <tr>\n",
       "      <th>max</th>\n",
       "      <td>2016.000000</td>\n",
       "      <td>100.000000</td>\n",
       "      <td>5948.00000</td>\n",
       "      <td>75.291139</td>\n",
       "      <td>2768.000000</td>\n",
       "    </tr>\n",
       "  </tbody>\n",
       "</table>\n",
       "</div>"
      ],
      "text/plain": [
       "              year      n_lines     n_chars  chars_per_line     n_tokens\n",
       "count  1686.000000  1686.000000  1686.00000     1686.000000  1686.000000\n",
       "mean   2012.897390    58.486358  1444.54745       24.543324   371.159549\n",
       "std       2.291935    18.141141   558.78286        4.619417   150.535618\n",
       "min    2008.000000    30.000000   531.00000       14.732558   118.000000\n",
       "25%    2011.000000    44.000000  1032.00000       21.746667   265.000000\n",
       "50%    2013.000000    56.000000  1358.00000       24.121212   344.000000\n",
       "75%    2015.000000    72.000000  1762.75000       26.712798   455.000000\n",
       "max    2016.000000   100.000000  5948.00000       75.291139  2768.000000"
      ]
     },
     "execution_count": 23,
     "metadata": {},
     "output_type": "execute_result"
    }
   ],
   "source": [
    "df.index = np.arange(len(df))\n",
    "df[\"n_tokens\"] = df.flines.apply(lambda x: len(sp.encode(x)))\n",
    "df.describe()"
   ]
  },
  {
   "cell_type": "markdown",
   "metadata": {},
   "source": [
    "- rm files with amount of tokens less greater, then 500"
   ]
  },
  {
   "cell_type": "code",
   "execution_count": 24,
   "metadata": {},
   "outputs": [
    {
     "data": {
      "text/html": [
       "<div>\n",
       "<style scoped>\n",
       "    .dataframe tbody tr th:only-of-type {\n",
       "        vertical-align: middle;\n",
       "    }\n",
       "\n",
       "    .dataframe tbody tr th {\n",
       "        vertical-align: top;\n",
       "    }\n",
       "\n",
       "    .dataframe thead th {\n",
       "        text-align: right;\n",
       "    }\n",
       "</style>\n",
       "<table border=\"1\" class=\"dataframe\">\n",
       "  <thead>\n",
       "    <tr style=\"text-align: right;\">\n",
       "      <th></th>\n",
       "      <th>year</th>\n",
       "      <th>n_lines</th>\n",
       "      <th>n_chars</th>\n",
       "      <th>chars_per_line</th>\n",
       "      <th>n_tokens</th>\n",
       "    </tr>\n",
       "  </thead>\n",
       "  <tbody>\n",
       "    <tr>\n",
       "      <th>count</th>\n",
       "      <td>1400.000000</td>\n",
       "      <td>1400.000000</td>\n",
       "      <td>1400.000000</td>\n",
       "      <td>1400.000000</td>\n",
       "      <td>1400.000000</td>\n",
       "    </tr>\n",
       "    <tr>\n",
       "      <th>mean</th>\n",
       "      <td>2012.917143</td>\n",
       "      <td>53.568571</td>\n",
       "      <td>1271.022143</td>\n",
       "      <td>23.829132</td>\n",
       "      <td>322.826429</td>\n",
       "    </tr>\n",
       "    <tr>\n",
       "      <th>std</th>\n",
       "      <td>2.290919</td>\n",
       "      <td>15.063492</td>\n",
       "      <td>390.018832</td>\n",
       "      <td>3.958509</td>\n",
       "      <td>91.062134</td>\n",
       "    </tr>\n",
       "    <tr>\n",
       "      <th>min</th>\n",
       "      <td>2008.000000</td>\n",
       "      <td>30.000000</td>\n",
       "      <td>531.000000</td>\n",
       "      <td>14.732558</td>\n",
       "      <td>118.000000</td>\n",
       "    </tr>\n",
       "    <tr>\n",
       "      <th>25%</th>\n",
       "      <td>2011.000000</td>\n",
       "      <td>41.000000</td>\n",
       "      <td>960.000000</td>\n",
       "      <td>21.412698</td>\n",
       "      <td>250.000000</td>\n",
       "    </tr>\n",
       "    <tr>\n",
       "      <th>50%</th>\n",
       "      <td>2013.000000</td>\n",
       "      <td>52.000000</td>\n",
       "      <td>1248.000000</td>\n",
       "      <td>23.529583</td>\n",
       "      <td>321.000000</td>\n",
       "    </tr>\n",
       "    <tr>\n",
       "      <th>75%</th>\n",
       "      <td>2015.000000</td>\n",
       "      <td>64.000000</td>\n",
       "      <td>1531.250000</td>\n",
       "      <td>25.878261</td>\n",
       "      <td>393.000000</td>\n",
       "    </tr>\n",
       "    <tr>\n",
       "      <th>max</th>\n",
       "      <td>2016.000000</td>\n",
       "      <td>99.000000</td>\n",
       "      <td>2966.000000</td>\n",
       "      <td>42.854545</td>\n",
       "      <td>500.000000</td>\n",
       "    </tr>\n",
       "  </tbody>\n",
       "</table>\n",
       "</div>"
      ],
      "text/plain": [
       "              year      n_lines      n_chars  chars_per_line     n_tokens\n",
       "count  1400.000000  1400.000000  1400.000000     1400.000000  1400.000000\n",
       "mean   2012.917143    53.568571  1271.022143       23.829132   322.826429\n",
       "std       2.290919    15.063492   390.018832        3.958509    91.062134\n",
       "min    2008.000000    30.000000   531.000000       14.732558   118.000000\n",
       "25%    2011.000000    41.000000   960.000000       21.412698   250.000000\n",
       "50%    2013.000000    52.000000  1248.000000       23.529583   321.000000\n",
       "75%    2015.000000    64.000000  1531.250000       25.878261   393.000000\n",
       "max    2016.000000    99.000000  2966.000000       42.854545   500.000000"
      ]
     },
     "execution_count": 24,
     "metadata": {},
     "output_type": "execute_result"
    }
   ],
   "source": [
    "df = df[df.n_tokens<=500]\n",
    "df.describe()"
   ]
  },
  {
   "cell_type": "markdown",
   "metadata": {},
   "source": [
    "-  let's hope, that `min = 21` is ok"
   ]
  },
  {
   "cell_type": "code",
   "execution_count": 25,
   "metadata": {},
   "outputs": [
    {
     "data": {
      "text/plain": [
       "EricStansifer     124\n",
       "lidaobing          98\n",
       "RalfKistner        84\n",
       "gizzywump          75\n",
       "kmod               71\n",
       "gepa               71\n",
       "waitingkuo0527     70\n",
       "Michael            70\n",
       "Fj.                69\n",
       "mth                66\n",
       "pawko              65\n",
       "mihaild            64\n",
       "xtof.durr          63\n",
       "nitsas             63\n",
       "addie9000          63\n",
       "Sp3000             63\n",
       "narri              62\n",
       "linguo             57\n",
       "d.operator         56\n",
       "graygrass          46\n",
       "Name: username, dtype: int64"
      ]
     },
     "execution_count": 25,
     "metadata": {},
     "output_type": "execute_result"
    }
   ],
   "source": [
    "df.username.value_counts()"
   ]
  },
  {
   "cell_type": "code",
   "execution_count": 26,
   "metadata": {},
   "outputs": [],
   "source": [
    "df[\"tokens\"] = df.flines.apply(lambda x: sp.encode(x))"
   ]
  },
  {
   "cell_type": "code",
   "execution_count": 27,
   "metadata": {},
   "outputs": [
    {
     "data": {
      "text/html": [
       "<div>\n",
       "<style scoped>\n",
       "    .dataframe tbody tr th:only-of-type {\n",
       "        vertical-align: middle;\n",
       "    }\n",
       "\n",
       "    .dataframe tbody tr th {\n",
       "        vertical-align: top;\n",
       "    }\n",
       "\n",
       "    .dataframe thead th {\n",
       "        text-align: right;\n",
       "    }\n",
       "</style>\n",
       "<table border=\"1\" class=\"dataframe\">\n",
       "  <thead>\n",
       "    <tr style=\"text-align: right;\">\n",
       "      <th></th>\n",
       "      <th>year</th>\n",
       "      <th>username</th>\n",
       "      <th>flines</th>\n",
       "      <th>n_lines</th>\n",
       "      <th>n_chars</th>\n",
       "      <th>chars_per_line</th>\n",
       "      <th>n_tokens</th>\n",
       "      <th>tokens</th>\n",
       "    </tr>\n",
       "  </thead>\n",
       "  <tbody>\n",
       "    <tr>\n",
       "      <th>0</th>\n",
       "      <td>2008</td>\n",
       "      <td>mth</td>\n",
       "      <td>#!/usr/bin/env python\\n \\n def comb(a, b):\\n \\...</td>\n",
       "      <td>41</td>\n",
       "      <td>870</td>\n",
       "      <td>21.219512</td>\n",
       "      <td>297</td>\n",
       "      <td>[3238, 2785, 96124, 1119, 96124, 1376, 1804, 6...</td>\n",
       "    </tr>\n",
       "    <tr>\n",
       "      <th>1</th>\n",
       "      <td>2008</td>\n",
       "      <td>RalfKistner</td>\n",
       "      <td>#!/usr/bin/python\\n \\n fin = open(\"d.in\", \"r\")...</td>\n",
       "      <td>50</td>\n",
       "      <td>1040</td>\n",
       "      <td>20.800000</td>\n",
       "      <td>335</td>\n",
       "      <td>[3238, 2785, 96124, 1119, 96124, 1796, 3014, 1...</td>\n",
       "    </tr>\n",
       "    <tr>\n",
       "      <th>2</th>\n",
       "      <td>2008</td>\n",
       "      <td>lidaobing</td>\n",
       "      <td>import sys\\n \\n def getints(ifile):\\n     retu...</td>\n",
       "      <td>48</td>\n",
       "      <td>931</td>\n",
       "      <td>19.395833</td>\n",
       "      <td>250</td>\n",
       "      <td>[138, 1149, 63, 398, 7686, 96091, 96073, 252, ...</td>\n",
       "    </tr>\n",
       "    <tr>\n",
       "      <th>3</th>\n",
       "      <td>2008</td>\n",
       "      <td>lidaobing</td>\n",
       "      <td>import sys\\n import psyco\\n psyco.full()\\n imp...</td>\n",
       "      <td>85</td>\n",
       "      <td>1911</td>\n",
       "      <td>22.482353</td>\n",
       "      <td>480</td>\n",
       "      <td>[138, 1149, 138, 20653, 62, 20653, 62, 96084, ...</td>\n",
       "    </tr>\n",
       "    <tr>\n",
       "      <th>4</th>\n",
       "      <td>2008</td>\n",
       "      <td>gizzywump</td>\n",
       "      <td>#!/usr/bin/env python\\n \\n import sys\\n \\n CAC...</td>\n",
       "      <td>38</td>\n",
       "      <td>885</td>\n",
       "      <td>23.289474</td>\n",
       "      <td>285</td>\n",
       "      <td>[3238, 2785, 96124, 1119, 96124, 1376, 1804, 1...</td>\n",
       "    </tr>\n",
       "  </tbody>\n",
       "</table>\n",
       "</div>"
      ],
      "text/plain": [
       "   year     username                                             flines  \\\n",
       "0  2008          mth  #!/usr/bin/env python\\n \\n def comb(a, b):\\n \\...   \n",
       "1  2008  RalfKistner  #!/usr/bin/python\\n \\n fin = open(\"d.in\", \"r\")...   \n",
       "2  2008    lidaobing  import sys\\n \\n def getints(ifile):\\n     retu...   \n",
       "3  2008    lidaobing  import sys\\n import psyco\\n psyco.full()\\n imp...   \n",
       "4  2008    gizzywump  #!/usr/bin/env python\\n \\n import sys\\n \\n CAC...   \n",
       "\n",
       "   n_lines  n_chars  chars_per_line  n_tokens  \\\n",
       "0       41      870       21.219512       297   \n",
       "1       50     1040       20.800000       335   \n",
       "2       48      931       19.395833       250   \n",
       "3       85     1911       22.482353       480   \n",
       "4       38      885       23.289474       285   \n",
       "\n",
       "                                              tokens  \n",
       "0  [3238, 2785, 96124, 1119, 96124, 1376, 1804, 6...  \n",
       "1  [3238, 2785, 96124, 1119, 96124, 1796, 3014, 1...  \n",
       "2  [138, 1149, 63, 398, 7686, 96091, 96073, 252, ...  \n",
       "3  [138, 1149, 138, 20653, 62, 20653, 62, 96084, ...  \n",
       "4  [3238, 2785, 96124, 1119, 96124, 1376, 1804, 1...  "
      ]
     },
     "execution_count": 27,
     "metadata": {},
     "output_type": "execute_result"
    }
   ],
   "source": [
    "df.head()"
   ]
  },
  {
   "cell_type": "code",
   "execution_count": 28,
   "metadata": {},
   "outputs": [],
   "source": [
    "dataset = df[[\"username\", \"tokens\"]]"
   ]
  },
  {
   "cell_type": "code",
   "execution_count": 29,
   "metadata": {},
   "outputs": [
    {
     "data": {
      "text/html": [
       "<div>\n",
       "<style scoped>\n",
       "    .dataframe tbody tr th:only-of-type {\n",
       "        vertical-align: middle;\n",
       "    }\n",
       "\n",
       "    .dataframe tbody tr th {\n",
       "        vertical-align: top;\n",
       "    }\n",
       "\n",
       "    .dataframe thead th {\n",
       "        text-align: right;\n",
       "    }\n",
       "</style>\n",
       "<table border=\"1\" class=\"dataframe\">\n",
       "  <thead>\n",
       "    <tr style=\"text-align: right;\">\n",
       "      <th></th>\n",
       "      <th>username</th>\n",
       "      <th>tokens</th>\n",
       "    </tr>\n",
       "  </thead>\n",
       "  <tbody>\n",
       "    <tr>\n",
       "      <th>0</th>\n",
       "      <td>mth</td>\n",
       "      <td>[3238, 2785, 96124, 1119, 96124, 1376, 1804, 6...</td>\n",
       "    </tr>\n",
       "    <tr>\n",
       "      <th>1</th>\n",
       "      <td>RalfKistner</td>\n",
       "      <td>[3238, 2785, 96124, 1119, 96124, 1796, 3014, 1...</td>\n",
       "    </tr>\n",
       "    <tr>\n",
       "      <th>2</th>\n",
       "      <td>lidaobing</td>\n",
       "      <td>[138, 1149, 63, 398, 7686, 96091, 96073, 252, ...</td>\n",
       "    </tr>\n",
       "    <tr>\n",
       "      <th>3</th>\n",
       "      <td>lidaobing</td>\n",
       "      <td>[138, 1149, 138, 20653, 62, 20653, 62, 96084, ...</td>\n",
       "    </tr>\n",
       "    <tr>\n",
       "      <th>4</th>\n",
       "      <td>gizzywump</td>\n",
       "      <td>[3238, 2785, 96124, 1119, 96124, 1376, 1804, 1...</td>\n",
       "    </tr>\n",
       "    <tr>\n",
       "      <th>...</th>\n",
       "      <td>...</td>\n",
       "      <td>...</td>\n",
       "    </tr>\n",
       "    <tr>\n",
       "      <th>1678</th>\n",
       "      <td>Michael</td>\n",
       "      <td>[138, 4159, 138, 1149, 63, 921, 96077, 682, 58...</td>\n",
       "    </tr>\n",
       "    <tr>\n",
       "      <th>1682</th>\n",
       "      <td>d.operator</td>\n",
       "      <td>[46, 18331, 2365, 676, 2479, 96084, 233, 96124...</td>\n",
       "    </tr>\n",
       "    <tr>\n",
       "      <th>1683</th>\n",
       "      <td>d.operator</td>\n",
       "      <td>[46, 18331, 2365, 676, 2479, 96084, 233, 96124...</td>\n",
       "    </tr>\n",
       "    <tr>\n",
       "      <th>1684</th>\n",
       "      <td>d.operator</td>\n",
       "      <td>[46, 18331, 2365, 676, 2479, 96084, 233, 96124...</td>\n",
       "    </tr>\n",
       "    <tr>\n",
       "      <th>1685</th>\n",
       "      <td>d.operator</td>\n",
       "      <td>[46, 18331, 2365, 676, 2479, 96084, 233, 96124...</td>\n",
       "    </tr>\n",
       "  </tbody>\n",
       "</table>\n",
       "<p>1400 rows × 2 columns</p>\n",
       "</div>"
      ],
      "text/plain": [
       "         username                                             tokens\n",
       "0             mth  [3238, 2785, 96124, 1119, 96124, 1376, 1804, 6...\n",
       "1     RalfKistner  [3238, 2785, 96124, 1119, 96124, 1796, 3014, 1...\n",
       "2       lidaobing  [138, 1149, 63, 398, 7686, 96091, 96073, 252, ...\n",
       "3       lidaobing  [138, 1149, 138, 20653, 62, 20653, 62, 96084, ...\n",
       "4       gizzywump  [3238, 2785, 96124, 1119, 96124, 1376, 1804, 1...\n",
       "...           ...                                                ...\n",
       "1678      Michael  [138, 4159, 138, 1149, 63, 921, 96077, 682, 58...\n",
       "1682   d.operator  [46, 18331, 2365, 676, 2479, 96084, 233, 96124...\n",
       "1683   d.operator  [46, 18331, 2365, 676, 2479, 96084, 233, 96124...\n",
       "1684   d.operator  [46, 18331, 2365, 676, 2479, 96084, 233, 96124...\n",
       "1685   d.operator  [46, 18331, 2365, 676, 2479, 96084, 233, 96124...\n",
       "\n",
       "[1400 rows x 2 columns]"
      ]
     },
     "execution_count": 29,
     "metadata": {},
     "output_type": "execute_result"
    }
   ],
   "source": [
    "dataset"
   ]
  },
  {
   "cell_type": "markdown",
   "metadata": {},
   "source": [
    "## Load data\n",
    "Lib selected - tensorflow + keras"
   ]
  },
  {
   "cell_type": "markdown",
   "metadata": {},
   "source": [
    "### Some small notes for future\n",
    "Tensorflow supports python 3.8 as max version. The issue arises on latest Ubuntu/max os-es, when the default python version is 3.9.\n",
    "\n",
    "What was done on MAC-OS-Big-Sur to solve that issue.\n",
    "- [pyenv](https://github.com/pyenv/pyenv) installed\n",
    "```bash\n",
    ">> brew update\n",
    ">> brew install pyenv\n",
    "...\n",
    "```\n",
    "- python 3.7 installation\n",
    "```\n",
    ">> brew install python@3.7\n",
    "```\n",
    "- pyenv added python 3.7\n",
    "```\n",
    ">> pyenv install 3.7.10\n",
    ">> pyenv loacal 3.7.10\n",
    "```\n",
    "- create [myenv](https://www.tensorflow.org/install/pip#2.-create-a-virtual-environment-recommended)\n",
    "```\n",
    ">> python3.7 -m venv myenv\n",
    ">> source myenv/bin/activate.fish\n",
    "```\n",
    "- solution of the final problem - **UPGRADE PIP**\n",
    "- install tensorflow\n",
    "```\n",
    "(myenv)>> pip install --upgrade tensorflow\n",
    "```"
   ]
  },
  {
   "cell_type": "code",
   "execution_count": 30,
   "metadata": {},
   "outputs": [
    {
     "name": "stderr",
     "output_type": "stream",
     "text": [
      "C:\\Users\\admin\\SourceCodeAuthorshipAttribution\\venv\\lib\\site-packages\\pandas\\core\\generic.py:5494: SettingWithCopyWarning: \n",
      "A value is trying to be set on a copy of a slice from a DataFrame.\n",
      "Try using .loc[row_indexer,col_indexer] = value instead\n",
      "\n",
      "See the caveats in the documentation: https://pandas.pydata.org/pandas-docs/stable/user_guide/indexing.html#returning-a-view-versus-a-copy\n",
      "  self[name] = value\n"
     ]
    }
   ],
   "source": [
    "le = LabelEncoder()\n",
    "dataset.username = le.fit_transform(dataset.username)"
   ]
  },
  {
   "cell_type": "code",
   "execution_count": 31,
   "metadata": {},
   "outputs": [
    {
     "data": {
      "text/html": [
       "<div>\n",
       "<style scoped>\n",
       "    .dataframe tbody tr th:only-of-type {\n",
       "        vertical-align: middle;\n",
       "    }\n",
       "\n",
       "    .dataframe tbody tr th {\n",
       "        vertical-align: top;\n",
       "    }\n",
       "\n",
       "    .dataframe thead th {\n",
       "        text-align: right;\n",
       "    }\n",
       "</style>\n",
       "<table border=\"1\" class=\"dataframe\">\n",
       "  <thead>\n",
       "    <tr style=\"text-align: right;\">\n",
       "      <th></th>\n",
       "      <th>username</th>\n",
       "      <th>tokens</th>\n",
       "    </tr>\n",
       "  </thead>\n",
       "  <tbody>\n",
       "    <tr>\n",
       "      <th>223</th>\n",
       "      <td>1</td>\n",
       "      <td>[138, 13649, 138, 1149, 138, 34, 138, 611, 156...</td>\n",
       "    </tr>\n",
       "    <tr>\n",
       "      <th>225</th>\n",
       "      <td>1</td>\n",
       "      <td>[138, 13649, 138, 1149, 138, 34, 138, 611, 156...</td>\n",
       "    </tr>\n",
       "    <tr>\n",
       "      <th>1247</th>\n",
       "      <td>8</td>\n",
       "      <td>[3238, 2785, 96124, 1119, 96124, 1376, 1804, 1...</td>\n",
       "    </tr>\n",
       "    <tr>\n",
       "      <th>242</th>\n",
       "      <td>19</td>\n",
       "      <td>[3238, 2785, 96124, 1119, 96124, 1796, 46, 732...</td>\n",
       "    </tr>\n",
       "    <tr>\n",
       "      <th>504</th>\n",
       "      <td>11</td>\n",
       "      <td>[138, 1149, 63, 3376, 96091, 96071, 96085, 19,...</td>\n",
       "    </tr>\n",
       "    <tr>\n",
       "      <th>...</th>\n",
       "      <td>...</td>\n",
       "      <td>...</td>\n",
       "    </tr>\n",
       "    <tr>\n",
       "      <th>320</th>\n",
       "      <td>11</td>\n",
       "      <td>[3238, 2785, 96124, 1119, 96124, 1376, 1804, 1...</td>\n",
       "    </tr>\n",
       "    <tr>\n",
       "      <th>1242</th>\n",
       "      <td>11</td>\n",
       "      <td>[138, 1149, 63, 4844, 96091, 96073, 45, 332, 1...</td>\n",
       "    </tr>\n",
       "    <tr>\n",
       "      <th>233</th>\n",
       "      <td>8</td>\n",
       "      <td>[3238, 2785, 96124, 1119, 96124, 1376, 1804, 1...</td>\n",
       "    </tr>\n",
       "    <tr>\n",
       "      <th>1447</th>\n",
       "      <td>18</td>\n",
       "      <td>[156, 6912, 138, 26382, 63, 13778, 96091, 9610...</td>\n",
       "    </tr>\n",
       "    <tr>\n",
       "      <th>1295</th>\n",
       "      <td>18</td>\n",
       "      <td>[63, 13778, 96091, 96151, 96085, 540, 96085, 1...</td>\n",
       "    </tr>\n",
       "  </tbody>\n",
       "</table>\n",
       "<p>1400 rows × 2 columns</p>\n",
       "</div>"
      ],
      "text/plain": [
       "      username                                             tokens\n",
       "223          1  [138, 13649, 138, 1149, 138, 34, 138, 611, 156...\n",
       "225          1  [138, 13649, 138, 1149, 138, 34, 138, 611, 156...\n",
       "1247         8  [3238, 2785, 96124, 1119, 96124, 1376, 1804, 1...\n",
       "242         19  [3238, 2785, 96124, 1119, 96124, 1796, 46, 732...\n",
       "504         11  [138, 1149, 63, 3376, 96091, 96071, 96085, 19,...\n",
       "...        ...                                                ...\n",
       "320         11  [3238, 2785, 96124, 1119, 96124, 1376, 1804, 1...\n",
       "1242        11  [138, 1149, 63, 4844, 96091, 96073, 45, 332, 1...\n",
       "233          8  [3238, 2785, 96124, 1119, 96124, 1376, 1804, 1...\n",
       "1447        18  [156, 6912, 138, 26382, 63, 13778, 96091, 9610...\n",
       "1295        18  [63, 13778, 96091, 96151, 96085, 540, 96085, 1...\n",
       "\n",
       "[1400 rows x 2 columns]"
      ]
     },
     "execution_count": 31,
     "metadata": {},
     "output_type": "execute_result"
    }
   ],
   "source": [
    "# shuffle dataset\n",
    "dataset = dataset.sample(frac = 1) \n",
    "dataset"
   ]
  },
  {
   "cell_type": "code",
   "execution_count": 32,
   "metadata": {},
   "outputs": [],
   "source": [
    "def rsh(x):\n",
    "    arr = np.array(x)\n",
    "    arr.resize(500)\n",
    "    return list(arr)\n",
    "\n",
    "dataset.tokens = dataset.tokens.apply(rsh)"
   ]
  },
  {
   "cell_type": "code",
   "execution_count": 33,
   "metadata": {},
   "outputs": [
    {
     "data": {
      "text/html": [
       "<div>\n",
       "<style scoped>\n",
       "    .dataframe tbody tr th:only-of-type {\n",
       "        vertical-align: middle;\n",
       "    }\n",
       "\n",
       "    .dataframe tbody tr th {\n",
       "        vertical-align: top;\n",
       "    }\n",
       "\n",
       "    .dataframe thead th {\n",
       "        text-align: right;\n",
       "    }\n",
       "</style>\n",
       "<table border=\"1\" class=\"dataframe\">\n",
       "  <thead>\n",
       "    <tr style=\"text-align: right;\">\n",
       "      <th></th>\n",
       "      <th>username</th>\n",
       "      <th>tokens</th>\n",
       "    </tr>\n",
       "  </thead>\n",
       "  <tbody>\n",
       "    <tr>\n",
       "      <th>223</th>\n",
       "      <td>1</td>\n",
       "      <td>[138, 13649, 138, 1149, 138, 34, 138, 611, 156...</td>\n",
       "    </tr>\n",
       "    <tr>\n",
       "      <th>225</th>\n",
       "      <td>1</td>\n",
       "      <td>[138, 13649, 138, 1149, 138, 34, 138, 611, 156...</td>\n",
       "    </tr>\n",
       "    <tr>\n",
       "      <th>1247</th>\n",
       "      <td>8</td>\n",
       "      <td>[3238, 2785, 96124, 1119, 96124, 1376, 1804, 1...</td>\n",
       "    </tr>\n",
       "    <tr>\n",
       "      <th>242</th>\n",
       "      <td>19</td>\n",
       "      <td>[3238, 2785, 96124, 1119, 96124, 1796, 46, 732...</td>\n",
       "    </tr>\n",
       "    <tr>\n",
       "      <th>504</th>\n",
       "      <td>11</td>\n",
       "      <td>[138, 1149, 63, 3376, 96091, 96071, 96085, 19,...</td>\n",
       "    </tr>\n",
       "    <tr>\n",
       "      <th>...</th>\n",
       "      <td>...</td>\n",
       "      <td>...</td>\n",
       "    </tr>\n",
       "    <tr>\n",
       "      <th>320</th>\n",
       "      <td>11</td>\n",
       "      <td>[3238, 2785, 96124, 1119, 96124, 1376, 1804, 1...</td>\n",
       "    </tr>\n",
       "    <tr>\n",
       "      <th>1242</th>\n",
       "      <td>11</td>\n",
       "      <td>[138, 1149, 63, 4844, 96091, 96073, 45, 332, 1...</td>\n",
       "    </tr>\n",
       "    <tr>\n",
       "      <th>233</th>\n",
       "      <td>8</td>\n",
       "      <td>[3238, 2785, 96124, 1119, 96124, 1376, 1804, 1...</td>\n",
       "    </tr>\n",
       "    <tr>\n",
       "      <th>1447</th>\n",
       "      <td>18</td>\n",
       "      <td>[156, 6912, 138, 26382, 63, 13778, 96091, 9610...</td>\n",
       "    </tr>\n",
       "    <tr>\n",
       "      <th>1295</th>\n",
       "      <td>18</td>\n",
       "      <td>[63, 13778, 96091, 96151, 96085, 540, 96085, 1...</td>\n",
       "    </tr>\n",
       "  </tbody>\n",
       "</table>\n",
       "<p>1400 rows × 2 columns</p>\n",
       "</div>"
      ],
      "text/plain": [
       "      username                                             tokens\n",
       "223          1  [138, 13649, 138, 1149, 138, 34, 138, 611, 156...\n",
       "225          1  [138, 13649, 138, 1149, 138, 34, 138, 611, 156...\n",
       "1247         8  [3238, 2785, 96124, 1119, 96124, 1376, 1804, 1...\n",
       "242         19  [3238, 2785, 96124, 1119, 96124, 1796, 46, 732...\n",
       "504         11  [138, 1149, 63, 3376, 96091, 96071, 96085, 19,...\n",
       "...        ...                                                ...\n",
       "320         11  [3238, 2785, 96124, 1119, 96124, 1376, 1804, 1...\n",
       "1242        11  [138, 1149, 63, 4844, 96091, 96073, 45, 332, 1...\n",
       "233          8  [3238, 2785, 96124, 1119, 96124, 1376, 1804, 1...\n",
       "1447        18  [156, 6912, 138, 26382, 63, 13778, 96091, 9610...\n",
       "1295        18  [63, 13778, 96091, 96151, 96085, 540, 96085, 1...\n",
       "\n",
       "[1400 rows x 2 columns]"
      ]
     },
     "execution_count": 33,
     "metadata": {},
     "output_type": "execute_result"
    }
   ],
   "source": [
    "dataset"
   ]
  },
  {
   "cell_type": "code",
   "execution_count": 34,
   "metadata": {},
   "outputs": [
    {
     "data": {
      "text/plain": [
       "(1400, 500)"
      ]
     },
     "execution_count": 34,
     "metadata": {},
     "output_type": "execute_result"
    }
   ],
   "source": [
    "X = dataset.tokens.values\n",
    "X = np.array(list(X))\n",
    "X.shape"
   ]
  },
  {
   "cell_type": "code",
   "execution_count": 35,
   "metadata": {},
   "outputs": [
    {
     "data": {
      "text/plain": [
       "(1050, 500, 1)"
      ]
     },
     "execution_count": 35,
     "metadata": {},
     "output_type": "execute_result"
    }
   ],
   "source": [
    "X = X.reshape((-1, 500, 1))\n",
    "y = np.array(dataset.username)\n",
    "\n",
    "ohe = OneHotEncoder()\n",
    "y = ohe.fit_transform(y.reshape(-1, 1))\n",
    "y = y.toarray()\n",
    "\n",
    "X_train, X_test, y_train, y_test = train_test_split(X, y)\n",
    "X_train.shape"
   ]
  },
  {
   "cell_type": "markdown",
   "metadata": {},
   "source": [
    "### Structure of the model\n",
    "1. CNN:\n",
    "- ks = 50 (function - level)\n",
    "- ks = 10 (line2 - level)\n",
    "- ks = 5 (lene - level)\n",
    "2. Linear ReLU \n",
    "3. softmax 75"
   ]
  },
  {
   "cell_type": "markdown",
   "metadata": {},
   "source": [
    "> important note `tanh` activation increases accuracy from 11% to 60% ontraining (50% of test accuracy)\n",
    ">\n",
    "> `linear` function reaches up to 61% of test accuracy"
   ]
  },
  {
   "cell_type": "code",
   "execution_count": 36,
   "metadata": {},
   "outputs": [
    {
     "name": "stdout",
     "output_type": "stream",
     "text": [
      "Model: \"sequential\"\n",
      "_________________________________________________________________\n",
      "Layer (type)                 Output Shape              Param #   \n",
      "=================================================================\n",
      "conv1d (Conv1D)              (None, 491, 150)          1650      \n",
      "_________________________________________________________________\n",
      "max_pooling1d (MaxPooling1D) (None, 61, 150)           0         \n",
      "_________________________________________________________________\n",
      "flatten (Flatten)            (None, 9150)              0         \n",
      "_________________________________________________________________\n",
      "dropout (Dropout)            (None, 9150)              0         \n",
      "_________________________________________________________________\n",
      "dense (Dense)                (None, 64)                585664    \n",
      "_________________________________________________________________\n",
      "dropout_1 (Dropout)          (None, 64)                0         \n",
      "_________________________________________________________________\n",
      "dense_1 (Dense)              (None, 20)                1300      \n",
      "=================================================================\n",
      "Total params: 588,614\n",
      "Trainable params: 588,614\n",
      "Non-trainable params: 0\n",
      "_________________________________________________________________\n"
     ]
    }
   ],
   "source": [
    "model = keras.Sequential()\n",
    "model.add(keras.Input(shape=(500, 1)))  \n",
    "model.add(layers.Conv1D(150, 10, activation=\"linear\")) \n",
    "model.add(layers.MaxPooling1D(pool_size=8))\n",
    "model.add(layers.Flatten())\n",
    "model.add(layers.Dropout(0.5))\n",
    "model.add(layers.Dense(64, activation=\"linear\"))\n",
    "model.add(layers.Dropout(0.5))\n",
    "model.add(layers.Dense(20, activation=\"softmax\"))\n",
    "model.summary()"
   ]
  },
  {
   "cell_type": "code",
   "execution_count": 37,
   "metadata": {},
   "outputs": [],
   "source": [
    "optimizer = optimizers.Adam(0.1)\n",
    "lr_schedule = callbacks.ReduceLROnPlateau(monitor='val_accuracy', factor=0.5, patience=5, min_delta=0.000001, verbouse=1)\n",
    "model.compile(optimizer = optimizer , loss = \"categorical_crossentropy\", metrics=[\"accuracy\"])"
   ]
  },
  {
   "cell_type": "code",
   "execution_count": 53,
   "metadata": {},
   "outputs": [
    {
     "name": "stdout",
     "output_type": "stream",
     "text": [
      "Epoch 1/100\n",
      "52/52 - 1s - loss: 13984887.0000 - accuracy: 0.1062 - val_loss: 14515340.0000 - val_accuracy: 0.1829\n",
      "Epoch 2/100\n",
      "52/52 - 1s - loss: 26092528.0000 - accuracy: 0.2005 - val_loss: 26890764.0000 - val_accuracy: 0.3400\n",
      "Epoch 3/100\n",
      "52/52 - 1s - loss: 80722776.0000 - accuracy: 0.2170 - val_loss: 78943864.0000 - val_accuracy: 0.2800\n",
      "Epoch 4/100\n",
      "52/52 - 1s - loss: 147038864.0000 - accuracy: 0.2766 - val_loss: 106388136.0000 - val_accuracy: 0.3257\n",
      "Epoch 5/100\n",
      "52/52 - 1s - loss: 166961008.0000 - accuracy: 0.3361 - val_loss: 156073104.0000 - val_accuracy: 0.4086\n",
      "Epoch 6/100\n",
      "52/52 - 1s - loss: 201975936.0000 - accuracy: 0.3828 - val_loss: 186361776.0000 - val_accuracy: 0.4286\n",
      "Epoch 7/100\n",
      "52/52 - 1s - loss: 221577664.0000 - accuracy: 0.4377 - val_loss: 235092080.0000 - val_accuracy: 0.5457\n",
      "Epoch 8/100\n",
      "52/52 - 1s - loss: 277531584.0000 - accuracy: 0.4515 - val_loss: 313194592.0000 - val_accuracy: 0.5371\n",
      "Epoch 9/100\n",
      "52/52 - 1s - loss: 250069904.0000 - accuracy: 0.5641 - val_loss: 267062624.0000 - val_accuracy: 0.6200\n",
      "Epoch 10/100\n",
      "52/52 - 1s - loss: 252682096.0000 - accuracy: 0.5971 - val_loss: 341978496.0000 - val_accuracy: 0.6314\n",
      "Epoch 11/100\n",
      "52/52 - 1s - loss: 273847872.0000 - accuracy: 0.6181 - val_loss: 295722656.0000 - val_accuracy: 0.7086\n",
      "Epoch 12/100\n",
      "52/52 - 1s - loss: 249333120.0000 - accuracy: 0.6731 - val_loss: 442532256.0000 - val_accuracy: 0.6600\n",
      "Epoch 13/100\n",
      "52/52 - 1s - loss: 279016128.0000 - accuracy: 0.6905 - val_loss: 408558272.0000 - val_accuracy: 0.6943\n",
      "Epoch 14/100\n",
      "52/52 - 1s - loss: 282751552.0000 - accuracy: 0.7042 - val_loss: 478029888.0000 - val_accuracy: 0.7057\n",
      "Epoch 15/100\n",
      "52/52 - 1s - loss: 284930528.0000 - accuracy: 0.7399 - val_loss: 598961728.0000 - val_accuracy: 0.7143\n",
      "Epoch 16/100\n",
      "52/52 - 1s - loss: 351643840.0000 - accuracy: 0.7317 - val_loss: 659076736.0000 - val_accuracy: 0.6971\n",
      "Epoch 17/100\n",
      "52/52 - 1s - loss: 327276480.0000 - accuracy: 0.7592 - val_loss: 618625600.0000 - val_accuracy: 0.7343\n",
      "Epoch 18/100\n",
      "52/52 - 1s - loss: 323495808.0000 - accuracy: 0.7958 - val_loss: 923931328.0000 - val_accuracy: 0.7286\n",
      "Epoch 19/100\n",
      "52/52 - 1s - loss: 378130880.0000 - accuracy: 0.7802 - val_loss: 903241856.0000 - val_accuracy: 0.7343\n",
      "Epoch 20/100\n",
      "52/52 - 1s - loss: 278185504.0000 - accuracy: 0.8141 - val_loss: 952039808.0000 - val_accuracy: 0.7714\n",
      "Epoch 21/100\n",
      "52/52 - 1s - loss: 324425600.0000 - accuracy: 0.8397 - val_loss: 960687424.0000 - val_accuracy: 0.7800\n",
      "Epoch 22/100\n",
      "52/52 - 1s - loss: 343748992.0000 - accuracy: 0.8297 - val_loss: 1061319104.0000 - val_accuracy: 0.7571\n",
      "Epoch 23/100\n",
      "52/52 - 1s - loss: 420239840.0000 - accuracy: 0.8434 - val_loss: 1031119616.0000 - val_accuracy: 0.7629\n",
      "Epoch 24/100\n",
      "52/52 - 1s - loss: 348097664.0000 - accuracy: 0.8516 - val_loss: 1304395904.0000 - val_accuracy: 0.7543\n",
      "Epoch 25/100\n",
      "52/52 - 1s - loss: 430025632.0000 - accuracy: 0.8562 - val_loss: 1422638208.0000 - val_accuracy: 0.7686\n",
      "Epoch 26/100\n",
      "52/52 - 1s - loss: 387694336.0000 - accuracy: 0.8672 - val_loss: 1571822208.0000 - val_accuracy: 0.7714\n",
      "Epoch 27/100\n",
      "52/52 - 1s - loss: 247070640.0000 - accuracy: 0.9038 - val_loss: 1604266752.0000 - val_accuracy: 0.7886\n",
      "Epoch 28/100\n",
      "52/52 - 1s - loss: 141040272.0000 - accuracy: 0.9432 - val_loss: 1406539904.0000 - val_accuracy: 0.7943\n",
      "Epoch 29/100\n",
      "52/52 - 1s - loss: 134612768.0000 - accuracy: 0.9451 - val_loss: 1429012992.0000 - val_accuracy: 0.7886\n",
      "Epoch 30/100\n",
      "52/52 - 1s - loss: 104423160.0000 - accuracy: 0.9570 - val_loss: 1449910784.0000 - val_accuracy: 0.7800\n",
      "Epoch 31/100\n",
      "52/52 - 1s - loss: 86253552.0000 - accuracy: 0.9478 - val_loss: 1541203584.0000 - val_accuracy: 0.7971\n",
      "Epoch 32/100\n",
      "52/52 - 1s - loss: 92573168.0000 - accuracy: 0.9524 - val_loss: 1452240256.0000 - val_accuracy: 0.8029\n",
      "Epoch 33/100\n",
      "52/52 - 1s - loss: 76580576.0000 - accuracy: 0.9579 - val_loss: 1417908864.0000 - val_accuracy: 0.8029\n",
      "Epoch 34/100\n",
      "52/52 - 1s - loss: 61153052.0000 - accuracy: 0.9634 - val_loss: 1401201024.0000 - val_accuracy: 0.7943\n",
      "Epoch 35/100\n",
      "52/52 - 1s - loss: 74414288.0000 - accuracy: 0.9597 - val_loss: 1468313600.0000 - val_accuracy: 0.7857\n",
      "Epoch 36/100\n",
      "52/52 - 1s - loss: 58642536.0000 - accuracy: 0.9670 - val_loss: 1419694848.0000 - val_accuracy: 0.7943\n",
      "Epoch 37/100\n",
      "52/52 - 1s - loss: 64651660.0000 - accuracy: 0.9643 - val_loss: 1422311296.0000 - val_accuracy: 0.7743\n",
      "Epoch 38/100\n",
      "52/52 - 1s - loss: 60573516.0000 - accuracy: 0.9652 - val_loss: 1442015104.0000 - val_accuracy: 0.7886\n",
      "Epoch 39/100\n",
      "52/52 - 1s - loss: 44975072.0000 - accuracy: 0.9753 - val_loss: 1448441600.0000 - val_accuracy: 0.7743\n",
      "Epoch 40/100\n",
      "52/52 - 1s - loss: 44072076.0000 - accuracy: 0.9744 - val_loss: 1472957312.0000 - val_accuracy: 0.7857\n",
      "Epoch 41/100\n",
      "52/52 - 1s - loss: 42981088.0000 - accuracy: 0.9762 - val_loss: 1415344128.0000 - val_accuracy: 0.7886\n",
      "Epoch 42/100\n",
      "52/52 - 1s - loss: 44715472.0000 - accuracy: 0.9707 - val_loss: 1398932736.0000 - val_accuracy: 0.7971\n",
      "Epoch 43/100\n",
      "52/52 - 1s - loss: 18185444.0000 - accuracy: 0.9872 - val_loss: 1401827072.0000 - val_accuracy: 0.7943\n",
      "Epoch 44/100\n",
      "52/52 - 1s - loss: 21258394.0000 - accuracy: 0.9835 - val_loss: 1384810112.0000 - val_accuracy: 0.7943\n",
      "Epoch 45/100\n",
      "52/52 - 1s - loss: 47125080.0000 - accuracy: 0.9771 - val_loss: 1389402496.0000 - val_accuracy: 0.8000\n",
      "Epoch 46/100\n",
      "52/52 - 1s - loss: 29286384.0000 - accuracy: 0.9808 - val_loss: 1348997120.0000 - val_accuracy: 0.7857\n",
      "Epoch 47/100\n",
      "52/52 - 1s - loss: 29461684.0000 - accuracy: 0.9826 - val_loss: 1372339328.0000 - val_accuracy: 0.8000\n",
      "Epoch 48/100\n",
      "52/52 - 1s - loss: 31161620.0000 - accuracy: 0.9817 - val_loss: 1354484608.0000 - val_accuracy: 0.8000\n",
      "Epoch 49/100\n",
      "52/52 - 1s - loss: 33950392.0000 - accuracy: 0.9808 - val_loss: 1347437824.0000 - val_accuracy: 0.8000\n",
      "Epoch 50/100\n",
      "52/52 - 1s - loss: 25765572.0000 - accuracy: 0.9844 - val_loss: 1367046912.0000 - val_accuracy: 0.8029\n",
      "Epoch 51/100\n",
      "52/52 - 1s - loss: 25197900.0000 - accuracy: 0.9808 - val_loss: 1350364928.0000 - val_accuracy: 0.7914\n",
      "Epoch 52/100\n",
      "52/52 - 1s - loss: 32388130.0000 - accuracy: 0.9780 - val_loss: 1339710848.0000 - val_accuracy: 0.7943\n",
      "Epoch 53/100\n",
      "52/52 - 1s - loss: 14560432.0000 - accuracy: 0.9899 - val_loss: 1342162304.0000 - val_accuracy: 0.7943\n",
      "Epoch 54/100\n",
      "52/52 - 1s - loss: 13454987.0000 - accuracy: 0.9881 - val_loss: 1352577152.0000 - val_accuracy: 0.7943\n",
      "Epoch 55/100\n",
      "52/52 - 1s - loss: 33184116.0000 - accuracy: 0.9835 - val_loss: 1346826368.0000 - val_accuracy: 0.7943\n",
      "Epoch 56/100\n",
      "52/52 - 1s - loss: 21253576.0000 - accuracy: 0.9853 - val_loss: 1347237632.0000 - val_accuracy: 0.7914\n",
      "Epoch 57/100\n",
      "52/52 - 1s - loss: 11378189.0000 - accuracy: 0.9872 - val_loss: 1359966592.0000 - val_accuracy: 0.7971\n",
      "Epoch 58/100\n",
      "52/52 - 1s - loss: 27089252.0000 - accuracy: 0.9817 - val_loss: 1354500992.0000 - val_accuracy: 0.7914\n",
      "Epoch 59/100\n",
      "52/52 - 1s - loss: 20303084.0000 - accuracy: 0.9863 - val_loss: 1352562176.0000 - val_accuracy: 0.7914\n",
      "Epoch 60/100\n",
      "52/52 - 1s - loss: 24428978.0000 - accuracy: 0.9863 - val_loss: 1349110784.0000 - val_accuracy: 0.7914\n",
      "Epoch 61/100\n",
      "52/52 - 1s - loss: 22252292.0000 - accuracy: 0.9835 - val_loss: 1344508800.0000 - val_accuracy: 0.7943\n",
      "Epoch 62/100\n",
      "52/52 - 1s - loss: 11911628.0000 - accuracy: 0.9890 - val_loss: 1343683840.0000 - val_accuracy: 0.7943\n",
      "Epoch 63/100\n",
      "52/52 - 1s - loss: 30418384.0000 - accuracy: 0.9780 - val_loss: 1343274624.0000 - val_accuracy: 0.7943\n",
      "Epoch 64/100\n",
      "52/52 - 1s - loss: 8976827.0000 - accuracy: 0.9927 - val_loss: 1340464896.0000 - val_accuracy: 0.7943\n",
      "Epoch 65/100\n",
      "52/52 - 1s - loss: 9930071.0000 - accuracy: 0.9945 - val_loss: 1338667008.0000 - val_accuracy: 0.7943\n",
      "Epoch 66/100\n",
      "52/52 - 1s - loss: 40942388.0000 - accuracy: 0.9753 - val_loss: 1335890560.0000 - val_accuracy: 0.8000\n",
      "Epoch 67/100\n",
      "52/52 - 1s - loss: 18317098.0000 - accuracy: 0.9881 - val_loss: 1335728128.0000 - val_accuracy: 0.8000\n",
      "Epoch 68/100\n",
      "52/52 - 1s - loss: 16616977.0000 - accuracy: 0.9890 - val_loss: 1335939712.0000 - val_accuracy: 0.8000\n",
      "Epoch 69/100\n",
      "52/52 - 1s - loss: 18165444.0000 - accuracy: 0.9835 - val_loss: 1336162560.0000 - val_accuracy: 0.8000\n",
      "Epoch 70/100\n",
      "52/52 - 1s - loss: 16608830.0000 - accuracy: 0.9863 - val_loss: 1336353280.0000 - val_accuracy: 0.8000\n",
      "Epoch 71/100\n",
      "52/52 - 1s - loss: 14033480.0000 - accuracy: 0.9826 - val_loss: 1336728576.0000 - val_accuracy: 0.8000\n",
      "Epoch 72/100\n",
      "52/52 - 1s - loss: 17231744.0000 - accuracy: 0.9872 - val_loss: 1336527232.0000 - val_accuracy: 0.8000\n",
      "Epoch 73/100\n",
      "52/52 - 1s - loss: 25769012.0000 - accuracy: 0.9853 - val_loss: 1335988864.0000 - val_accuracy: 0.8000\n",
      "Epoch 74/100\n",
      "52/52 - 1s - loss: 12806555.0000 - accuracy: 0.9890 - val_loss: 1336320000.0000 - val_accuracy: 0.8000\n",
      "Epoch 75/100\n",
      "52/52 - 1s - loss: 25459460.0000 - accuracy: 0.9826 - val_loss: 1336270208.0000 - val_accuracy: 0.8000\n",
      "Epoch 76/100\n",
      "52/52 - 1s - loss: 10648313.0000 - accuracy: 0.9872 - val_loss: 1335853952.0000 - val_accuracy: 0.8000\n",
      "Epoch 77/100\n",
      "52/52 - 1s - loss: 11651311.0000 - accuracy: 0.9899 - val_loss: 1335615872.0000 - val_accuracy: 0.8000\n",
      "Epoch 78/100\n",
      "52/52 - 1s - loss: 22399014.0000 - accuracy: 0.9844 - val_loss: 1335143424.0000 - val_accuracy: 0.8000\n",
      "Epoch 79/100\n",
      "52/52 - 1s - loss: 19683760.0000 - accuracy: 0.9872 - val_loss: 1335196032.0000 - val_accuracy: 0.8000\n",
      "Epoch 80/100\n",
      "52/52 - 1s - loss: 17792096.0000 - accuracy: 0.9872 - val_loss: 1335411584.0000 - val_accuracy: 0.8000\n",
      "Epoch 81/100\n",
      "52/52 - 1s - loss: 34328532.0000 - accuracy: 0.9817 - val_loss: 1335424768.0000 - val_accuracy: 0.8000\n",
      "Epoch 82/100\n",
      "52/52 - 1s - loss: 25998816.0000 - accuracy: 0.9753 - val_loss: 1335298944.0000 - val_accuracy: 0.8000\n",
      "Epoch 83/100\n",
      "52/52 - 1s - loss: 24359982.0000 - accuracy: 0.9844 - val_loss: 1335418752.0000 - val_accuracy: 0.8000\n",
      "Epoch 84/100\n",
      "52/52 - 1s - loss: 36324740.0000 - accuracy: 0.9835 - val_loss: 1335509888.0000 - val_accuracy: 0.8000\n",
      "Epoch 85/100\n",
      "52/52 - 1s - loss: 17826102.0000 - accuracy: 0.9881 - val_loss: 1335627776.0000 - val_accuracy: 0.8000\n",
      "Epoch 86/100\n",
      "52/52 - 1s - loss: 25428526.0000 - accuracy: 0.9826 - val_loss: 1335433600.0000 - val_accuracy: 0.8000\n",
      "Epoch 87/100\n",
      "52/52 - 1s - loss: 12636484.0000 - accuracy: 0.9872 - val_loss: 1335592448.0000 - val_accuracy: 0.8000\n",
      "Epoch 88/100\n",
      "52/52 - 1s - loss: 28258948.0000 - accuracy: 0.9863 - val_loss: 1335535360.0000 - val_accuracy: 0.8000\n",
      "Epoch 89/100\n",
      "52/52 - 1s - loss: 21907230.0000 - accuracy: 0.9899 - val_loss: 1335483776.0000 - val_accuracy: 0.8000\n",
      "Epoch 90/100\n",
      "52/52 - 1s - loss: 19481274.0000 - accuracy: 0.9899 - val_loss: 1335362816.0000 - val_accuracy: 0.8000\n",
      "Epoch 91/100\n",
      "52/52 - 1s - loss: 15470826.0000 - accuracy: 0.9853 - val_loss: 1335292800.0000 - val_accuracy: 0.8000\n",
      "Epoch 92/100\n",
      "52/52 - 1s - loss: 10439711.0000 - accuracy: 0.9881 - val_loss: 1335252224.0000 - val_accuracy: 0.8000\n",
      "Epoch 93/100\n",
      "52/52 - 1s - loss: 10089744.0000 - accuracy: 0.9890 - val_loss: 1335266176.0000 - val_accuracy: 0.8000\n",
      "Epoch 94/100\n",
      "52/52 - 1s - loss: 23852006.0000 - accuracy: 0.9908 - val_loss: 1335288320.0000 - val_accuracy: 0.8000\n",
      "Epoch 95/100\n",
      "52/52 - 1s - loss: 15681995.0000 - accuracy: 0.9890 - val_loss: 1335329024.0000 - val_accuracy: 0.8000\n",
      "Epoch 96/100\n",
      "52/52 - 1s - loss: 14130559.0000 - accuracy: 0.9844 - val_loss: 1335353472.0000 - val_accuracy: 0.8000\n",
      "Epoch 97/100\n",
      "WARNING:tensorflow:Your input ran out of data; interrupting training. Make sure that your dataset or generator can generate at least `steps_per_epoch * epochs` batches (in this case, 5200 batches). You may need to use the repeat() function when building your dataset.\n",
      "52/52 - 0s - loss: 2120637.0000 - accuracy: 0.9821 - val_loss: 1335367680.0000 - val_accuracy: 0.8000\n"
     ]
    }
   ],
   "source": [
    "epochs = 100\n",
    "batch_size = 20\n",
    "history = model.fit(x=X_train, y=y_train, epochs = epochs, \n",
    "                    validation_data = (X_test,y_test),\n",
    "                    steps_per_epoch=X_train.shape[0] // batch_size,\n",
    "                    verbose=2, \n",
    "                    callbacks=[lr_schedule])"
   ]
  },
  {
   "cell_type": "code",
   "execution_count": 38,
   "metadata": {},
   "outputs": [
    {
     "ename": "NameError",
     "evalue": "name 'history' is not defined",
     "output_type": "error",
     "traceback": [
      "\u001b[1;31m---------------------------------------------------------------------------\u001b[0m",
      "\u001b[1;31mNameError\u001b[0m                                 Traceback (most recent call last)",
      "\u001b[1;32m<ipython-input-38-c3b4882a5ba7>\u001b[0m in \u001b[0;36m<module>\u001b[1;34m\u001b[0m\n\u001b[0;32m     14\u001b[0m     \u001b[1;32mreturn\u001b[0m \u001b[0mfig\u001b[0m\u001b[1;33m\u001b[0m\u001b[1;33m\u001b[0m\u001b[0m\n\u001b[0;32m     15\u001b[0m \u001b[1;33m\u001b[0m\u001b[0m\n\u001b[1;32m---> 16\u001b[1;33m \u001b[0mf\u001b[0m \u001b[1;33m=\u001b[0m \u001b[0mplot_training\u001b[0m\u001b[1;33m(\u001b[0m\u001b[0mhistory\u001b[0m\u001b[1;33m)\u001b[0m\u001b[1;33m\u001b[0m\u001b[1;33m\u001b[0m\u001b[0m\n\u001b[0m",
      "\u001b[1;31mNameError\u001b[0m: name 'history' is not defined"
     ]
    }
   ],
   "source": [
    "def plot_training(history):\n",
    "    fig = plt.figure(figsize=(12, 5))\n",
    "    plt.subplot(121)\n",
    "    plt.title(\"Loss\")\n",
    "    plt.plot(history.history['loss'], color='b', label=\"Training loss\")\n",
    "    plt.plot(history.history['val_loss'], color='r', label=\"validation loss\")\n",
    "    plt.legend(loc='best', shadow=True)\n",
    "\n",
    "    plt.subplot(122)\n",
    "    plt.title(\"Accuracy\")\n",
    "    plt.plot(history.history['accuracy'], color='b', label=\"Training accuracy\")\n",
    "    plt.plot(history.history['val_accuracy'], color='r',label=\"Validation accuracy\")\n",
    "    plt.legend(loc='best', shadow=True)\n",
    "    return fig\n",
    "\n",
    "f = plot_training(history)"
   ]
  },
  {
   "cell_type": "markdown",
   "metadata": {},
   "source": [
    "#### 64% test accuracy\n",
    "\n",
    "```python\n",
    "model = keras.Sequential()\n",
    "model.add(keras.Input(shape=(500, 1)))  \n",
    "model.add(layers.Conv1D(100, 32, activation=\"linear\"))\n",
    "model.add(layers.MaxPooling1D(pool_size=4))\n",
    "model.add(layers.Flatten())\n",
    "model.add(layers.Dropout(0.5))\n",
    "model.add(layers.Dense(32, activation=\"linear\"))\n",
    "model.add(layers.Dropout(0.5))\n",
    "model.add(layers.Dense(20, activation=\"softmax\"))\n",
    "model.summary()\n",
    "```\n",
    "\n",
    "#### up to 76% test accuracy\n",
    "```python\n",
    "model = keras.Sequential()\n",
    "model.add(keras.Input(shape=(500, 1)))  \n",
    "model.add(layers.Conv1D(100, 16, activation=\"linear\")) \n",
    "model.add(layers.MaxPooling1D(pool_size=4))\n",
    "model.add(layers.Flatten())\n",
    "model.add(layers.Dropout(0.5))\n",
    "model.add(layers.Dense(64, activation=\"linear\"))\n",
    "model.add(layers.Dropout(0.5))\n",
    "model.add(layers.Dense(20, activation=\"softmax\"))\n",
    "model.summary()\n",
    "```\n",
    "\n",
    "#### converges to 76% test accuracy\n",
    "```python\n",
    "model = keras.Sequential()\n",
    "model.add(keras.Input(shape=(500, 1)))  \n",
    "model.add(layers.Conv1D(100, 8, activation=\"linear\")) \n",
    "model.add(layers.MaxPooling1D(pool_size=4))\n",
    "model.add(layers.Flatten())\n",
    "model.add(layers.Dropout(0.5))\n",
    "model.add(layers.Dense(64, activation=\"linear\"))\n",
    "model.add(layers.Dropout(0.5))\n",
    "model.add(layers.Dense(20, activation=\"softmax\"))\n",
    "model.summary()\n",
    "```\n",
    "\n",
    "#### 77% of test accuracy\n",
    "```python\n",
    "model = keras.Sequential()\n",
    "model.add(keras.Input(shape=(500, 1))) \n",
    "model.add(layers.Conv1D(150, 8, activation=\"linear\")) \n",
    "model.add(layers.MaxPooling1D(pool_size=6))\n",
    "model.add(layers.Flatten())\n",
    "model.add(layers.Dropout(0.5))\n",
    "model.add(layers.Dense(64, activation=\"linear\"))\n",
    "model.add(layers.Dropout(0.5))\n",
    "model.add(layers.Dense(20, activation=\"softmax\"))\n",
    "model.summary()\n",
    "```\n",
    "\n",
    "#### confident 81%\n",
    "```python\n",
    "model = keras.Sequential()\n",
    "model.add(keras.Input(shape=(500, 1)))  \n",
    "model.add(layers.Conv1D(128, 16, activation=\"linear\")) \n",
    "model.add(layers.MaxPooling1D(pool_size=8))\n",
    "model.add(layers.Flatten())\n",
    "model.add(layers.Dropout(0.5))\n",
    "model.add(layers.Dense(64, activation=\"linear\"))\n",
    "model.add(layers.Dropout(0.5))\n",
    "model.add(layers.Dense(20, activation=\"softmax\"))\n",
    "model.summary()\n",
    "```\n",
    "\n",
    "#### up to 81.71%\n",
    "```python\n",
    "model = keras.Sequential()\n",
    "model.add(keras.Input(shape=(500, 1))) \n",
    "model.add(layers.Conv1D(128, 16, activation=\"linear\", strides=2)) \n",
    "model.add(layers.MaxPooling1D(pool_size=8))\n",
    "model.add(layers.Flatten())\n",
    "model.add(layers.Dropout(0.5))\n",
    "model.add(layers.Dense(64, activation=\"linear\"))\n",
    "model.add(layers.Dropout(0.5))\n",
    "model.add(layers.Dense(20, activation=\"softmax\"))\n",
    "model.summary()\n",
    "```\n",
    "\n",
    "#### converges to 80%\n",
    "```python\n",
    "model = keras.Sequential()\n",
    "model.add(keras.Input(shape=(500, 1)))  \n",
    "model.add(layers.Conv1D(150, 10, activation=\"linear\")) \n",
    "model.add(layers.MaxPooling1D(pool_size=8))\n",
    "model.add(layers.Flatten())\n",
    "model.add(layers.Dropout(0.5))\n",
    "model.add(layers.Dense(64, activation=\"linear\"))\n",
    "model.add(layers.Dropout(0.5))\n",
    "model.add(layers.Dense(20, activation=\"softmax\"))\n",
    "model.summary()\n",
    "```\n",
    "\n",
    "- Also the structures with 2 Convolutional layers were tested (up to 50% accuracy)\n",
    "- Avg Pooling works poarly due to the fact, that the initial data is not normalized"
   ]
  },
  {
   "cell_type": "code",
   "execution_count": 39,
   "metadata": {},
   "outputs": [],
   "source": [
    "from sklearn.metrics import confusion_matrix\n",
    "import itertools\n",
    "\n",
    "def plt_conf_matrix(cm, classes):\n",
    "    cmap=plt.cm.Blues\n",
    "    plt.figure(figsize=(10, 10))\n",
    "    plt.imshow(cm, interpolation=\"nearest\", cmap=cmap)\n",
    "    plt.title(\"Confusion matrix\")\n",
    "    plt.colorbar()\n",
    "    tick_marks = np.arange(len(classes))\n",
    "    plt.xticks(tick_marks, classes, rotation=45)\n",
    "    plt.yticks(tick_marks, classes)\n",
    "\n",
    "\n",
    "    thresh = cm.max() / 2.\n",
    "    for i, j in itertools.product(range(cm.shape[0]), range(cm.shape[1])):\n",
    "        plt.text(j, i, cm[i, j],\n",
    "                 horizontalalignment=\"center\",\n",
    "                 color=\"white\" if cm[i, j] > thresh else \"black\")\n",
    "\n",
    "    plt.tight_layout()\n",
    "    plt.ylabel(\"True label\")\n",
    "    plt.xlabel(\"Predicted label\")\n",
    "     "
   ]
  },
  {
   "cell_type": "code",
   "execution_count": 55,
   "metadata": {},
   "outputs": [
    {
     "data": {
      "image/png": "[encoded data removed]",
      "text/plain": [
       "<Figure size 720x720 with 2 Axes>"
      ]
     },
     "metadata": {
      "needs_background": "light"
     },
     "output_type": "display_data"
    }
   ],
   "source": [
    "y_pred = model.predict(X_test)\n",
    "y_pred_classes = np.argmax(y_pred, axis = 1) \n",
    "y_true = np.argmax(y_test, axis = 1) \n",
    "confusion_mtx = confusion_matrix(y_true, y_pred_classes) \n",
    "plt_conf_matrix(confusion_mtx, classes = range(20))"
   ]
  },
  {
   "cell_type": "code",
   "execution_count": 56,
   "metadata": {},
   "outputs": [],
   "source": [
    "model.save('model.h5')"
   ]
  },
  {
   "cell_type": "markdown",
   "metadata": {},
   "source": [
    "I don't know, what are these ebbeddings, but...\n",
    "\n",
    "## Let's apply normalization\n",
    "(thus `relu`, `than` and other activations may be used)"
   ]
  },
  {
   "cell_type": "code",
   "execution_count": 40,
   "metadata": {},
   "outputs": [],
   "source": [
    "from sklearn.preprocessing import StandardScaler"
   ]
  },
  {
   "cell_type": "code",
   "execution_count": 41,
   "metadata": {},
   "outputs": [
    {
     "name": "stdout",
     "output_type": "stream",
     "text": [
      "0 18006.075955714285 96164\n"
     ]
    }
   ],
   "source": [
    "print(X.min(), X.mean(), X.max())"
   ]
  },
  {
   "cell_type": "markdown",
   "metadata": {},
   "source": [
    "As it can be seen, the avg value is far from it's maximum value, thus it is more readonable to apply Standard Scaling"
   ]
  },
  {
   "cell_type": "code",
   "execution_count": 42,
   "metadata": {},
   "outputs": [
    {
     "data": {
      "text/plain": [
       "(1050, 500, 1)"
      ]
     },
     "execution_count": 42,
     "metadata": {},
     "output_type": "execute_result"
    }
   ],
   "source": [
    "ss = StandardScaler()\n",
    "X = X.reshape((-1, 500))\n",
    "X = ss.fit_transform(X)\n",
    "X = X.reshape((-1, 500, 1))\n",
    "\n",
    "X_train, X_test, y_train, y_test = train_test_split(X, y)\n",
    "X_train.shape"
   ]
  },
  {
   "cell_type": "code",
   "execution_count": 43,
   "metadata": {},
   "outputs": [
    {
     "name": "stdout",
     "output_type": "stream",
     "text": [
      "Model: \"sequential_1\"\n",
      "_________________________________________________________________\n",
      "Layer (type)                 Output Shape              Param #   \n",
      "=================================================================\n",
      "conv1d_1 (Conv1D)            (None, 485, 64)           1088      \n",
      "_________________________________________________________________\n",
      "max_pooling1d_1 (MaxPooling1 (None, 60, 64)            0         \n",
      "_________________________________________________________________\n",
      "conv1d_2 (Conv1D)            (None, 57, 32)            8224      \n",
      "_________________________________________________________________\n",
      "max_pooling1d_2 (MaxPooling1 (None, 7, 32)             0         \n",
      "_________________________________________________________________\n",
      "flatten_1 (Flatten)          (None, 224)               0         \n",
      "_________________________________________________________________\n",
      "dropout_2 (Dropout)          (None, 224)               0         \n",
      "_________________________________________________________________\n",
      "dense_2 (Dense)              (None, 64)                14400     \n",
      "_________________________________________________________________\n",
      "dropout_3 (Dropout)          (None, 64)                0         \n",
      "_________________________________________________________________\n",
      "dense_3 (Dense)              (None, 20)                1300      \n",
      "=================================================================\n",
      "Total params: 25,012\n",
      "Trainable params: 25,012\n",
      "Non-trainable params: 0\n",
      "_________________________________________________________________\n"
     ]
    }
   ],
   "source": [
    "model = keras.Sequential()\n",
    "model.add(keras.Input(shape=(500, 1)))\n",
    "model.add(layers.Conv1D(64, 16, activation=\"tanh\"))\n",
    "model.add(layers.MaxPooling1D(pool_size=8))\n",
    "model.add(layers.Conv1D(32, 4, activation=\"linear\")) \n",
    "model.add(layers.MaxPooling1D(pool_size=8))\n",
    "model.add(layers.Flatten())\n",
    "model.add(layers.Dropout(0.5))\n",
    "model.add(layers.Dense(64, activation=\"linear\"))\n",
    "model.add(layers.Dropout(0.5))\n",
    "model.add(layers.Dense(20, activation=\"softmax\"))\n",
    "model.summary()"
   ]
  },
  {
   "cell_type": "code",
   "execution_count": 44,
   "metadata": {},
   "outputs": [],
   "source": [
    "optimizer = optimizers.Adam(0.01)\n",
    "lr_schedule = callbacks.ReduceLROnPlateau(monitor='val_accuracy', factor=0.5, patience=5, min_delta=0.000001, verbouse=1)\n",
    "model.compile(optimizer = optimizer , loss = \"categorical_crossentropy\", metrics=[\"accuracy\"])"
   ]
  },
  {
   "cell_type": "code",
   "execution_count": 86,
   "metadata": {},
   "outputs": [
    {
     "name": "stdout",
     "output_type": "stream",
     "text": [
      "Epoch 1/100\n",
      "52/52 - 1s - loss: 3.1951 - accuracy: 0.0870 - val_loss: 2.6906 - val_accuracy: 0.2200\n",
      "Epoch 2/100\n",
      "52/52 - 1s - loss: 2.7350 - accuracy: 0.2152 - val_loss: 2.3566 - val_accuracy: 0.3486\n",
      "Epoch 3/100\n",
      "52/52 - 1s - loss: 2.4720 - accuracy: 0.2866 - val_loss: 1.8447 - val_accuracy: 0.4657\n",
      "Epoch 4/100\n",
      "52/52 - 0s - loss: 2.4828 - accuracy: 0.3196 - val_loss: 1.8237 - val_accuracy: 0.4829\n",
      "Epoch 5/100\n",
      "52/52 - 1s - loss: 2.4649 - accuracy: 0.3315 - val_loss: 1.9612 - val_accuracy: 0.4571\n",
      "Epoch 6/100\n",
      "52/52 - 1s - loss: 2.4506 - accuracy: 0.3260 - val_loss: 1.7664 - val_accuracy: 0.4886\n",
      "Epoch 7/100\n",
      "52/52 - 1s - loss: 2.4044 - accuracy: 0.3443 - val_loss: 1.6923 - val_accuracy: 0.5286\n",
      "Epoch 8/100\n",
      "52/52 - 0s - loss: 2.3946 - accuracy: 0.3672 - val_loss: 1.6624 - val_accuracy: 0.5286\n",
      "Epoch 9/100\n",
      "52/52 - 1s - loss: 2.2628 - accuracy: 0.3892 - val_loss: 1.5931 - val_accuracy: 0.5514\n",
      "Epoch 10/100\n",
      "52/52 - 0s - loss: 2.4094 - accuracy: 0.3773 - val_loss: 1.4267 - val_accuracy: 0.5686\n",
      "Epoch 11/100\n",
      "52/52 - 1s - loss: 2.3614 - accuracy: 0.3938 - val_loss: 1.5362 - val_accuracy: 0.5371\n",
      "Epoch 12/100\n",
      "52/52 - 1s - loss: 2.5331 - accuracy: 0.3764 - val_loss: 1.5045 - val_accuracy: 0.5800\n",
      "Epoch 13/100\n",
      "52/52 - 1s - loss: 2.3754 - accuracy: 0.4038 - val_loss: 1.5241 - val_accuracy: 0.5629\n",
      "Epoch 14/100\n",
      "52/52 - 1s - loss: 2.3657 - accuracy: 0.4057 - val_loss: 1.3586 - val_accuracy: 0.6171\n",
      "Epoch 15/100\n",
      "52/52 - 1s - loss: 2.3705 - accuracy: 0.4267 - val_loss: 1.6087 - val_accuracy: 0.5743\n",
      "Epoch 16/100\n",
      "52/52 - 1s - loss: 2.5628 - accuracy: 0.4158 - val_loss: 1.4391 - val_accuracy: 0.5943\n",
      "Epoch 17/100\n",
      "52/52 - 1s - loss: 2.5836 - accuracy: 0.3956 - val_loss: 1.3582 - val_accuracy: 0.5971\n",
      "Epoch 18/100\n",
      "52/52 - 1s - loss: 2.4152 - accuracy: 0.4029 - val_loss: 1.2329 - val_accuracy: 0.6686\n",
      "Epoch 19/100\n",
      "52/52 - 1s - loss: 2.2303 - accuracy: 0.4542 - val_loss: 1.3493 - val_accuracy: 0.6400\n",
      "Epoch 20/100\n",
      "52/52 - 1s - loss: 2.1254 - accuracy: 0.4826 - val_loss: 1.5854 - val_accuracy: 0.6086\n",
      "Epoch 21/100\n",
      "52/52 - 0s - loss: 2.4401 - accuracy: 0.4505 - val_loss: 1.3477 - val_accuracy: 0.6343\n",
      "Epoch 22/100\n",
      "52/52 - 0s - loss: 2.5507 - accuracy: 0.4414 - val_loss: 1.4536 - val_accuracy: 0.6114\n",
      "Epoch 23/100\n",
      "52/52 - 1s - loss: 2.4125 - accuracy: 0.4524 - val_loss: 1.6281 - val_accuracy: 0.5571\n",
      "Epoch 24/100\n",
      "52/52 - 1s - loss: 1.9096 - accuracy: 0.5092 - val_loss: 1.0016 - val_accuracy: 0.7257\n",
      "Epoch 25/100\n",
      "52/52 - 1s - loss: 1.2535 - accuracy: 0.6401 - val_loss: 0.9289 - val_accuracy: 0.7486\n",
      "Epoch 26/100\n",
      "52/52 - 1s - loss: 1.0425 - accuracy: 0.6850 - val_loss: 0.8041 - val_accuracy: 0.7971\n",
      "Epoch 27/100\n",
      "52/52 - 0s - loss: 0.9684 - accuracy: 0.7088 - val_loss: 0.9164 - val_accuracy: 0.8057\n",
      "Epoch 28/100\n",
      "52/52 - 0s - loss: 0.9239 - accuracy: 0.7189 - val_loss: 0.7706 - val_accuracy: 0.8000\n",
      "Epoch 29/100\n",
      "52/52 - 0s - loss: 0.9428 - accuracy: 0.7097 - val_loss: 0.8037 - val_accuracy: 0.7943\n",
      "Epoch 30/100\n",
      "52/52 - 0s - loss: 0.8804 - accuracy: 0.7152 - val_loss: 0.8023 - val_accuracy: 0.8257\n",
      "Epoch 31/100\n",
      "52/52 - 0s - loss: 0.7504 - accuracy: 0.7692 - val_loss: 0.7859 - val_accuracy: 0.8000\n",
      "Epoch 32/100\n",
      "52/52 - 0s - loss: 0.7458 - accuracy: 0.7711 - val_loss: 0.9170 - val_accuracy: 0.7886\n",
      "Epoch 33/100\n",
      "52/52 - 0s - loss: 0.7304 - accuracy: 0.7656 - val_loss: 0.7944 - val_accuracy: 0.8057\n",
      "Epoch 34/100\n",
      "52/52 - 0s - loss: 0.7300 - accuracy: 0.7665 - val_loss: 0.8736 - val_accuracy: 0.8029\n",
      "Epoch 35/100\n",
      "52/52 - 0s - loss: 0.7415 - accuracy: 0.7976 - val_loss: 0.7301 - val_accuracy: 0.8200\n",
      "Epoch 36/100\n",
      "52/52 - 0s - loss: 0.6092 - accuracy: 0.8178 - val_loss: 0.6797 - val_accuracy: 0.8514\n",
      "Epoch 37/100\n",
      "52/52 - 0s - loss: 0.5353 - accuracy: 0.8297 - val_loss: 0.7023 - val_accuracy: 0.8314\n",
      "Epoch 38/100\n",
      "52/52 - 0s - loss: 0.4854 - accuracy: 0.8562 - val_loss: 0.6894 - val_accuracy: 0.8457\n",
      "Epoch 39/100\n",
      "52/52 - 0s - loss: 0.4410 - accuracy: 0.8498 - val_loss: 0.7098 - val_accuracy: 0.8486\n",
      "Epoch 40/100\n",
      "52/52 - 0s - loss: 0.4508 - accuracy: 0.8535 - val_loss: 0.6953 - val_accuracy: 0.8429\n",
      "Epoch 41/100\n",
      "52/52 - 0s - loss: 0.4247 - accuracy: 0.8562 - val_loss: 0.6814 - val_accuracy: 0.8486\n",
      "Epoch 42/100\n",
      "52/52 - 0s - loss: 0.3371 - accuracy: 0.8974 - val_loss: 0.6716 - val_accuracy: 0.8429\n",
      "Epoch 43/100\n",
      "52/52 - 0s - loss: 0.3072 - accuracy: 0.9038 - val_loss: 0.6741 - val_accuracy: 0.8571\n",
      "Epoch 44/100\n",
      "52/52 - 0s - loss: 0.3329 - accuracy: 0.8974 - val_loss: 0.6589 - val_accuracy: 0.8600\n",
      "Epoch 45/100\n",
      "52/52 - 0s - loss: 0.2940 - accuracy: 0.8993 - val_loss: 0.6878 - val_accuracy: 0.8429\n",
      "Epoch 46/100\n",
      "52/52 - 0s - loss: 0.3266 - accuracy: 0.8993 - val_loss: 0.6486 - val_accuracy: 0.8429\n",
      "Epoch 47/100\n",
      "52/52 - 0s - loss: 0.3113 - accuracy: 0.9002 - val_loss: 0.6476 - val_accuracy: 0.8543\n",
      "Epoch 48/100\n",
      "52/52 - 0s - loss: 0.2509 - accuracy: 0.9240 - val_loss: 0.6877 - val_accuracy: 0.8429\n",
      "Epoch 49/100\n",
      "52/52 - 0s - loss: 0.2730 - accuracy: 0.9139 - val_loss: 0.6875 - val_accuracy: 0.8629\n",
      "Epoch 50/100\n",
      "52/52 - 0s - loss: 0.2761 - accuracy: 0.9048 - val_loss: 0.6858 - val_accuracy: 0.8457\n",
      "Epoch 51/100\n",
      "52/52 - 0s - loss: 0.2731 - accuracy: 0.9020 - val_loss: 0.7042 - val_accuracy: 0.8400\n",
      "Epoch 52/100\n",
      "52/52 - 0s - loss: 0.2805 - accuracy: 0.9038 - val_loss: 0.6683 - val_accuracy: 0.8543\n",
      "Epoch 53/100\n",
      "52/52 - 1s - loss: 0.2486 - accuracy: 0.9277 - val_loss: 0.6484 - val_accuracy: 0.8657\n",
      "Epoch 54/100\n",
      "52/52 - 1s - loss: 0.2138 - accuracy: 0.9322 - val_loss: 0.7059 - val_accuracy: 0.8514\n",
      "Epoch 55/100\n",
      "52/52 - 0s - loss: 0.2768 - accuracy: 0.9038 - val_loss: 0.7074 - val_accuracy: 0.8771\n",
      "Epoch 56/100\n",
      "52/52 - 1s - loss: 0.2753 - accuracy: 0.8993 - val_loss: 0.7180 - val_accuracy: 0.8571\n",
      "Epoch 57/100\n",
      "52/52 - 1s - loss: 0.2535 - accuracy: 0.9176 - val_loss: 0.7712 - val_accuracy: 0.8571\n",
      "Epoch 58/100\n",
      "52/52 - 1s - loss: 0.2144 - accuracy: 0.9258 - val_loss: 0.7246 - val_accuracy: 0.8571\n",
      "Epoch 59/100\n",
      "52/52 - 1s - loss: 0.1994 - accuracy: 0.9377 - val_loss: 0.7417 - val_accuracy: 0.8486\n",
      "Epoch 60/100\n",
      "52/52 - 1s - loss: 0.2066 - accuracy: 0.9350 - val_loss: 0.7291 - val_accuracy: 0.8657\n",
      "Epoch 61/100\n",
      "52/52 - 1s - loss: 0.1597 - accuracy: 0.9441 - val_loss: 0.6933 - val_accuracy: 0.8600\n",
      "Epoch 62/100\n",
      "52/52 - 0s - loss: 0.1886 - accuracy: 0.9386 - val_loss: 0.7274 - val_accuracy: 0.8514\n",
      "Epoch 63/100\n",
      "52/52 - 0s - loss: 0.1882 - accuracy: 0.9322 - val_loss: 0.7057 - val_accuracy: 0.8571\n",
      "Epoch 64/100\n",
      "52/52 - 0s - loss: 0.1965 - accuracy: 0.9267 - val_loss: 0.7634 - val_accuracy: 0.8514\n",
      "Epoch 65/100\n",
      "52/52 - 0s - loss: 0.1955 - accuracy: 0.9341 - val_loss: 0.7183 - val_accuracy: 0.8457\n",
      "Epoch 66/100\n",
      "52/52 - 0s - loss: 0.1850 - accuracy: 0.9359 - val_loss: 0.7226 - val_accuracy: 0.8543\n",
      "Epoch 67/100\n",
      "52/52 - 0s - loss: 0.1966 - accuracy: 0.9386 - val_loss: 0.7237 - val_accuracy: 0.8457\n",
      "Epoch 68/100\n",
      "52/52 - 0s - loss: 0.1819 - accuracy: 0.9460 - val_loss: 0.7118 - val_accuracy: 0.8457\n",
      "Epoch 69/100\n",
      "52/52 - 0s - loss: 0.2087 - accuracy: 0.9332 - val_loss: 0.7472 - val_accuracy: 0.8486\n",
      "Epoch 70/100\n",
      "52/52 - 0s - loss: 0.1928 - accuracy: 0.9322 - val_loss: 0.7236 - val_accuracy: 0.8543\n",
      "Epoch 71/100\n",
      "52/52 - 0s - loss: 0.1762 - accuracy: 0.9386 - val_loss: 0.7282 - val_accuracy: 0.8486\n",
      "Epoch 72/100\n",
      "52/52 - 0s - loss: 0.1901 - accuracy: 0.9432 - val_loss: 0.7316 - val_accuracy: 0.8543\n",
      "Epoch 73/100\n",
      "52/52 - 0s - loss: 0.1964 - accuracy: 0.9322 - val_loss: 0.7249 - val_accuracy: 0.8514\n",
      "Epoch 74/100\n",
      "52/52 - 0s - loss: 0.1717 - accuracy: 0.9487 - val_loss: 0.7214 - val_accuracy: 0.8571\n",
      "Epoch 75/100\n",
      "52/52 - 0s - loss: 0.1422 - accuracy: 0.9542 - val_loss: 0.7131 - val_accuracy: 0.8543\n",
      "Epoch 76/100\n",
      "52/52 - 0s - loss: 0.1658 - accuracy: 0.9487 - val_loss: 0.7123 - val_accuracy: 0.8543\n",
      "Epoch 77/100\n",
      "52/52 - 1s - loss: 0.1365 - accuracy: 0.9570 - val_loss: 0.7190 - val_accuracy: 0.8571\n",
      "Epoch 78/100\n",
      "52/52 - 1s - loss: 0.1482 - accuracy: 0.9551 - val_loss: 0.7166 - val_accuracy: 0.8486\n",
      "Epoch 79/100\n",
      "52/52 - 1s - loss: 0.1709 - accuracy: 0.9478 - val_loss: 0.7232 - val_accuracy: 0.8514\n",
      "Epoch 80/100\n",
      "52/52 - 1s - loss: 0.1763 - accuracy: 0.9469 - val_loss: 0.7166 - val_accuracy: 0.8571\n",
      "Epoch 81/100\n",
      "52/52 - 1s - loss: 0.1452 - accuracy: 0.9542 - val_loss: 0.7189 - val_accuracy: 0.8514\n",
      "Epoch 82/100\n",
      "52/52 - 1s - loss: 0.1699 - accuracy: 0.9469 - val_loss: 0.7164 - val_accuracy: 0.8600\n",
      "Epoch 83/100\n",
      "52/52 - 1s - loss: 0.1852 - accuracy: 0.9423 - val_loss: 0.7147 - val_accuracy: 0.8571\n",
      "Epoch 84/100\n",
      "52/52 - 0s - loss: 0.1783 - accuracy: 0.9368 - val_loss: 0.7118 - val_accuracy: 0.8629\n",
      "Epoch 85/100\n",
      "52/52 - 0s - loss: 0.1482 - accuracy: 0.9515 - val_loss: 0.7149 - val_accuracy: 0.8571\n",
      "Epoch 86/100\n",
      "52/52 - 0s - loss: 0.1377 - accuracy: 0.9551 - val_loss: 0.7143 - val_accuracy: 0.8571\n",
      "Epoch 87/100\n",
      "52/52 - 0s - loss: 0.1409 - accuracy: 0.9570 - val_loss: 0.7136 - val_accuracy: 0.8571\n",
      "Epoch 88/100\n",
      "52/52 - 0s - loss: 0.1459 - accuracy: 0.9478 - val_loss: 0.7143 - val_accuracy: 0.8543\n",
      "Epoch 89/100\n",
      "52/52 - 0s - loss: 0.1591 - accuracy: 0.9423 - val_loss: 0.7123 - val_accuracy: 0.8600\n",
      "Epoch 90/100\n",
      "52/52 - 0s - loss: 0.1599 - accuracy: 0.9551 - val_loss: 0.7122 - val_accuracy: 0.8600\n",
      "Epoch 91/100\n",
      "52/52 - 0s - loss: 0.1421 - accuracy: 0.9542 - val_loss: 0.7130 - val_accuracy: 0.8600\n",
      "Epoch 92/100\n",
      "52/52 - 0s - loss: 0.1629 - accuracy: 0.9487 - val_loss: 0.7126 - val_accuracy: 0.8543\n",
      "Epoch 93/100\n",
      "52/52 - 0s - loss: 0.1572 - accuracy: 0.9469 - val_loss: 0.7125 - val_accuracy: 0.8543\n",
      "Epoch 94/100\n",
      "52/52 - 0s - loss: 0.1658 - accuracy: 0.9515 - val_loss: 0.7133 - val_accuracy: 0.8543\n",
      "Epoch 95/100\n",
      "52/52 - 0s - loss: 0.1599 - accuracy: 0.9405 - val_loss: 0.7124 - val_accuracy: 0.8543\n",
      "Epoch 96/100\n",
      "52/52 - 0s - loss: 0.1645 - accuracy: 0.9478 - val_loss: 0.7126 - val_accuracy: 0.8600\n",
      "Epoch 97/100\n",
      "WARNING:tensorflow:Your input ran out of data; interrupting training. Make sure that your dataset or generator can generate at least `steps_per_epoch * epochs` batches (in this case, 5200 batches). You may need to use the repeat() function when building your dataset.\n",
      "52/52 - 0s - loss: 0.1128 - accuracy: 0.9643 - val_loss: 0.7126 - val_accuracy: 0.8600\n"
     ]
    }
   ],
   "source": [
    "epochs = 100\n",
    "batch_size = 20\n",
    "history = model.fit(x=X_train, y=y_train, epochs = epochs, \n",
    "                    validation_data = (X_test,y_test),\n",
    "                    steps_per_epoch=X_train.shape[0] // batch_size,\n",
    "                    verbose=2, \n",
    "                    callbacks=[lr_schedule])"
   ]
  },
  {
   "cell_type": "markdown",
   "metadata": {},
   "source": [
    "#### 80% accuracy (previous model)\n",
    "```python\n",
    "model = keras.Sequential()\n",
    "model.add(keras.Input(shape=(500, 1)))\n",
    "model.add(layers.Conv1D(150, 10, activation=\"linear\")) \n",
    "model.add(layers.MaxPooling1D(pool_size=8))\n",
    "model.add(layers.Flatten())\n",
    "model.add(layers.Dropout(0.5))\n",
    "model.add(layers.Dense(64, activation=\"linear\"))\n",
    "model.add(layers.Dropout(0.5))\n",
    "model.add(layers.Dense(20, activation=\"softmax\"))\n",
    "model.summary()\n",
    "```\n",
    "\n",
    "#### 82%\n",
    "```python\n",
    "model = keras.Sequential()\n",
    "model.add(keras.Input(shape=(500, 1)))\n",
    "model.add(layers.Conv1D(128, 16, activation=\"tanh\"))\n",
    "model.add(layers.MaxPooling1D(pool_size=8))\n",
    "model.add(layers.Flatten())\n",
    "model.add(layers.Dropout(0.5))\n",
    "model.add(layers.Dense(64, activation=\"linear\"))\n",
    "model.add(layers.Dropout(0.5))\n",
    "model.add(layers.Dense(20, activation=\"softmax\"))\n",
    "model.summary()\n",
    "```\n",
    "\n",
    "#### 86% up to 87%\n",
    "```python\n",
    "model = keras.Sequential()\n",
    "model.add(keras.Input(shape=(500, 1)))\n",
    "model.add(layers.Conv1D(64, 16, activation=\"tanh\"))\n",
    "model.add(layers.MaxPooling1D(pool_size=8))\n",
    "model.add(layers.Conv1D(32, 4, activation=\"linear\")) \n",
    "model.add(layers.MaxPooling1D(pool_size=8))\n",
    "model.add(layers.Flatten())\n",
    "model.add(layers.Dropout(0.5))\n",
    "model.add(layers.Dense(64, activation=\"linear\"))\n",
    "model.add(layers.Dropout(0.5))\n",
    "model.add(layers.Dense(20, activation=\"softmax\"))\n",
    "model.summary()\n",
    "```\n",
    "\n",
    "#### 84%\n",
    "```python\n",
    "model = keras.Sequential()\n",
    "model.add(keras.Input(shape=(500, 1)))\n",
    "model.add(layers.Conv1D(64, 16, activation=\"tanh\"))\n",
    "model.add(layers.MaxPooling1D(pool_size=8))\n",
    "model.add(layers.Conv1D(32, 4, activation=\"linear\")) \n",
    "model.add(layers.MaxPooling1D(pool_size=4))\n",
    "model.add(layers.Flatten())\n",
    "model.add(layers.Dropout(0.5))\n",
    "model.add(layers.Dense(64, activation=\"linear\"))\n",
    "model.add(layers.Dropout(0.5))\n",
    "model.add(layers.Dense(20, activation=\"softmax\"))\n",
    "model.summary()\n",
    "```\n",
    "#### 84%\n",
    "```python\n",
    "model = keras.Sequential()\n",
    "model.add(keras.Input(shape=(500, 1)))\n",
    "model.add(layers.Conv1D(64, 16, activation=\"tanh\"))\n",
    "model.add(layers.AveragePooling1D(pool_size=8))\n",
    "model.add(layers.Conv1D(32, 8, activation=\"linear\")) \n",
    "model.add(layers.AveragePooling1D(pool_size=4))\n",
    "model.add(layers.Flatten())\n",
    "model.add(layers.Dropout(0.5))\n",
    "model.add(layers.Dense(64, activation=\"linear\"))\n",
    "model.add(layers.Dropout(0.5))\n",
    "model.add(layers.Dense(20, activation=\"softmax\"))\n",
    "model.summary()\n",
    "```\n",
    "\n",
    "#### 83%\n",
    "```python\n",
    "model = keras.Sequential()\n",
    "model.add(keras.Input(shape=(500, 1)))\n",
    "model.add(layers.Conv1D(128, 16, activation=\"relu\"))\n",
    "model.add(layers.MaxPooling1D(pool_size=8))\n",
    "model.add(layers.Flatten())\n",
    "model.add(layers.Dropout(0.5))\n",
    "model.add(layers.Dense(64, activation=\"linear\"))\n",
    "model.add(layers.Dropout(0.5))\n",
    "model.add(layers.Dense(20, activation=\"softmax\"))\n",
    "model.summary()\n",
    "```"
   ]
  },
  {
   "cell_type": "code",
   "execution_count": 87,
   "metadata": {},
   "outputs": [],
   "source": [
    "model.save('86_model.h5')"
   ]
  },
  {
   "cell_type": "code",
   "execution_count": 88,
   "metadata": {},
   "outputs": [
    {
     "data": {
      "image/png": "[encoded data removed]",
      "text/plain": [
       "<Figure size 864x360 with 2 Axes>"
      ]
     },
     "metadata": {
      "needs_background": "light"
     },
     "output_type": "display_data"
    }
   ],
   "source": [
    "f = plot_training(history)"
   ]
  },
  {
   "cell_type": "code",
   "execution_count": 89,
   "metadata": {},
   "outputs": [
    {
     "data": {
      "image/png": "[encoded data removed]",
      "text/plain": [
       "<Figure size 720x720 with 2 Axes>"
      ]
     },
     "metadata": {
      "needs_background": "light"
     },
     "output_type": "display_data"
    }
   ],
   "source": [
    "y_pred = model.predict(X_test)\n",
    "y_pred_classes = np.argmax(y_pred, axis = 1) \n",
    "y_true = np.argmax(y_test, axis = 1) \n",
    "confusion_mtx = confusion_matrix(y_true, y_pred_classes) \n",
    "plt_conf_matrix(confusion_mtx, classes = range(20))"
   ]
  },
  {
   "cell_type": "markdown",
   "metadata": {},
   "source": [
    "## Triplet loss\n",
    "- useful [link1](https://zhangruochi.com/Create-a-Siamese-Network-with-Triplet-Loss-in-Keras/2020/08/11/ ), [link2](https://codepad.co/snippet/triplet-loss-in-keras-tensorflow-backend)\n",
    "\n",
    "### Main idea (If I understood correctly)\n",
    "- create embedding for embeddings (?)\n",
    "- apply KNN to find the closest vectors - if the problem is related to the classification\n",
    "\n",
    "### Data preprocessing flow:\n",
    "1. Split X[-1, 500] on pices of [-1, 100] and increase the dimensionality of array\n",
    "2. Shuffle ???\n",
    "3. Create batch_loader:\n",
    "        3.1. Select anchor samples (**TODO** search if it is usually done sequentially or randomly)\n",
    "        3.2. Select some X, where y is the same (random or sequential???)\n",
    "        3.3. Select some X, where y is different (random or sequential???)\n",
    "4. Create model (e.g. Sequential)\n",
    "5. Concatenate 3 models for anchor, positives an negatives // this is exactly the parallel convolution, which I was searching during the previous stages\n",
    "6. Create a functions `loss` and `data_generator`\n",
    "7. Train model with dummy y (e.g 0) ([good example](https://github.com/AdrianUng/keras-triplet-loss-mnist#visualizing-separation-of-classes ), [their code](https://github.com/AdrianUng/keras-triplet-loss-mnist/blob/master/Triplet_loss_KERAS_semi_hard_from_TF.ipynb))\n",
    "8. Apply the visualization with PCA/test on KNN????"
   ]
  },
  {
   "cell_type": "markdown",
   "metadata": {},
   "source": [
    "### Make samples smaller, e.g. 100\n",
    "- potential problem - files are ended with zeros, if amount of tokens is less\n"
   ]
  },
  {
   "cell_type": "code",
   "execution_count": 45,
   "metadata": {},
   "outputs": [],
   "source": [
    "def crop_to(X, y, crop=100, threshold=80):\n",
    "    new_X = []\n",
    "    new_y = []\n",
    "    for old_x, old_y in zip(X, y):\n",
    "        for el in old_x.reshape(-1, 100):\n",
    "            if(np.count_nonzero(el) > 80):\n",
    "                new_X.append(list(el))\n",
    "                new_y.append(np.argmax(old_y))\n",
    "    \n",
    "    new_X = np.array(new_X)\n",
    "    new_y = np.array(new_y)\n",
    "    return new_X, new_y\n",
    "\n",
    "# new_X, new_y = crop_to(X, y)\n",
    "new_X, new_y = X, y"
   ]
  },
  {
   "cell_type": "code",
   "execution_count": 46,
   "metadata": {},
   "outputs": [],
   "source": [
    "\n",
    "data_length = new_y.shape[0]"
   ]
  },
  {
   "cell_type": "markdown",
   "metadata": {},
   "source": [
    "### Shuffle - do I need this?\n",
    "- No, because in the batch I'm going to use random"
   ]
  },
  {
   "cell_type": "markdown",
   "metadata": {},
   "source": [
    "### Batch generation"
   ]
  },
  {
   "cell_type": "code",
   "execution_count": 47,
   "metadata": {},
   "outputs": [],
   "source": [
    "def batch_generator(X, y):\n",
    "    \n",
    "    data_length = X.shape[0]\n",
    "    index = np.random.randint(data_length)\n",
    "    anchor, anchor_y = X[index], y[index]\n",
    "    \n",
    "    positive = X[np.random.choice(np.where(y==anchor_y)[0])]\n",
    "    negative = X[np.random.choice(np.where(y!=anchor_y)[0])]\n",
    "    \n",
    "    return [list(anchor), list(positive), list(negative)]\n",
    "\n",
    "def batches_generator(X, y, batch_size=32):\n",
    "    '''\n",
    "    Array of batch_generator results\n",
    "    \n",
    "    batch_size - size of the generated array\n",
    "    '''\n",
    "    all_data = np.array([batch_generator(X, y) for i in range(batch_size)])\n",
    "    anchors = all_data[:, 0, :]\n",
    "    positives = all_data[:, 1, :]\n",
    "    negatives = all_data[:, 2, :]\n",
    "    return anchors, positives, negatives\n",
    "\n",
    "def data_generator(X, y, batch_size=32, input_size=500):\n",
    "    while True:\n",
    "        batch = batches_generator(X, y, batch_size)\n",
    "        labels = np.zeros((batch_size, input_size*3)) \n",
    "        yield batch, labels\n",
    "        \n"
   ]
  },
  {
   "cell_type": "markdown",
   "metadata": {},
   "source": [
    "### Model creation\n",
    "\n",
    "\n",
    "- let's repeat the best arch"
   ]
  },
  {
   "cell_type": "code",
   "execution_count": 48,
   "metadata": {},
   "outputs": [],
   "source": [
    "import tensorflow as tf\n",
    "from tensorflow.keras import regularizers\n",
    "\n",
    "\n",
    "from sklearn.neighbors import KNeighborsClassifier\n",
    "from sklearn.metrics import accuracy_score"
   ]
  },
  {
   "cell_type": "code",
   "execution_count": 63,
   "metadata": {},
   "outputs": [],
   "source": [
    "params = {\n",
    "    \"activations\" : [\"tanh\", \"relu\", \"elu\", \"sigmoid\", \"linear\", \"selu\", \"gelu\", \"swish\"],\n",
    "    #\"output_sizes\" : [50, 100, 500],\n",
    "    \"L2_lambda\": [0.01, 0.001, 0.0001],\n",
    "    \"pool_1_size\": [4, 8],\n",
    "    \"pool_2_size\":[4, 8],\n",
    "    \"conv_1_size\": [16, 32, 64],\n",
    "    \"conv_2_size\":[4, 8],\n",
    "    \"dense_1\": [64]   \n",
    "}"
   ]
  },
  {
   "cell_type": "code",
   "execution_count": 64,
   "metadata": {},
   "outputs": [],
   "source": [
    "output_size = 50\n",
    "input_size = 500"
   ]
  },
  {
   "cell_type": "code",
   "execution_count": 65,
   "metadata": {},
   "outputs": [],
   "source": [
    "def create_model(activation=\"linear\", L2_lambda=0.02, \n",
    "                 pool_1_size=4, pool_2_size=4, \n",
    "                 conv_1_size=16, conv_2_size=4, dense_1=64):\n",
    "    \n",
    "    model_core = keras.Sequential()\n",
    "    model_core.add(layers.Conv1D(64, conv_1_size, \n",
    "                                 activation=activation, \n",
    "                                 kernel_regularizer=regularizers.L2(L2_lambda)))\n",
    "    \n",
    "    model_core.add(layers.LayerNormalization(axis=1))\n",
    "    model_core.add(layers.MaxPooling1D(pool_size=pool_1_size))\n",
    "    \n",
    "    model_core.add(layers.Conv1D(32, conv_2_size, \n",
    "                                 activation=activation, \n",
    "                                 kernel_regularizer=regularizers.L2(L2_lambda)))\n",
    "\n",
    "    model_core.add(layers.LayerNormalization(axis=1))\n",
    "    model_core.add(layers.MaxPooling1D(pool_size=pool_2_size))\n",
    "    \n",
    "    model_core.add(layers.Flatten())\n",
    "    model_core.add(layers.Dropout(0.5))\n",
    "    model_core.add(layers.Dense(dense_1, activation=activation, \n",
    "                                kernel_regularizer=regularizers.L2(L2_lambda)))\n",
    "    model_core.add(layers.LayerNormalization(axis=1))\n",
    "    \n",
    "    model_core.add(layers.Dropout(0.5))\n",
    "    model_core.add(layers.Dense(output_size, activation=activation, \n",
    "                                kernel_regularizer=regularizers.L2(L2_lambda)))\n",
    "    model_core.add(layers.LayerNormalization(axis=1))\n",
    "    return model_core\n"
   ]
  },
  {
   "cell_type": "code",
   "execution_count": 66,
   "metadata": {},
   "outputs": [],
   "source": [
    "def triplet_loss(y_true, y_pred):\n",
    "    alpha = 0.2\n",
    "    y_pred = tf.convert_to_tensor(y_pred)\n",
    "    global output_size\n",
    "    anchor = y_pred[:, :output_size]\n",
    "    positive = y_pred[:, output_size:2*output_size]\n",
    "    negative = y_pred[:, 2*output_size:]\n",
    "    \n",
    "    positive_dist = tf.reduce_mean(tf.square(anchor - positive), axis=1)\n",
    "    negative_dist = tf.reduce_mean(tf.square(anchor - negative), axis=1)\n",
    "\n",
    "    return tf.maximum(positive_dist - negative_dist + alpha, 0.)"
   ]
  },
  {
   "cell_type": "code",
   "execution_count": 67,
   "metadata": {},
   "outputs": [],
   "source": [
    "def create_triplet_model(input_size, model_core):\n",
    "    \n",
    "    input_anchor = layers.Input(shape=(input_size, 1))\n",
    "    input_positive = layers.Input(shape=(input_size, 1))\n",
    "    input_negative = layers.Input(shape=(input_size, 1))\n",
    "\n",
    "    model_anchor = model_core(input_anchor)\n",
    "    model_positive = model_core(input_positive)\n",
    "    model_negative = model_core(input_negative)\n",
    "\n",
    "    result = layers.concatenate([model_anchor, model_positive, model_negative], axis=1)\n",
    "    model = models.Model([input_anchor, input_positive, input_negative], result)\n",
    "    return model\n"
   ]
  },
  {
   "cell_type": "code",
   "execution_count": 68,
   "metadata": {},
   "outputs": [],
   "source": [
    "def train(new_X, new_y, input_size, model):\n",
    "    batch_size = 64\n",
    "    epochs = 100\n",
    "    steps_per_epoch = int(new_X.shape[0]/batch_size)\n",
    "\n",
    "    optimizer = optimizers.Adam(0.1)\n",
    "    lr_schedule = callbacks.ReduceLROnPlateau(monitor='loss', actor=0.5, patience=2, min_delta=0.000001, verbouse=1)\n",
    "    early_stopping = callbacks.EarlyStopping(monitor=\"loss\", min_delta = 0.0001, patience=5, restore_best_weights=True)\n",
    "\n",
    "    model.compile(loss=triplet_loss, optimizer=optimizer)\n",
    "    history = model.fit(data_generator(new_X, np.argmax(new_y, axis=1), batch_size, input_size),\n",
    "                        steps_per_epoch=steps_per_epoch,\n",
    "                        epochs=epochs, \n",
    "                        verbose=0, \n",
    "                        callbacks=[lr_schedule, early_stopping])\n",
    "    return model, history\n"
   ]
  },
  {
   "cell_type": "code",
   "execution_count": 69,
   "metadata": {},
   "outputs": [],
   "source": [
    "def test(model_core, new_X, new_y):\n",
    "    transformed_X = model_core.predict(new_X.reshape(-1, input_size, 1))\n",
    "    X_train, X_test, y_train, y_test = train_test_split(transformed_X, new_y)\n",
    "\n",
    "    knn = KNeighborsClassifier(n_neighbors=3, algorithm=\"ball_tree\", weights=\"distance\")\n",
    "    knn.fit(X_train, np.argmax(y_train, axis=1))\n",
    "    y_pred = knn.predict(X_test)\n",
    "    \n",
    "    score = accuracy_score(np.argmax(y_test, axis=1), y_pred)\n",
    "    return score\n",
    "    "
   ]
  },
  {
   "cell_type": "code",
   "execution_count": 70,
   "metadata": {},
   "outputs": [
    {
     "data": {
      "text/plain": [
       "576"
      ]
     },
     "execution_count": 70,
     "metadata": {},
     "output_type": "execute_result"
    }
   ],
   "source": [
    "param_list = []\n",
    "for key in params.keys():\n",
    "    if len(param_list)==0:\n",
    "        for x in params[key]:\n",
    "            param_list.append([x])\n",
    "    else:\n",
    "        new_param_list = []\n",
    "        for l in param_list:\n",
    "            for x in params[key]:\n",
    "                l_copy = l.copy()\n",
    "                l_copy.append(x)\n",
    "                new_param_list.append(l_copy)\n",
    "        param_list = new_param_list\n",
    "len(param_list)"
   ]
  },
  {
   "cell_type": "code",
   "execution_count": 71,
   "metadata": {},
   "outputs": [
    {
     "data": {
      "text/plain": [
       "['tanh', 0.01, 4, 4, 16, 4, 64]"
      ]
     },
     "execution_count": 71,
     "metadata": {},
     "output_type": "execute_result"
    }
   ],
   "source": [
    "param_list[0]"
   ]
  },
  {
   "cell_type": "code",
   "execution_count": 72,
   "metadata": {},
   "outputs": [],
   "source": [
    "import tqdm"
   ]
  },
  {
   "cell_type": "code",
   "execution_count": 73,
   "metadata": {},
   "outputs": [
    {
     "name": "stderr",
     "output_type": "stream",
     "text": [
      "  0%|▏                                                                             | 1/576 [02:11<20:59:42, 131.45s/it]"
     ]
    },
    {
     "name": "stdout",
     "output_type": "stream",
     "text": [
      "['tanh', 0.01, 4, 4, 16, 4, 64] 0.44\n"
     ]
    },
    {
     "name": "stderr",
     "output_type": "stream",
     "text": [
      "  0%|▎                                                                             | 2/576 [04:28<21:29:46, 134.82s/it]"
     ]
    },
    {
     "name": "stdout",
     "output_type": "stream",
     "text": [
      "['tanh', 0.01, 4, 4, 16, 8, 64] 0.49714285714285716\n"
     ]
    },
    {
     "name": "stderr",
     "output_type": "stream",
     "text": [
      "  2%|█▋                                                                           | 13/576 [34:13<28:34:39, 182.73s/it]"
     ]
    },
    {
     "name": "stdout",
     "output_type": "stream",
     "text": [
      "['tanh', 0.01, 8, 4, 16, 4, 64] 0.5057142857142857\n"
     ]
    },
    {
     "name": "stderr",
     "output_type": "stream",
     "text": [
      "  3%|██                                                                           | 15/576 [39:11<26:14:42, 168.42s/it]"
     ]
    },
    {
     "name": "stdout",
     "output_type": "stream",
     "text": [
      "['tanh', 0.01, 8, 4, 32, 4, 64] 0.5485714285714286\n"
     ]
    },
    {
     "name": "stderr",
     "output_type": "stream",
     "text": [
      "  5%|███▉                                                                       | 30/576 [1:17:40<26:50:55, 177.02s/it]"
     ]
    },
    {
     "name": "stdout",
     "output_type": "stream",
     "text": [
      "['tanh', 0.001, 4, 4, 64, 8, 64] 0.5628571428571428\n"
     ]
    },
    {
     "name": "stderr",
     "output_type": "stream",
     "text": [
      " 17%|████████████▌                                                              | 96/576 [4:41:29<20:07:46, 150.97s/it]"
     ]
    },
    {
     "name": "stdout",
     "output_type": "stream",
     "text": [
      "['relu', 0.01, 8, 8, 64, 8, 64] 0.5685714285714286\n"
     ]
    },
    {
     "name": "stderr",
     "output_type": "stream",
     "text": [
      " 56%|████████████████████████████████████████▌                                | 320/576 [28:00:27<22:24:22, 315.09s/it]\n"
     ]
    },
    {
     "ename": "ResourceExhaustedError",
     "evalue": " OOM when allocating tensor with shape[64,469,64] and type float on /job:localhost/replica:0/task:0/device:CPU:0 by allocator cpu\n\t [[node gradient_tape/model_337/sequential_339/layer_normalization_1348/batchnorm_1/mul_2/Mul (defined at <ipython-input-68-64eada4737e2>:15) ]]\nHint: If you want to see a list of allocated tensors when OOM happens, add report_tensor_allocations_upon_oom to RunOptions for current allocation info.\n [Op:__inference_train_function_2056387]\n\nFunction call stack:\ntrain_function\n",
     "output_type": "error",
     "traceback": [
      "\u001b[1;31m---------------------------------------------------------------------------\u001b[0m",
      "\u001b[1;31mResourceExhaustedError\u001b[0m                    Traceback (most recent call last)",
      "\u001b[1;32m<ipython-input-73-7c28e0370b77>\u001b[0m in \u001b[0;36m<module>\u001b[1;34m\u001b[0m\n\u001b[0;32m      5\u001b[0m     \u001b[0mcore_model\u001b[0m \u001b[1;33m=\u001b[0m \u001b[0mcreate_model\u001b[0m\u001b[1;33m(\u001b[0m\u001b[1;33m*\u001b[0m\u001b[0mp\u001b[0m\u001b[1;33m)\u001b[0m\u001b[1;33m\u001b[0m\u001b[1;33m\u001b[0m\u001b[0m\n\u001b[0;32m      6\u001b[0m     \u001b[0mtriplet\u001b[0m \u001b[1;33m=\u001b[0m \u001b[0mcreate_triplet_model\u001b[0m\u001b[1;33m(\u001b[0m\u001b[0minput_size\u001b[0m\u001b[1;33m,\u001b[0m \u001b[0mcore_model\u001b[0m\u001b[1;33m)\u001b[0m\u001b[1;33m\u001b[0m\u001b[1;33m\u001b[0m\u001b[0m\n\u001b[1;32m----> 7\u001b[1;33m     \u001b[0mmodel\u001b[0m\u001b[1;33m,\u001b[0m \u001b[0mhistory\u001b[0m \u001b[1;33m=\u001b[0m \u001b[0mtrain\u001b[0m\u001b[1;33m(\u001b[0m\u001b[0mnew_X\u001b[0m\u001b[1;33m,\u001b[0m \u001b[0mnew_y\u001b[0m\u001b[1;33m,\u001b[0m \u001b[0minput_size\u001b[0m\u001b[1;33m,\u001b[0m \u001b[0mtriplet\u001b[0m\u001b[1;33m)\u001b[0m\u001b[1;33m\u001b[0m\u001b[1;33m\u001b[0m\u001b[0m\n\u001b[0m\u001b[0;32m      8\u001b[0m     \u001b[0mscore\u001b[0m \u001b[1;33m=\u001b[0m \u001b[0mtest\u001b[0m\u001b[1;33m(\u001b[0m\u001b[0mcore_model\u001b[0m\u001b[1;33m,\u001b[0m \u001b[0mnew_X\u001b[0m\u001b[1;33m,\u001b[0m \u001b[0mnew_y\u001b[0m\u001b[1;33m)\u001b[0m\u001b[1;33m\u001b[0m\u001b[1;33m\u001b[0m\u001b[0m\n\u001b[0;32m      9\u001b[0m     \u001b[1;32mif\u001b[0m \u001b[0mscore\u001b[0m \u001b[1;33m>\u001b[0m \u001b[0mmax_score\u001b[0m\u001b[1;33m:\u001b[0m\u001b[1;33m\u001b[0m\u001b[1;33m\u001b[0m\u001b[0m\n",
      "\u001b[1;32m<ipython-input-68-64eada4737e2>\u001b[0m in \u001b[0;36mtrain\u001b[1;34m(new_X, new_y, input_size, model)\u001b[0m\n\u001b[0;32m     13\u001b[0m                         \u001b[0mepochs\u001b[0m\u001b[1;33m=\u001b[0m\u001b[0mepochs\u001b[0m\u001b[1;33m,\u001b[0m\u001b[1;33m\u001b[0m\u001b[1;33m\u001b[0m\u001b[0m\n\u001b[0;32m     14\u001b[0m                         \u001b[0mverbose\u001b[0m\u001b[1;33m=\u001b[0m\u001b[1;36m0\u001b[0m\u001b[1;33m,\u001b[0m\u001b[1;33m\u001b[0m\u001b[1;33m\u001b[0m\u001b[0m\n\u001b[1;32m---> 15\u001b[1;33m                         callbacks=[lr_schedule, early_stopping])\n\u001b[0m\u001b[0;32m     16\u001b[0m     \u001b[1;32mreturn\u001b[0m \u001b[0mmodel\u001b[0m\u001b[1;33m,\u001b[0m \u001b[0mhistory\u001b[0m\u001b[1;33m\u001b[0m\u001b[1;33m\u001b[0m\u001b[0m\n",
      "\u001b[1;32m~\\SourceCodeAuthorshipAttribution\\venv\\lib\\site-packages\\tensorflow\\python\\keras\\engine\\training.py\u001b[0m in \u001b[0;36mfit\u001b[1;34m(self, x, y, batch_size, epochs, verbose, callbacks, validation_split, validation_data, shuffle, class_weight, sample_weight, initial_epoch, steps_per_epoch, validation_steps, validation_batch_size, validation_freq, max_queue_size, workers, use_multiprocessing)\u001b[0m\n\u001b[0;32m   1098\u001b[0m                 _r=1):\n\u001b[0;32m   1099\u001b[0m               \u001b[0mcallbacks\u001b[0m\u001b[1;33m.\u001b[0m\u001b[0mon_train_batch_begin\u001b[0m\u001b[1;33m(\u001b[0m\u001b[0mstep\u001b[0m\u001b[1;33m)\u001b[0m\u001b[1;33m\u001b[0m\u001b[1;33m\u001b[0m\u001b[0m\n\u001b[1;32m-> 1100\u001b[1;33m               \u001b[0mtmp_logs\u001b[0m \u001b[1;33m=\u001b[0m \u001b[0mself\u001b[0m\u001b[1;33m.\u001b[0m\u001b[0mtrain_function\u001b[0m\u001b[1;33m(\u001b[0m\u001b[0miterator\u001b[0m\u001b[1;33m)\u001b[0m\u001b[1;33m\u001b[0m\u001b[1;33m\u001b[0m\u001b[0m\n\u001b[0m\u001b[0;32m   1101\u001b[0m               \u001b[1;32mif\u001b[0m \u001b[0mdata_handler\u001b[0m\u001b[1;33m.\u001b[0m\u001b[0mshould_sync\u001b[0m\u001b[1;33m:\u001b[0m\u001b[1;33m\u001b[0m\u001b[1;33m\u001b[0m\u001b[0m\n\u001b[0;32m   1102\u001b[0m                 \u001b[0mcontext\u001b[0m\u001b[1;33m.\u001b[0m\u001b[0masync_wait\u001b[0m\u001b[1;33m(\u001b[0m\u001b[1;33m)\u001b[0m\u001b[1;33m\u001b[0m\u001b[1;33m\u001b[0m\u001b[0m\n",
      "\u001b[1;32m~\\SourceCodeAuthorshipAttribution\\venv\\lib\\site-packages\\tensorflow\\python\\eager\\def_function.py\u001b[0m in \u001b[0;36m__call__\u001b[1;34m(self, *args, **kwds)\u001b[0m\n\u001b[0;32m    826\u001b[0m     \u001b[0mtracing_count\u001b[0m \u001b[1;33m=\u001b[0m \u001b[0mself\u001b[0m\u001b[1;33m.\u001b[0m\u001b[0mexperimental_get_tracing_count\u001b[0m\u001b[1;33m(\u001b[0m\u001b[1;33m)\u001b[0m\u001b[1;33m\u001b[0m\u001b[1;33m\u001b[0m\u001b[0m\n\u001b[0;32m    827\u001b[0m     \u001b[1;32mwith\u001b[0m \u001b[0mtrace\u001b[0m\u001b[1;33m.\u001b[0m\u001b[0mTrace\u001b[0m\u001b[1;33m(\u001b[0m\u001b[0mself\u001b[0m\u001b[1;33m.\u001b[0m\u001b[0m_name\u001b[0m\u001b[1;33m)\u001b[0m \u001b[1;32mas\u001b[0m \u001b[0mtm\u001b[0m\u001b[1;33m:\u001b[0m\u001b[1;33m\u001b[0m\u001b[1;33m\u001b[0m\u001b[0m\n\u001b[1;32m--> 828\u001b[1;33m       \u001b[0mresult\u001b[0m \u001b[1;33m=\u001b[0m \u001b[0mself\u001b[0m\u001b[1;33m.\u001b[0m\u001b[0m_call\u001b[0m\u001b[1;33m(\u001b[0m\u001b[1;33m*\u001b[0m\u001b[0margs\u001b[0m\u001b[1;33m,\u001b[0m \u001b[1;33m**\u001b[0m\u001b[0mkwds\u001b[0m\u001b[1;33m)\u001b[0m\u001b[1;33m\u001b[0m\u001b[1;33m\u001b[0m\u001b[0m\n\u001b[0m\u001b[0;32m    829\u001b[0m       \u001b[0mcompiler\u001b[0m \u001b[1;33m=\u001b[0m \u001b[1;34m\"xla\"\u001b[0m \u001b[1;32mif\u001b[0m \u001b[0mself\u001b[0m\u001b[1;33m.\u001b[0m\u001b[0m_experimental_compile\u001b[0m \u001b[1;32melse\u001b[0m \u001b[1;34m\"nonXla\"\u001b[0m\u001b[1;33m\u001b[0m\u001b[1;33m\u001b[0m\u001b[0m\n\u001b[0;32m    830\u001b[0m       \u001b[0mnew_tracing_count\u001b[0m \u001b[1;33m=\u001b[0m \u001b[0mself\u001b[0m\u001b[1;33m.\u001b[0m\u001b[0mexperimental_get_tracing_count\u001b[0m\u001b[1;33m(\u001b[0m\u001b[1;33m)\u001b[0m\u001b[1;33m\u001b[0m\u001b[1;33m\u001b[0m\u001b[0m\n",
      "\u001b[1;32m~\\SourceCodeAuthorshipAttribution\\venv\\lib\\site-packages\\tensorflow\\python\\eager\\def_function.py\u001b[0m in \u001b[0;36m_call\u001b[1;34m(self, *args, **kwds)\u001b[0m\n\u001b[0;32m    853\u001b[0m       \u001b[1;31m# In this case we have created variables on the first call, so we run the\u001b[0m\u001b[1;33m\u001b[0m\u001b[1;33m\u001b[0m\u001b[1;33m\u001b[0m\u001b[0m\n\u001b[0;32m    854\u001b[0m       \u001b[1;31m# defunned version which is guaranteed to never create variables.\u001b[0m\u001b[1;33m\u001b[0m\u001b[1;33m\u001b[0m\u001b[1;33m\u001b[0m\u001b[0m\n\u001b[1;32m--> 855\u001b[1;33m       \u001b[1;32mreturn\u001b[0m \u001b[0mself\u001b[0m\u001b[1;33m.\u001b[0m\u001b[0m_stateless_fn\u001b[0m\u001b[1;33m(\u001b[0m\u001b[1;33m*\u001b[0m\u001b[0margs\u001b[0m\u001b[1;33m,\u001b[0m \u001b[1;33m**\u001b[0m\u001b[0mkwds\u001b[0m\u001b[1;33m)\u001b[0m  \u001b[1;31m# pylint: disable=not-callable\u001b[0m\u001b[1;33m\u001b[0m\u001b[1;33m\u001b[0m\u001b[0m\n\u001b[0m\u001b[0;32m    856\u001b[0m     \u001b[1;32melif\u001b[0m \u001b[0mself\u001b[0m\u001b[1;33m.\u001b[0m\u001b[0m_stateful_fn\u001b[0m \u001b[1;32mis\u001b[0m \u001b[1;32mnot\u001b[0m \u001b[1;32mNone\u001b[0m\u001b[1;33m:\u001b[0m\u001b[1;33m\u001b[0m\u001b[1;33m\u001b[0m\u001b[0m\n\u001b[0;32m    857\u001b[0m       \u001b[1;31m# Release the lock early so that multiple threads can perform the call\u001b[0m\u001b[1;33m\u001b[0m\u001b[1;33m\u001b[0m\u001b[1;33m\u001b[0m\u001b[0m\n",
      "\u001b[1;32m~\\SourceCodeAuthorshipAttribution\\venv\\lib\\site-packages\\tensorflow\\python\\eager\\function.py\u001b[0m in \u001b[0;36m__call__\u001b[1;34m(self, *args, **kwargs)\u001b[0m\n\u001b[0;32m   2941\u001b[0m        filtered_flat_args) = self._maybe_define_function(args, kwargs)\n\u001b[0;32m   2942\u001b[0m     return graph_function._call_flat(\n\u001b[1;32m-> 2943\u001b[1;33m         filtered_flat_args, captured_inputs=graph_function.captured_inputs)  # pylint: disable=protected-access\n\u001b[0m\u001b[0;32m   2944\u001b[0m \u001b[1;33m\u001b[0m\u001b[0m\n\u001b[0;32m   2945\u001b[0m   \u001b[1;33m@\u001b[0m\u001b[0mproperty\u001b[0m\u001b[1;33m\u001b[0m\u001b[1;33m\u001b[0m\u001b[0m\n",
      "\u001b[1;32m~\\SourceCodeAuthorshipAttribution\\venv\\lib\\site-packages\\tensorflow\\python\\eager\\function.py\u001b[0m in \u001b[0;36m_call_flat\u001b[1;34m(self, args, captured_inputs, cancellation_manager)\u001b[0m\n\u001b[0;32m   1917\u001b[0m       \u001b[1;31m# No tape is watching; skip to running the function.\u001b[0m\u001b[1;33m\u001b[0m\u001b[1;33m\u001b[0m\u001b[1;33m\u001b[0m\u001b[0m\n\u001b[0;32m   1918\u001b[0m       return self._build_call_outputs(self._inference_function.call(\n\u001b[1;32m-> 1919\u001b[1;33m           ctx, args, cancellation_manager=cancellation_manager))\n\u001b[0m\u001b[0;32m   1920\u001b[0m     forward_backward = self._select_forward_and_backward_functions(\n\u001b[0;32m   1921\u001b[0m         \u001b[0margs\u001b[0m\u001b[1;33m,\u001b[0m\u001b[1;33m\u001b[0m\u001b[1;33m\u001b[0m\u001b[0m\n",
      "\u001b[1;32m~\\SourceCodeAuthorshipAttribution\\venv\\lib\\site-packages\\tensorflow\\python\\eager\\function.py\u001b[0m in \u001b[0;36mcall\u001b[1;34m(self, ctx, args, cancellation_manager)\u001b[0m\n\u001b[0;32m    558\u001b[0m               \u001b[0minputs\u001b[0m\u001b[1;33m=\u001b[0m\u001b[0margs\u001b[0m\u001b[1;33m,\u001b[0m\u001b[1;33m\u001b[0m\u001b[1;33m\u001b[0m\u001b[0m\n\u001b[0;32m    559\u001b[0m               \u001b[0mattrs\u001b[0m\u001b[1;33m=\u001b[0m\u001b[0mattrs\u001b[0m\u001b[1;33m,\u001b[0m\u001b[1;33m\u001b[0m\u001b[1;33m\u001b[0m\u001b[0m\n\u001b[1;32m--> 560\u001b[1;33m               ctx=ctx)\n\u001b[0m\u001b[0;32m    561\u001b[0m         \u001b[1;32melse\u001b[0m\u001b[1;33m:\u001b[0m\u001b[1;33m\u001b[0m\u001b[1;33m\u001b[0m\u001b[0m\n\u001b[0;32m    562\u001b[0m           outputs = execute.execute_with_cancellation(\n",
      "\u001b[1;32m~\\SourceCodeAuthorshipAttribution\\venv\\lib\\site-packages\\tensorflow\\python\\eager\\execute.py\u001b[0m in \u001b[0;36mquick_execute\u001b[1;34m(op_name, num_outputs, inputs, attrs, ctx, name)\u001b[0m\n\u001b[0;32m     58\u001b[0m     \u001b[0mctx\u001b[0m\u001b[1;33m.\u001b[0m\u001b[0mensure_initialized\u001b[0m\u001b[1;33m(\u001b[0m\u001b[1;33m)\u001b[0m\u001b[1;33m\u001b[0m\u001b[1;33m\u001b[0m\u001b[0m\n\u001b[0;32m     59\u001b[0m     tensors = pywrap_tfe.TFE_Py_Execute(ctx._handle, device_name, op_name,\n\u001b[1;32m---> 60\u001b[1;33m                                         inputs, attrs, num_outputs)\n\u001b[0m\u001b[0;32m     61\u001b[0m   \u001b[1;32mexcept\u001b[0m \u001b[0mcore\u001b[0m\u001b[1;33m.\u001b[0m\u001b[0m_NotOkStatusException\u001b[0m \u001b[1;32mas\u001b[0m \u001b[0me\u001b[0m\u001b[1;33m:\u001b[0m\u001b[1;33m\u001b[0m\u001b[1;33m\u001b[0m\u001b[0m\n\u001b[0;32m     62\u001b[0m     \u001b[1;32mif\u001b[0m \u001b[0mname\u001b[0m \u001b[1;32mis\u001b[0m \u001b[1;32mnot\u001b[0m \u001b[1;32mNone\u001b[0m\u001b[1;33m:\u001b[0m\u001b[1;33m\u001b[0m\u001b[1;33m\u001b[0m\u001b[0m\n",
      "\u001b[1;31mResourceExhaustedError\u001b[0m:  OOM when allocating tensor with shape[64,469,64] and type float on /job:localhost/replica:0/task:0/device:CPU:0 by allocator cpu\n\t [[node gradient_tape/model_337/sequential_339/layer_normalization_1348/batchnorm_1/mul_2/Mul (defined at <ipython-input-68-64eada4737e2>:15) ]]\nHint: If you want to see a list of allocated tensors when OOM happens, add report_tensor_allocations_upon_oom to RunOptions for current allocation info.\n [Op:__inference_train_function_2056387]\n\nFunction call stack:\ntrain_function\n"
     ]
    }
   ],
   "source": [
    "max_score = 0\n",
    "best_model = None\n",
    "log = []\n",
    "for p in tqdm.tqdm(param_list):\n",
    "    core_model = create_model(*p)\n",
    "    triplet = create_triplet_model(input_size, core_model)\n",
    "    model, history = train(new_X, new_y, input_size, triplet)\n",
    "    score = test(core_model, new_X, new_y)\n",
    "    if score > max_score:\n",
    "        max_score = score\n",
    "        best_model = model\n",
    "        print(p, score)\n",
    "    log.append({\"score\": score, \"history\": history, \"params\": p})\n"
   ]
  },
  {
   "cell_type": "code",
   "execution_count": 74,
   "metadata": {},
   "outputs": [
    {
     "name": "stdout",
     "output_type": "stream",
     "text": [
      "320\n"
     ]
    }
   ],
   "source": [
    "print(len(log))"
   ]
  },
  {
   "cell_type": "code",
   "execution_count": 76,
   "metadata": {},
   "outputs": [],
   "source": [
    "log_df = pd.DataFrame(log)"
   ]
  },
  {
   "cell_type": "code",
   "execution_count": 81,
   "metadata": {},
   "outputs": [],
   "source": [
    "log_df[\"history_arr\"] = log_df.history.apply(lambda x: x.history[\"loss\"])"
   ]
  },
  {
   "cell_type": "code",
   "execution_count": null,
   "metadata": {},
   "outputs": [],
   "source": [
    "params = {\n",
    "    \"activations\" : [\"tanh\", \"relu\", \"elu\", \"sigmoid\", \"linear\", \"selu\", \"gelu\", \"swish\"],\n",
    "    #\"output_sizes\" : [50, 100, 500],\n",
    "    \"L2_lambda\": [0.01, 0.001, 0.0001],\n",
    "    \"pool_1_size\": [4, 8],\n",
    "    \"pool_2_size\":[4, 8],\n",
    "    \"conv_1_size\": [16, 32, 64],\n",
    "    \"conv_2_size\":[4, 8],\n",
    "    \"dense_1\": [64]   \n",
    "}"
   ]
  },
  {
   "cell_type": "code",
   "execution_count": 85,
   "metadata": {},
   "outputs": [],
   "source": [
    "log_df[\"activations\"] = log_df.params.apply(lambda x:x[0])\n",
    "log_df[\"L2_lambda\"]  = log_df.params.apply(lambda x:x[1])\n",
    "log_df[ \"pool_1_size\"] = log_df.params.apply(lambda x:x[2])\n",
    "log_df[ \"pool_2_size\"] = log_df.params.apply(lambda x:x[3])\n",
    "log_df[\"conv_1_size\"] = log_df.params.apply(lambda x:x[4])\n",
    "log_df[\"conv_2_size\"] = log_df.params.apply(lambda x:x[5])\n",
    "log_df[\"dense_1\"] = log_df.params.apply(lambda x:x[6])"
   ]
  },
  {
   "cell_type": "code",
   "execution_count": 90,
   "metadata": {},
   "outputs": [],
   "source": [
    "log_df = log_df.drop(columns=[\"history\", \"params\"])"
   ]
  },
  {
   "cell_type": "code",
   "execution_count": 92,
   "metadata": {},
   "outputs": [
    {
     "data": {
      "text/plain": [
       "count    320.000000\n",
       "mean       0.441920\n",
       "std        0.137020\n",
       "min        0.022857\n",
       "25%        0.457143\n",
       "50%        0.488571\n",
       "75%        0.511429\n",
       "max        0.568571\n",
       "Name: score, dtype: float64"
      ]
     },
     "execution_count": 92,
     "metadata": {},
     "output_type": "execute_result"
    }
   ],
   "source": [
    "log_df.score.describe()"
   ]
  },
  {
   "cell_type": "markdown",
   "metadata": {},
   "source": [
    "#### All the tame accuracy was approximately the same"
   ]
  },
  {
   "cell_type": "code",
   "execution_count": 93,
   "metadata": {},
   "outputs": [
    {
     "data": {
      "text/plain": [
       "[<matplotlib.lines.Line2D at 0x2197b6bdb88>]"
      ]
     },
     "execution_count": 93,
     "metadata": {},
     "output_type": "execute_result"
    },
    {
     "data": {
      "image/png": "[encoded data removed]",
      "text/plain": [
       "<Figure size 432x288 with 1 Axes>"
      ]
     },
     "metadata": {
      "needs_background": "light"
     },
     "output_type": "display_data"
    }
   ],
   "source": [
    "plt.plot(log_df.score)"
   ]
  },
  {
   "cell_type": "code",
   "execution_count": 94,
   "metadata": {},
   "outputs": [],
   "source": [
    "log_df.to_csv(\"grid_320.csv\")"
   ]
  },
  {
   "cell_type": "code",
   "execution_count": 95,
   "metadata": {},
   "outputs": [],
   "source": [
    "log_df.to_json(\"grid_230.json\")# arrays could be exported better (history)"
   ]
  },
  {
   "cell_type": "markdown",
   "metadata": {},
   "source": [
    "### Top-models\n",
    "#### 43.4%\n",
    "```python\n",
    "output_size = 40\n",
    "model_core = keras.Sequential()\n",
    "model_core.add(layers.Conv1D(64, 16, activation=\"linear\")) \n",
    "model_core.add(layers.AveragePooling1D(pool_size=4))#6 -slow down\n",
    "model_core.add(layers.Flatten())\n",
    "model_core.add(layers.Dropout(0.5))\n",
    "model_core.add(layers.Dense(64, activation=\"linear\", kernel_regularizer=regularizers.L2(0.0001)))\n",
    "model_core.add(layers.Dropout(0.5))\n",
    "model_core.add(layers.Dense(output_size, activation=\"linear\", kernel_regularizer=regularizers.L2(0.0001)))\n",
    "```\n",
    "#### 43.14%\n",
    "```python\n",
    "output_size = 40\n",
    "\n",
    "model_core = keras.Sequential()\n",
    "model_core.add(layers.Conv1D(64, 32, activation=\"tanh\")) \n",
    "model_core.add(layers.AveragePooling1D(pool_size=8))\n",
    "model_core.add(layers.Flatten())\n",
    "model_core.add(layers.Dropout(0.5))\n",
    "model_core.add(layers.Dense(128, activation=\"linear\"))\n",
    "model_core.add(layers.Dropout(0.5))\n",
    "model_core.add(layers.Dense(output_size, activation=\"linear\"))\n",
    "```\n",
    "#### 43.71%\n",
    "```python\n",
    "output_size = 40\n",
    "\n",
    "model_core = keras.Sequential()\n",
    "model_core.add(layers.Conv1D(64, 32, activation=\"tanh\")) \n",
    "model_core.add(layers.AveragePooling1D(pool_size=4))\n",
    "model_core.add(layers.Flatten())\n",
    "model_core.add(layers.Dropout(0.5))\n",
    "model_core.add(layers.Dense(128, activation=\"linear\"))\n",
    "model_core.add(layers.Dropout(0.5))\n",
    "model_core.add(layers.Dense(output_size, activation=\"linear\"))\n",
    "```\n",
    "#### 46.8%\n",
    "```python\n",
    "output_size = 40\n",
    "\n",
    "model_core = keras.Sequential()\n",
    "model_core.add(layers.Conv1D(64, 32, activation=\"tanh\")) \n",
    "model_core.add(layers.AveragePooling1D(pool_size=6))\n",
    "model_core.add(layers.Flatten())\n",
    "model_core.add(layers.Dropout(0.5))\n",
    "model_core.add(layers.Dense(128, activation=\"linear\"))\n",
    "model_core.add(layers.Dropout(0.5))\n",
    "model_core.add(layers.Dense(output_size, activation=\"linear\"))\n",
    "```\n",
    "#### 44.2%\n",
    "```python\n",
    "output_size = 40\n",
    "model_core = keras.Sequential()\n",
    "model_core.add(layers.Conv1D(128, 32, activation=\"linear\")) \n",
    "model_core.add(layers.AveragePooling1D(pool_size=6))\n",
    "model_core.add(layers.Flatten())\n",
    "model_core.add(layers.Dropout(0.5))\n",
    "model_core.add(layers.Dense(64, activation=\"linear\", kernel_regularizer=regularizers.L2(0.001)))\n",
    "model_core.add(layers.Dropout(0.5))\n",
    "model_core.add(layers.Dense(output_size, activation=\"linear\", kernel_regularizer=regularizers.L2(0.001)))\n",
    "```\n",
    "#### 44.17%\n",
    "```python\n",
    "output_size = 40\n",
    "model_core = keras.Sequential()\n",
    "model_core.add(layers.Conv1D(64, 32, activation=\"tanh\", strides=2, kernel_regularizer = regularizers.L2(0.001))) \n",
    "model_core.add(layers.AveragePooling1D(pool_size=8))\n",
    "model_core.add(layers.Flatten())\n",
    "model_core.add(layers.Dropout(0.5))\n",
    "model_core.add(layers.Dense(64, activation=\"linear\"))\n",
    "model_core.add(layers.Dropout(0.5))\n",
    "model_core.add(layers.Dense(output_size, activation=\"linear\"))\n",
    "```\n",
    "\n",
    "\n",
    "#### 45.7%\n",
    "```python\n",
    "output_size = 40\n",
    "model_core = keras.Sequential()\n",
    "model_core.add(layers.Conv1D(64, 32, activation=\"linear\", kernel_regularizer = regularizers.L2(0.001))) \n",
    "model_core.add(layers.AveragePooling1D(pool_size=8))\n",
    "model_core.add(layers.Flatten())\n",
    "model_core.add(layers.Dropout(0.5))\n",
    "model_core.add(layers.Dense(64, activation=\"linear\", kernel_regularizer = regularizers.L2(0.0001)))\n",
    "model_core.add(layers.Dropout(0.5))\n",
    "model_core.add(layers.Dense(output_size, activation=\"linear\", kernel_regularizer = regularizers.L2(0.0001)))\n",
    "```\n",
    "\n",
    "#### 47%, 100 epochs, samples out of 100\n",
    "```python\n",
    "output_size = 30\n",
    "model_core = keras.Sequential()\n",
    "model_core.add(layers.Conv1D(64, 32, activation=\"linear\", kernel_regularizer = regularizers.L2(0.001))) \n",
    "model_core.add(layers.AveragePooling1D(pool_size=8))\n",
    "model_core.add(layers.Flatten())\n",
    "model_core.add(layers.Dropout(0.5))\n",
    "model_core.add(layers.Dense(64, activation=\"linear\", kernel_regularizer = regularizers.L2(0.0001)))\n",
    "model_core.add(layers.Dropout(0.5))\n",
    "model_core.add(layers.Dense(output_size, activation=\"linear\", kernel_regularizer = regularizers.L2(0.0001)))\n",
    "```\n",
    "\n",
    "### 500 tokens per 1 person\n",
    "\n",
    "#### 55.1%\n",
    "```python\n",
    "output_size = 40\n",
    "input_size = 500\n",
    "model_core = keras.Sequential()\n",
    "model_core.add(layers.Conv1D(64, 32, activation=\"tanh\")) \n",
    "model_core.add(layers.AveragePooling1D(pool_size=6))\n",
    "model_core.add(layers.Flatten())\n",
    "model_core.add(layers.Dropout(0.5))\n",
    "model_core.add(layers.Dense(128, activation=\"linear\"))\n",
    "model_core.add(layers.Dropout(0.5))\n",
    "model_core.add(layers.Dense(output_size, activation=\"linear\"))\n",
    "```\n",
    "\n",
    "#### up to 62.8% - nothing is better\n",
    "```python\n",
    "\n",
    "model = keras.Sequential()\n",
    "model.add(layers.Conv1D(64, 16, activation=\"tanh\"))\n",
    "model.add(layers.MaxPooling1D(pool_size=8))\n",
    "model.add(layers.Conv1D(32, 4, activation=\"linear\")) \n",
    "model.add(layers.MaxPooling1D(pool_size=8))\n",
    "model.add(layers.Flatten())\n",
    "model.add(layers.Dropout(0.5))\n",
    "model.add(layers.Dense(64, activation=\"linear\"))\n",
    "model.add(layers.Dropout(0.5))\n",
    "model.add(layers.Dense(output_size, activation=\"linear\"))\n",
    "```\n"
   ]
  },
  {
   "cell_type": "markdown",
   "metadata": {},
   "source": [
    "### Read more\n",
    "- [implementation by tensorflow](https://www.tensorflow.org/addons/tutorials/losses_triplet)"
   ]
  },
  {
   "cell_type": "code",
   "execution_count": null,
   "metadata": {},
   "outputs": [],
   "source": []
  }
 ],
 "metadata": {
  "kernelspec": {
   "display_name": "venv",
   "language": "python",
   "name": "venv"
  },
  "language_info": {
   "codemirror_mode": {
    "name": "ipython",
    "version": 3
   },
   "file_extension": ".py",
   "mimetype": "text/x-python",
   "name": "python",
   "nbconvert_exporter": "python",
   "pygments_lexer": "ipython3",
   "version": "3.7.7"
  }
 },
 "nbformat": 4,
 "nbformat_minor": 5
}
