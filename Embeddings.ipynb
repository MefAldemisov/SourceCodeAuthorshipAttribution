{
 "cells": [
  {
   "cell_type": "markdown",
   "id": "developed-pierre",
   "metadata": {},
   "source": [
    "# Embeddings\n",
    "- [gensim](https://radimrehurek.com/gensim/auto_examples/tutorials/run_annoy.html?highlight=load%20word2vec%20txt#work-with-google-s-word2vec-files) - **why do I need it????**\n",
    "- [tokenizer](https://github.com/google/sentencepiece/blob/master/python/README.md)\n"
   ]
  },
  {
   "cell_type": "markdown",
   "id": "false-digit",
   "metadata": {},
   "source": [
    "## Load data (separate dataset)\n",
    "- the 2008-2016 dataset \n",
    "- python language"
   ]
  },
  {
   "cell_type": "code",
   "execution_count": 1,
   "id": "alpha-butter",
   "metadata": {},
   "outputs": [],
   "source": [
    "import numpy as np\n",
    "import pandas as pd\n",
    "import matplotlib.pyplot as plt\n",
    "import sentencepiece as spm\n",
    "from sklearn.model_selection import train_test_split\n",
    "from sklearn.preprocessing import LabelEncoder, OneHotEncoder\n",
    "import tensorflow as tf\n",
    "from tensorflow import keras\n",
    "from tensorflow.keras import layers\n",
    "from tensorflow.keras import callbacks \n",
    "from tensorflow.keras import optimizers"
   ]
  },
  {
   "cell_type": "code",
   "execution_count": 2,
   "id": "sapphire-match",
   "metadata": {},
   "outputs": [],
   "source": [
    "df = pd.read_csv(\"py_df.csv\")\n",
    "df = df.drop(columns=[\"round\", \"task\", \"solution\", \"file\", \"full_path\", \"Unnamed: 0.1\", \"Unnamed: 0\", \"lang\"])"
   ]
  },
  {
   "cell_type": "markdown",
   "id": "english-republic",
   "metadata": {},
   "source": [
    "- Let's remove the sort files, then select users with the highest amount of files"
   ]
  },
  {
   "cell_type": "markdown",
   "id": "flying-irrigation",
   "metadata": {},
   "source": [
    "- count lines"
   ]
  },
  {
   "cell_type": "code",
   "execution_count": 3,
   "id": "formal-victory",
   "metadata": {},
   "outputs": [
    {
     "data": {
      "text/plain": [
       "count    155359.000000\n",
       "mean         50.815852\n",
       "std          70.495160\n",
       "min           0.000000\n",
       "25%          27.000000\n",
       "50%          41.000000\n",
       "75%          62.000000\n",
       "max       10052.000000\n",
       "Name: n_lines, dtype: float64"
      ]
     },
     "execution_count": 3,
     "metadata": {},
     "output_type": "execute_result"
    }
   ],
   "source": [
    "df[\"n_lines\"] = df.flines.apply(lambda x: str(x).count(\"\\n\"))\n",
    "df[\"n_lines\"].describe()"
   ]
  },
  {
   "cell_type": "markdown",
   "id": "clear-tuner",
   "metadata": {},
   "source": [
    "- let's save files with amount of lines in range `[30; 100]`"
   ]
  },
  {
   "cell_type": "code",
   "execution_count": 4,
   "id": "convinced-geometry",
   "metadata": {},
   "outputs": [
    {
     "data": {
      "text/plain": [
       "count    96347.000000\n",
       "mean        53.112406\n",
       "std         17.997254\n",
       "min         30.000000\n",
       "25%         38.000000\n",
       "50%         49.000000\n",
       "75%         65.000000\n",
       "max        100.000000\n",
       "Name: n_lines, dtype: float64"
      ]
     },
     "execution_count": 4,
     "metadata": {},
     "output_type": "execute_result"
    }
   ],
   "source": [
    "df = df[(df.n_lines>=30)&(df.n_lines<=100)]\n",
    "df.n_lines.describe()"
   ]
  },
  {
   "cell_type": "markdown",
   "id": "hollow-addiction",
   "metadata": {},
   "source": [
    "- let's find avg file length (in chars)"
   ]
  },
  {
   "cell_type": "code",
   "execution_count": 5,
   "id": "premium-change",
   "metadata": {},
   "outputs": [
    {
     "data": {
      "text/plain": [
       "count    96347.000000\n",
       "mean        25.218311\n",
       "std         24.381574\n",
       "min          9.404255\n",
       "25%         21.201266\n",
       "50%         24.256098\n",
       "75%         27.609035\n",
       "max       2305.270270\n",
       "dtype: float64"
      ]
     },
     "execution_count": 5,
     "metadata": {},
     "output_type": "execute_result"
    }
   ],
   "source": [
    "df[\"n_chars\"] = df.flines.apply(lambda x: len(str(x)))\n",
    "(df.n_chars/df.n_lines).describe()"
   ]
  },
  {
   "cell_type": "markdown",
   "id": "stuffed-albany",
   "metadata": {},
   "source": [
    "- suspicious max value let's drop evetyrhing, highter then `100` and look, what's left"
   ]
  },
  {
   "cell_type": "code",
   "execution_count": 7,
   "id": "suburban-regulation",
   "metadata": {},
   "outputs": [],
   "source": [
    "df[\"chars_per_line\"] = df.n_chars/df.n_lines\n",
    "df = df[df.chars_per_line<100]\n",
    "df.describe()"
   ]
  },
  {
   "cell_type": "markdown",
   "id": "cross-circle",
   "metadata": {},
   "source": [
    "- less, then 100 files were removed"
   ]
  },
  {
   "cell_type": "markdown",
   "id": "developmental-jurisdiction",
   "metadata": {},
   "source": [
    "- let's look at the amount of files per participant"
   ]
  },
  {
   "cell_type": "code",
   "execution_count": 9,
   "id": "presidential-explosion",
   "metadata": {},
   "outputs": [
    {
     "data": {
      "text/plain": [
       "[<matplotlib.lines.Line2D at 0x14eb2bc90>]"
      ]
     },
     "execution_count": 9,
     "metadata": {},
     "output_type": "execute_result"
    },
    {
     "data": {
      "image/png": "[encoded data removed]",
      "text/plain": [
       "<Figure size 432x288 with 1 Axes>"
      ]
     },
     "metadata": {
      "needs_background": "light"
     },
     "output_type": "display_data"
    }
   ],
   "source": [
    "plt.plot(np.array(df.username.value_counts()))"
   ]
  },
  {
   "cell_type": "markdown",
   "id": "interested-plaintiff",
   "metadata": {},
   "source": [
    "- Let's collect `20` users with avg amount of files, which is around 100\n",
    "(enough files, but their difference amount is not sufficient)"
   ]
  },
  {
   "cell_type": "code",
   "execution_count": 10,
   "id": "unusual-productivity",
   "metadata": {},
   "outputs": [
    {
     "data": {
      "text/plain": [
       "[<matplotlib.lines.Line2D at 0x14f1b3290>]"
      ]
     },
     "execution_count": 10,
     "metadata": {},
     "output_type": "execute_result"
    },
    {
     "data": {
      "image/png": "[encoded data removed]",
      "text/plain": [
       "<Figure size 432x288 with 1 Axes>"
      ]
     },
     "metadata": {
      "needs_background": "light"
     },
     "output_type": "display_data"
    }
   ],
   "source": [
    "plt.plot(np.array(df.username.value_counts())[:20])"
   ]
  },
  {
   "cell_type": "code",
   "execution_count": 11,
   "id": "protecting-cursor",
   "metadata": {},
   "outputs": [
    {
     "data": {
      "text/html": [
       "<div>\n",
       "<style scoped>\n",
       "    .dataframe tbody tr th:only-of-type {\n",
       "        vertical-align: middle;\n",
       "    }\n",
       "\n",
       "    .dataframe tbody tr th {\n",
       "        vertical-align: top;\n",
       "    }\n",
       "\n",
       "    .dataframe thead th {\n",
       "        text-align: right;\n",
       "    }\n",
       "</style>\n",
       "<table border=\"1\" class=\"dataframe\">\n",
       "  <thead>\n",
       "    <tr style=\"text-align: right;\">\n",
       "      <th></th>\n",
       "      <th>year</th>\n",
       "      <th>username</th>\n",
       "      <th>flines</th>\n",
       "      <th>n_lines</th>\n",
       "      <th>n_chars</th>\n",
       "      <th>chars_per_line</th>\n",
       "    </tr>\n",
       "  </thead>\n",
       "  <tbody>\n",
       "    <tr>\n",
       "      <th>0</th>\n",
       "      <td>2008</td>\n",
       "      <td>mth</td>\n",
       "      <td>#!/usr/bin/env python\\n \\n def comb(a, b):\\n \\...</td>\n",
       "      <td>41</td>\n",
       "      <td>870</td>\n",
       "      <td>21.219512</td>\n",
       "    </tr>\n",
       "    <tr>\n",
       "      <th>6</th>\n",
       "      <td>2008</td>\n",
       "      <td>RalfKistner</td>\n",
       "      <td>#!/usr/bin/python\\n \\n fin = open(\"d.in\", \"r\")...</td>\n",
       "      <td>50</td>\n",
       "      <td>1040</td>\n",
       "      <td>20.800000</td>\n",
       "    </tr>\n",
       "    <tr>\n",
       "      <th>21</th>\n",
       "      <td>2008</td>\n",
       "      <td>lidaobing</td>\n",
       "      <td>import sys\\n \\n def getints(ifile):\\n     retu...</td>\n",
       "      <td>48</td>\n",
       "      <td>931</td>\n",
       "      <td>19.395833</td>\n",
       "    </tr>\n",
       "    <tr>\n",
       "      <th>23</th>\n",
       "      <td>2008</td>\n",
       "      <td>lidaobing</td>\n",
       "      <td>import sys\\n import psyco\\n psyco.full()\\n imp...</td>\n",
       "      <td>85</td>\n",
       "      <td>1911</td>\n",
       "      <td>22.482353</td>\n",
       "    </tr>\n",
       "    <tr>\n",
       "      <th>28</th>\n",
       "      <td>2008</td>\n",
       "      <td>gizzywump</td>\n",
       "      <td>#!/usr/bin/env python\\n \\n import sys\\n \\n CAC...</td>\n",
       "      <td>38</td>\n",
       "      <td>885</td>\n",
       "      <td>23.289474</td>\n",
       "    </tr>\n",
       "  </tbody>\n",
       "</table>\n",
       "</div>"
      ],
      "text/plain": [
       "    year     username                                             flines  \\\n",
       "0   2008          mth  #!/usr/bin/env python\\n \\n def comb(a, b):\\n \\...   \n",
       "6   2008  RalfKistner  #!/usr/bin/python\\n \\n fin = open(\"d.in\", \"r\")...   \n",
       "21  2008    lidaobing  import sys\\n \\n def getints(ifile):\\n     retu...   \n",
       "23  2008    lidaobing  import sys\\n import psyco\\n psyco.full()\\n imp...   \n",
       "28  2008    gizzywump  #!/usr/bin/env python\\n \\n import sys\\n \\n CAC...   \n",
       "\n",
       "    n_lines  n_chars  chars_per_line  \n",
       "0        41      870       21.219512  \n",
       "6        50     1040       20.800000  \n",
       "21       48      931       19.395833  \n",
       "23       85     1911       22.482353  \n",
       "28       38      885       23.289474  "
      ]
     },
     "execution_count": 11,
     "metadata": {},
     "output_type": "execute_result"
    }
   ],
   "source": [
    "users = df.username.value_counts()[:20].index\n",
    "df = df[df.username.isin(users)]\n",
    "df.head()"
   ]
  },
  {
   "cell_type": "markdown",
   "id": "packed-calculation",
   "metadata": {},
   "source": [
    "- Let's look at the amount of files per person in more details"
   ]
  },
  {
   "cell_type": "code",
   "execution_count": 12,
   "id": "upset-waters",
   "metadata": {},
   "outputs": [
    {
     "data": {
      "text/plain": [
       "count     20.000000\n",
       "mean      84.300000\n",
       "std       16.645214\n",
       "min       69.000000\n",
       "25%       73.000000\n",
       "50%       78.000000\n",
       "75%       87.750000\n",
       "max      135.000000\n",
       "Name: username, dtype: float64"
      ]
     },
     "execution_count": 12,
     "metadata": {},
     "output_type": "execute_result"
    }
   ],
   "source": [
    "df.username.value_counts().describe()"
   ]
  },
  {
   "cell_type": "markdown",
   "id": "standing-label",
   "metadata": {},
   "source": [
    "- Hope, this is enough and the contrast between the smallest amount and the max, won't be sufficient"
   ]
  },
  {
   "cell_type": "markdown",
   "id": "first-trading",
   "metadata": {},
   "source": [
    "## Embedding"
   ]
  },
  {
   "cell_type": "code",
   "execution_count": 13,
   "id": "retained-priority",
   "metadata": {},
   "outputs": [
    {
     "data": {
      "text/plain": [
       "[6682, 14, 127, 184, 96091, 96097, 96090, 115, 419, 57, 420, 96084, 1300, 5382]"
      ]
     },
     "execution_count": 13,
     "metadata": {},
     "output_type": "execute_result"
    }
   ],
   "source": [
    "sp = spm.SentencePieceProcessor(model_file='embd/sentencepiece_bpe.model')\n",
    "sp.encode('\\tarr = [int(x) for x in str.split()]')"
   ]
  },
  {
   "cell_type": "code",
   "execution_count": 14,
   "id": "ambient-terry",
   "metadata": {},
   "outputs": [
    {
     "name": "stdout",
     "output_type": "stream",
     "text": [
      "arr = [int(x) for x in str.split()]\n"
     ]
    }
   ],
   "source": [
    "print(sp.decode(sp.encode('    arr = [int(x) for x in str.split()]')))"
   ]
  },
  {
   "cell_type": "markdown",
   "id": "major-vegetation",
   "metadata": {},
   "source": [
    "- **we loose layout features!**"
   ]
  },
  {
   "cell_type": "code",
   "execution_count": 15,
   "id": "caring-wings",
   "metadata": {},
   "outputs": [
    {
     "name": "stderr",
     "output_type": "stream",
     "text": [
      "/Users/alinabogdanova/.local/lib/python3.7/site-packages/ipykernel_launcher.py:2: SettingWithCopyWarning: \n",
      "A value is trying to be set on a copy of a slice from a DataFrame.\n",
      "Try using .loc[row_indexer,col_indexer] = value instead\n",
      "\n",
      "See the caveats in the documentation: https://pandas.pydata.org/pandas-docs/stable/user_guide/indexing.html#returning-a-view-versus-a-copy\n",
      "  \n"
     ]
    },
    {
     "data": {
      "text/html": [
       "<div>\n",
       "<style scoped>\n",
       "    .dataframe tbody tr th:only-of-type {\n",
       "        vertical-align: middle;\n",
       "    }\n",
       "\n",
       "    .dataframe tbody tr th {\n",
       "        vertical-align: top;\n",
       "    }\n",
       "\n",
       "    .dataframe thead th {\n",
       "        text-align: right;\n",
       "    }\n",
       "</style>\n",
       "<table border=\"1\" class=\"dataframe\">\n",
       "  <thead>\n",
       "    <tr style=\"text-align: right;\">\n",
       "      <th></th>\n",
       "      <th>year</th>\n",
       "      <th>n_lines</th>\n",
       "      <th>n_chars</th>\n",
       "      <th>chars_per_line</th>\n",
       "      <th>n_tokens</th>\n",
       "    </tr>\n",
       "  </thead>\n",
       "  <tbody>\n",
       "    <tr>\n",
       "      <th>count</th>\n",
       "      <td>1686.000000</td>\n",
       "      <td>1686.000000</td>\n",
       "      <td>1686.00000</td>\n",
       "      <td>1686.000000</td>\n",
       "      <td>1686.000000</td>\n",
       "    </tr>\n",
       "    <tr>\n",
       "      <th>mean</th>\n",
       "      <td>2012.897390</td>\n",
       "      <td>58.486358</td>\n",
       "      <td>1444.54745</td>\n",
       "      <td>24.543324</td>\n",
       "      <td>371.159549</td>\n",
       "    </tr>\n",
       "    <tr>\n",
       "      <th>std</th>\n",
       "      <td>2.291935</td>\n",
       "      <td>18.141141</td>\n",
       "      <td>558.78286</td>\n",
       "      <td>4.619417</td>\n",
       "      <td>150.535618</td>\n",
       "    </tr>\n",
       "    <tr>\n",
       "      <th>min</th>\n",
       "      <td>2008.000000</td>\n",
       "      <td>30.000000</td>\n",
       "      <td>531.00000</td>\n",
       "      <td>14.732558</td>\n",
       "      <td>118.000000</td>\n",
       "    </tr>\n",
       "    <tr>\n",
       "      <th>25%</th>\n",
       "      <td>2011.000000</td>\n",
       "      <td>44.000000</td>\n",
       "      <td>1032.00000</td>\n",
       "      <td>21.746667</td>\n",
       "      <td>265.000000</td>\n",
       "    </tr>\n",
       "    <tr>\n",
       "      <th>50%</th>\n",
       "      <td>2013.000000</td>\n",
       "      <td>56.000000</td>\n",
       "      <td>1358.00000</td>\n",
       "      <td>24.121212</td>\n",
       "      <td>344.000000</td>\n",
       "    </tr>\n",
       "    <tr>\n",
       "      <th>75%</th>\n",
       "      <td>2015.000000</td>\n",
       "      <td>72.000000</td>\n",
       "      <td>1762.75000</td>\n",
       "      <td>26.712798</td>\n",
       "      <td>455.000000</td>\n",
       "    </tr>\n",
       "    <tr>\n",
       "      <th>max</th>\n",
       "      <td>2016.000000</td>\n",
       "      <td>100.000000</td>\n",
       "      <td>5948.00000</td>\n",
       "      <td>75.291139</td>\n",
       "      <td>2768.000000</td>\n",
       "    </tr>\n",
       "  </tbody>\n",
       "</table>\n",
       "</div>"
      ],
      "text/plain": [
       "              year      n_lines     n_chars  chars_per_line     n_tokens\n",
       "count  1686.000000  1686.000000  1686.00000     1686.000000  1686.000000\n",
       "mean   2012.897390    58.486358  1444.54745       24.543324   371.159549\n",
       "std       2.291935    18.141141   558.78286        4.619417   150.535618\n",
       "min    2008.000000    30.000000   531.00000       14.732558   118.000000\n",
       "25%    2011.000000    44.000000  1032.00000       21.746667   265.000000\n",
       "50%    2013.000000    56.000000  1358.00000       24.121212   344.000000\n",
       "75%    2015.000000    72.000000  1762.75000       26.712798   455.000000\n",
       "max    2016.000000   100.000000  5948.00000       75.291139  2768.000000"
      ]
     },
     "execution_count": 15,
     "metadata": {},
     "output_type": "execute_result"
    }
   ],
   "source": [
    "df.index = np.arange(len(df))\n",
    "df[\"n_tokens\"] = df.flines.apply(lambda x: len(sp.encode(x)))\n",
    "df.describe()"
   ]
  },
  {
   "cell_type": "markdown",
   "id": "sustained-raising",
   "metadata": {},
   "source": [
    "- rm files with amount of tokens less greater, then 500"
   ]
  },
  {
   "cell_type": "code",
   "execution_count": 16,
   "id": "better-baghdad",
   "metadata": {},
   "outputs": [
    {
     "data": {
      "text/html": [
       "<div>\n",
       "<style scoped>\n",
       "    .dataframe tbody tr th:only-of-type {\n",
       "        vertical-align: middle;\n",
       "    }\n",
       "\n",
       "    .dataframe tbody tr th {\n",
       "        vertical-align: top;\n",
       "    }\n",
       "\n",
       "    .dataframe thead th {\n",
       "        text-align: right;\n",
       "    }\n",
       "</style>\n",
       "<table border=\"1\" class=\"dataframe\">\n",
       "  <thead>\n",
       "    <tr style=\"text-align: right;\">\n",
       "      <th></th>\n",
       "      <th>year</th>\n",
       "      <th>n_lines</th>\n",
       "      <th>n_chars</th>\n",
       "      <th>chars_per_line</th>\n",
       "      <th>n_tokens</th>\n",
       "    </tr>\n",
       "  </thead>\n",
       "  <tbody>\n",
       "    <tr>\n",
       "      <th>count</th>\n",
       "      <td>1400.000000</td>\n",
       "      <td>1400.000000</td>\n",
       "      <td>1400.000000</td>\n",
       "      <td>1400.000000</td>\n",
       "      <td>1400.000000</td>\n",
       "    </tr>\n",
       "    <tr>\n",
       "      <th>mean</th>\n",
       "      <td>2012.917143</td>\n",
       "      <td>53.568571</td>\n",
       "      <td>1271.022143</td>\n",
       "      <td>23.829132</td>\n",
       "      <td>322.826429</td>\n",
       "    </tr>\n",
       "    <tr>\n",
       "      <th>std</th>\n",
       "      <td>2.290919</td>\n",
       "      <td>15.063492</td>\n",
       "      <td>390.018832</td>\n",
       "      <td>3.958509</td>\n",
       "      <td>91.062134</td>\n",
       "    </tr>\n",
       "    <tr>\n",
       "      <th>min</th>\n",
       "      <td>2008.000000</td>\n",
       "      <td>30.000000</td>\n",
       "      <td>531.000000</td>\n",
       "      <td>14.732558</td>\n",
       "      <td>118.000000</td>\n",
       "    </tr>\n",
       "    <tr>\n",
       "      <th>25%</th>\n",
       "      <td>2011.000000</td>\n",
       "      <td>41.000000</td>\n",
       "      <td>960.000000</td>\n",
       "      <td>21.412698</td>\n",
       "      <td>250.000000</td>\n",
       "    </tr>\n",
       "    <tr>\n",
       "      <th>50%</th>\n",
       "      <td>2013.000000</td>\n",
       "      <td>52.000000</td>\n",
       "      <td>1248.000000</td>\n",
       "      <td>23.529583</td>\n",
       "      <td>321.000000</td>\n",
       "    </tr>\n",
       "    <tr>\n",
       "      <th>75%</th>\n",
       "      <td>2015.000000</td>\n",
       "      <td>64.000000</td>\n",
       "      <td>1531.250000</td>\n",
       "      <td>25.878261</td>\n",
       "      <td>393.000000</td>\n",
       "    </tr>\n",
       "    <tr>\n",
       "      <th>max</th>\n",
       "      <td>2016.000000</td>\n",
       "      <td>99.000000</td>\n",
       "      <td>2966.000000</td>\n",
       "      <td>42.854545</td>\n",
       "      <td>500.000000</td>\n",
       "    </tr>\n",
       "  </tbody>\n",
       "</table>\n",
       "</div>"
      ],
      "text/plain": [
       "              year      n_lines      n_chars  chars_per_line     n_tokens\n",
       "count  1400.000000  1400.000000  1400.000000     1400.000000  1400.000000\n",
       "mean   2012.917143    53.568571  1271.022143       23.829132   322.826429\n",
       "std       2.290919    15.063492   390.018832        3.958509    91.062134\n",
       "min    2008.000000    30.000000   531.000000       14.732558   118.000000\n",
       "25%    2011.000000    41.000000   960.000000       21.412698   250.000000\n",
       "50%    2013.000000    52.000000  1248.000000       23.529583   321.000000\n",
       "75%    2015.000000    64.000000  1531.250000       25.878261   393.000000\n",
       "max    2016.000000    99.000000  2966.000000       42.854545   500.000000"
      ]
     },
     "execution_count": 16,
     "metadata": {},
     "output_type": "execute_result"
    }
   ],
   "source": [
    "df = df[df.n_tokens<=500]\n",
    "df.describe()"
   ]
  },
  {
   "cell_type": "markdown",
   "id": "ideal-governor",
   "metadata": {},
   "source": [
    "-  let's hope, that `min = 21` is ok"
   ]
  },
  {
   "cell_type": "code",
   "execution_count": 17,
   "id": "checked-street",
   "metadata": {},
   "outputs": [
    {
     "data": {
      "text/plain": [
       "EricStansifer     124\n",
       "lidaobing          98\n",
       "RalfKistner        84\n",
       "gizzywump          75\n",
       "kmod               71\n",
       "gepa               71\n",
       "waitingkuo0527     70\n",
       "Michael            70\n",
       "Fj.                69\n",
       "mth                66\n",
       "pawko              65\n",
       "mihaild            64\n",
       "nitsas             63\n",
       "xtof.durr          63\n",
       "Sp3000             63\n",
       "addie9000          63\n",
       "narri              62\n",
       "linguo             57\n",
       "d.operator         56\n",
       "graygrass          46\n",
       "Name: username, dtype: int64"
      ]
     },
     "execution_count": 17,
     "metadata": {},
     "output_type": "execute_result"
    }
   ],
   "source": [
    "df.username.value_counts()"
   ]
  },
  {
   "cell_type": "code",
   "execution_count": 18,
   "id": "minimal-clothing",
   "metadata": {},
   "outputs": [],
   "source": [
    "df[\"tokens\"] = df.flines.apply(lambda x: sp.encode(x))"
   ]
  },
  {
   "cell_type": "code",
   "execution_count": 19,
   "id": "refined-leisure",
   "metadata": {},
   "outputs": [
    {
     "data": {
      "text/html": [
       "<div>\n",
       "<style scoped>\n",
       "    .dataframe tbody tr th:only-of-type {\n",
       "        vertical-align: middle;\n",
       "    }\n",
       "\n",
       "    .dataframe tbody tr th {\n",
       "        vertical-align: top;\n",
       "    }\n",
       "\n",
       "    .dataframe thead th {\n",
       "        text-align: right;\n",
       "    }\n",
       "</style>\n",
       "<table border=\"1\" class=\"dataframe\">\n",
       "  <thead>\n",
       "    <tr style=\"text-align: right;\">\n",
       "      <th></th>\n",
       "      <th>year</th>\n",
       "      <th>username</th>\n",
       "      <th>flines</th>\n",
       "      <th>n_lines</th>\n",
       "      <th>n_chars</th>\n",
       "      <th>chars_per_line</th>\n",
       "      <th>n_tokens</th>\n",
       "      <th>tokens</th>\n",
       "    </tr>\n",
       "  </thead>\n",
       "  <tbody>\n",
       "    <tr>\n",
       "      <th>0</th>\n",
       "      <td>2008</td>\n",
       "      <td>mth</td>\n",
       "      <td>#!/usr/bin/env python\\n \\n def comb(a, b):\\n \\...</td>\n",
       "      <td>41</td>\n",
       "      <td>870</td>\n",
       "      <td>21.219512</td>\n",
       "      <td>297</td>\n",
       "      <td>[3238, 2785, 96124, 1119, 96124, 1376, 1804, 6...</td>\n",
       "    </tr>\n",
       "    <tr>\n",
       "      <th>1</th>\n",
       "      <td>2008</td>\n",
       "      <td>RalfKistner</td>\n",
       "      <td>#!/usr/bin/python\\n \\n fin = open(\"d.in\", \"r\")...</td>\n",
       "      <td>50</td>\n",
       "      <td>1040</td>\n",
       "      <td>20.800000</td>\n",
       "      <td>335</td>\n",
       "      <td>[3238, 2785, 96124, 1119, 96124, 1796, 3014, 1...</td>\n",
       "    </tr>\n",
       "    <tr>\n",
       "      <th>2</th>\n",
       "      <td>2008</td>\n",
       "      <td>lidaobing</td>\n",
       "      <td>import sys\\n \\n def getints(ifile):\\n     retu...</td>\n",
       "      <td>48</td>\n",
       "      <td>931</td>\n",
       "      <td>19.395833</td>\n",
       "      <td>250</td>\n",
       "      <td>[138, 1149, 63, 398, 7686, 96091, 96073, 252, ...</td>\n",
       "    </tr>\n",
       "    <tr>\n",
       "      <th>3</th>\n",
       "      <td>2008</td>\n",
       "      <td>lidaobing</td>\n",
       "      <td>import sys\\n import psyco\\n psyco.full()\\n imp...</td>\n",
       "      <td>85</td>\n",
       "      <td>1911</td>\n",
       "      <td>22.482353</td>\n",
       "      <td>480</td>\n",
       "      <td>[138, 1149, 138, 20653, 62, 20653, 62, 96084, ...</td>\n",
       "    </tr>\n",
       "    <tr>\n",
       "      <th>4</th>\n",
       "      <td>2008</td>\n",
       "      <td>gizzywump</td>\n",
       "      <td>#!/usr/bin/env python\\n \\n import sys\\n \\n CAC...</td>\n",
       "      <td>38</td>\n",
       "      <td>885</td>\n",
       "      <td>23.289474</td>\n",
       "      <td>285</td>\n",
       "      <td>[3238, 2785, 96124, 1119, 96124, 1376, 1804, 1...</td>\n",
       "    </tr>\n",
       "  </tbody>\n",
       "</table>\n",
       "</div>"
      ],
      "text/plain": [
       "   year     username                                             flines  \\\n",
       "0  2008          mth  #!/usr/bin/env python\\n \\n def comb(a, b):\\n \\...   \n",
       "1  2008  RalfKistner  #!/usr/bin/python\\n \\n fin = open(\"d.in\", \"r\")...   \n",
       "2  2008    lidaobing  import sys\\n \\n def getints(ifile):\\n     retu...   \n",
       "3  2008    lidaobing  import sys\\n import psyco\\n psyco.full()\\n imp...   \n",
       "4  2008    gizzywump  #!/usr/bin/env python\\n \\n import sys\\n \\n CAC...   \n",
       "\n",
       "   n_lines  n_chars  chars_per_line  n_tokens  \\\n",
       "0       41      870       21.219512       297   \n",
       "1       50     1040       20.800000       335   \n",
       "2       48      931       19.395833       250   \n",
       "3       85     1911       22.482353       480   \n",
       "4       38      885       23.289474       285   \n",
       "\n",
       "                                              tokens  \n",
       "0  [3238, 2785, 96124, 1119, 96124, 1376, 1804, 6...  \n",
       "1  [3238, 2785, 96124, 1119, 96124, 1796, 3014, 1...  \n",
       "2  [138, 1149, 63, 398, 7686, 96091, 96073, 252, ...  \n",
       "3  [138, 1149, 138, 20653, 62, 20653, 62, 96084, ...  \n",
       "4  [3238, 2785, 96124, 1119, 96124, 1376, 1804, 1...  "
      ]
     },
     "execution_count": 19,
     "metadata": {},
     "output_type": "execute_result"
    }
   ],
   "source": [
    "df.head()"
   ]
  },
  {
   "cell_type": "code",
   "execution_count": 20,
   "id": "constant-criticism",
   "metadata": {},
   "outputs": [],
   "source": [
    "dataset = df[[\"username\", \"tokens\"]]"
   ]
  },
  {
   "cell_type": "code",
   "execution_count": 21,
   "id": "fixed-december",
   "metadata": {},
   "outputs": [
    {
     "data": {
      "text/html": [
       "<div>\n",
       "<style scoped>\n",
       "    .dataframe tbody tr th:only-of-type {\n",
       "        vertical-align: middle;\n",
       "    }\n",
       "\n",
       "    .dataframe tbody tr th {\n",
       "        vertical-align: top;\n",
       "    }\n",
       "\n",
       "    .dataframe thead th {\n",
       "        text-align: right;\n",
       "    }\n",
       "</style>\n",
       "<table border=\"1\" class=\"dataframe\">\n",
       "  <thead>\n",
       "    <tr style=\"text-align: right;\">\n",
       "      <th></th>\n",
       "      <th>username</th>\n",
       "      <th>tokens</th>\n",
       "    </tr>\n",
       "  </thead>\n",
       "  <tbody>\n",
       "    <tr>\n",
       "      <th>0</th>\n",
       "      <td>mth</td>\n",
       "      <td>[3238, 2785, 96124, 1119, 96124, 1376, 1804, 6...</td>\n",
       "    </tr>\n",
       "    <tr>\n",
       "      <th>1</th>\n",
       "      <td>RalfKistner</td>\n",
       "      <td>[3238, 2785, 96124, 1119, 96124, 1796, 3014, 1...</td>\n",
       "    </tr>\n",
       "    <tr>\n",
       "      <th>2</th>\n",
       "      <td>lidaobing</td>\n",
       "      <td>[138, 1149, 63, 398, 7686, 96091, 96073, 252, ...</td>\n",
       "    </tr>\n",
       "    <tr>\n",
       "      <th>3</th>\n",
       "      <td>lidaobing</td>\n",
       "      <td>[138, 1149, 138, 20653, 62, 20653, 62, 96084, ...</td>\n",
       "    </tr>\n",
       "    <tr>\n",
       "      <th>4</th>\n",
       "      <td>gizzywump</td>\n",
       "      <td>[3238, 2785, 96124, 1119, 96124, 1376, 1804, 1...</td>\n",
       "    </tr>\n",
       "    <tr>\n",
       "      <th>...</th>\n",
       "      <td>...</td>\n",
       "      <td>...</td>\n",
       "    </tr>\n",
       "    <tr>\n",
       "      <th>1678</th>\n",
       "      <td>Michael</td>\n",
       "      <td>[138, 4159, 138, 1149, 63, 921, 96077, 682, 58...</td>\n",
       "    </tr>\n",
       "    <tr>\n",
       "      <th>1682</th>\n",
       "      <td>d.operator</td>\n",
       "      <td>[46, 18331, 2365, 676, 2479, 96084, 233, 96124...</td>\n",
       "    </tr>\n",
       "    <tr>\n",
       "      <th>1683</th>\n",
       "      <td>d.operator</td>\n",
       "      <td>[46, 18331, 2365, 676, 2479, 96084, 233, 96124...</td>\n",
       "    </tr>\n",
       "    <tr>\n",
       "      <th>1684</th>\n",
       "      <td>d.operator</td>\n",
       "      <td>[46, 18331, 2365, 676, 2479, 96084, 233, 96124...</td>\n",
       "    </tr>\n",
       "    <tr>\n",
       "      <th>1685</th>\n",
       "      <td>d.operator</td>\n",
       "      <td>[46, 18331, 2365, 676, 2479, 96084, 233, 96124...</td>\n",
       "    </tr>\n",
       "  </tbody>\n",
       "</table>\n",
       "<p>1400 rows × 2 columns</p>\n",
       "</div>"
      ],
      "text/plain": [
       "         username                                             tokens\n",
       "0             mth  [3238, 2785, 96124, 1119, 96124, 1376, 1804, 6...\n",
       "1     RalfKistner  [3238, 2785, 96124, 1119, 96124, 1796, 3014, 1...\n",
       "2       lidaobing  [138, 1149, 63, 398, 7686, 96091, 96073, 252, ...\n",
       "3       lidaobing  [138, 1149, 138, 20653, 62, 20653, 62, 96084, ...\n",
       "4       gizzywump  [3238, 2785, 96124, 1119, 96124, 1376, 1804, 1...\n",
       "...           ...                                                ...\n",
       "1678      Michael  [138, 4159, 138, 1149, 63, 921, 96077, 682, 58...\n",
       "1682   d.operator  [46, 18331, 2365, 676, 2479, 96084, 233, 96124...\n",
       "1683   d.operator  [46, 18331, 2365, 676, 2479, 96084, 233, 96124...\n",
       "1684   d.operator  [46, 18331, 2365, 676, 2479, 96084, 233, 96124...\n",
       "1685   d.operator  [46, 18331, 2365, 676, 2479, 96084, 233, 96124...\n",
       "\n",
       "[1400 rows x 2 columns]"
      ]
     },
     "execution_count": 21,
     "metadata": {},
     "output_type": "execute_result"
    }
   ],
   "source": [
    "dataset"
   ]
  },
  {
   "cell_type": "markdown",
   "id": "monetary-serum",
   "metadata": {},
   "source": [
    "## Load data\n",
    "Lib selected - tensorflow + keras"
   ]
  },
  {
   "cell_type": "markdown",
   "id": "involved-brake",
   "metadata": {},
   "source": [
    "### Some small notes for future\n",
    "Tensorflow supports python 3.8 as max version. The issue arises on latest Ubuntu/max os-es, when the default python version is 3.9.\n",
    "\n",
    "What was done on MAC-OS-Big-Sur to solve that issue.\n",
    "- [pyenv](https://github.com/pyenv/pyenv) installed\n",
    "```bash\n",
    ">> brew update\n",
    ">> brew install pyenv\n",
    "...\n",
    "```\n",
    "- python 3.7 installation\n",
    "```\n",
    ">> brew install python@3.7\n",
    "```\n",
    "- pyenv added python 3.7\n",
    "```\n",
    ">> pyenv install 3.7.10\n",
    ">> pyenv loacal 3.7.10\n",
    "```\n",
    "- create [myenv](https://www.tensorflow.org/install/pip#2.-create-a-virtual-environment-recommended)\n",
    "```\n",
    ">> python3.7 -m venv myenv\n",
    ">> source myenv/bin/activate.fish\n",
    "```\n",
    "- solution of the final problem - **UPGRADE PIP**\n",
    "- install tensorflow\n",
    "```\n",
    "(myenv)>> pip install --upgrade tensorflow\n",
    "```"
   ]
  },
  {
   "cell_type": "code",
   "execution_count": 22,
   "id": "swiss-reliance",
   "metadata": {},
   "outputs": [
    {
     "name": "stderr",
     "output_type": "stream",
     "text": [
      "/Users/alinabogdanova/Documents/workspace/research/myenv/lib/python3.7/site-packages/pandas/core/generic.py:5491: SettingWithCopyWarning: \n",
      "A value is trying to be set on a copy of a slice from a DataFrame.\n",
      "Try using .loc[row_indexer,col_indexer] = value instead\n",
      "\n",
      "See the caveats in the documentation: https://pandas.pydata.org/pandas-docs/stable/user_guide/indexing.html#returning-a-view-versus-a-copy\n",
      "  self[name] = value\n"
     ]
    }
   ],
   "source": [
    "le = LabelEncoder()\n",
    "dataset.username = le.fit_transform(dataset.username)"
   ]
  },
  {
   "cell_type": "code",
   "execution_count": 23,
   "id": "relative-korea",
   "metadata": {},
   "outputs": [
    {
     "data": {
      "text/html": [
       "<div>\n",
       "<style scoped>\n",
       "    .dataframe tbody tr th:only-of-type {\n",
       "        vertical-align: middle;\n",
       "    }\n",
       "\n",
       "    .dataframe tbody tr th {\n",
       "        vertical-align: top;\n",
       "    }\n",
       "\n",
       "    .dataframe thead th {\n",
       "        text-align: right;\n",
       "    }\n",
       "</style>\n",
       "<table border=\"1\" class=\"dataframe\">\n",
       "  <thead>\n",
       "    <tr style=\"text-align: right;\">\n",
       "      <th></th>\n",
       "      <th>username</th>\n",
       "      <th>tokens</th>\n",
       "    </tr>\n",
       "  </thead>\n",
       "  <tbody>\n",
       "    <tr>\n",
       "      <th>1649</th>\n",
       "      <td>6</td>\n",
       "      <td>[46, 18331, 2365, 676, 2479, 96084, 233, 96124...</td>\n",
       "    </tr>\n",
       "    <tr>\n",
       "      <th>298</th>\n",
       "      <td>17</td>\n",
       "      <td>[46, 1804, 372, 138, 829, 138, 6912, 138, 1149...</td>\n",
       "    </tr>\n",
       "    <tr>\n",
       "      <th>44</th>\n",
       "      <td>8</td>\n",
       "      <td>[3238, 2785, 96124, 1119, 96124, 1376, 1804, 1...</td>\n",
       "    </tr>\n",
       "    <tr>\n",
       "      <th>248</th>\n",
       "      <td>13</td>\n",
       "      <td>[156, 34, 138, 250, 156, 1149, 138, 5928, 63, ...</td>\n",
       "    </tr>\n",
       "    <tr>\n",
       "      <th>1643</th>\n",
       "      <td>0</td>\n",
       "      <td>[46, 1536, 27323, 138, 1149, 20094, 14, 159, 9...</td>\n",
       "    </tr>\n",
       "    <tr>\n",
       "      <th>...</th>\n",
       "      <td>...</td>\n",
       "      <td>...</td>\n",
       "    </tr>\n",
       "    <tr>\n",
       "      <th>1099</th>\n",
       "      <td>6</td>\n",
       "      <td>[46, 1739, 1149, 46, 1739, 1770, 264, 654, 46,...</td>\n",
       "    </tr>\n",
       "    <tr>\n",
       "      <th>1616</th>\n",
       "      <td>16</td>\n",
       "      <td>[96, 177, 2399, 142, 6907, 96085, 36860, 3757,...</td>\n",
       "    </tr>\n",
       "    <tr>\n",
       "      <th>1011</th>\n",
       "      <td>15</td>\n",
       "      <td>[138, 12330, 138, 1149, 138, 20135, 138, 566, ...</td>\n",
       "    </tr>\n",
       "    <tr>\n",
       "      <th>441</th>\n",
       "      <td>13</td>\n",
       "      <td>[156, 34, 138, 250, 156, 1149, 138, 5928, 63, ...</td>\n",
       "    </tr>\n",
       "    <tr>\n",
       "      <th>825</th>\n",
       "      <td>0</td>\n",
       "      <td>[138, 1149, 96085, 566, 57, 96077, 252, 14, 15...</td>\n",
       "    </tr>\n",
       "  </tbody>\n",
       "</table>\n",
       "<p>1400 rows × 2 columns</p>\n",
       "</div>"
      ],
      "text/plain": [
       "      username                                             tokens\n",
       "1649         6  [46, 18331, 2365, 676, 2479, 96084, 233, 96124...\n",
       "298         17  [46, 1804, 372, 138, 829, 138, 6912, 138, 1149...\n",
       "44           8  [3238, 2785, 96124, 1119, 96124, 1376, 1804, 1...\n",
       "248         13  [156, 34, 138, 250, 156, 1149, 138, 5928, 63, ...\n",
       "1643         0  [46, 1536, 27323, 138, 1149, 20094, 14, 159, 9...\n",
       "...        ...                                                ...\n",
       "1099         6  [46, 1739, 1149, 46, 1739, 1770, 264, 654, 46,...\n",
       "1616        16  [96, 177, 2399, 142, 6907, 96085, 36860, 3757,...\n",
       "1011        15  [138, 12330, 138, 1149, 138, 20135, 138, 566, ...\n",
       "441         13  [156, 34, 138, 250, 156, 1149, 138, 5928, 63, ...\n",
       "825          0  [138, 1149, 96085, 566, 57, 96077, 252, 14, 15...\n",
       "\n",
       "[1400 rows x 2 columns]"
      ]
     },
     "execution_count": 23,
     "metadata": {},
     "output_type": "execute_result"
    }
   ],
   "source": [
    "# shuffle dataset\n",
    "dataset = dataset.sample(frac = 1) \n",
    "dataset"
   ]
  },
  {
   "cell_type": "code",
   "execution_count": 24,
   "id": "awful-block",
   "metadata": {},
   "outputs": [],
   "source": [
    "def rsh(x):\n",
    "    arr = np.array(x)\n",
    "    arr.resize(500)\n",
    "    return list(arr)\n",
    "\n",
    "dataset.tokens = dataset.tokens.apply(rsh)"
   ]
  },
  {
   "cell_type": "code",
   "execution_count": 25,
   "id": "exterior-algorithm",
   "metadata": {},
   "outputs": [
    {
     "data": {
      "text/html": [
       "<div>\n",
       "<style scoped>\n",
       "    .dataframe tbody tr th:only-of-type {\n",
       "        vertical-align: middle;\n",
       "    }\n",
       "\n",
       "    .dataframe tbody tr th {\n",
       "        vertical-align: top;\n",
       "    }\n",
       "\n",
       "    .dataframe thead th {\n",
       "        text-align: right;\n",
       "    }\n",
       "</style>\n",
       "<table border=\"1\" class=\"dataframe\">\n",
       "  <thead>\n",
       "    <tr style=\"text-align: right;\">\n",
       "      <th></th>\n",
       "      <th>username</th>\n",
       "      <th>tokens</th>\n",
       "    </tr>\n",
       "  </thead>\n",
       "  <tbody>\n",
       "    <tr>\n",
       "      <th>1649</th>\n",
       "      <td>6</td>\n",
       "      <td>[46, 18331, 2365, 676, 2479, 96084, 233, 96124...</td>\n",
       "    </tr>\n",
       "    <tr>\n",
       "      <th>298</th>\n",
       "      <td>17</td>\n",
       "      <td>[46, 1804, 372, 138, 829, 138, 6912, 138, 1149...</td>\n",
       "    </tr>\n",
       "    <tr>\n",
       "      <th>44</th>\n",
       "      <td>8</td>\n",
       "      <td>[3238, 2785, 96124, 1119, 96124, 1376, 1804, 1...</td>\n",
       "    </tr>\n",
       "    <tr>\n",
       "      <th>248</th>\n",
       "      <td>13</td>\n",
       "      <td>[156, 34, 138, 250, 156, 1149, 138, 5928, 63, ...</td>\n",
       "    </tr>\n",
       "    <tr>\n",
       "      <th>1643</th>\n",
       "      <td>0</td>\n",
       "      <td>[46, 1536, 27323, 138, 1149, 20094, 14, 159, 9...</td>\n",
       "    </tr>\n",
       "    <tr>\n",
       "      <th>...</th>\n",
       "      <td>...</td>\n",
       "      <td>...</td>\n",
       "    </tr>\n",
       "    <tr>\n",
       "      <th>1099</th>\n",
       "      <td>6</td>\n",
       "      <td>[46, 1739, 1149, 46, 1739, 1770, 264, 654, 46,...</td>\n",
       "    </tr>\n",
       "    <tr>\n",
       "      <th>1616</th>\n",
       "      <td>16</td>\n",
       "      <td>[96, 177, 2399, 142, 6907, 96085, 36860, 3757,...</td>\n",
       "    </tr>\n",
       "    <tr>\n",
       "      <th>1011</th>\n",
       "      <td>15</td>\n",
       "      <td>[138, 12330, 138, 1149, 138, 20135, 138, 566, ...</td>\n",
       "    </tr>\n",
       "    <tr>\n",
       "      <th>441</th>\n",
       "      <td>13</td>\n",
       "      <td>[156, 34, 138, 250, 156, 1149, 138, 5928, 63, ...</td>\n",
       "    </tr>\n",
       "    <tr>\n",
       "      <th>825</th>\n",
       "      <td>0</td>\n",
       "      <td>[138, 1149, 96085, 566, 57, 96077, 252, 14, 15...</td>\n",
       "    </tr>\n",
       "  </tbody>\n",
       "</table>\n",
       "<p>1400 rows × 2 columns</p>\n",
       "</div>"
      ],
      "text/plain": [
       "      username                                             tokens\n",
       "1649         6  [46, 18331, 2365, 676, 2479, 96084, 233, 96124...\n",
       "298         17  [46, 1804, 372, 138, 829, 138, 6912, 138, 1149...\n",
       "44           8  [3238, 2785, 96124, 1119, 96124, 1376, 1804, 1...\n",
       "248         13  [156, 34, 138, 250, 156, 1149, 138, 5928, 63, ...\n",
       "1643         0  [46, 1536, 27323, 138, 1149, 20094, 14, 159, 9...\n",
       "...        ...                                                ...\n",
       "1099         6  [46, 1739, 1149, 46, 1739, 1770, 264, 654, 46,...\n",
       "1616        16  [96, 177, 2399, 142, 6907, 96085, 36860, 3757,...\n",
       "1011        15  [138, 12330, 138, 1149, 138, 20135, 138, 566, ...\n",
       "441         13  [156, 34, 138, 250, 156, 1149, 138, 5928, 63, ...\n",
       "825          0  [138, 1149, 96085, 566, 57, 96077, 252, 14, 15...\n",
       "\n",
       "[1400 rows x 2 columns]"
      ]
     },
     "execution_count": 25,
     "metadata": {},
     "output_type": "execute_result"
    }
   ],
   "source": [
    "dataset"
   ]
  },
  {
   "cell_type": "code",
   "execution_count": 26,
   "id": "approximate-planner",
   "metadata": {},
   "outputs": [
    {
     "data": {
      "text/plain": [
       "(1400, 500)"
      ]
     },
     "execution_count": 26,
     "metadata": {},
     "output_type": "execute_result"
    }
   ],
   "source": [
    "X = dataset.tokens.values\n",
    "X = np.array(list(X))\n",
    "X.shape"
   ]
  },
  {
   "cell_type": "code",
   "execution_count": 27,
   "id": "close-differential",
   "metadata": {},
   "outputs": [
    {
     "data": {
      "text/plain": [
       "(1050, 500, 1)"
      ]
     },
     "execution_count": 27,
     "metadata": {},
     "output_type": "execute_result"
    }
   ],
   "source": [
    "X = X.reshape((-1, 500, 1))\n",
    "y = np.array(dataset.username)\n",
    "\n",
    "ohe = OneHotEncoder()\n",
    "y = ohe.fit_transform(y.reshape(-1, 1))\n",
    "y = y.toarray()\n",
    "\n",
    "X_train, X_test, y_train, y_test = train_test_split(X, y)\n",
    "X_train.shape"
   ]
  },
  {
   "cell_type": "markdown",
   "id": "enhanced-professional",
   "metadata": {},
   "source": [
    "### Structure of the model\n",
    "1. CNN:\n",
    "- ks = 50 (function - level)\n",
    "- ks = 10 (line2 - level)\n",
    "- ks = 5 (lene - level)\n",
    "2. Linear ReLU \n",
    "3. softmax 75"
   ]
  },
  {
   "cell_type": "markdown",
   "id": "iraqi-quick",
   "metadata": {},
   "source": [
    "> important note `tanh` activation increases accuracy from 11% to 60% ontraining (50% of test accuracy)\n",
    ">\n",
    "> `linear` function reaches up to 61% of test accuracy"
   ]
  },
  {
   "cell_type": "code",
   "execution_count": 51,
   "id": "forbidden-lebanon",
   "metadata": {},
   "outputs": [
    {
     "name": "stdout",
     "output_type": "stream",
     "text": [
      "Model: \"sequential_7\"\n",
      "_________________________________________________________________\n",
      "Layer (type)                 Output Shape              Param #   \n",
      "=================================================================\n",
      "conv1d_7 (Conv1D)            (None, 491, 150)          1650      \n",
      "_________________________________________________________________\n",
      "max_pooling1d_7 (MaxPooling1 (None, 61, 150)           0         \n",
      "_________________________________________________________________\n",
      "flatten_7 (Flatten)          (None, 9150)              0         \n",
      "_________________________________________________________________\n",
      "dropout_14 (Dropout)         (None, 9150)              0         \n",
      "_________________________________________________________________\n",
      "dense_14 (Dense)             (None, 64)                585664    \n",
      "_________________________________________________________________\n",
      "dropout_15 (Dropout)         (None, 64)                0         \n",
      "_________________________________________________________________\n",
      "dense_15 (Dense)             (None, 20)                1300      \n",
      "=================================================================\n",
      "Total params: 588,614\n",
      "Trainable params: 588,614\n",
      "Non-trainable params: 0\n",
      "_________________________________________________________________\n"
     ]
    }
   ],
   "source": [
    "model = keras.Sequential()\n",
    "model.add(keras.Input(shape=(500, 1)))  \n",
    "model.add(layers.Conv1D(150, 10, activation=\"linear\")) \n",
    "model.add(layers.MaxPooling1D(pool_size=8))\n",
    "model.add(layers.Flatten())\n",
    "model.add(layers.Dropout(0.5))\n",
    "model.add(layers.Dense(64, activation=\"linear\"))\n",
    "model.add(layers.Dropout(0.5))\n",
    "model.add(layers.Dense(20, activation=\"softmax\"))\n",
    "model.summary()"
   ]
  },
  {
   "cell_type": "code",
   "execution_count": 52,
   "id": "thermal-monroe",
   "metadata": {},
   "outputs": [],
   "source": [
    "optimizer = optimizers.Adam(0.1)\n",
    "lr_schedule = callbacks.ReduceLROnPlateau(monitor='val_accuracy', factor=0.5, patience=5, min_delta=0.000001, verbouse=1)\n",
    "model.compile(optimizer = optimizer , loss = \"categorical_crossentropy\", metrics=[\"accuracy\"])"
   ]
  },
  {
   "cell_type": "code",
   "execution_count": 53,
   "id": "scenic-intellectual",
   "metadata": {},
   "outputs": [
    {
     "name": "stdout",
     "output_type": "stream",
     "text": [
      "Epoch 1/100\n",
      "52/52 - 1s - loss: 13984887.0000 - accuracy: 0.1062 - val_loss: 14515340.0000 - val_accuracy: 0.1829\n",
      "Epoch 2/100\n",
      "52/52 - 1s - loss: 26092528.0000 - accuracy: 0.2005 - val_loss: 26890764.0000 - val_accuracy: 0.3400\n",
      "Epoch 3/100\n",
      "52/52 - 1s - loss: 80722776.0000 - accuracy: 0.2170 - val_loss: 78943864.0000 - val_accuracy: 0.2800\n",
      "Epoch 4/100\n",
      "52/52 - 1s - loss: 147038864.0000 - accuracy: 0.2766 - val_loss: 106388136.0000 - val_accuracy: 0.3257\n",
      "Epoch 5/100\n",
      "52/52 - 1s - loss: 166961008.0000 - accuracy: 0.3361 - val_loss: 156073104.0000 - val_accuracy: 0.4086\n",
      "Epoch 6/100\n",
      "52/52 - 1s - loss: 201975936.0000 - accuracy: 0.3828 - val_loss: 186361776.0000 - val_accuracy: 0.4286\n",
      "Epoch 7/100\n",
      "52/52 - 1s - loss: 221577664.0000 - accuracy: 0.4377 - val_loss: 235092080.0000 - val_accuracy: 0.5457\n",
      "Epoch 8/100\n",
      "52/52 - 1s - loss: 277531584.0000 - accuracy: 0.4515 - val_loss: 313194592.0000 - val_accuracy: 0.5371\n",
      "Epoch 9/100\n",
      "52/52 - 1s - loss: 250069904.0000 - accuracy: 0.5641 - val_loss: 267062624.0000 - val_accuracy: 0.6200\n",
      "Epoch 10/100\n",
      "52/52 - 1s - loss: 252682096.0000 - accuracy: 0.5971 - val_loss: 341978496.0000 - val_accuracy: 0.6314\n",
      "Epoch 11/100\n",
      "52/52 - 1s - loss: 273847872.0000 - accuracy: 0.6181 - val_loss: 295722656.0000 - val_accuracy: 0.7086\n",
      "Epoch 12/100\n",
      "52/52 - 1s - loss: 249333120.0000 - accuracy: 0.6731 - val_loss: 442532256.0000 - val_accuracy: 0.6600\n",
      "Epoch 13/100\n",
      "52/52 - 1s - loss: 279016128.0000 - accuracy: 0.6905 - val_loss: 408558272.0000 - val_accuracy: 0.6943\n",
      "Epoch 14/100\n",
      "52/52 - 1s - loss: 282751552.0000 - accuracy: 0.7042 - val_loss: 478029888.0000 - val_accuracy: 0.7057\n",
      "Epoch 15/100\n",
      "52/52 - 1s - loss: 284930528.0000 - accuracy: 0.7399 - val_loss: 598961728.0000 - val_accuracy: 0.7143\n",
      "Epoch 16/100\n",
      "52/52 - 1s - loss: 351643840.0000 - accuracy: 0.7317 - val_loss: 659076736.0000 - val_accuracy: 0.6971\n",
      "Epoch 17/100\n",
      "52/52 - 1s - loss: 327276480.0000 - accuracy: 0.7592 - val_loss: 618625600.0000 - val_accuracy: 0.7343\n",
      "Epoch 18/100\n",
      "52/52 - 1s - loss: 323495808.0000 - accuracy: 0.7958 - val_loss: 923931328.0000 - val_accuracy: 0.7286\n",
      "Epoch 19/100\n",
      "52/52 - 1s - loss: 378130880.0000 - accuracy: 0.7802 - val_loss: 903241856.0000 - val_accuracy: 0.7343\n",
      "Epoch 20/100\n",
      "52/52 - 1s - loss: 278185504.0000 - accuracy: 0.8141 - val_loss: 952039808.0000 - val_accuracy: 0.7714\n",
      "Epoch 21/100\n",
      "52/52 - 1s - loss: 324425600.0000 - accuracy: 0.8397 - val_loss: 960687424.0000 - val_accuracy: 0.7800\n",
      "Epoch 22/100\n",
      "52/52 - 1s - loss: 343748992.0000 - accuracy: 0.8297 - val_loss: 1061319104.0000 - val_accuracy: 0.7571\n",
      "Epoch 23/100\n",
      "52/52 - 1s - loss: 420239840.0000 - accuracy: 0.8434 - val_loss: 1031119616.0000 - val_accuracy: 0.7629\n",
      "Epoch 24/100\n",
      "52/52 - 1s - loss: 348097664.0000 - accuracy: 0.8516 - val_loss: 1304395904.0000 - val_accuracy: 0.7543\n",
      "Epoch 25/100\n",
      "52/52 - 1s - loss: 430025632.0000 - accuracy: 0.8562 - val_loss: 1422638208.0000 - val_accuracy: 0.7686\n",
      "Epoch 26/100\n",
      "52/52 - 1s - loss: 387694336.0000 - accuracy: 0.8672 - val_loss: 1571822208.0000 - val_accuracy: 0.7714\n",
      "Epoch 27/100\n",
      "52/52 - 1s - loss: 247070640.0000 - accuracy: 0.9038 - val_loss: 1604266752.0000 - val_accuracy: 0.7886\n",
      "Epoch 28/100\n",
      "52/52 - 1s - loss: 141040272.0000 - accuracy: 0.9432 - val_loss: 1406539904.0000 - val_accuracy: 0.7943\n",
      "Epoch 29/100\n",
      "52/52 - 1s - loss: 134612768.0000 - accuracy: 0.9451 - val_loss: 1429012992.0000 - val_accuracy: 0.7886\n",
      "Epoch 30/100\n",
      "52/52 - 1s - loss: 104423160.0000 - accuracy: 0.9570 - val_loss: 1449910784.0000 - val_accuracy: 0.7800\n",
      "Epoch 31/100\n",
      "52/52 - 1s - loss: 86253552.0000 - accuracy: 0.9478 - val_loss: 1541203584.0000 - val_accuracy: 0.7971\n",
      "Epoch 32/100\n",
      "52/52 - 1s - loss: 92573168.0000 - accuracy: 0.9524 - val_loss: 1452240256.0000 - val_accuracy: 0.8029\n",
      "Epoch 33/100\n",
      "52/52 - 1s - loss: 76580576.0000 - accuracy: 0.9579 - val_loss: 1417908864.0000 - val_accuracy: 0.8029\n",
      "Epoch 34/100\n",
      "52/52 - 1s - loss: 61153052.0000 - accuracy: 0.9634 - val_loss: 1401201024.0000 - val_accuracy: 0.7943\n",
      "Epoch 35/100\n",
      "52/52 - 1s - loss: 74414288.0000 - accuracy: 0.9597 - val_loss: 1468313600.0000 - val_accuracy: 0.7857\n",
      "Epoch 36/100\n",
      "52/52 - 1s - loss: 58642536.0000 - accuracy: 0.9670 - val_loss: 1419694848.0000 - val_accuracy: 0.7943\n",
      "Epoch 37/100\n",
      "52/52 - 1s - loss: 64651660.0000 - accuracy: 0.9643 - val_loss: 1422311296.0000 - val_accuracy: 0.7743\n",
      "Epoch 38/100\n",
      "52/52 - 1s - loss: 60573516.0000 - accuracy: 0.9652 - val_loss: 1442015104.0000 - val_accuracy: 0.7886\n",
      "Epoch 39/100\n",
      "52/52 - 1s - loss: 44975072.0000 - accuracy: 0.9753 - val_loss: 1448441600.0000 - val_accuracy: 0.7743\n",
      "Epoch 40/100\n",
      "52/52 - 1s - loss: 44072076.0000 - accuracy: 0.9744 - val_loss: 1472957312.0000 - val_accuracy: 0.7857\n",
      "Epoch 41/100\n",
      "52/52 - 1s - loss: 42981088.0000 - accuracy: 0.9762 - val_loss: 1415344128.0000 - val_accuracy: 0.7886\n",
      "Epoch 42/100\n",
      "52/52 - 1s - loss: 44715472.0000 - accuracy: 0.9707 - val_loss: 1398932736.0000 - val_accuracy: 0.7971\n",
      "Epoch 43/100\n",
      "52/52 - 1s - loss: 18185444.0000 - accuracy: 0.9872 - val_loss: 1401827072.0000 - val_accuracy: 0.7943\n",
      "Epoch 44/100\n",
      "52/52 - 1s - loss: 21258394.0000 - accuracy: 0.9835 - val_loss: 1384810112.0000 - val_accuracy: 0.7943\n",
      "Epoch 45/100\n",
      "52/52 - 1s - loss: 47125080.0000 - accuracy: 0.9771 - val_loss: 1389402496.0000 - val_accuracy: 0.8000\n",
      "Epoch 46/100\n",
      "52/52 - 1s - loss: 29286384.0000 - accuracy: 0.9808 - val_loss: 1348997120.0000 - val_accuracy: 0.7857\n",
      "Epoch 47/100\n",
      "52/52 - 1s - loss: 29461684.0000 - accuracy: 0.9826 - val_loss: 1372339328.0000 - val_accuracy: 0.8000\n",
      "Epoch 48/100\n",
      "52/52 - 1s - loss: 31161620.0000 - accuracy: 0.9817 - val_loss: 1354484608.0000 - val_accuracy: 0.8000\n",
      "Epoch 49/100\n",
      "52/52 - 1s - loss: 33950392.0000 - accuracy: 0.9808 - val_loss: 1347437824.0000 - val_accuracy: 0.8000\n",
      "Epoch 50/100\n",
      "52/52 - 1s - loss: 25765572.0000 - accuracy: 0.9844 - val_loss: 1367046912.0000 - val_accuracy: 0.8029\n",
      "Epoch 51/100\n",
      "52/52 - 1s - loss: 25197900.0000 - accuracy: 0.9808 - val_loss: 1350364928.0000 - val_accuracy: 0.7914\n",
      "Epoch 52/100\n",
      "52/52 - 1s - loss: 32388130.0000 - accuracy: 0.9780 - val_loss: 1339710848.0000 - val_accuracy: 0.7943\n",
      "Epoch 53/100\n",
      "52/52 - 1s - loss: 14560432.0000 - accuracy: 0.9899 - val_loss: 1342162304.0000 - val_accuracy: 0.7943\n",
      "Epoch 54/100\n",
      "52/52 - 1s - loss: 13454987.0000 - accuracy: 0.9881 - val_loss: 1352577152.0000 - val_accuracy: 0.7943\n",
      "Epoch 55/100\n",
      "52/52 - 1s - loss: 33184116.0000 - accuracy: 0.9835 - val_loss: 1346826368.0000 - val_accuracy: 0.7943\n",
      "Epoch 56/100\n",
      "52/52 - 1s - loss: 21253576.0000 - accuracy: 0.9853 - val_loss: 1347237632.0000 - val_accuracy: 0.7914\n",
      "Epoch 57/100\n",
      "52/52 - 1s - loss: 11378189.0000 - accuracy: 0.9872 - val_loss: 1359966592.0000 - val_accuracy: 0.7971\n",
      "Epoch 58/100\n",
      "52/52 - 1s - loss: 27089252.0000 - accuracy: 0.9817 - val_loss: 1354500992.0000 - val_accuracy: 0.7914\n",
      "Epoch 59/100\n",
      "52/52 - 1s - loss: 20303084.0000 - accuracy: 0.9863 - val_loss: 1352562176.0000 - val_accuracy: 0.7914\n",
      "Epoch 60/100\n",
      "52/52 - 1s - loss: 24428978.0000 - accuracy: 0.9863 - val_loss: 1349110784.0000 - val_accuracy: 0.7914\n",
      "Epoch 61/100\n",
      "52/52 - 1s - loss: 22252292.0000 - accuracy: 0.9835 - val_loss: 1344508800.0000 - val_accuracy: 0.7943\n",
      "Epoch 62/100\n",
      "52/52 - 1s - loss: 11911628.0000 - accuracy: 0.9890 - val_loss: 1343683840.0000 - val_accuracy: 0.7943\n",
      "Epoch 63/100\n",
      "52/52 - 1s - loss: 30418384.0000 - accuracy: 0.9780 - val_loss: 1343274624.0000 - val_accuracy: 0.7943\n",
      "Epoch 64/100\n",
      "52/52 - 1s - loss: 8976827.0000 - accuracy: 0.9927 - val_loss: 1340464896.0000 - val_accuracy: 0.7943\n",
      "Epoch 65/100\n",
      "52/52 - 1s - loss: 9930071.0000 - accuracy: 0.9945 - val_loss: 1338667008.0000 - val_accuracy: 0.7943\n",
      "Epoch 66/100\n",
      "52/52 - 1s - loss: 40942388.0000 - accuracy: 0.9753 - val_loss: 1335890560.0000 - val_accuracy: 0.8000\n",
      "Epoch 67/100\n",
      "52/52 - 1s - loss: 18317098.0000 - accuracy: 0.9881 - val_loss: 1335728128.0000 - val_accuracy: 0.8000\n",
      "Epoch 68/100\n",
      "52/52 - 1s - loss: 16616977.0000 - accuracy: 0.9890 - val_loss: 1335939712.0000 - val_accuracy: 0.8000\n",
      "Epoch 69/100\n",
      "52/52 - 1s - loss: 18165444.0000 - accuracy: 0.9835 - val_loss: 1336162560.0000 - val_accuracy: 0.8000\n",
      "Epoch 70/100\n",
      "52/52 - 1s - loss: 16608830.0000 - accuracy: 0.9863 - val_loss: 1336353280.0000 - val_accuracy: 0.8000\n",
      "Epoch 71/100\n",
      "52/52 - 1s - loss: 14033480.0000 - accuracy: 0.9826 - val_loss: 1336728576.0000 - val_accuracy: 0.8000\n",
      "Epoch 72/100\n",
      "52/52 - 1s - loss: 17231744.0000 - accuracy: 0.9872 - val_loss: 1336527232.0000 - val_accuracy: 0.8000\n",
      "Epoch 73/100\n",
      "52/52 - 1s - loss: 25769012.0000 - accuracy: 0.9853 - val_loss: 1335988864.0000 - val_accuracy: 0.8000\n",
      "Epoch 74/100\n",
      "52/52 - 1s - loss: 12806555.0000 - accuracy: 0.9890 - val_loss: 1336320000.0000 - val_accuracy: 0.8000\n",
      "Epoch 75/100\n",
      "52/52 - 1s - loss: 25459460.0000 - accuracy: 0.9826 - val_loss: 1336270208.0000 - val_accuracy: 0.8000\n",
      "Epoch 76/100\n",
      "52/52 - 1s - loss: 10648313.0000 - accuracy: 0.9872 - val_loss: 1335853952.0000 - val_accuracy: 0.8000\n",
      "Epoch 77/100\n",
      "52/52 - 1s - loss: 11651311.0000 - accuracy: 0.9899 - val_loss: 1335615872.0000 - val_accuracy: 0.8000\n",
      "Epoch 78/100\n",
      "52/52 - 1s - loss: 22399014.0000 - accuracy: 0.9844 - val_loss: 1335143424.0000 - val_accuracy: 0.8000\n",
      "Epoch 79/100\n",
      "52/52 - 1s - loss: 19683760.0000 - accuracy: 0.9872 - val_loss: 1335196032.0000 - val_accuracy: 0.8000\n",
      "Epoch 80/100\n",
      "52/52 - 1s - loss: 17792096.0000 - accuracy: 0.9872 - val_loss: 1335411584.0000 - val_accuracy: 0.8000\n",
      "Epoch 81/100\n",
      "52/52 - 1s - loss: 34328532.0000 - accuracy: 0.9817 - val_loss: 1335424768.0000 - val_accuracy: 0.8000\n",
      "Epoch 82/100\n",
      "52/52 - 1s - loss: 25998816.0000 - accuracy: 0.9753 - val_loss: 1335298944.0000 - val_accuracy: 0.8000\n",
      "Epoch 83/100\n",
      "52/52 - 1s - loss: 24359982.0000 - accuracy: 0.9844 - val_loss: 1335418752.0000 - val_accuracy: 0.8000\n",
      "Epoch 84/100\n",
      "52/52 - 1s - loss: 36324740.0000 - accuracy: 0.9835 - val_loss: 1335509888.0000 - val_accuracy: 0.8000\n",
      "Epoch 85/100\n",
      "52/52 - 1s - loss: 17826102.0000 - accuracy: 0.9881 - val_loss: 1335627776.0000 - val_accuracy: 0.8000\n",
      "Epoch 86/100\n",
      "52/52 - 1s - loss: 25428526.0000 - accuracy: 0.9826 - val_loss: 1335433600.0000 - val_accuracy: 0.8000\n",
      "Epoch 87/100\n",
      "52/52 - 1s - loss: 12636484.0000 - accuracy: 0.9872 - val_loss: 1335592448.0000 - val_accuracy: 0.8000\n",
      "Epoch 88/100\n",
      "52/52 - 1s - loss: 28258948.0000 - accuracy: 0.9863 - val_loss: 1335535360.0000 - val_accuracy: 0.8000\n",
      "Epoch 89/100\n",
      "52/52 - 1s - loss: 21907230.0000 - accuracy: 0.9899 - val_loss: 1335483776.0000 - val_accuracy: 0.8000\n",
      "Epoch 90/100\n",
      "52/52 - 1s - loss: 19481274.0000 - accuracy: 0.9899 - val_loss: 1335362816.0000 - val_accuracy: 0.8000\n",
      "Epoch 91/100\n",
      "52/52 - 1s - loss: 15470826.0000 - accuracy: 0.9853 - val_loss: 1335292800.0000 - val_accuracy: 0.8000\n",
      "Epoch 92/100\n",
      "52/52 - 1s - loss: 10439711.0000 - accuracy: 0.9881 - val_loss: 1335252224.0000 - val_accuracy: 0.8000\n",
      "Epoch 93/100\n",
      "52/52 - 1s - loss: 10089744.0000 - accuracy: 0.9890 - val_loss: 1335266176.0000 - val_accuracy: 0.8000\n",
      "Epoch 94/100\n",
      "52/52 - 1s - loss: 23852006.0000 - accuracy: 0.9908 - val_loss: 1335288320.0000 - val_accuracy: 0.8000\n",
      "Epoch 95/100\n",
      "52/52 - 1s - loss: 15681995.0000 - accuracy: 0.9890 - val_loss: 1335329024.0000 - val_accuracy: 0.8000\n",
      "Epoch 96/100\n",
      "52/52 - 1s - loss: 14130559.0000 - accuracy: 0.9844 - val_loss: 1335353472.0000 - val_accuracy: 0.8000\n",
      "Epoch 97/100\n",
      "WARNING:tensorflow:Your input ran out of data; interrupting training. Make sure that your dataset or generator can generate at least `steps_per_epoch * epochs` batches (in this case, 5200 batches). You may need to use the repeat() function when building your dataset.\n",
      "52/52 - 0s - loss: 2120637.0000 - accuracy: 0.9821 - val_loss: 1335367680.0000 - val_accuracy: 0.8000\n"
     ]
    }
   ],
   "source": [
    "epochs = 100\n",
    "batch_size = 20\n",
    "history = model.fit(x=X_train, y=y_train, epochs = epochs, \n",
    "                    validation_data = (X_test,y_test),\n",
    "                    steps_per_epoch=X_train.shape[0] // batch_size,\n",
    "                    verbose=2, \n",
    "                    callbacks=[lr_schedule])"
   ]
  },
  {
   "cell_type": "code",
   "execution_count": 54,
   "id": "through-feelings",
   "metadata": {},
   "outputs": [
    {
     "data": {
      "image/png": "[encoded data removed]",
      "text/plain": [
       "<Figure size 864x360 with 2 Axes>"
      ]
     },
     "metadata": {
      "needs_background": "light"
     },
     "output_type": "display_data"
    }
   ],
   "source": [
    "def plot_training(history):\n",
    "    fig = plt.figure(figsize=(12, 5))\n",
    "    plt.subplot(121)\n",
    "    plt.title(\"Loss\")\n",
    "    plt.plot(history.history['loss'], color='b', label=\"Training loss\")\n",
    "    plt.plot(history.history['val_loss'], color='r', label=\"validation loss\")\n",
    "    plt.legend(loc='best', shadow=True)\n",
    "\n",
    "    plt.subplot(122)\n",
    "    plt.title(\"Accuracy\")\n",
    "    plt.plot(history.history['accuracy'], color='b', label=\"Training accuracy\")\n",
    "    plt.plot(history.history['val_accuracy'], color='r',label=\"Validation accuracy\")\n",
    "    plt.legend(loc='best', shadow=True)\n",
    "    return fig\n",
    "\n",
    "f = plot_training(history)"
   ]
  },
  {
   "cell_type": "markdown",
   "id": "tested-developer",
   "metadata": {},
   "source": [
    "#### 64% test accuracy\n",
    "\n",
    "```python\n",
    "model = keras.Sequential()\n",
    "model.add(keras.Input(shape=(500, 1)))  \n",
    "model.add(layers.Conv1D(100, 32, activation=\"linear\"))\n",
    "model.add(layers.MaxPooling1D(pool_size=4))\n",
    "model.add(layers.Flatten())\n",
    "model.add(layers.Dropout(0.5))\n",
    "model.add(layers.Dense(32, activation=\"linear\"))\n",
    "model.add(layers.Dropout(0.5))\n",
    "model.add(layers.Dense(20, activation=\"softmax\"))\n",
    "model.summary()\n",
    "```\n",
    "\n",
    "#### up to 76% test accuracy\n",
    "```python\n",
    "model = keras.Sequential()\n",
    "model.add(keras.Input(shape=(500, 1)))  \n",
    "model.add(layers.Conv1D(100, 16, activation=\"linear\")) \n",
    "model.add(layers.MaxPooling1D(pool_size=4))\n",
    "model.add(layers.Flatten())\n",
    "model.add(layers.Dropout(0.5))\n",
    "model.add(layers.Dense(64, activation=\"linear\"))\n",
    "model.add(layers.Dropout(0.5))\n",
    "model.add(layers.Dense(20, activation=\"softmax\"))\n",
    "model.summary()\n",
    "```\n",
    "\n",
    "#### converges to 76% test accuracy\n",
    "```python\n",
    "model = keras.Sequential()\n",
    "model.add(keras.Input(shape=(500, 1)))  \n",
    "model.add(layers.Conv1D(100, 8, activation=\"linear\")) \n",
    "model.add(layers.MaxPooling1D(pool_size=4))\n",
    "model.add(layers.Flatten())\n",
    "model.add(layers.Dropout(0.5))\n",
    "model.add(layers.Dense(64, activation=\"linear\"))\n",
    "model.add(layers.Dropout(0.5))\n",
    "model.add(layers.Dense(20, activation=\"softmax\"))\n",
    "model.summary()\n",
    "```\n",
    "\n",
    "#### 77% of test accuracy\n",
    "```python\n",
    "model = keras.Sequential()\n",
    "model.add(keras.Input(shape=(500, 1))) \n",
    "model.add(layers.Conv1D(150, 8, activation=\"linear\")) \n",
    "model.add(layers.MaxPooling1D(pool_size=6))\n",
    "model.add(layers.Flatten())\n",
    "model.add(layers.Dropout(0.5))\n",
    "model.add(layers.Dense(64, activation=\"linear\"))\n",
    "model.add(layers.Dropout(0.5))\n",
    "model.add(layers.Dense(20, activation=\"softmax\"))\n",
    "model.summary()\n",
    "```\n",
    "\n",
    "#### confident 81%\n",
    "```python\n",
    "model = keras.Sequential()\n",
    "model.add(keras.Input(shape=(500, 1)))  \n",
    "model.add(layers.Conv1D(128, 16, activation=\"linear\")) \n",
    "model.add(layers.MaxPooling1D(pool_size=8))\n",
    "model.add(layers.Flatten())\n",
    "model.add(layers.Dropout(0.5))\n",
    "model.add(layers.Dense(64, activation=\"linear\"))\n",
    "model.add(layers.Dropout(0.5))\n",
    "model.add(layers.Dense(20, activation=\"softmax\"))\n",
    "model.summary()\n",
    "```\n",
    "\n",
    "#### up to 81.71%\n",
    "```python\n",
    "model = keras.Sequential()\n",
    "model.add(keras.Input(shape=(500, 1))) \n",
    "model.add(layers.Conv1D(128, 16, activation=\"linear\", strides=2)) \n",
    "model.add(layers.MaxPooling1D(pool_size=8))\n",
    "model.add(layers.Flatten())\n",
    "model.add(layers.Dropout(0.5))\n",
    "model.add(layers.Dense(64, activation=\"linear\"))\n",
    "model.add(layers.Dropout(0.5))\n",
    "model.add(layers.Dense(20, activation=\"softmax\"))\n",
    "model.summary()\n",
    "```\n",
    "\n",
    "#### converges to 80%\n",
    "```python\n",
    "model = keras.Sequential()\n",
    "model.add(keras.Input(shape=(500, 1)))  \n",
    "model.add(layers.Conv1D(150, 10, activation=\"linear\")) \n",
    "model.add(layers.MaxPooling1D(pool_size=8))\n",
    "model.add(layers.Flatten())\n",
    "model.add(layers.Dropout(0.5))\n",
    "model.add(layers.Dense(64, activation=\"linear\"))\n",
    "model.add(layers.Dropout(0.5))\n",
    "model.add(layers.Dense(20, activation=\"softmax\"))\n",
    "model.summary()\n",
    "```\n",
    "\n",
    "- Also the structures with 2 Convolutional layers were tested (up to 50% accuracy)\n",
    "- Avg Pooling works poarly due to the fact, that the initial data is not normalized"
   ]
  },
  {
   "cell_type": "code",
   "execution_count": 55,
   "id": "familiar-superior",
   "metadata": {},
   "outputs": [
    {
     "data": {
      "image/png": "[encoded data removed]",
      "text/plain": [
       "<Figure size 720x720 with 2 Axes>"
      ]
     },
     "metadata": {
      "needs_background": "light"
     },
     "output_type": "display_data"
    }
   ],
   "source": [
    "from sklearn.metrics import confusion_matrix\n",
    "import itertools\n",
    "\n",
    "def plt_conf_matrix(cm, classes):\n",
    "    cmap=plt.cm.Blues\n",
    "    plt.figure(figsize=(10, 10))\n",
    "    plt.imshow(cm, interpolation=\"nearest\", cmap=cmap)\n",
    "    plt.title(\"Confusion matrix\")\n",
    "    plt.colorbar()\n",
    "    tick_marks = np.arange(len(classes))\n",
    "    plt.xticks(tick_marks, classes, rotation=45)\n",
    "    plt.yticks(tick_marks, classes)\n",
    "\n",
    "\n",
    "    thresh = cm.max() / 2.\n",
    "    for i, j in itertools.product(range(cm.shape[0]), range(cm.shape[1])):\n",
    "        plt.text(j, i, cm[i, j],\n",
    "                 horizontalalignment=\"center\",\n",
    "                 color=\"white\" if cm[i, j] > thresh else \"black\")\n",
    "\n",
    "    plt.tight_layout()\n",
    "    plt.ylabel(\"True label\")\n",
    "    plt.xlabel(\"Predicted label\")\n",
    "     \n",
    "\n",
    "y_pred = model.predict(X_test)\n",
    "y_pred_classes = np.argmax(y_pred, axis = 1) \n",
    "y_true = np.argmax(y_test, axis = 1) \n",
    "confusion_mtx = confusion_matrix(y_true, y_pred_classes) \n",
    "plt_conf_matrix(confusion_mtx, classes = range(20))"
   ]
  },
  {
   "cell_type": "code",
   "execution_count": 56,
   "id": "political-correspondence",
   "metadata": {},
   "outputs": [],
   "source": [
    "model.save('model.h5')"
   ]
  },
  {
   "cell_type": "markdown",
   "id": "congressional-bikini",
   "metadata": {},
   "source": [
    "I don't know, what are these ebbeddings, but...\n",
    "\n",
    "## Let's apply normalization\n",
    "(thus `relu`, `than` and other activations may be used)"
   ]
  },
  {
   "cell_type": "code",
   "execution_count": 57,
   "id": "weekly-society",
   "metadata": {},
   "outputs": [],
   "source": [
    "from sklearn.preprocessing import StandardScaler"
   ]
  },
  {
   "cell_type": "code",
   "execution_count": 58,
   "id": "collect-reservoir",
   "metadata": {},
   "outputs": [
    {
     "name": "stdout",
     "output_type": "stream",
     "text": [
      "0 18006.075955714285 96164\n"
     ]
    }
   ],
   "source": [
    "print(X.min(), X.mean(), X.max())"
   ]
  },
  {
   "cell_type": "markdown",
   "id": "molecular-interest",
   "metadata": {},
   "source": [
    "As it can be seen, the avg value is far from it's maximum value, thus it is more readonable to apply Standard Scaling"
   ]
  },
  {
   "cell_type": "code",
   "execution_count": 59,
   "id": "fancy-advisory",
   "metadata": {},
   "outputs": [
    {
     "data": {
      "text/plain": [
       "(1050, 500, 1)"
      ]
     },
     "execution_count": 59,
     "metadata": {},
     "output_type": "execute_result"
    }
   ],
   "source": [
    "ss = StandardScaler()\n",
    "X = X.reshape((-1, 500))\n",
    "X = ss.fit_transform(X)\n",
    "X = X.reshape((-1, 500, 1))\n",
    "\n",
    "X_train, X_test, y_train, y_test = train_test_split(X, y)\n",
    "X_train.shape"
   ]
  },
  {
   "cell_type": "code",
   "execution_count": 84,
   "id": "substantial-sunset",
   "metadata": {},
   "outputs": [
    {
     "name": "stdout",
     "output_type": "stream",
     "text": [
      "Model: \"sequential_16\"\n",
      "_________________________________________________________________\n",
      "Layer (type)                 Output Shape              Param #   \n",
      "=================================================================\n",
      "conv1d_20 (Conv1D)           (None, 485, 64)           1088      \n",
      "_________________________________________________________________\n",
      "max_pooling1d_17 (MaxPooling (None, 60, 64)            0         \n",
      "_________________________________________________________________\n",
      "conv1d_21 (Conv1D)           (None, 57, 32)            8224      \n",
      "_________________________________________________________________\n",
      "max_pooling1d_18 (MaxPooling (None, 7, 32)             0         \n",
      "_________________________________________________________________\n",
      "flatten_16 (Flatten)         (None, 224)               0         \n",
      "_________________________________________________________________\n",
      "dropout_32 (Dropout)         (None, 224)               0         \n",
      "_________________________________________________________________\n",
      "dense_32 (Dense)             (None, 64)                14400     \n",
      "_________________________________________________________________\n",
      "dropout_33 (Dropout)         (None, 64)                0         \n",
      "_________________________________________________________________\n",
      "dense_33 (Dense)             (None, 20)                1300      \n",
      "=================================================================\n",
      "Total params: 25,012\n",
      "Trainable params: 25,012\n",
      "Non-trainable params: 0\n",
      "_________________________________________________________________\n"
     ]
    }
   ],
   "source": [
    "model = keras.Sequential()\n",
    "model.add(keras.Input(shape=(500, 1)))\n",
    "model.add(layers.Conv1D(64, 16, activation=\"tanh\"))\n",
    "model.add(layers.MaxPooling1D(pool_size=8))\n",
    "model.add(layers.Conv1D(32, 4, activation=\"linear\")) \n",
    "model.add(layers.MaxPooling1D(pool_size=8))\n",
    "model.add(layers.Flatten())\n",
    "model.add(layers.Dropout(0.5))\n",
    "model.add(layers.Dense(64, activation=\"linear\"))\n",
    "model.add(layers.Dropout(0.5))\n",
    "model.add(layers.Dense(20, activation=\"softmax\"))\n",
    "model.summary()"
   ]
  },
  {
   "cell_type": "code",
   "execution_count": 85,
   "id": "floating-adolescent",
   "metadata": {},
   "outputs": [],
   "source": [
    "optimizer = optimizers.Adam(0.01)\n",
    "lr_schedule = callbacks.ReduceLROnPlateau(monitor='val_accuracy', factor=0.5, patience=5, min_delta=0.000001, verbouse=1)\n",
    "model.compile(optimizer = optimizer , loss = \"categorical_crossentropy\", metrics=[\"accuracy\"])"
   ]
  },
  {
   "cell_type": "code",
   "execution_count": 86,
   "id": "alert-friendly",
   "metadata": {},
   "outputs": [
    {
     "name": "stdout",
     "output_type": "stream",
     "text": [
      "Epoch 1/100\n",
      "52/52 - 1s - loss: 3.1951 - accuracy: 0.0870 - val_loss: 2.6906 - val_accuracy: 0.2200\n",
      "Epoch 2/100\n",
      "52/52 - 1s - loss: 2.7350 - accuracy: 0.2152 - val_loss: 2.3566 - val_accuracy: 0.3486\n",
      "Epoch 3/100\n",
      "52/52 - 1s - loss: 2.4720 - accuracy: 0.2866 - val_loss: 1.8447 - val_accuracy: 0.4657\n",
      "Epoch 4/100\n",
      "52/52 - 0s - loss: 2.4828 - accuracy: 0.3196 - val_loss: 1.8237 - val_accuracy: 0.4829\n",
      "Epoch 5/100\n",
      "52/52 - 1s - loss: 2.4649 - accuracy: 0.3315 - val_loss: 1.9612 - val_accuracy: 0.4571\n",
      "Epoch 6/100\n",
      "52/52 - 1s - loss: 2.4506 - accuracy: 0.3260 - val_loss: 1.7664 - val_accuracy: 0.4886\n",
      "Epoch 7/100\n",
      "52/52 - 1s - loss: 2.4044 - accuracy: 0.3443 - val_loss: 1.6923 - val_accuracy: 0.5286\n",
      "Epoch 8/100\n",
      "52/52 - 0s - loss: 2.3946 - accuracy: 0.3672 - val_loss: 1.6624 - val_accuracy: 0.5286\n",
      "Epoch 9/100\n",
      "52/52 - 1s - loss: 2.2628 - accuracy: 0.3892 - val_loss: 1.5931 - val_accuracy: 0.5514\n",
      "Epoch 10/100\n",
      "52/52 - 0s - loss: 2.4094 - accuracy: 0.3773 - val_loss: 1.4267 - val_accuracy: 0.5686\n",
      "Epoch 11/100\n",
      "52/52 - 1s - loss: 2.3614 - accuracy: 0.3938 - val_loss: 1.5362 - val_accuracy: 0.5371\n",
      "Epoch 12/100\n",
      "52/52 - 1s - loss: 2.5331 - accuracy: 0.3764 - val_loss: 1.5045 - val_accuracy: 0.5800\n",
      "Epoch 13/100\n",
      "52/52 - 1s - loss: 2.3754 - accuracy: 0.4038 - val_loss: 1.5241 - val_accuracy: 0.5629\n",
      "Epoch 14/100\n",
      "52/52 - 1s - loss: 2.3657 - accuracy: 0.4057 - val_loss: 1.3586 - val_accuracy: 0.6171\n",
      "Epoch 15/100\n",
      "52/52 - 1s - loss: 2.3705 - accuracy: 0.4267 - val_loss: 1.6087 - val_accuracy: 0.5743\n",
      "Epoch 16/100\n",
      "52/52 - 1s - loss: 2.5628 - accuracy: 0.4158 - val_loss: 1.4391 - val_accuracy: 0.5943\n",
      "Epoch 17/100\n",
      "52/52 - 1s - loss: 2.5836 - accuracy: 0.3956 - val_loss: 1.3582 - val_accuracy: 0.5971\n",
      "Epoch 18/100\n",
      "52/52 - 1s - loss: 2.4152 - accuracy: 0.4029 - val_loss: 1.2329 - val_accuracy: 0.6686\n",
      "Epoch 19/100\n",
      "52/52 - 1s - loss: 2.2303 - accuracy: 0.4542 - val_loss: 1.3493 - val_accuracy: 0.6400\n",
      "Epoch 20/100\n",
      "52/52 - 1s - loss: 2.1254 - accuracy: 0.4826 - val_loss: 1.5854 - val_accuracy: 0.6086\n",
      "Epoch 21/100\n",
      "52/52 - 0s - loss: 2.4401 - accuracy: 0.4505 - val_loss: 1.3477 - val_accuracy: 0.6343\n",
      "Epoch 22/100\n",
      "52/52 - 0s - loss: 2.5507 - accuracy: 0.4414 - val_loss: 1.4536 - val_accuracy: 0.6114\n",
      "Epoch 23/100\n",
      "52/52 - 1s - loss: 2.4125 - accuracy: 0.4524 - val_loss: 1.6281 - val_accuracy: 0.5571\n",
      "Epoch 24/100\n",
      "52/52 - 1s - loss: 1.9096 - accuracy: 0.5092 - val_loss: 1.0016 - val_accuracy: 0.7257\n",
      "Epoch 25/100\n",
      "52/52 - 1s - loss: 1.2535 - accuracy: 0.6401 - val_loss: 0.9289 - val_accuracy: 0.7486\n",
      "Epoch 26/100\n",
      "52/52 - 1s - loss: 1.0425 - accuracy: 0.6850 - val_loss: 0.8041 - val_accuracy: 0.7971\n",
      "Epoch 27/100\n",
      "52/52 - 0s - loss: 0.9684 - accuracy: 0.7088 - val_loss: 0.9164 - val_accuracy: 0.8057\n",
      "Epoch 28/100\n",
      "52/52 - 0s - loss: 0.9239 - accuracy: 0.7189 - val_loss: 0.7706 - val_accuracy: 0.8000\n",
      "Epoch 29/100\n",
      "52/52 - 0s - loss: 0.9428 - accuracy: 0.7097 - val_loss: 0.8037 - val_accuracy: 0.7943\n",
      "Epoch 30/100\n",
      "52/52 - 0s - loss: 0.8804 - accuracy: 0.7152 - val_loss: 0.8023 - val_accuracy: 0.8257\n",
      "Epoch 31/100\n",
      "52/52 - 0s - loss: 0.7504 - accuracy: 0.7692 - val_loss: 0.7859 - val_accuracy: 0.8000\n",
      "Epoch 32/100\n",
      "52/52 - 0s - loss: 0.7458 - accuracy: 0.7711 - val_loss: 0.9170 - val_accuracy: 0.7886\n",
      "Epoch 33/100\n",
      "52/52 - 0s - loss: 0.7304 - accuracy: 0.7656 - val_loss: 0.7944 - val_accuracy: 0.8057\n",
      "Epoch 34/100\n",
      "52/52 - 0s - loss: 0.7300 - accuracy: 0.7665 - val_loss: 0.8736 - val_accuracy: 0.8029\n",
      "Epoch 35/100\n",
      "52/52 - 0s - loss: 0.7415 - accuracy: 0.7976 - val_loss: 0.7301 - val_accuracy: 0.8200\n",
      "Epoch 36/100\n",
      "52/52 - 0s - loss: 0.6092 - accuracy: 0.8178 - val_loss: 0.6797 - val_accuracy: 0.8514\n",
      "Epoch 37/100\n",
      "52/52 - 0s - loss: 0.5353 - accuracy: 0.8297 - val_loss: 0.7023 - val_accuracy: 0.8314\n",
      "Epoch 38/100\n",
      "52/52 - 0s - loss: 0.4854 - accuracy: 0.8562 - val_loss: 0.6894 - val_accuracy: 0.8457\n",
      "Epoch 39/100\n",
      "52/52 - 0s - loss: 0.4410 - accuracy: 0.8498 - val_loss: 0.7098 - val_accuracy: 0.8486\n",
      "Epoch 40/100\n",
      "52/52 - 0s - loss: 0.4508 - accuracy: 0.8535 - val_loss: 0.6953 - val_accuracy: 0.8429\n",
      "Epoch 41/100\n",
      "52/52 - 0s - loss: 0.4247 - accuracy: 0.8562 - val_loss: 0.6814 - val_accuracy: 0.8486\n",
      "Epoch 42/100\n",
      "52/52 - 0s - loss: 0.3371 - accuracy: 0.8974 - val_loss: 0.6716 - val_accuracy: 0.8429\n",
      "Epoch 43/100\n",
      "52/52 - 0s - loss: 0.3072 - accuracy: 0.9038 - val_loss: 0.6741 - val_accuracy: 0.8571\n",
      "Epoch 44/100\n",
      "52/52 - 0s - loss: 0.3329 - accuracy: 0.8974 - val_loss: 0.6589 - val_accuracy: 0.8600\n",
      "Epoch 45/100\n",
      "52/52 - 0s - loss: 0.2940 - accuracy: 0.8993 - val_loss: 0.6878 - val_accuracy: 0.8429\n",
      "Epoch 46/100\n",
      "52/52 - 0s - loss: 0.3266 - accuracy: 0.8993 - val_loss: 0.6486 - val_accuracy: 0.8429\n",
      "Epoch 47/100\n",
      "52/52 - 0s - loss: 0.3113 - accuracy: 0.9002 - val_loss: 0.6476 - val_accuracy: 0.8543\n",
      "Epoch 48/100\n",
      "52/52 - 0s - loss: 0.2509 - accuracy: 0.9240 - val_loss: 0.6877 - val_accuracy: 0.8429\n",
      "Epoch 49/100\n",
      "52/52 - 0s - loss: 0.2730 - accuracy: 0.9139 - val_loss: 0.6875 - val_accuracy: 0.8629\n",
      "Epoch 50/100\n",
      "52/52 - 0s - loss: 0.2761 - accuracy: 0.9048 - val_loss: 0.6858 - val_accuracy: 0.8457\n",
      "Epoch 51/100\n",
      "52/52 - 0s - loss: 0.2731 - accuracy: 0.9020 - val_loss: 0.7042 - val_accuracy: 0.8400\n",
      "Epoch 52/100\n",
      "52/52 - 0s - loss: 0.2805 - accuracy: 0.9038 - val_loss: 0.6683 - val_accuracy: 0.8543\n",
      "Epoch 53/100\n",
      "52/52 - 1s - loss: 0.2486 - accuracy: 0.9277 - val_loss: 0.6484 - val_accuracy: 0.8657\n",
      "Epoch 54/100\n",
      "52/52 - 1s - loss: 0.2138 - accuracy: 0.9322 - val_loss: 0.7059 - val_accuracy: 0.8514\n",
      "Epoch 55/100\n",
      "52/52 - 0s - loss: 0.2768 - accuracy: 0.9038 - val_loss: 0.7074 - val_accuracy: 0.8771\n",
      "Epoch 56/100\n",
      "52/52 - 1s - loss: 0.2753 - accuracy: 0.8993 - val_loss: 0.7180 - val_accuracy: 0.8571\n",
      "Epoch 57/100\n",
      "52/52 - 1s - loss: 0.2535 - accuracy: 0.9176 - val_loss: 0.7712 - val_accuracy: 0.8571\n",
      "Epoch 58/100\n",
      "52/52 - 1s - loss: 0.2144 - accuracy: 0.9258 - val_loss: 0.7246 - val_accuracy: 0.8571\n",
      "Epoch 59/100\n",
      "52/52 - 1s - loss: 0.1994 - accuracy: 0.9377 - val_loss: 0.7417 - val_accuracy: 0.8486\n",
      "Epoch 60/100\n",
      "52/52 - 1s - loss: 0.2066 - accuracy: 0.9350 - val_loss: 0.7291 - val_accuracy: 0.8657\n",
      "Epoch 61/100\n",
      "52/52 - 1s - loss: 0.1597 - accuracy: 0.9441 - val_loss: 0.6933 - val_accuracy: 0.8600\n",
      "Epoch 62/100\n",
      "52/52 - 0s - loss: 0.1886 - accuracy: 0.9386 - val_loss: 0.7274 - val_accuracy: 0.8514\n",
      "Epoch 63/100\n",
      "52/52 - 0s - loss: 0.1882 - accuracy: 0.9322 - val_loss: 0.7057 - val_accuracy: 0.8571\n",
      "Epoch 64/100\n",
      "52/52 - 0s - loss: 0.1965 - accuracy: 0.9267 - val_loss: 0.7634 - val_accuracy: 0.8514\n",
      "Epoch 65/100\n",
      "52/52 - 0s - loss: 0.1955 - accuracy: 0.9341 - val_loss: 0.7183 - val_accuracy: 0.8457\n",
      "Epoch 66/100\n",
      "52/52 - 0s - loss: 0.1850 - accuracy: 0.9359 - val_loss: 0.7226 - val_accuracy: 0.8543\n",
      "Epoch 67/100\n",
      "52/52 - 0s - loss: 0.1966 - accuracy: 0.9386 - val_loss: 0.7237 - val_accuracy: 0.8457\n",
      "Epoch 68/100\n",
      "52/52 - 0s - loss: 0.1819 - accuracy: 0.9460 - val_loss: 0.7118 - val_accuracy: 0.8457\n",
      "Epoch 69/100\n",
      "52/52 - 0s - loss: 0.2087 - accuracy: 0.9332 - val_loss: 0.7472 - val_accuracy: 0.8486\n",
      "Epoch 70/100\n",
      "52/52 - 0s - loss: 0.1928 - accuracy: 0.9322 - val_loss: 0.7236 - val_accuracy: 0.8543\n",
      "Epoch 71/100\n",
      "52/52 - 0s - loss: 0.1762 - accuracy: 0.9386 - val_loss: 0.7282 - val_accuracy: 0.8486\n",
      "Epoch 72/100\n",
      "52/52 - 0s - loss: 0.1901 - accuracy: 0.9432 - val_loss: 0.7316 - val_accuracy: 0.8543\n",
      "Epoch 73/100\n",
      "52/52 - 0s - loss: 0.1964 - accuracy: 0.9322 - val_loss: 0.7249 - val_accuracy: 0.8514\n",
      "Epoch 74/100\n",
      "52/52 - 0s - loss: 0.1717 - accuracy: 0.9487 - val_loss: 0.7214 - val_accuracy: 0.8571\n",
      "Epoch 75/100\n",
      "52/52 - 0s - loss: 0.1422 - accuracy: 0.9542 - val_loss: 0.7131 - val_accuracy: 0.8543\n",
      "Epoch 76/100\n",
      "52/52 - 0s - loss: 0.1658 - accuracy: 0.9487 - val_loss: 0.7123 - val_accuracy: 0.8543\n",
      "Epoch 77/100\n",
      "52/52 - 1s - loss: 0.1365 - accuracy: 0.9570 - val_loss: 0.7190 - val_accuracy: 0.8571\n",
      "Epoch 78/100\n",
      "52/52 - 1s - loss: 0.1482 - accuracy: 0.9551 - val_loss: 0.7166 - val_accuracy: 0.8486\n",
      "Epoch 79/100\n",
      "52/52 - 1s - loss: 0.1709 - accuracy: 0.9478 - val_loss: 0.7232 - val_accuracy: 0.8514\n",
      "Epoch 80/100\n",
      "52/52 - 1s - loss: 0.1763 - accuracy: 0.9469 - val_loss: 0.7166 - val_accuracy: 0.8571\n",
      "Epoch 81/100\n",
      "52/52 - 1s - loss: 0.1452 - accuracy: 0.9542 - val_loss: 0.7189 - val_accuracy: 0.8514\n",
      "Epoch 82/100\n",
      "52/52 - 1s - loss: 0.1699 - accuracy: 0.9469 - val_loss: 0.7164 - val_accuracy: 0.8600\n",
      "Epoch 83/100\n",
      "52/52 - 1s - loss: 0.1852 - accuracy: 0.9423 - val_loss: 0.7147 - val_accuracy: 0.8571\n",
      "Epoch 84/100\n",
      "52/52 - 0s - loss: 0.1783 - accuracy: 0.9368 - val_loss: 0.7118 - val_accuracy: 0.8629\n",
      "Epoch 85/100\n",
      "52/52 - 0s - loss: 0.1482 - accuracy: 0.9515 - val_loss: 0.7149 - val_accuracy: 0.8571\n",
      "Epoch 86/100\n",
      "52/52 - 0s - loss: 0.1377 - accuracy: 0.9551 - val_loss: 0.7143 - val_accuracy: 0.8571\n",
      "Epoch 87/100\n",
      "52/52 - 0s - loss: 0.1409 - accuracy: 0.9570 - val_loss: 0.7136 - val_accuracy: 0.8571\n",
      "Epoch 88/100\n",
      "52/52 - 0s - loss: 0.1459 - accuracy: 0.9478 - val_loss: 0.7143 - val_accuracy: 0.8543\n",
      "Epoch 89/100\n",
      "52/52 - 0s - loss: 0.1591 - accuracy: 0.9423 - val_loss: 0.7123 - val_accuracy: 0.8600\n",
      "Epoch 90/100\n",
      "52/52 - 0s - loss: 0.1599 - accuracy: 0.9551 - val_loss: 0.7122 - val_accuracy: 0.8600\n",
      "Epoch 91/100\n",
      "52/52 - 0s - loss: 0.1421 - accuracy: 0.9542 - val_loss: 0.7130 - val_accuracy: 0.8600\n",
      "Epoch 92/100\n",
      "52/52 - 0s - loss: 0.1629 - accuracy: 0.9487 - val_loss: 0.7126 - val_accuracy: 0.8543\n",
      "Epoch 93/100\n",
      "52/52 - 0s - loss: 0.1572 - accuracy: 0.9469 - val_loss: 0.7125 - val_accuracy: 0.8543\n",
      "Epoch 94/100\n",
      "52/52 - 0s - loss: 0.1658 - accuracy: 0.9515 - val_loss: 0.7133 - val_accuracy: 0.8543\n",
      "Epoch 95/100\n",
      "52/52 - 0s - loss: 0.1599 - accuracy: 0.9405 - val_loss: 0.7124 - val_accuracy: 0.8543\n",
      "Epoch 96/100\n",
      "52/52 - 0s - loss: 0.1645 - accuracy: 0.9478 - val_loss: 0.7126 - val_accuracy: 0.8600\n",
      "Epoch 97/100\n",
      "WARNING:tensorflow:Your input ran out of data; interrupting training. Make sure that your dataset or generator can generate at least `steps_per_epoch * epochs` batches (in this case, 5200 batches). You may need to use the repeat() function when building your dataset.\n",
      "52/52 - 0s - loss: 0.1128 - accuracy: 0.9643 - val_loss: 0.7126 - val_accuracy: 0.8600\n"
     ]
    }
   ],
   "source": [
    "epochs = 100\n",
    "batch_size = 20\n",
    "history = model.fit(x=X_train, y=y_train, epochs = epochs, \n",
    "                    validation_data = (X_test,y_test),\n",
    "                    steps_per_epoch=X_train.shape[0] // batch_size,\n",
    "                    verbose=2, \n",
    "                    callbacks=[lr_schedule])"
   ]
  },
  {
   "cell_type": "markdown",
   "id": "aggregate-nancy",
   "metadata": {},
   "source": [
    "#### 80% accuracy (previous model)\n",
    "```python\n",
    "model = keras.Sequential()\n",
    "model.add(keras.Input(shape=(500, 1)))\n",
    "model.add(layers.Conv1D(150, 10, activation=\"linear\")) \n",
    "model.add(layers.MaxPooling1D(pool_size=8))\n",
    "model.add(layers.Flatten())\n",
    "model.add(layers.Dropout(0.5))\n",
    "model.add(layers.Dense(64, activation=\"linear\"))\n",
    "model.add(layers.Dropout(0.5))\n",
    "model.add(layers.Dense(20, activation=\"softmax\"))\n",
    "model.summary()\n",
    "```\n",
    "\n",
    "#### 82%\n",
    "```python\n",
    "model = keras.Sequential()\n",
    "model.add(keras.Input(shape=(500, 1)))\n",
    "model.add(layers.Conv1D(128, 16, activation=\"tanh\"))\n",
    "model.add(layers.MaxPooling1D(pool_size=8))\n",
    "model.add(layers.Flatten())\n",
    "model.add(layers.Dropout(0.5))\n",
    "model.add(layers.Dense(64, activation=\"linear\"))\n",
    "model.add(layers.Dropout(0.5))\n",
    "model.add(layers.Dense(20, activation=\"softmax\"))\n",
    "model.summary()\n",
    "```\n",
    "\n",
    "#### 86% up to 87%\n",
    "```python\n",
    "model = keras.Sequential()\n",
    "model.add(keras.Input(shape=(500, 1)))\n",
    "model.add(layers.Conv1D(64, 16, activation=\"tanh\"))\n",
    "model.add(layers.MaxPooling1D(pool_size=8))\n",
    "model.add(layers.Conv1D(32, 4, activation=\"linear\")) \n",
    "model.add(layers.MaxPooling1D(pool_size=8))\n",
    "model.add(layers.Flatten())\n",
    "model.add(layers.Dropout(0.5))\n",
    "model.add(layers.Dense(64, activation=\"linear\"))\n",
    "model.add(layers.Dropout(0.5))\n",
    "model.add(layers.Dense(20, activation=\"softmax\"))\n",
    "model.summary()\n",
    "```\n",
    "\n",
    "#### 84%\n",
    "```python\n",
    "model = keras.Sequential()\n",
    "model.add(keras.Input(shape=(500, 1)))\n",
    "model.add(layers.Conv1D(64, 16, activation=\"tanh\"))\n",
    "model.add(layers.MaxPooling1D(pool_size=8))\n",
    "model.add(layers.Conv1D(32, 4, activation=\"linear\")) \n",
    "model.add(layers.MaxPooling1D(pool_size=4))\n",
    "model.add(layers.Flatten())\n",
    "model.add(layers.Dropout(0.5))\n",
    "model.add(layers.Dense(64, activation=\"linear\"))\n",
    "model.add(layers.Dropout(0.5))\n",
    "model.add(layers.Dense(20, activation=\"softmax\"))\n",
    "model.summary()\n",
    "```\n",
    "#### 84%\n",
    "```python\n",
    "model = keras.Sequential()\n",
    "model.add(keras.Input(shape=(500, 1)))\n",
    "model.add(layers.Conv1D(64, 16, activation=\"tanh\"))\n",
    "model.add(layers.AveragePooling1D(pool_size=8))\n",
    "model.add(layers.Conv1D(32, 8, activation=\"linear\")) \n",
    "model.add(layers.AveragePooling1D(pool_size=4))\n",
    "model.add(layers.Flatten())\n",
    "model.add(layers.Dropout(0.5))\n",
    "model.add(layers.Dense(64, activation=\"linear\"))\n",
    "model.add(layers.Dropout(0.5))\n",
    "model.add(layers.Dense(20, activation=\"softmax\"))\n",
    "model.summary()\n",
    "```\n",
    "\n",
    "#### 83%\n",
    "```python\n",
    "model = keras.Sequential()\n",
    "model.add(keras.Input(shape=(500, 1)))\n",
    "model.add(layers.Conv1D(128, 16, activation=\"relu\"))\n",
    "model.add(layers.MaxPooling1D(pool_size=8))\n",
    "model.add(layers.Flatten())\n",
    "model.add(layers.Dropout(0.5))\n",
    "model.add(layers.Dense(64, activation=\"linear\"))\n",
    "model.add(layers.Dropout(0.5))\n",
    "model.add(layers.Dense(20, activation=\"softmax\"))\n",
    "model.summary()\n",
    "```"
   ]
  },
  {
   "cell_type": "code",
   "execution_count": 87,
   "id": "valid-mailman",
   "metadata": {},
   "outputs": [],
   "source": [
    "model.save('86_model.h5')"
   ]
  },
  {
   "cell_type": "code",
   "execution_count": 88,
   "id": "interim-sound",
   "metadata": {},
   "outputs": [
    {
     "data": {
      "image/png": "[encoded data removed]",
      "text/plain": [
       "<Figure size 864x360 with 2 Axes>"
      ]
     },
     "metadata": {
      "needs_background": "light"
     },
     "output_type": "display_data"
    }
   ],
   "source": [
    "f = plot_training(history)"
   ]
  },
  {
   "cell_type": "code",
   "execution_count": 89,
   "id": "disturbed-diagram",
   "metadata": {},
   "outputs": [
    {
     "data": {
      "image/png": "[encoded data removed]",
      "text/plain": [
       "<Figure size 720x720 with 2 Axes>"
      ]
     },
     "metadata": {
      "needs_background": "light"
     },
     "output_type": "display_data"
    }
   ],
   "source": [
    "y_pred = model.predict(X_test)\n",
    "y_pred_classes = np.argmax(y_pred, axis = 1) \n",
    "y_true = np.argmax(y_test, axis = 1) \n",
    "confusion_mtx = confusion_matrix(y_true, y_pred_classes) \n",
    "plt_conf_matrix(confusion_mtx, classes = range(20))"
   ]
  },
  {
   "cell_type": "code",
   "execution_count": null,
   "id": "divine-tulsa",
   "metadata": {},
   "outputs": [],
   "source": []
  }
 ],
 "metadata": {
  "kernelspec": {
   "display_name": "myenv",
   "language": "python",
   "name": "myenv"
  },
  "language_info": {
   "codemirror_mode": {
    "name": "ipython",
    "version": 3
   },
   "file_extension": ".py",
   "mimetype": "text/x-python",
   "name": "python",
   "nbconvert_exporter": "python",
   "pygments_lexer": "ipython3",
   "version": "3.7.10"
  }
 },
 "nbformat": 4,
 "nbformat_minor": 5
}
